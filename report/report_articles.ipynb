{
 "cells": [
  {
   "cell_type": "code",
   "execution_count": 1,
   "metadata": {
    "collapsed": true
   },
   "outputs": [],
   "source": [
    "from pymongo import MongoClient\n",
    "import datetime\n"
   ]
  },
  {
   "cell_type": "code",
   "execution_count": 4,
   "metadata": {
    "collapsed": true
   },
   "outputs": [],
   "source": [
    "client = MongoClient('localhost')\n",
    "db = client.somanews\n",
    "articles = db.articles"
   ]
  },
  {
   "cell_type": "markdown",
   "metadata": {},
   "source": [
    "시간당 뉴스\n",
    "========"
   ]
  },
  {
   "cell_type": "code",
   "execution_count": 31,
   "metadata": {
    "collapsed": false
   },
   "outputs": [
    {
     "data": {
      "text/plain": [
       "194"
      ]
     },
     "execution_count": 31,
     "metadata": {},
     "output_type": "execute_result"
    }
   ],
   "source": [
    "start = datetime.datetime(2016, 10, 15, 0, 0, 0, 0)\n",
    "end = datetime.datetime(2016, 10, 16, 0, 0, 0, 0)\n",
    "\n",
    "articles.count({'provider': 'hani', 'publishedAt': {'$gte': start, '$lt': end}})\n",
    "\n",
    "194"
   ]
  },
  {
   "cell_type": "code",
   "execution_count": 32,
   "metadata": {
    "collapsed": false
   },
   "outputs": [
    {
     "name": "stdout",
     "output_type": "stream",
     "text": [
      "2016-10-15 23:31:00 이화여대 교수들 “총장 해임” 시위 벌인다\n",
      "2016-10-15 22:50:00 이정현 “문재인 전 대표, 북과 사실상 내통…상식없는 짓 했다”\n",
      "2016-10-15 21:32:00 김제동 “입 닫으라고 한다고 닫을 사람 아니다”\n",
      "2016-10-15 20:39:00 [포토] 내자궁에 손대지마!!\n",
      "2016-10-15 18:26:00 윤병철 하나은행 초대 회장 별세\n",
      "2016-10-15 14:01:00 ‘악재 속 선방’ 부산국제영화제 오늘 폐막\n",
      "2016-10-15 13:42:00 삼성전자, 공항에서 ‘갤노트7’ 대여폰 서비스\n",
      "2016-10-15 13:12:00 노을빛 치마에 담긴 다산(茶山) 부부의 사랑\n",
      "2016-10-15 13:10:00 두뇌 신경회로 닮은 컴퓨터 시대 열린다\n",
      "2016-10-15 13:10:00 홍임 모녀에 대한 애잔한 마음을 담다\n",
      "2016-10-15 12:19:00 [댓글중계] 서해 중국 어선 옹호 기사에 누리꾼들 뜨거운 공방전\n",
      "2016-10-15 01:50:00 현대차 노사 5개월만에 임금협상 타결\n",
      "2016-10-15 01:13:00 미세먼지 가득…낮엔 약간 더워요\n"
     ]
    }
   ],
   "source": [
    "for row in articles.find({'provider': 'hani', 'publishedAt': {'$gte': start, '$lt': end}}):\n",
    "    print(row['publishedAt'], row['title'])\n"
   ]
  },
  {
   "cell_type": "code",
   "execution_count": 24,
   "metadata": {
    "collapsed": false
   },
   "outputs": [
    {
     "data": {
      "text/plain": [
       "1.120253164556962"
      ]
     },
     "execution_count": 24,
     "metadata": {},
     "output_type": "execute_result"
    }
   ],
   "source": [
    "177 / 158"
   ]
  },
  {
   "cell_type": "code",
   "execution_count": null,
   "metadata": {
    "collapsed": true
   },
   "outputs": [],
   "source": [
    "12-2"
   ]
  }
 ],
 "metadata": {
  "kernelspec": {
   "display_name": "Python 3",
   "language": "python",
   "name": "python3"
  },
  "language_info": {
   "codemirror_mode": {
    "name": "ipython",
    "version": 3
   },
   "file_extension": ".py",
   "mimetype": "text/x-python",
   "name": "python",
   "nbconvert_exporter": "python",
   "pygments_lexer": "ipython3",
   "version": "3.5.2"
  }
 },
 "nbformat": 4,
 "nbformat_minor": 1
}
