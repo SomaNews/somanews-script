{
 "cells": [
  {
   "cell_type": "code",
   "execution_count": 2,
   "metadata": {
    "collapsed": false
   },
   "outputs": [
    {
     "ename": "NameError",
     "evalue": "name 'sd' is not defined",
     "output_type": "error",
     "traceback": [
      "\u001b[0;31m---------------------------------------------------------------------------\u001b[0m",
      "\u001b[0;31mNameError\u001b[0m                                 Traceback (most recent call last)",
      "\u001b[0;32m<ipython-input-2-ccae5d78ec19>\u001b[0m in \u001b[0;36m<module>\u001b[0;34m()\u001b[0m\n\u001b[1;32m      4\u001b[0m \u001b[0;32mimport\u001b[0m \u001b[0mpandas\u001b[0m \u001b[0;32mas\u001b[0m \u001b[0mpd\u001b[0m\u001b[0;34m\u001b[0m\u001b[0m\n\u001b[1;32m      5\u001b[0m \u001b[0;32mfrom\u001b[0m \u001b[0mpickle32\u001b[0m \u001b[0;32mimport\u001b[0m \u001b[0mchange_pickle_protocol\u001b[0m\u001b[0;34m\u001b[0m\u001b[0m\n\u001b[0;32m----> 6\u001b[0;31m \u001b[0msd\u001b[0m\u001b[0;34m\u001b[0m\u001b[0m\n\u001b[0m\u001b[1;32m      7\u001b[0m \u001b[0mpath\u001b[0m \u001b[0;34m=\u001b[0m \u001b[0;34m\"../datastore/corpus morph/\"\u001b[0m\u001b[0;34m\u001b[0m\u001b[0m\n\u001b[1;32m      8\u001b[0m \u001b[0;34m\u001b[0m\u001b[0m\n",
      "\u001b[0;31mNameError\u001b[0m: name 'sd' is not defined"
     ]
    }
   ],
   "source": [
    "from bs4 import BeautifulSoup\n",
    "import os\n",
    "import re\n",
    "import pandas as pd\n",
    "from pickle32 import change_pickle_protocol\n",
    "\n",
    "path = \"../datastore/corpus morph/\"\n",
    "\n",
    "nnps = []\n",
    "\n",
    "def text_cleaning(text):\n",
    "    results = []\n",
    "    for t in text.split():\n",
    "        if t.endswith('/NNP'):\n",
    "            nnp = t.split('/NNP')[0]\n",
    "            if len(nnp) > 1:\n",
    "                results.append(nnp)\n",
    "    return results\n",
    "\n",
    "for root, dirs, files in os.walk(path):\n",
    "    for file in files:\n",
    "        fname = os.path.join(root, file)\n",
    "        with open(fname, 'r', encoding='utf-16') as f:\n",
    "            lines = f.read()\n",
    "            soup = BeautifulSoup(lines, 'html.parser')\n",
    "            contents = soup.find_all('p')\n",
    "            \n",
    "            for content in contents:\n",
    "                nnps = nnps + text_cleaning(str(content))\n",
    "                \n",
    "nnps_p = pd.Series(nnps)\n",
    "nnps_p_unique = nnps_p.value_counts()\n",
    "\n",
    "nnps_p_unique.to_pickle(\"../datastore/nnps.p\")\n",
    "\n",
    "change_pickle_protocol(\"../datastore/nnps.p\", \"../datastore/nnps2.p\")"
   ]
  },
  {
   "cell_type": "code",
   "execution_count": 3,
   "metadata": {
    "collapsed": false
   },
   "outputs": [],
   "source": [
    "df = pd.read_pickle(\"../datastore/nnps.p\")"
   ]
  },
  {
   "cell_type": "code",
   "execution_count": 40,
   "metadata": {
    "collapsed": false
   },
   "outputs": [
    {
     "data": {
      "text/plain": [
       "7.090258657826225"
      ]
     },
     "execution_count": 40,
     "metadata": {},
     "output_type": "execute_result"
    }
   ],
   "source": [
    "df.sum()/float(len(df))"
   ]
  },
  {
   "cell_type": "code",
   "execution_count": 14,
   "metadata": {
    "collapsed": false
   },
   "outputs": [
    {
     "data": {
      "text/plain": [
       "한국         9962\n",
       "미국         8294\n",
       "일본         7122\n",
       "서울         6712\n",
       "중국         4139\n",
       "북한         4025\n",
       "조선         2395\n",
       "프랑스        2163\n",
       "유럽         1950\n",
       "영국         1827\n",
       "독일         1705\n",
       "영어         1441\n",
       "수혜         1383\n",
       "민주당        1371\n",
       "예리         1211\n",
       "남북         1159\n",
       "소련         1114\n",
       "현대         1106\n",
       "형기         1030\n",
       "러시아        1016\n",
       "부산         1004\n",
       "지섭          971\n",
       "이라크         949\n",
       "아시아         918\n",
       "한나라당        892\n",
       "신라          882\n",
       "고려          880\n",
       "선비          857\n",
       "청와대         844\n",
       "광주          833\n",
       "           ... \n",
       "조계사          11\n",
       "보가트          11\n",
       "무주군          11\n",
       "송명애          11\n",
       "한국경제연구원      11\n",
       "올림픽공원        11\n",
       "양준혁          11\n",
       "아바스          11\n",
       "명근           11\n",
       "콜롬보          11\n",
       "김기수          11\n",
       "목화           11\n",
       "사도세자         11\n",
       "효성이          11\n",
       "윤상현          11\n",
       "민국당          11\n",
       "버마           11\n",
       "현숙이          11\n",
       "아우슈비츠        11\n",
       "묘향산          11\n",
       "이경재          11\n",
       "벤딘           11\n",
       "정창현          11\n",
       "비슈누          11\n",
       "키드           11\n",
       "송은이          11\n",
       "정영진          11\n",
       "금둔사          11\n",
       "뉴트론          11\n",
       "블릭스          11\n",
       "dtype: int64"
      ]
     },
     "execution_count": 14,
     "metadata": {},
     "output_type": "execute_result"
    }
   ],
   "source": [
    "df[df>10]"
   ]
  },
  {
   "cell_type": "code",
   "execution_count": null,
   "metadata": {
    "collapsed": true
   },
   "outputs": [],
   "source": []
  }
 ],
 "metadata": {
  "kernelspec": {
   "display_name": "Python 3",
   "language": "python",
   "name": "python3"
  },
  "language_info": {
   "codemirror_mode": {
    "name": "ipython",
    "version": 3
   },
   "file_extension": ".py",
   "mimetype": "text/x-python",
   "name": "python",
   "nbconvert_exporter": "python",
   "pygments_lexer": "ipython3",
   "version": "3.5.2"
  }
 },
 "nbformat": 4,
 "nbformat_minor": 1
}
