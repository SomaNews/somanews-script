{
 "cells": [
  {
   "cell_type": "code",
   "execution_count": 1,
   "metadata": {
    "collapsed": false
   },
   "outputs": [],
   "source": [
    "import cnouns\n",
    "from konlpy.tag import Mecab\n",
    "from konlpy.utils import pprint\n",
    "import re\n",
    "\n",
    "mecab = Mecab()"
   ]
  },
  {
   "cell_type": "code",
   "execution_count": 4,
   "metadata": {
    "collapsed": false
   },
   "outputs": [
    {
     "name": "stdout",
     "output_type": "stream",
     "text": [
      "형태소NNG\n",
      "분석NNG\n",
      "이용NNG\n",
      "정보NNG\n",
      "검색NNG\n",
      "시스템NNG\n",
      "형태소NNG분석NNG\n",
      "분석NNG을JKO이용NNG\n",
      "정보NNG를JKO검색NNG\n"
     ]
    }
   ],
   "source": [
    "target = u\"[독일] [반이민] 정서 심상찮다 난민 옹호 시장후보 40대 괴한 흉기테러\"\n",
    "\n",
    "print cnouns.tokenize(target)\n",
    "# cns = cnouns.extract_all_compound_nouns(mecab.pos(target), 2)\n",
    "# cns = cnouns.extract_compound_nouns(mecab.pos(target), 3)\n",
    "\n",
    "# for t in cns: print t"
   ]
  },
  {
   "cell_type": "code",
   "execution_count": 16,
   "metadata": {
    "collapsed": false
   },
   "outputs": [
    {
     "name": "stdout",
     "output_type": "stream",
     "text": [
      "형태소NNG 분석NNG 이용NNG 정보NNG 검색NNG 최고NNG 시스템NNG 형태소NNG분석NNG 분석NNG을JKO이용NNG 정보NNG를JKO검색NNG 최고NNG의JKG시스템NNG\n"
     ]
    }
   ],
   "source": [
    "inp_str = u\"형태소 분석을 이용하여 정보를 검색하는 최고의 시스템을 만들었다.\"\n",
    "cns = cnouns.extract_all_compound_nouns(mecab.pos(inp_str), 3)\n",
    "print ' '.join(cns)"
   ]
  },
  {
   "cell_type": "code",
   "execution_count": 25,
   "metadata": {
    "collapsed": false
   },
   "outputs": [
    {
     "name": "stdout",
     "output_type": "stream",
     "text": [
      "새MM 누리NNG 이혜훈NNP “SSO 최순NNP 실NNG 수사NNG ,SC 박NNP 대통령NNG 도JX 성역NNG 없이MAG 수사NNG ”SSC\n",
      " \n",
      "새누리NNP 이혜훈NNP 최순실NNP 수사NNG 박대통령NNP 도JX 성역NNG 없이MAG 수사NNG\n"
     ]
    }
   ],
   "source": [
    "inp_str = u'새누리 이혜훈 “최순실 수사, 박대통령도 성역 없이 수사”'\n",
    "dicts = [u'새누리', u'새누리당', u'최순실', u'박대통령', u'국회의장', u'참여정부']\n",
    "print ' '.join([p[0]+p[1] for p in mecab.pos(inp_str)])\n",
    "print ' '\n",
    "print cnouns.custom_pos_tags(inp_str, dicts)"
   ]
  },
  {
   "cell_type": "code",
   "execution_count": 10,
   "metadata": {
    "collapsed": false
   },
   "outputs": [
    {
     "name": "stdout",
     "output_type": "stream",
     "text": [
      " 정서 심상찮다 난민 옹호 시장후보 40대 괴한 흉기테러\n"
     ]
    }
   ],
   "source": [
    "print re.sub(u'\\[.*\\]', '', target)"
   ]
  },
  {
   "cell_type": "code",
   "execution_count": 3,
   "metadata": {
    "collapsed": false
   },
   "outputs": [
    {
     "ename": "AttributeError",
     "evalue": "'module' object has no attribute 'pos_ngrams'",
     "output_type": "error",
     "traceback": [
      "\u001b[0;31m\u001b[0m",
      "\u001b[0;31mAttributeError\u001b[0mTraceback (most recent call last)",
      "\u001b[0;32m<ipython-input-3-9455dbd202e2>\u001b[0m in \u001b[0;36m<module>\u001b[0;34m()\u001b[0m\n\u001b[0;32m----> 1\u001b[0;31m \u001b[0mcns\u001b[0m \u001b[0;34m=\u001b[0m \u001b[0mcnouns\u001b[0m\u001b[0;34m.\u001b[0m\u001b[0mpos_ngrams\u001b[0m\u001b[0;34m(\u001b[0m\u001b[0mmecab\u001b[0m\u001b[0;34m.\u001b[0m\u001b[0mpos\u001b[0m\u001b[0;34m(\u001b[0m\u001b[0mtarget\u001b[0m\u001b[0;34m)\u001b[0m\u001b[0;34m,\u001b[0m \u001b[0;36m3\u001b[0m\u001b[0;34m)\u001b[0m\u001b[0;34m\u001b[0m\u001b[0m\n\u001b[0m\u001b[1;32m      2\u001b[0m \u001b[0;31m# for t in cns: print t\u001b[0m\u001b[0;34m\u001b[0m\u001b[0;34m\u001b[0m\u001b[0m\n\u001b[1;32m      3\u001b[0m \u001b[0;32mfor\u001b[0m \u001b[0mt\u001b[0m \u001b[0;32min\u001b[0m \u001b[0mmecab\u001b[0m\u001b[0;34m.\u001b[0m\u001b[0mmorphs\u001b[0m\u001b[0;34m(\u001b[0m\u001b[0mtarget\u001b[0m\u001b[0;34m)\u001b[0m\u001b[0;34m:\u001b[0m \u001b[0;32mprint\u001b[0m \u001b[0mt\u001b[0m\u001b[0;34m\u001b[0m\u001b[0m\n\u001b[1;32m      4\u001b[0m \u001b[0;32mprint\u001b[0m \u001b[0;34m'morphs'\u001b[0m\u001b[0;34m\u001b[0m\u001b[0m\n\u001b[1;32m      5\u001b[0m \u001b[0;32mfor\u001b[0m \u001b[0mt\u001b[0m \u001b[0;32min\u001b[0m \u001b[0mmecab\u001b[0m\u001b[0;34m.\u001b[0m\u001b[0mnouns\u001b[0m\u001b[0;34m(\u001b[0m\u001b[0mtarget\u001b[0m\u001b[0;34m)\u001b[0m\u001b[0;34m:\u001b[0m \u001b[0;32mprint\u001b[0m \u001b[0mt\u001b[0m\u001b[0;34m\u001b[0m\u001b[0m\n",
      "\u001b[0;31mAttributeError\u001b[0m: 'module' object has no attribute 'pos_ngrams'"
     ]
    }
   ],
   "source": [
    "cns = cnouns.morphs_ngrams(mecab.pos(target), 3)\n",
    "# for t in cns: print t\n",
    "for t in mecab.morphs(target): print t\n",
    "print 'morphs'\n",
    "for t in mecab.nouns(target): print t\n",
    "print 'nouns'\n",
    "for t in mecab.pos(target): print t[0]\n",
    "print 'pos'\n",
    "mecab.tagset(target)"
   ]
  },
  {
   "cell_type": "code",
   "execution_count": null,
   "metadata": {
    "collapsed": false
   },
   "outputs": [],
   "source": [
    "pprint(mecab.pos(target))"
   ]
  }
 ],
 "metadata": {
  "kernelspec": {
   "display_name": "Python 2",
   "language": "python",
   "name": "python2"
  },
  "language_info": {
   "codemirror_mode": {
    "name": "ipython",
    "version": 2
   },
   "file_extension": ".py",
   "mimetype": "text/x-python",
   "name": "python",
   "nbconvert_exporter": "python",
   "pygments_lexer": "ipython2",
   "version": "2.7.11"
  }
 },
 "nbformat": 4,
 "nbformat_minor": 1
}
