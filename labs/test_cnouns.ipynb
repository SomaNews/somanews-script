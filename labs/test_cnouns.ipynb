{
 "cells": [
  {
   "cell_type": "code",
   "execution_count": 4,
   "metadata": {
    "collapsed": false
   },
   "outputs": [],
   "source": [
    "import cnouns\n",
    "from konlpy.tag import Mecab\n",
    "from konlpy.utils import pprint\n",
    "import re\n",
    "\n",
    "mecab = Mecab()"
   ]
  },
  {
   "cell_type": "code",
   "execution_count": 9,
   "metadata": {
    "collapsed": false
   },
   "outputs": [
    {
     "name": "stdout",
     "output_type": "stream",
     "text": [
      "독일NNP 반NNG 이민NNG 정서NNG 난민NNG 옹호NNG 시장NNG 후보NNG 괴한NNG 흉기NNG 테러NNG 반NNG이민NNG 난민NNG옹호NNG 옹호NNG시장NNG 시장NNG후보NNG 괴한NNG흉기NNG 흉기NNG테러NNG 난민NNG옹호NNG시장NNG 옹호NNG시장NNG후보NNG 괴한NNG흉기NNG테러NNG[SSO독일NNP]SSC 독일NNP]SSC[SSO ]SSC[SSO반NNG [SSO반NNG이민NNG 반NNG이민NNG]SSC 이민NNG]SSC정서NNG ]SSC정서NNG심상찮VA 정서NNG심상찮VA다EC 심상찮VA다EC난민NNG 다EC난민NNG옹호NNG 난민NNG옹호NNG시장NNG 옹호NNG시장NNG후보NNG 시장NNG후보NNG40SN 후보NNG40SN대NNBC 40SN대NNBC괴한NNG 대NNBC괴한NNG흉기NNG 괴한NNG흉기NNG테러NNG\n"
     ]
    }
   ],
   "source": [
    "target = u\"[독일] [반이민] 정서 심상찮다 난민 옹호 시장후보 40대 괴한 흉기테러\"\n",
    "\n",
    "print cnouns.tokenize(target)\n",
    "# cns = cnouns.extract_all_compound_nouns(mecab.pos(target), 2)\n",
    "# cns = cnouns.extract_compound_nouns(mecab.pos(target), 3)\n",
    "\n",
    "# for t in cns: print t"
   ]
  },
  {
   "cell_type": "code",
   "execution_count": 10,
   "metadata": {
    "collapsed": false
   },
   "outputs": [
    {
     "name": "stdout",
     "output_type": "stream",
     "text": [
      " 정서 심상찮다 난민 옹호 시장후보 40대 괴한 흉기테러\n"
     ]
    }
   ],
   "source": [
    "print re.sub(u'\\[.*\\]', '', target)"
   ]
  },
  {
   "cell_type": "code",
   "execution_count": 3,
   "metadata": {
    "collapsed": false
   },
   "outputs": [
    {
     "ename": "AttributeError",
     "evalue": "'module' object has no attribute 'pos_ngrams'",
     "output_type": "error",
     "traceback": [
      "\u001b[0;31m\u001b[0m",
      "\u001b[0;31mAttributeError\u001b[0mTraceback (most recent call last)",
      "\u001b[0;32m<ipython-input-3-9455dbd202e2>\u001b[0m in \u001b[0;36m<module>\u001b[0;34m()\u001b[0m\n\u001b[0;32m----> 1\u001b[0;31m \u001b[0mcns\u001b[0m \u001b[0;34m=\u001b[0m \u001b[0mcnouns\u001b[0m\u001b[0;34m.\u001b[0m\u001b[0mpos_ngrams\u001b[0m\u001b[0;34m(\u001b[0m\u001b[0mmecab\u001b[0m\u001b[0;34m.\u001b[0m\u001b[0mpos\u001b[0m\u001b[0;34m(\u001b[0m\u001b[0mtarget\u001b[0m\u001b[0;34m)\u001b[0m\u001b[0;34m,\u001b[0m \u001b[0;36m3\u001b[0m\u001b[0;34m)\u001b[0m\u001b[0;34m\u001b[0m\u001b[0m\n\u001b[0m\u001b[1;32m      2\u001b[0m \u001b[0;31m# for t in cns: print t\u001b[0m\u001b[0;34m\u001b[0m\u001b[0;34m\u001b[0m\u001b[0m\n\u001b[1;32m      3\u001b[0m \u001b[0;32mfor\u001b[0m \u001b[0mt\u001b[0m \u001b[0;32min\u001b[0m \u001b[0mmecab\u001b[0m\u001b[0;34m.\u001b[0m\u001b[0mmorphs\u001b[0m\u001b[0;34m(\u001b[0m\u001b[0mtarget\u001b[0m\u001b[0;34m)\u001b[0m\u001b[0;34m:\u001b[0m \u001b[0;32mprint\u001b[0m \u001b[0mt\u001b[0m\u001b[0;34m\u001b[0m\u001b[0m\n\u001b[1;32m      4\u001b[0m \u001b[0;32mprint\u001b[0m \u001b[0;34m'morphs'\u001b[0m\u001b[0;34m\u001b[0m\u001b[0m\n\u001b[1;32m      5\u001b[0m \u001b[0;32mfor\u001b[0m \u001b[0mt\u001b[0m \u001b[0;32min\u001b[0m \u001b[0mmecab\u001b[0m\u001b[0;34m.\u001b[0m\u001b[0mnouns\u001b[0m\u001b[0;34m(\u001b[0m\u001b[0mtarget\u001b[0m\u001b[0;34m)\u001b[0m\u001b[0;34m:\u001b[0m \u001b[0;32mprint\u001b[0m \u001b[0mt\u001b[0m\u001b[0;34m\u001b[0m\u001b[0m\n",
      "\u001b[0;31mAttributeError\u001b[0m: 'module' object has no attribute 'pos_ngrams'"
     ]
    }
   ],
   "source": [
    "cns = cnouns.morphs_ngrams(mecab.pos(target), 3)\n",
    "# for t in cns: print t\n",
    "for t in mecab.morphs(target): print t\n",
    "print 'morphs'\n",
    "for t in mecab.nouns(target): print t\n",
    "print 'nouns'\n",
    "for t in mecab.pos(target): print t[0]\n",
    "print 'pos'\n",
    "mecab.tagset(target)"
   ]
  },
  {
   "cell_type": "code",
   "execution_count": null,
   "metadata": {
    "collapsed": false
   },
   "outputs": [],
   "source": [
    "pprint(mecab.pos(target))"
   ]
  }
 ],
 "metadata": {
  "kernelspec": {
   "display_name": "Python 2",
   "language": "python",
   "name": "python2"
  },
  "language_info": {
   "codemirror_mode": {
    "name": "ipython",
    "version": 2
   },
   "file_extension": ".py",
   "mimetype": "text/x-python",
   "name": "python",
   "nbconvert_exporter": "python",
   "pygments_lexer": "ipython2",
   "version": "2.7.11"
  }
 },
 "nbformat": 4,
 "nbformat_minor": 1
}
