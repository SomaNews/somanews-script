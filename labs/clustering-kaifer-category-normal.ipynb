{
 "cells": [
  {
   "cell_type": "code",
   "execution_count": 1,
   "metadata": {
    "collapsed": true
   },
   "outputs": [],
   "source": [
    "import numpy as np\n",
    "import pandas as pd\n",
    "from konlpy.tag import Mecab\n",
    "import hanja\n",
    "import re\n",
    "import string\n",
    "import operator\n",
    "import random\n",
    "import matplotlib.pyplot as plt\n",
    "import itertools\n",
    "import cnouns as cn\n",
    "import check_utils as cu\n",
    "from sklearn.metrics import adjusted_rand_score\n",
    "from sklearn.cross_validation import StratifiedKFold\n",
    "from sklearn.cross_validation import cross_val_score\n",
    "from sklearn.feature_extraction.text import TfidfVectorizer\n",
    "from sklearn.metrics import silhouette_samples, silhouette_score\n",
    "from time import time\n",
    "from sklearn.metrics.pairwise import cosine_similarity\n",
    "from sklearn.cluster import KMeans\n",
    "from sklearn.cluster import AgglomerativeClustering\n",
    "from sklearn.cluster import SpectralClustering\n",
    "from sklearn.cluster import DBSCAN\n",
    "from datetime import datetime\n",
    "from sklearn.decomposition import PCA"
   ]
  },
  {
   "cell_type": "markdown",
   "metadata": {},
   "source": [
    "# Load Data"
   ]
  },
  {
   "cell_type": "code",
   "execution_count": 2,
   "metadata": {
    "collapsed": true
   },
   "outputs": [],
   "source": [
    "# test = 1\n",
    "test = 2"
   ]
  },
  {
   "cell_type": "code",
   "execution_count": 3,
   "metadata": {
    "collapsed": false
   },
   "outputs": [],
   "source": [
    "if(test==1):\n",
    "    topics = {\n",
    "          0: u'올림픽',\n",
    "          1: u'테러', \n",
    "          2: u'브렉시트', \n",
    "          3: u'미국 금리',\n",
    "          4: u'바이러스', \n",
    "          5: u'미국대선,힐러리,트럼프', \n",
    "          6: u'시리아 전쟁, 난민'\n",
    "         }\n",
    "    train_df = pd.read_pickle(\"../datastore/international.p\")\n",
    "    n_clusters = len(topics)\n",
    "elif(test==2):    \n",
    "    train_df = pd.read_pickle(\"../datastore/weekly_2.p\")\n",
    "    n_clusters = 30"
   ]
  },
  {
   "cell_type": "markdown",
   "metadata": {},
   "source": [
    "# Preprocessing"
   ]
  },
  {
   "cell_type": "code",
   "execution_count": 4,
   "metadata": {
    "collapsed": false
   },
   "outputs": [],
   "source": [
    "train_df['target_str'] = [cn.tokenize(row.title + \" \" + row.content) for idx, row in train_df.iterrows()]"
   ]
  },
  {
   "cell_type": "code",
   "execution_count": 5,
   "metadata": {
    "collapsed": true
   },
   "outputs": [],
   "source": [
    "vectorizer = TfidfVectorizer(lowercase=False, \n",
    "                             max_features=None,\n",
    "                             max_df=1.0, \n",
    "                             min_df=1,\n",
    "                             use_idf=True,\n",
    "                             smooth_idf=True,\n",
    "                             sublinear_tf=False)"
   ]
  },
  {
   "cell_type": "code",
   "execution_count": 6,
   "metadata": {
    "collapsed": false
   },
   "outputs": [],
   "source": [
    "x_list = vectorizer.fit_transform(train_df.target_str)"
   ]
  },
  {
   "cell_type": "markdown",
   "metadata": {},
   "source": [
    "# Clustering"
   ]
  },
  {
   "cell_type": "code",
   "execution_count": 7,
   "metadata": {
    "collapsed": false
   },
   "outputs": [
    {
     "ename": "KeyboardInterrupt",
     "evalue": "",
     "output_type": "error",
     "traceback": [
      "\u001b[0;31m\u001b[0m",
      "\u001b[0;31mKeyboardInterrupt\u001b[0mTraceback (most recent call last)",
      "\u001b[0;32m<ipython-input-7-9efeca11cd5f>\u001b[0m in \u001b[0;36m<module>\u001b[0;34m()\u001b[0m\n\u001b[1;32m      1\u001b[0m \u001b[0mt0\u001b[0m \u001b[0;34m=\u001b[0m \u001b[0mtime\u001b[0m\u001b[0;34m(\u001b[0m\u001b[0;34m)\u001b[0m\u001b[0;34m\u001b[0m\u001b[0m\n\u001b[1;32m      2\u001b[0m \u001b[0mkm\u001b[0m \u001b[0;34m=\u001b[0m \u001b[0mKMeans\u001b[0m\u001b[0;34m(\u001b[0m\u001b[0mn_clusters\u001b[0m\u001b[0;34m=\u001b[0m\u001b[0mn_clusters\u001b[0m\u001b[0;34m,\u001b[0m \u001b[0mn_jobs\u001b[0m\u001b[0;34m=\u001b[0m\u001b[0;34m-\u001b[0m\u001b[0;36m1\u001b[0m\u001b[0;34m)\u001b[0m\u001b[0;34m\u001b[0m\u001b[0m\n\u001b[0;32m----> 3\u001b[0;31m \u001b[0mkm\u001b[0m\u001b[0;34m.\u001b[0m\u001b[0mfit\u001b[0m\u001b[0;34m(\u001b[0m\u001b[0mx_list\u001b[0m\u001b[0;34m)\u001b[0m\u001b[0;34m\u001b[0m\u001b[0m\n\u001b[0m\u001b[1;32m      4\u001b[0m \u001b[0mclusters\u001b[0m \u001b[0;34m=\u001b[0m \u001b[0mkm\u001b[0m\u001b[0;34m.\u001b[0m\u001b[0mlabels_\u001b[0m\u001b[0;34m.\u001b[0m\u001b[0mtolist\u001b[0m\u001b[0;34m(\u001b[0m\u001b[0;34m)\u001b[0m\u001b[0;34m\u001b[0m\u001b[0m\n\u001b[1;32m      5\u001b[0m \u001b[0mtrain_df\u001b[0m\u001b[0;34m[\u001b[0m\u001b[0;34m'cluster'\u001b[0m\u001b[0;34m]\u001b[0m \u001b[0;34m=\u001b[0m \u001b[0mclusters\u001b[0m\u001b[0;34m\u001b[0m\u001b[0m\n",
      "\u001b[0;32m/home/whyask37/.pyenv/versions/py27/lib/python2.7/site-packages/sklearn/cluster/k_means_.pyc\u001b[0m in \u001b[0;36mfit\u001b[0;34m(self, X, y)\u001b[0m\n\u001b[1;32m    819\u001b[0m                 \u001b[0mprecompute_distances\u001b[0m\u001b[0;34m=\u001b[0m\u001b[0mself\u001b[0m\u001b[0;34m.\u001b[0m\u001b[0mprecompute_distances\u001b[0m\u001b[0;34m,\u001b[0m\u001b[0;34m\u001b[0m\u001b[0m\n\u001b[1;32m    820\u001b[0m                 \u001b[0mtol\u001b[0m\u001b[0;34m=\u001b[0m\u001b[0mself\u001b[0m\u001b[0;34m.\u001b[0m\u001b[0mtol\u001b[0m\u001b[0;34m,\u001b[0m \u001b[0mrandom_state\u001b[0m\u001b[0;34m=\u001b[0m\u001b[0mrandom_state\u001b[0m\u001b[0;34m,\u001b[0m \u001b[0mcopy_x\u001b[0m\u001b[0;34m=\u001b[0m\u001b[0mself\u001b[0m\u001b[0;34m.\u001b[0m\u001b[0mcopy_x\u001b[0m\u001b[0;34m,\u001b[0m\u001b[0;34m\u001b[0m\u001b[0m\n\u001b[0;32m--> 821\u001b[0;31m                 n_jobs=self.n_jobs)\n\u001b[0m\u001b[1;32m    822\u001b[0m         \u001b[0;32mreturn\u001b[0m \u001b[0mself\u001b[0m\u001b[0;34m\u001b[0m\u001b[0m\n\u001b[1;32m    823\u001b[0m \u001b[0;34m\u001b[0m\u001b[0m\n",
      "\u001b[0;32m/home/whyask37/.pyenv/versions/py27/lib/python2.7/site-packages/sklearn/cluster/k_means_.pyc\u001b[0m in \u001b[0;36mk_means\u001b[0;34m(X, n_clusters, init, precompute_distances, n_init, max_iter, verbose, tol, random_state, copy_x, n_jobs, return_n_iter)\u001b[0m\n\u001b[1;32m    339\u001b[0m                                     \u001b[0;31m# Change seed to ensure variety\u001b[0m\u001b[0;34m\u001b[0m\u001b[0;34m\u001b[0m\u001b[0m\n\u001b[1;32m    340\u001b[0m                                     random_state=seed)\n\u001b[0;32m--> 341\u001b[0;31m             for seed in seeds)\n\u001b[0m\u001b[1;32m    342\u001b[0m         \u001b[0;31m# Get results with the lowest inertia\u001b[0m\u001b[0;34m\u001b[0m\u001b[0;34m\u001b[0m\u001b[0m\n\u001b[1;32m    343\u001b[0m         \u001b[0mlabels\u001b[0m\u001b[0;34m,\u001b[0m \u001b[0minertia\u001b[0m\u001b[0;34m,\u001b[0m \u001b[0mcenters\u001b[0m\u001b[0;34m,\u001b[0m \u001b[0mn_iters\u001b[0m \u001b[0;34m=\u001b[0m \u001b[0mzip\u001b[0m\u001b[0;34m(\u001b[0m\u001b[0;34m*\u001b[0m\u001b[0mresults\u001b[0m\u001b[0;34m)\u001b[0m\u001b[0;34m\u001b[0m\u001b[0m\n",
      "\u001b[0;32m/home/whyask37/.pyenv/versions/py27/lib/python2.7/site-packages/sklearn/externals/joblib/parallel.pyc\u001b[0m in \u001b[0;36m__call__\u001b[0;34m(self, iterable)\u001b[0m\n\u001b[1;32m    808\u001b[0m                 \u001b[0;31m# consumption.\u001b[0m\u001b[0;34m\u001b[0m\u001b[0;34m\u001b[0m\u001b[0m\n\u001b[1;32m    809\u001b[0m                 \u001b[0mself\u001b[0m\u001b[0;34m.\u001b[0m\u001b[0m_iterating\u001b[0m \u001b[0;34m=\u001b[0m \u001b[0mFalse\u001b[0m\u001b[0;34m\u001b[0m\u001b[0m\n\u001b[0;32m--> 810\u001b[0;31m             \u001b[0mself\u001b[0m\u001b[0;34m.\u001b[0m\u001b[0mretrieve\u001b[0m\u001b[0;34m(\u001b[0m\u001b[0;34m)\u001b[0m\u001b[0;34m\u001b[0m\u001b[0m\n\u001b[0m\u001b[1;32m    811\u001b[0m             \u001b[0;31m# Make sure that we get a last message telling us we are done\u001b[0m\u001b[0;34m\u001b[0m\u001b[0;34m\u001b[0m\u001b[0m\n\u001b[1;32m    812\u001b[0m             \u001b[0melapsed_time\u001b[0m \u001b[0;34m=\u001b[0m \u001b[0mtime\u001b[0m\u001b[0;34m.\u001b[0m\u001b[0mtime\u001b[0m\u001b[0;34m(\u001b[0m\u001b[0;34m)\u001b[0m \u001b[0;34m-\u001b[0m \u001b[0mself\u001b[0m\u001b[0;34m.\u001b[0m\u001b[0m_start_time\u001b[0m\u001b[0;34m\u001b[0m\u001b[0m\n",
      "\u001b[0;32m/home/whyask37/.pyenv/versions/py27/lib/python2.7/site-packages/sklearn/externals/joblib/parallel.pyc\u001b[0m in \u001b[0;36mretrieve\u001b[0;34m(self)\u001b[0m\n\u001b[1;32m    755\u001b[0m                     \u001b[0;31m# a working pool as they expect.\u001b[0m\u001b[0;34m\u001b[0m\u001b[0;34m\u001b[0m\u001b[0m\n\u001b[1;32m    756\u001b[0m                     \u001b[0mself\u001b[0m\u001b[0;34m.\u001b[0m\u001b[0m_initialize_pool\u001b[0m\u001b[0;34m(\u001b[0m\u001b[0;34m)\u001b[0m\u001b[0;34m\u001b[0m\u001b[0m\n\u001b[0;32m--> 757\u001b[0;31m                 \u001b[0;32mraise\u001b[0m \u001b[0mexception\u001b[0m\u001b[0;34m\u001b[0m\u001b[0m\n\u001b[0m\u001b[1;32m    758\u001b[0m \u001b[0;34m\u001b[0m\u001b[0m\n\u001b[1;32m    759\u001b[0m     \u001b[0;32mdef\u001b[0m \u001b[0m__call__\u001b[0m\u001b[0;34m(\u001b[0m\u001b[0mself\u001b[0m\u001b[0;34m,\u001b[0m \u001b[0miterable\u001b[0m\u001b[0;34m)\u001b[0m\u001b[0;34m:\u001b[0m\u001b[0;34m\u001b[0m\u001b[0m\n",
      "\u001b[0;31mKeyboardInterrupt\u001b[0m: "
     ]
    }
   ],
   "source": [
    "t0 = time()\n",
    "km = KMeans(n_clusters=n_clusters, n_jobs=-1)\n",
    "km.fit(x_list)\n",
    "clusters = km.labels_.tolist()\n",
    "train_df['cluster'] = clusters\n",
    "print(\"Done in %0.3fs.\" % (time() - t0))"
   ]
  },
  {
   "cell_type": "code",
   "execution_count": 8,
   "metadata": {
    "collapsed": true
   },
   "outputs": [],
   "source": [
    "train_df.to_pickle(\"../datastore/clusters.p\")"
   ]
  },
  {
   "cell_type": "code",
   "execution_count": 9,
   "metadata": {
    "collapsed": false
   },
   "outputs": [
    {
     "data": {
      "text/html": [
       "<div>\n",
       "<table border=\"1\" class=\"dataframe\">\n",
       "  <thead>\n",
       "    <tr style=\"text-align: right;\">\n",
       "      <th></th>\n",
       "      <th>_id</th>\n",
       "      <th>category</th>\n",
       "      <th>content</th>\n",
       "      <th>description</th>\n",
       "      <th>provider</th>\n",
       "      <th>providerNewsID</th>\n",
       "      <th>publishedAt</th>\n",
       "      <th>title</th>\n",
       "      <th>target_str</th>\n",
       "    </tr>\n",
       "  </thead>\n",
       "  <tbody>\n",
       "    <tr>\n",
       "      <th>0</th>\n",
       "      <td>57e2c849149c2181df5b92aa</td>\n",
       "      <td>nativeAD &gt; CJ</td>\n",
       "      <td>CJ그룹이 7일부터 하반기 신입사원 1700명을 공개 채용한다. 작년보다 18% 늘...</td>\n",
       "      <td></td>\n",
       "      <td>chosun</td>\n",
       "      <td>2016090701420</td>\n",
       "      <td>2016-09-07 11:31:00</td>\n",
       "      <td>CJ그룹, 하반기 신입사원 1700명 공개 채용</td>\n",
       "      <td>그룹NNG 하반기NNG 신입NNG 사원NNG 공개NNG 채용NNG 그룹NNG 하반기...</td>\n",
       "    </tr>\n",
       "    <tr>\n",
       "      <th>1</th>\n",
       "      <td>57e2c849149c2181df5b92ac</td>\n",
       "      <td>사회 &gt; 카드뉴스</td>\n",
       "      <td>흙수저 출신 20대 억만장자의 '엉터리' 조언  기사보기 : http://goo.g...</td>\n",
       "      <td></td>\n",
       "      <td>chosun</td>\n",
       "      <td>2016090701310</td>\n",
       "      <td>2016-09-07 10:59:00</td>\n",
       "      <td>[카드뉴스] 그의 수퍼카 부가티는 개미들의 눈물로 달렸을까요?</td>\n",
       "      <td>수퍼NNP 카NNP 부가티NNP 개미NNG 눈물NNG 흙NNG 수저NNG 출신NNG...</td>\n",
       "    </tr>\n",
       "    <tr>\n",
       "      <th>2</th>\n",
       "      <td>57e2c849149c2181df5b92ad</td>\n",
       "      <td>사회 &gt; 카드뉴스</td>\n",
       "      <td>호주 역사상 처음!\\n\\n[ 조선일보 카드뉴스가 더 보고 싶다면 ?] \\n\\n[ 조...</td>\n",
       "      <td></td>\n",
       "      <td>chosun</td>\n",
       "      <td>2016090701283</td>\n",
       "      <td>2016-09-07 10:49:00</td>\n",
       "      <td>[카드뉴스] 열한살 소년이 지폐를 바꿨습니다</td>\n",
       "      <td>소년NNG 지폐NNG 호주NNP 역사NNG 호주NNP역사NNG 소년NNG이JKS지폐...</td>\n",
       "    </tr>\n",
       "    <tr>\n",
       "      <th>3</th>\n",
       "      <td>57e2c849149c2181df5b92ae</td>\n",
       "      <td>사회 &gt; 카드뉴스</td>\n",
       "      <td>한국프로야구 승부조작 \\n[ 조선일보 카드뉴스가 더 보고 싶다면 ?] \\n\\n[ 조...</td>\n",
       "      <td></td>\n",
       "      <td>chosun</td>\n",
       "      <td>2016090701173</td>\n",
       "      <td>2016-09-07 10:23:00</td>\n",
       "      <td>[카드뉴스] '원조 승부조작' 前 야구선수의 참회</td>\n",
       "      <td>원조NNG 승부조작NNP 야구NNG 선수NNG 참회NNG 한국NNP 프로야구NNP ...</td>\n",
       "    </tr>\n",
       "    <tr>\n",
       "      <th>4</th>\n",
       "      <td>57e2c849149c2181df5b92b0</td>\n",
       "      <td>사설ㆍ칼럼 &gt; 내부칼럼 &gt; 사설</td>\n",
       "      <td>추미애 더불어민주당 대표가 5일 취임 이후 첫 국회 교섭단체 연설에서 청와대에 '비...</td>\n",
       "      <td></td>\n",
       "      <td>chosun</td>\n",
       "      <td>2016090603334</td>\n",
       "      <td>2016-09-07 03:23:00</td>\n",
       "      <td>[사설] 경제 앞길 막은 야당이 경제 失政 비판할 자격 있나</td>\n",
       "      <td>경제NNG 앞길NNG 야당NNG 경제NNG 실정NNG 비판NNG 자격NNG 추미NN...</td>\n",
       "    </tr>\n",
       "    <tr>\n",
       "      <th>5</th>\n",
       "      <td>57e2c849149c2181df5b92b1</td>\n",
       "      <td>사설ㆍ칼럼 &gt; 내부칼럼 &gt; 사설</td>\n",
       "      <td>금융 공기업에 파견 근무 중인 김모 부장검사가 자신의 스폰서 역할을 해온 고교 동창...</td>\n",
       "      <td></td>\n",
       "      <td>chosun</td>\n",
       "      <td>2016090603336</td>\n",
       "      <td>2016-09-07 03:19:00</td>\n",
       "      <td>[사설] 檢察선 또 스폰서 검사, 法院선 또 돈 받고 재판</td>\n",
       "      <td>검찰NNG 스폰서NNG 검사NNG 법원NNG 돈NNG 재판NNG 금융NNG 공기업N...</td>\n",
       "    </tr>\n",
       "    <tr>\n",
       "      <th>6</th>\n",
       "      <td>57e2c84a149c2181df5b92b2</td>\n",
       "      <td>사설ㆍ칼럼 &gt; 내부칼럼 &gt; 사설</td>\n",
       "      <td>의료기관에서 C형 간염 집단감염 사태가 잇따르자 정부가 6일 C형 간염을 전수(全數...</td>\n",
       "      <td></td>\n",
       "      <td>chosun</td>\n",
       "      <td>2016090603338</td>\n",
       "      <td>2016-09-07 03:18:00</td>\n",
       "      <td>[사설] C형 간염, 의료기 再사용 병·의원 명단 공개해야</td>\n",
       "      <td>간염NNG 의료기NNG 사용NNG 병NNG 의원NNG 명단NNG 공개NNG 의료NN...</td>\n",
       "    </tr>\n",
       "    <tr>\n",
       "      <th>7</th>\n",
       "      <td>57e2c84a149c2181df5b92b4</td>\n",
       "      <td>사설ㆍ칼럼 &gt; 외부칼럼 &gt; 시론ㆍ기고 &gt; 朝鮮칼럼 The Column</td>\n",
       "      <td>대한민국을 건국한 동력은 무엇인가? 요즈음 벌어지고 있는 국가 정체성 논란의 핵심에...</td>\n",
       "      <td>최근 벌어진 국가 정체성 논란엔 '건국 동력 무엇인가' 핵심 있어\\n민주주의·자본주...</td>\n",
       "      <td>chosun</td>\n",
       "      <td>2016090603347</td>\n",
       "      <td>2016-09-07 03:17:00</td>\n",
       "      <td>[朝鮮칼럼 The Column] 대한민국 건국 = 항일 + 반공</td>\n",
       "      <td>대한민국NNP 건국NNG 항일NNG 반공NNG 대한민국NNP 건국NNG 동력NNG ...</td>\n",
       "    </tr>\n",
       "    <tr>\n",
       "      <th>8</th>\n",
       "      <td>57e2c84a149c2181df5b92b5</td>\n",
       "      <td>사설ㆍ칼럼 &gt; 내부칼럼 &gt; 만물상</td>\n",
       "      <td>부산 초읍동 어린이대공원 뒤 백양산을 오르다 보면 높이 27m 거대한 석벽을 마주한...</td>\n",
       "      <td></td>\n",
       "      <td>chosun</td>\n",
       "      <td>2016090603367</td>\n",
       "      <td>2016-09-07 03:16:00</td>\n",
       "      <td>[만물상] 음수사원(飮水思源)</td>\n",
       "      <td>수사원NNG 글자NNG 눈NNG 물NNG 때NNG 수원지NNG 사람NNG 노고NNG...</td>\n",
       "    </tr>\n",
       "    <tr>\n",
       "      <th>9</th>\n",
       "      <td>57e2c84a149c2181df5b92b6</td>\n",
       "      <td>사설ㆍ칼럼 &gt; 외부칼럼 &gt; 정민의 세설신어</td>\n",
       "      <td>유관현(柳觀鉉·1692~1764)은 1759년 필선(弼善)의 직책으로 사도세자를 3...</td>\n",
       "      <td></td>\n",
       "      <td>chosun</td>\n",
       "      <td>2016090603374</td>\n",
       "      <td>2016-09-07 03:15:00</td>\n",
       "      <td>[정민의 世說新語] [382] 난자이사 (難者二事)</td>\n",
       "      <td>난자NNG 이사NNG 대목NNG 가난NNG 부자NNG 의리NNG 돈NNG 공NNG ...</td>\n",
       "    </tr>\n",
       "  </tbody>\n",
       "</table>\n",
       "</div>"
      ],
      "text/plain": [
       "                        _id                                category  \\\n",
       "0  57e2c849149c2181df5b92aa                           nativeAD > CJ   \n",
       "1  57e2c849149c2181df5b92ac                               사회 > 카드뉴스   \n",
       "2  57e2c849149c2181df5b92ad                               사회 > 카드뉴스   \n",
       "3  57e2c849149c2181df5b92ae                               사회 > 카드뉴스   \n",
       "4  57e2c849149c2181df5b92b0                       사설ㆍ칼럼 > 내부칼럼 > 사설   \n",
       "5  57e2c849149c2181df5b92b1                       사설ㆍ칼럼 > 내부칼럼 > 사설   \n",
       "6  57e2c84a149c2181df5b92b2                       사설ㆍ칼럼 > 내부칼럼 > 사설   \n",
       "7  57e2c84a149c2181df5b92b4  사설ㆍ칼럼 > 외부칼럼 > 시론ㆍ기고 > 朝鮮칼럼 The Column   \n",
       "8  57e2c84a149c2181df5b92b5                      사설ㆍ칼럼 > 내부칼럼 > 만물상   \n",
       "9  57e2c84a149c2181df5b92b6                 사설ㆍ칼럼 > 외부칼럼 > 정민의 세설신어   \n",
       "\n",
       "                                             content  \\\n",
       "0  CJ그룹이 7일부터 하반기 신입사원 1700명을 공개 채용한다. 작년보다 18% 늘...   \n",
       "1  흙수저 출신 20대 억만장자의 '엉터리' 조언  기사보기 : http://goo.g...   \n",
       "2  호주 역사상 처음!\\n\\n[ 조선일보 카드뉴스가 더 보고 싶다면 ?] \\n\\n[ 조...   \n",
       "3  한국프로야구 승부조작 \\n[ 조선일보 카드뉴스가 더 보고 싶다면 ?] \\n\\n[ 조...   \n",
       "4  추미애 더불어민주당 대표가 5일 취임 이후 첫 국회 교섭단체 연설에서 청와대에 '비...   \n",
       "5  금융 공기업에 파견 근무 중인 김모 부장검사가 자신의 스폰서 역할을 해온 고교 동창...   \n",
       "6  의료기관에서 C형 간염 집단감염 사태가 잇따르자 정부가 6일 C형 간염을 전수(全數...   \n",
       "7  대한민국을 건국한 동력은 무엇인가? 요즈음 벌어지고 있는 국가 정체성 논란의 핵심에...   \n",
       "8  부산 초읍동 어린이대공원 뒤 백양산을 오르다 보면 높이 27m 거대한 석벽을 마주한...   \n",
       "9  유관현(柳觀鉉·1692~1764)은 1759년 필선(弼善)의 직책으로 사도세자를 3...   \n",
       "\n",
       "                                         description provider providerNewsID  \\\n",
       "0                                                      chosun  2016090701420   \n",
       "1                                                      chosun  2016090701310   \n",
       "2                                                      chosun  2016090701283   \n",
       "3                                                      chosun  2016090701173   \n",
       "4                                                      chosun  2016090603334   \n",
       "5                                                      chosun  2016090603336   \n",
       "6                                                      chosun  2016090603338   \n",
       "7  최근 벌어진 국가 정체성 논란엔 '건국 동력 무엇인가' 핵심 있어\\n민주주의·자본주...   chosun  2016090603347   \n",
       "8                                                      chosun  2016090603367   \n",
       "9                                                      chosun  2016090603374   \n",
       "\n",
       "           publishedAt                                title  \\\n",
       "0  2016-09-07 11:31:00           CJ그룹, 하반기 신입사원 1700명 공개 채용   \n",
       "1  2016-09-07 10:59:00   [카드뉴스] 그의 수퍼카 부가티는 개미들의 눈물로 달렸을까요?   \n",
       "2  2016-09-07 10:49:00             [카드뉴스] 열한살 소년이 지폐를 바꿨습니다   \n",
       "3  2016-09-07 10:23:00          [카드뉴스] '원조 승부조작' 前 야구선수의 참회   \n",
       "4  2016-09-07 03:23:00    [사설] 경제 앞길 막은 야당이 경제 失政 비판할 자격 있나   \n",
       "5  2016-09-07 03:19:00     [사설] 檢察선 또 스폰서 검사, 法院선 또 돈 받고 재판   \n",
       "6  2016-09-07 03:18:00     [사설] C형 간염, 의료기 再사용 병·의원 명단 공개해야   \n",
       "7  2016-09-07 03:17:00  [朝鮮칼럼 The Column] 대한민국 건국 = 항일 + 반공   \n",
       "8  2016-09-07 03:16:00                     [만물상] 음수사원(飮水思源)   \n",
       "9  2016-09-07 03:15:00         [정민의 世說新語] [382] 난자이사 (難者二事)   \n",
       "\n",
       "                                          target_str  \n",
       "0  그룹NNG 하반기NNG 신입NNG 사원NNG 공개NNG 채용NNG 그룹NNG 하반기...  \n",
       "1  수퍼NNP 카NNP 부가티NNP 개미NNG 눈물NNG 흙NNG 수저NNG 출신NNG...  \n",
       "2  소년NNG 지폐NNG 호주NNP 역사NNG 호주NNP역사NNG 소년NNG이JKS지폐...  \n",
       "3  원조NNG 승부조작NNP 야구NNG 선수NNG 참회NNG 한국NNP 프로야구NNP ...  \n",
       "4  경제NNG 앞길NNG 야당NNG 경제NNG 실정NNG 비판NNG 자격NNG 추미NN...  \n",
       "5  검찰NNG 스폰서NNG 검사NNG 법원NNG 돈NNG 재판NNG 금융NNG 공기업N...  \n",
       "6  간염NNG 의료기NNG 사용NNG 병NNG 의원NNG 명단NNG 공개NNG 의료NN...  \n",
       "7  대한민국NNP 건국NNG 항일NNG 반공NNG 대한민국NNP 건국NNG 동력NNG ...  \n",
       "8  수사원NNG 글자NNG 눈NNG 물NNG 때NNG 수원지NNG 사람NNG 노고NNG...  \n",
       "9  난자NNG 이사NNG 대목NNG 가난NNG 부자NNG 의리NNG 돈NNG 공NNG ...  "
      ]
     },
     "execution_count": 9,
     "metadata": {},
     "output_type": "execute_result"
    }
   ],
   "source": [
    "train_df[:10]"
   ]
  },
  {
   "cell_type": "markdown",
   "metadata": {},
   "source": [
    "# Scoring"
   ]
  },
  {
   "cell_type": "code",
   "execution_count": 10,
   "metadata": {
    "collapsed": false
   },
   "outputs": [
    {
     "ename": "AttributeError",
     "evalue": "'DataFrame' object has no attribute 'topic'",
     "output_type": "error",
     "traceback": [
      "\u001b[0;31m\u001b[0m",
      "\u001b[0;31mAttributeError\u001b[0mTraceback (most recent call last)",
      "\u001b[0;32m<ipython-input-10-a4da7ff0420f>\u001b[0m in \u001b[0;36m<module>\u001b[0;34m()\u001b[0m\n\u001b[0;32m----> 1\u001b[0;31m \u001b[0madjusted_rand_score\u001b[0m\u001b[0;34m(\u001b[0m\u001b[0mtrain_df\u001b[0m\u001b[0;34m.\u001b[0m\u001b[0mtopic\u001b[0m\u001b[0;34m,\u001b[0m \u001b[0mkm\u001b[0m\u001b[0;34m.\u001b[0m\u001b[0mlabels_\u001b[0m\u001b[0;34m)\u001b[0m\u001b[0;34m\u001b[0m\u001b[0m\n\u001b[0m",
      "\u001b[0;32m/home/whyask37/.pyenv/versions/py27/lib/python2.7/site-packages/pandas/core/generic.pyc\u001b[0m in \u001b[0;36m__getattr__\u001b[0;34m(self, name)\u001b[0m\n\u001b[1;32m   2670\u001b[0m             \u001b[0;32mif\u001b[0m \u001b[0mname\u001b[0m \u001b[0;32min\u001b[0m \u001b[0mself\u001b[0m\u001b[0;34m.\u001b[0m\u001b[0m_info_axis\u001b[0m\u001b[0;34m:\u001b[0m\u001b[0;34m\u001b[0m\u001b[0m\n\u001b[1;32m   2671\u001b[0m                 \u001b[0;32mreturn\u001b[0m \u001b[0mself\u001b[0m\u001b[0;34m[\u001b[0m\u001b[0mname\u001b[0m\u001b[0;34m]\u001b[0m\u001b[0;34m\u001b[0m\u001b[0m\n\u001b[0;32m-> 2672\u001b[0;31m             \u001b[0;32mreturn\u001b[0m \u001b[0mobject\u001b[0m\u001b[0;34m.\u001b[0m\u001b[0m__getattribute__\u001b[0m\u001b[0;34m(\u001b[0m\u001b[0mself\u001b[0m\u001b[0;34m,\u001b[0m \u001b[0mname\u001b[0m\u001b[0;34m)\u001b[0m\u001b[0;34m\u001b[0m\u001b[0m\n\u001b[0m\u001b[1;32m   2673\u001b[0m \u001b[0;34m\u001b[0m\u001b[0m\n\u001b[1;32m   2674\u001b[0m     \u001b[0;32mdef\u001b[0m \u001b[0m__setattr__\u001b[0m\u001b[0;34m(\u001b[0m\u001b[0mself\u001b[0m\u001b[0;34m,\u001b[0m \u001b[0mname\u001b[0m\u001b[0;34m,\u001b[0m \u001b[0mvalue\u001b[0m\u001b[0;34m)\u001b[0m\u001b[0;34m:\u001b[0m\u001b[0;34m\u001b[0m\u001b[0m\n",
      "\u001b[0;31mAttributeError\u001b[0m: 'DataFrame' object has no attribute 'topic'"
     ]
    }
   ],
   "source": [
    "adjusted_rand_score(train_df.topic, km.labels_)"
   ]
  },
  {
   "cell_type": "code",
   "execution_count": null,
   "metadata": {
    "collapsed": false
   },
   "outputs": [],
   "source": [
    "cu.show_cluster(train_df, range(n_clusters))"
   ]
  },
  {
   "cell_type": "code",
   "execution_count": null,
   "metadata": {
    "collapsed": false
   },
   "outputs": [],
   "source": [
    "cu.match_cluster_topic(train_df, False, topics, n_clusters)"
   ]
  },
  {
   "cell_type": "code",
   "execution_count": null,
   "metadata": {
    "collapsed": false
   },
   "outputs": [],
   "source": [
    "cu.match_cluster_topic(train_df, True, topics, n_clusters)"
   ]
  },
  {
   "cell_type": "code",
   "execution_count": null,
   "metadata": {
    "collapsed": false
   },
   "outputs": [],
   "source": [
    "cu.show_cartesian(train_df, n_clusters)"
   ]
  },
  {
   "cell_type": "code",
   "execution_count": null,
   "metadata": {
    "collapsed": true
   },
   "outputs": [],
   "source": []
  }
 ],
 "metadata": {
  "kernelspec": {
   "display_name": "Python 2",
   "language": "python",
   "name": "python2"
  },
  "language_info": {
   "codemirror_mode": {
    "name": "ipython",
    "version": 2
   },
   "file_extension": ".py",
   "mimetype": "text/x-python",
   "name": "python",
   "nbconvert_exporter": "python",
   "pygments_lexer": "ipython2",
   "version": "2.7.11"
  }
 },
 "nbformat": 4,
 "nbformat_minor": 1
}
