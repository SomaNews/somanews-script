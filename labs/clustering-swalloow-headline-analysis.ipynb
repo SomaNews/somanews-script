{
 "cells": [
  {
   "cell_type": "markdown",
   "metadata": {},
   "source": [
    "# Script for headline analysis"
   ]
  },
  {
   "cell_type": "code",
   "execution_count": 1,
   "metadata": {
    "collapsed": false
   },
   "outputs": [],
   "source": [
    "import numpy as np\n",
    "import pandas as pd"
   ]
  },
  {
   "cell_type": "markdown",
   "metadata": {},
   "source": [
    "## Load Data"
   ]
  },
  {
   "cell_type": "code",
   "execution_count": 2,
   "metadata": {
    "collapsed": true
   },
   "outputs": [],
   "source": [
    "from pymongo import MongoClient"
   ]
  },
  {
   "cell_type": "code",
   "execution_count": 3,
   "metadata": {
    "collapsed": false
   },
   "outputs": [],
   "source": [
    "client = MongoClient('mongodb://localhost:27017/somanews')\n",
    "client.somanews.authenticate('ssomanews', 'ssomanews1029')\n",
    "db = client.get_database('somanews')\n",
    "articles = db.get_collection('crawledArticles')"
   ]
  },
  {
   "cell_type": "code",
   "execution_count": 4,
   "metadata": {
    "collapsed": false
   },
   "outputs": [],
   "source": [
    "train = pd.DataFrame(list(articles.find()))\n",
    "client.close()"
   ]
  },
  {
   "cell_type": "markdown",
   "metadata": {},
   "source": [
    "## Preprocessing\n",
    "1. Remove stopwords (regex, hanja)\n",
    "2. Find all in square bracket\n",
    "3. NNP to English"
   ]
  },
  {
   "cell_type": "code",
   "execution_count": 5,
   "metadata": {
    "collapsed": false
   },
   "outputs": [],
   "source": [
    "from konlpy.tag import Mecab\n",
    "import hanja\n",
    "import re"
   ]
  },
  {
   "cell_type": "code",
   "execution_count": 6,
   "metadata": {
    "collapsed": true
   },
   "outputs": [],
   "source": [
    "mecab = Mecab()\n",
    "pos = lambda d: ['/'.join(p) for p in mecab.pos(d)]"
   ]
  },
  {
   "cell_type": "code",
   "execution_count": 7,
   "metadata": {
    "collapsed": false
   },
   "outputs": [],
   "source": [
    "title = train['title'].tolist()\n",
    "title = [re.findall(\"\\[(.*?)\\]\", each) for each in title]\n",
    "title = list(filter(None, title))\n",
    "title = [each[0] for each in title]"
   ]
  },
  {
   "cell_type": "markdown",
   "metadata": {},
   "source": [
    "## Counting headlines"
   ]
  },
  {
   "cell_type": "code",
   "execution_count": 8,
   "metadata": {
    "collapsed": true
   },
   "outputs": [],
   "source": [
    "from collections import Counter\n",
    "from konlpy.utils import pprint"
   ]
  },
  {
   "cell_type": "code",
   "execution_count": 9,
   "metadata": {
    "collapsed": false
   },
   "outputs": [
    {
     "name": "stdout",
     "output_type": "stream",
     "text": [
      "myCounter: [('사설', 2778), ('포토', 2498), ('부고', 2242), ('인사', 1639), ('카드뉴스', 1461), ('단독', 1349), ('경향포토', 1067), ('Why', 809), ('알립니다', 653), ('화제의 분양현장', 645), ('오늘의 채널A', 450), ('오늘의 운세', 438), ('더 나은 미래', 385), ('오늘의 날씨', 380), ('부음', 367), ('날씨', 359), ('오늘의 경기', 353), ('만물상', 348), ('팔면봉', 347), ('발언대', 325), ('왜냐면', 302), ('스피킹이 강해지는 영어', 290), ('일사일언', 288), ('두근두근 뇌 운동', 286), ('신문으로 배우는 실용한자', 285), ('리빙포인트', 282), ('입에 착착 붙는 일본어', 261), ('스포츠 브리핑', 261), ('매일매일 중국어 한마디', 261), ('속보', 261), ('플라자', 249), ('책의 향기', 247), ('경제계 인사', 245), ('게시판', 240), ('TV조선 ch19', 235), ('스마트 컨슈머', 234), ('유레카', 217), ('기고', 214), ('간추린 뉴스', 208), ('세상 읽기', 206), ('바둑', 205), ('지표로 보는 경제', 197), ('영상', 196), ('Health&Beauty', 185), ('TV조선', 170), ('글로벌 콕콕', 169), ('Money&Life', 167), ('데스크에서', 165), ('땅, 땅… 오늘의 판결', 163), ('배달의 한겨레', 158)]\n"
     ]
    }
   ],
   "source": [
    "headlines = Counter(title).most_common(50)\n",
    "print('myCounter:', headlines)"
   ]
  },
  {
   "cell_type": "markdown",
   "metadata": {},
   "source": [
    "## Visualization - Graph"
   ]
  },
  {
   "cell_type": "code",
   "execution_count": 10,
   "metadata": {
    "collapsed": false
   },
   "outputs": [],
   "source": [
    "%matplotlib inline\n",
    "import matplotlib.pyplot as plt\n",
    "from matplotlib import font_manager, rc"
   ]
  },
  {
   "cell_type": "code",
   "execution_count": 11,
   "metadata": {
    "collapsed": false
   },
   "outputs": [],
   "source": [
    "x = [each[0] for each in headlines]\n",
    "y = [each[1] for each in headlines]\n",
    "indexes = np.arange(len(headlines))"
   ]
  },
  {
   "cell_type": "code",
   "execution_count": 14,
   "metadata": {
    "collapsed": false
   },
   "outputs": [
    {
     "data": {
      "text/plain": [
       "{'/usr/share/fonts/truetype/dejavu/DejaVuSans-Bold.ttf': 1,\n",
       " '/usr/share/fonts/truetype/dejavu/DejaVuSans-BoldOblique.ttf': 1,\n",
       " '/usr/share/fonts/truetype/dejavu/DejaVuSans-ExtraLight.ttf': 1,\n",
       " '/usr/share/fonts/truetype/dejavu/DejaVuSans-Oblique.ttf': 1,\n",
       " '/usr/share/fonts/truetype/dejavu/DejaVuSans.ttf': 1,\n",
       " '/usr/share/fonts/truetype/dejavu/DejaVuSansCondensed-Bold.ttf': 1,\n",
       " '/usr/share/fonts/truetype/dejavu/DejaVuSansCondensed-BoldOblique.ttf': 1,\n",
       " '/usr/share/fonts/truetype/dejavu/DejaVuSansCondensed-Oblique.ttf': 1,\n",
       " '/usr/share/fonts/truetype/dejavu/DejaVuSansCondensed.ttf': 1,\n",
       " '/usr/share/fonts/truetype/dejavu/DejaVuSansMono-Bold.ttf': 1,\n",
       " '/usr/share/fonts/truetype/dejavu/DejaVuSansMono-BoldOblique.ttf': 1,\n",
       " '/usr/share/fonts/truetype/dejavu/DejaVuSansMono-Oblique.ttf': 1,\n",
       " '/usr/share/fonts/truetype/dejavu/DejaVuSansMono.ttf': 1,\n",
       " '/usr/share/fonts/truetype/dejavu/DejaVuSerif-Bold.ttf': 1,\n",
       " '/usr/share/fonts/truetype/dejavu/DejaVuSerif-BoldItalic.ttf': 1,\n",
       " '/usr/share/fonts/truetype/dejavu/DejaVuSerif-Italic.ttf': 1,\n",
       " '/usr/share/fonts/truetype/dejavu/DejaVuSerif.ttf': 1,\n",
       " '/usr/share/fonts/truetype/dejavu/DejaVuSerifCondensed-Bold.ttf': 1,\n",
       " '/usr/share/fonts/truetype/dejavu/DejaVuSerifCondensed-BoldItalic.ttf': 1,\n",
       " '/usr/share/fonts/truetype/dejavu/DejaVuSerifCondensed-Italic.ttf': 1,\n",
       " '/usr/share/fonts/truetype/dejavu/DejaVuSerifCondensed.ttf': 1,\n",
       " '/usr/share/fonts/truetype/lyx/cmex10.ttf': 1,\n",
       " '/usr/share/fonts/truetype/lyx/cmmi10.ttf': 1,\n",
       " '/usr/share/fonts/truetype/lyx/cmr10.ttf': 1,\n",
       " '/usr/share/fonts/truetype/lyx/cmsy10.ttf': 1,\n",
       " '/usr/share/fonts/truetype/lyx/esint10.ttf': 1,\n",
       " '/usr/share/fonts/truetype/lyx/eufm10.ttf': 1,\n",
       " '/usr/share/fonts/truetype/lyx/msam10.ttf': 1,\n",
       " '/usr/share/fonts/truetype/lyx/msbm10.ttf': 1,\n",
       " '/usr/share/fonts/truetype/lyx/rsfs10.ttf': 1,\n",
       " '/usr/share/fonts/truetype/lyx/stmary10.ttf': 1,\n",
       " '/usr/share/fonts/truetype/lyx/wasy10.ttf': 1,\n",
       " '/usr/share/fonts/truetype/nanumfont/NanumBrush.ttf': 1,\n",
       " '/usr/share/fonts/truetype/nanumfont/NanumGothic.ttf': 1,\n",
       " '/usr/share/fonts/truetype/nanumfont/NanumGothicBold.ttf': 1,\n",
       " '/usr/share/fonts/truetype/nanumfont/NanumGothicExtraBold.ttf': 1,\n",
       " '/usr/share/fonts/truetype/nanumfont/NanumMyeongjo.ttf': 1,\n",
       " '/usr/share/fonts/truetype/nanumfont/NanumMyeongjoBold.ttf': 1,\n",
       " '/usr/share/fonts/truetype/nanumfont/NanumMyeongjoExtraBold.ttf': 1,\n",
       " '/usr/share/fonts/truetype/nanumfont/NanumPen.ttf': 1,\n",
       " '/usr/share/fonts/truetype/ttf-bitstream-vera/Vera.ttf': 1,\n",
       " '/usr/share/fonts/truetype/ttf-bitstream-vera/VeraBI.ttf': 1,\n",
       " '/usr/share/fonts/truetype/ttf-bitstream-vera/VeraBd.ttf': 1,\n",
       " '/usr/share/fonts/truetype/ttf-bitstream-vera/VeraIt.ttf': 1,\n",
       " '/usr/share/fonts/truetype/ttf-bitstream-vera/VeraMoBI.ttf': 1,\n",
       " '/usr/share/fonts/truetype/ttf-bitstream-vera/VeraMoBd.ttf': 1,\n",
       " '/usr/share/fonts/truetype/ttf-bitstream-vera/VeraMoIt.ttf': 1,\n",
       " '/usr/share/fonts/truetype/ttf-bitstream-vera/VeraMono.ttf': 1,\n",
       " '/usr/share/fonts/truetype/ttf-bitstream-vera/VeraSe.ttf': 1,\n",
       " '/usr/share/fonts/truetype/ttf-bitstream-vera/VeraSeBd.ttf': 1}"
      ]
     },
     "execution_count": 14,
     "metadata": {},
     "output_type": "execute_result"
    }
   ],
   "source": [
    "font_manager.get_fontconfig_fonts()"
   ]
  },
  {
   "cell_type": "code",
   "execution_count": 15,
   "metadata": {
    "collapsed": false
   },
   "outputs": [
    {
     "data": {
      "text/plain": [
       "'NanumGothic'"
      ]
     },
     "execution_count": 15,
     "metadata": {},
     "output_type": "execute_result"
    }
   ],
   "source": [
    "font_name"
   ]
  },
  {
   "cell_type": "code",
   "execution_count": null,
   "metadata": {
    "collapsed": true
   },
   "outputs": [],
   "source": [
    "krfont = {'family' : 'NanumGothic', 'size'   : 5}\n",
    "matplotlib.rc('font', **krfont)"
   ]
  },
  {
   "cell_type": "code",
   "execution_count": 12,
   "metadata": {
    "collapsed": false
   },
   "outputs": [],
   "source": [
    "font_name = font_manager.FontProperties(fname=\"/usr/share/fonts/truetype/nanumfont/NanumGothic.ttf\", size=5).get_name()\n",
    "rc('font', family=font_name)"
   ]
  },
  {
   "cell_type": "code",
   "execution_count": 13,
   "metadata": {
    "collapsed": false
   },
   "outputs": [
    {
     "name": "stderr",
     "output_type": "stream",
     "text": [
      "/usr/local/lib/python3.5/dist-packages/matplotlib/font_manager.py:1282: UserWarning: findfont: Font family ['NanumGothic'] not found. Falling back to Bitstream Vera Sans\n",
      "  (prop.get_family(), self.defaultFamily[fontext]))\n"
     ]
    },
    {
     "data": {
      "image/png": "[encoded data removed]",
      "text/plain": [
       "<matplotlib.figure.Figure at 0x7fcff76cd198>"
      ]
     },
     "metadata": {},
     "output_type": "display_data"
    }
   ],
   "source": [
    "plt.xlabel('News Headlines')\n",
    "plt.ylabel('Word Frequency')\n",
    "plt.title('Headline Analysis')\n",
    "plt.xticks(indexes, x)\n",
    "plt.plot(indexes, y)\n",
    "plt.gcf().autofmt_xdate()\n",
    "plt.show()"
   ]
  }
 ],
 "metadata": {
  "kernelspec": {
   "display_name": "Python 3",
   "language": "python",
   "name": "python3"
  },
  "language_info": {
   "codemirror_mode": {
    "name": "ipython",
    "version": 3
   },
   "file_extension": ".py",
   "mimetype": "text/x-python",
   "name": "python",
   "nbconvert_exporter": "python",
   "pygments_lexer": "ipython3",
   "version": "3.5.2"
  }
 },
 "nbformat": 4,
 "nbformat_minor": 1
}
