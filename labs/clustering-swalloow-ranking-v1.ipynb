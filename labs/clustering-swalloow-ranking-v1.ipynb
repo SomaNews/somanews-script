{
 "cells": [
  {
   "cell_type": "markdown",
   "metadata": {},
   "source": [
    "# News Clustering using KMeans Algorithm\n",
    "By Datetime : 2016-08-29 ~ 2016-09-05"
   ]
  },
  {
   "cell_type": "code",
   "execution_count": 1,
   "metadata": {
    "collapsed": false
   },
   "outputs": [],
   "source": [
    "import numpy as np\n",
    "import pandas as pd"
   ]
  },
  {
   "cell_type": "markdown",
   "metadata": {
    "collapsed": true
   },
   "source": [
    "## Load data from Pickle "
   ]
  },
  {
   "cell_type": "code",
   "execution_count": 2,
   "metadata": {
    "collapsed": false,
    "scrolled": true
   },
   "outputs": [
    {
     "data": {
      "text/html": [
       "<div>\n",
       "<table border=\"1\" class=\"dataframe\">\n",
       "  <thead>\n",
       "    <tr style=\"text-align: right;\">\n",
       "      <th></th>\n",
       "      <th>category</th>\n",
       "      <th>name</th>\n",
       "    </tr>\n",
       "  </thead>\n",
       "  <tbody>\n",
       "    <tr>\n",
       "      <th>0</th>\n",
       "      <td>건강·의학 &gt;</td>\n",
       "      <td>건강</td>\n",
       "    </tr>\n",
       "    <tr>\n",
       "      <th>1</th>\n",
       "      <td>경제</td>\n",
       "      <td>경제</td>\n",
       "    </tr>\n",
       "    <tr>\n",
       "      <th>2</th>\n",
       "      <td>뉴스 &gt; 경제</td>\n",
       "      <td>경제</td>\n",
       "    </tr>\n",
       "    <tr>\n",
       "      <th>3</th>\n",
       "      <td>경제 &gt;</td>\n",
       "      <td>경제</td>\n",
       "    </tr>\n",
       "    <tr>\n",
       "      <th>4</th>\n",
       "      <td>뉴스 &gt; 경제 &gt; @뉴스룸</td>\n",
       "      <td>경제</td>\n",
       "    </tr>\n",
       "  </tbody>\n",
       "</table>\n",
       "</div>"
      ],
      "text/plain": [
       "         category name\n",
       "0        건강·의학 >    건강\n",
       "1              경제   경제\n",
       "2         뉴스 > 경제   경제\n",
       "3           경제 >    경제\n",
       "4  뉴스 > 경제 > @뉴스룸   경제"
      ]
     },
     "execution_count": 2,
     "metadata": {},
     "output_type": "execute_result"
    }
   ],
   "source": [
    "train = pd.read_pickle(\"../datastore/1104_00_df.p\")\n",
    "category = pd.read_pickle(\"../datastore/category.p\")\n",
    "category.head()"
   ]
  },
  {
   "cell_type": "code",
   "execution_count": 3,
   "metadata": {
    "collapsed": false
   },
   "outputs": [],
   "source": [
    "headline = pd.read_pickle(\"../datastore/headline.p\")\n",
    "headlines = headline['headline'].tolist()"
   ]
  },
  {
   "cell_type": "code",
   "execution_count": 4,
   "metadata": {
    "collapsed": false
   },
   "outputs": [
    {
     "data": {
      "text/plain": [
       "['지표로 보는 경제',\n",
       " '오늘의',\n",
       " '화제의 분양현장',\n",
       " '뉴스룸',\n",
       " '카드뉴스',\n",
       " '조선일보',\n",
       " 'TV조선',\n",
       " '특집',\n",
       " '이슈',\n",
       " 'Weekly BIZ',\n",
       " '금주의',\n",
       " '사회공헌 Together',\n",
       " '신나는 공부',\n",
       " '포토',\n",
       " '리빙포인트',\n",
       " '경제계 인사',\n",
       " '경향포토',\n",
       " '오늘의 날씨']"
      ]
     },
     "execution_count": 4,
     "metadata": {},
     "output_type": "execute_result"
    }
   ],
   "source": [
    "headlines"
   ]
  },
  {
   "cell_type": "markdown",
   "metadata": {},
   "source": [
    "## Select Categories\n",
    "- 포함 : 경제, 문화, 건강, 과학, 사회, 정치, 스포츠\n",
    "- 제외 : 종합, 정보없음, 인물, 사설"
   ]
  },
  {
   "cell_type": "code",
   "execution_count": 5,
   "metadata": {
    "collapsed": true
   },
   "outputs": [],
   "source": [
    "train = pd.merge(train, category, on='category', how='inner')"
   ]
  },
  {
   "cell_type": "code",
   "execution_count": 6,
   "metadata": {
    "collapsed": true
   },
   "outputs": [],
   "source": [
    "categories = ['경제', '과학', '사회', '정치']"
   ]
  },
  {
   "cell_type": "code",
   "execution_count": 7,
   "metadata": {
    "collapsed": false
   },
   "outputs": [
    {
     "data": {
      "text/plain": [
       "array(['사회', '정치', '경제', '과학'], dtype=object)"
      ]
     },
     "execution_count": 7,
     "metadata": {},
     "output_type": "execute_result"
    }
   ],
   "source": [
    "train = train[train['name'].isin(categories)]\n",
    "train.name.unique()"
   ]
  },
  {
   "cell_type": "markdown",
   "metadata": {},
   "source": [
    "## Preprocessing\n",
    "1. Datetime (16-09-11 ~ 16-09-17)\n",
    "2. Remove stopwords (regex, hanja)\n",
    "3. POS Tagging with KoNLPy, Mecab\n",
    "4. Using bigram"
   ]
  },
  {
   "cell_type": "code",
   "execution_count": 8,
   "metadata": {
    "collapsed": true
   },
   "outputs": [],
   "source": [
    "import datetime\n",
    "from konlpy.tag import Mecab\n",
    "import hanja\n",
    "import re"
   ]
  },
  {
   "cell_type": "code",
   "execution_count": 9,
   "metadata": {
    "collapsed": false
   },
   "outputs": [],
   "source": [
    "mecab = Mecab()"
   ]
  },
  {
   "cell_type": "code",
   "execution_count": 10,
   "metadata": {
    "collapsed": true
   },
   "outputs": [],
   "source": [
    "def text_cleaning(text):\n",
    "    text = hanja.translate(text, 'substitution')\n",
    "    text = re.sub('[^가-힝0-9a-zA-Z\\\\s]', ' ', text)\n",
    "    for headline in headlines:\n",
    "        text = text.replace(headline, ' ')\n",
    "    return text"
   ]
  },
  {
   "cell_type": "code",
   "execution_count": 11,
   "metadata": {
    "collapsed": true
   },
   "outputs": [],
   "source": [
    "def tokenize(data):\n",
    "    return [' '.join(e for e in mecab.nouns(data))]"
   ]
  },
  {
   "cell_type": "code",
   "execution_count": 12,
   "metadata": {
    "collapsed": false
   },
   "outputs": [],
   "source": [
    "train['title_flat'] = train['title'].apply(lambda text: text_cleaning(text))\n",
    "title = [tokenize(each[1]['title_flat']) for each in train.iterrows()]"
   ]
  },
  {
   "cell_type": "markdown",
   "metadata": {},
   "source": [
    "## Training\n",
    "1. Feature extraction - TfidVectorizer\n",
    "2. Decomposition - PCA\n",
    "3. Cluster - KMeans"
   ]
  },
  {
   "cell_type": "code",
   "execution_count": 13,
   "metadata": {
    "collapsed": false,
    "scrolled": true
   },
   "outputs": [],
   "source": [
    "from sklearn.feature_extraction.text import TfidfVectorizer\n",
    "from sklearn.decomposition import PCA\n",
    "from sklearn.cluster import KMeans"
   ]
  },
  {
   "cell_type": "code",
   "execution_count": 14,
   "metadata": {
    "collapsed": false,
    "scrolled": false
   },
   "outputs": [],
   "source": [
    "vectorizer = TfidfVectorizer(lowercase=False, ngram_range=(1,2))\n",
    "title_flat = [item for sublist in title for item in sublist]\n",
    "x_list = vectorizer.fit_transform(title_flat)"
   ]
  },
  {
   "cell_type": "code",
   "execution_count": 15,
   "metadata": {
    "collapsed": false
   },
   "outputs": [
    {
     "data": {
      "text/plain": [
       "(2802, 100)"
      ]
     },
     "execution_count": 15,
     "metadata": {},
     "output_type": "execute_result"
    }
   ],
   "source": [
    "x_list_100d = PCA(n_components=100).fit_transform(x_list.toarray())\n",
    "x_list_100d.shape"
   ]
  },
  {
   "cell_type": "markdown",
   "metadata": {},
   "source": [
    "### Scoring"
   ]
  },
  {
   "cell_type": "code",
   "execution_count": 16,
   "metadata": {
    "collapsed": true
   },
   "outputs": [],
   "source": [
    "from sklearn.metrics import silhouette_samples, silhouette_score\n",
    "from IPython.display import display, HTML\n",
    "import warnings\n",
    "warnings.filterwarnings(\"ignore\", category=DeprecationWarning) "
   ]
  },
  {
   "cell_type": "markdown",
   "metadata": {},
   "source": [
    "### Best Silhoutte Score"
   ]
  },
  {
   "cell_type": "code",
   "execution_count": 17,
   "metadata": {
    "collapsed": true
   },
   "outputs": [],
   "source": [
    "best_score = 0.0\n",
    "best_k = 0"
   ]
  },
  {
   "cell_type": "code",
   "execution_count": 18,
   "metadata": {
    "collapsed": false
   },
   "outputs": [
    {
     "name": "stdout",
     "output_type": "stream",
     "text": [
      "In Clusters = 15 , Score is : 0.171\n",
      "In Clusters = 16 , Score is : 0.269\n",
      "In Clusters = 17 , Score is : 0.200\n",
      "In Clusters = 18 , Score is : 0.180\n",
      "In Clusters = 19 , Score is : 0.184\n",
      "In Clusters = 20 , Score is : 0.152\n",
      "In Clusters = 21 , Score is : 0.174\n",
      "In Clusters = 22 , Score is : 0.183\n",
      "In Clusters = 23 , Score is : 0.122\n",
      "In Clusters = 24 , Score is : 0.204\n",
      "In Clusters = 25 , Score is : 0.241\n",
      "In Clusters = 26 , Score is : 0.204\n",
      "In Clusters = 27 , Score is : 0.093\n",
      "In Clusters = 28 , Score is : 0.201\n",
      "In Clusters = 29 , Score is : 0.134\n",
      "In Clusters = 30 , Score is : 0.194\n",
      "In Clusters = 31 , Score is : 0.207\n",
      "In Clusters = 32 , Score is : 0.142\n",
      "In Clusters = 33 , Score is : 0.173\n",
      "In Clusters = 34 , Score is : 0.121\n",
      "In Clusters = 16 , Best score is : 0.269\n"
     ]
    }
   ],
   "source": [
    "for k in range(15, 35):\n",
    "    km = KMeans(n_clusters=k, n_jobs=-1).fit(x_list_100d)\n",
    "    score = silhouette_score(x_list_100d, km.labels_)\n",
    "    if best_score < score:\n",
    "        best_score = score\n",
    "        best_k = k\n",
    "    print(\"In Clusters =\", k, \", Score is : %0.3f\" % score)\n",
    "print(\"In Clusters =\", best_k, \", Best score is : %0.3f\" % best_score)"
   ]
  },
  {
   "cell_type": "markdown",
   "metadata": {},
   "source": [
    "### K-Means Algorithm"
   ]
  },
  {
   "cell_type": "code",
   "execution_count": 19,
   "metadata": {
    "collapsed": false,
    "scrolled": true
   },
   "outputs": [
    {
     "name": "stdout",
     "output_type": "stream",
     "text": [
      "326.517656329\n"
     ]
    }
   ],
   "source": [
    "km = KMeans(n_clusters=best_k, n_jobs=-1).fit(x_list_100d)\n",
    "labels = km.labels_\n",
    "centroids = km.cluster_centers_\n",
    "print(km.inertia_)"
   ]
  },
  {
   "cell_type": "code",
   "execution_count": 20,
   "metadata": {
    "collapsed": false,
    "scrolled": true
   },
   "outputs": [],
   "source": [
    "x_list_vector = x_list_100d.tolist()\n",
    "train = train.drop(['title_flat', 'target_str'], axis=1)\n",
    "train['cluster'] = labels"
   ]
  },
  {
   "cell_type": "markdown",
   "metadata": {},
   "source": [
    "## Choose Best Cluster\n",
    "1. Cluster size < 500\n",
    "2. Recent published\n",
    "3. Minimum inertia"
   ]
  },
  {
   "cell_type": "markdown",
   "metadata": {},
   "source": [
    "### Compare best cluster"
   ]
  },
  {
   "cell_type": "code",
   "execution_count": 21,
   "metadata": {
    "collapsed": false
   },
   "outputs": [
    {
     "name": "stdout",
     "output_type": "stream",
     "text": [
      "Cluster 0:  0.155573887263\n",
      "Cluster 1:  0.117931453769\n",
      "Cluster 2:  0.100998186721\n",
      "Cluster 3:  0.317866191227\n",
      "Cluster 4:  0.384792472186\n",
      "Cluster 5:  0.106612674041\n",
      "Cluster 6:  0.762580662685\n",
      "Cluster 7:  0.18113818275\n",
      "Cluster 8:  0.108352735955\n",
      "Cluster 9:  0.313368064315\n",
      "Cluster 10:  0.0378033411809\n",
      "Cluster 11:  0.50333497927\n",
      "Cluster 12:  0.215003388431\n",
      "Cluster 13:  0.315701896084\n",
      "Cluster 14:  0.999999995619\n",
      "Cluster 15:  0.610743869363\n"
     ]
    }
   ],
   "source": [
    "sample_silhouette_values = silhouette_samples(x_list_100d, labels)\n",
    "sample_silhouette_score = []\n",
    "best_cluster = []\n",
    "cluster_num = best_k\n",
    "\n",
    "for i in range(cluster_num):\n",
    "    ith_cluster_silhouette_values = \\\n",
    "        sample_silhouette_values[labels == i]\n",
    "        \n",
    "    print('Cluster %d: ' % (i), abs(ith_cluster_silhouette_values.mean()))\n",
    "    sample_silhouette_score.append(abs(ith_cluster_silhouette_values.mean()))\n",
    "\n",
    "sample_silhouette_score.sort(reverse=True)\n",
    "sample_silhouette_score = sample_silhouette_score[:8]"
   ]
  },
  {
   "cell_type": "code",
   "execution_count": 22,
   "metadata": {
    "collapsed": false,
    "scrolled": true
   },
   "outputs": [
    {
     "data": {
      "text/plain": [
       "[0.99999999561869757,\n",
       " 0.76258066268477387,\n",
       " 0.6107438693634909,\n",
       " 0.50333497926984605,\n",
       " 0.38479247218646612,\n",
       " 0.31786619122715154,\n",
       " 0.31570189608427901,\n",
       " 0.31336806431538483]"
      ]
     },
     "execution_count": 22,
     "metadata": {},
     "output_type": "execute_result"
    }
   ],
   "source": [
    "sample_silhouette_score"
   ]
  },
  {
   "cell_type": "code",
   "execution_count": 23,
   "metadata": {
    "collapsed": false
   },
   "outputs": [],
   "source": [
    "for i in range(cluster_num):\n",
    "    ith_cluster_silhouette_values = \\\n",
    "        sample_silhouette_values[labels == i]\n",
    "        \n",
    "    if abs(ith_cluster_silhouette_values.mean()) in sample_silhouette_score:\n",
    "        best_cluster.append(i)"
   ]
  },
  {
   "cell_type": "code",
   "execution_count": 24,
   "metadata": {
    "collapsed": false
   },
   "outputs": [
    {
     "data": {
      "text/plain": [
       "[3, 4, 6, 9, 11, 13, 14, 15]"
      ]
     },
     "execution_count": 24,
     "metadata": {},
     "output_type": "execute_result"
    }
   ],
   "source": [
    "best_cluster"
   ]
  },
  {
   "cell_type": "code",
   "execution_count": 25,
   "metadata": {
    "collapsed": false
   },
   "outputs": [
    {
     "data": {
      "text/plain": [
       "array([13,  4,  3, 14, 11, 15,  6,  9])"
      ]
     },
     "execution_count": 25,
     "metadata": {},
     "output_type": "execute_result"
    }
   ],
   "source": [
    "train = train[train['cluster'].isin(best_cluster)]\n",
    "train.cluster.unique()"
   ]
  },
  {
   "cell_type": "markdown",
   "metadata": {},
   "source": [
    "## Result"
   ]
  },
  {
   "cell_type": "code",
   "execution_count": 26,
   "metadata": {
    "collapsed": false,
    "scrolled": false
   },
   "outputs": [
    {
     "name": "stdout",
     "output_type": "stream",
     "text": [
      "Cluster 0: Size 10\n"
     ]
    },
    {
     "data": {
      "text/html": [
       "<div>\n",
       "<table border=\"1\" class=\"dataframe\">\n",
       "  <thead>\n",
       "    <tr style=\"text-align: right;\">\n",
       "      <th></th>\n",
       "      <th>title</th>\n",
       "      <th>category</th>\n",
       "    </tr>\n",
       "  </thead>\n",
       "  <tbody>\n",
       "    <tr>\n",
       "      <th>135</th>\n",
       "      <td>[경향포토]자리 앉는 야3당 원내대표</td>\n",
       "      <td>정치 &gt; 정치일반</td>\n",
       "    </tr>\n",
       "    <tr>\n",
       "      <th>136</th>\n",
       "      <td>[경향포토]최순실 관련 야3당 원내대표 회동</td>\n",
       "      <td>정치 &gt; 정치일반</td>\n",
       "    </tr>\n",
       "    <tr>\n",
       "      <th>228</th>\n",
       "      <td>[경향포토]긴급의총장 들어서는 우상호 원내대표</td>\n",
       "      <td>정치 &gt; 정치일반</td>\n",
       "    </tr>\n",
       "    <tr>\n",
       "      <th>195</th>\n",
       "      <td>[경향포토]야3당 원내대표 회동</td>\n",
       "      <td>정치 &gt; 정치일반</td>\n",
       "    </tr>\n",
       "    <tr>\n",
       "      <th>2767</th>\n",
       "      <td>10분만에 깨진 3黨 원내대표 회동</td>\n",
       "      <td>정치 &gt; 국회ㆍ정당</td>\n",
       "    </tr>\n",
       "    <tr>\n",
       "      <th>131</th>\n",
       "      <td>[경향포토]손잡은 야3당 원내대표</td>\n",
       "      <td>정치 &gt; 정치일반</td>\n",
       "    </tr>\n",
       "    <tr>\n",
       "      <th>137</th>\n",
       "      <td>[경향포토]야3당 원내대표 회동</td>\n",
       "      <td>정치 &gt; 정치일반</td>\n",
       "    </tr>\n",
       "    <tr>\n",
       "      <th>196</th>\n",
       "      <td>[경향포토]야3당 원내대표 회의</td>\n",
       "      <td>정치 &gt; 정치일반</td>\n",
       "    </tr>\n",
       "    <tr>\n",
       "      <th>83</th>\n",
       "      <td>[속보]국회의장·여야 원내대표 회동 10분 만에 결렬</td>\n",
       "      <td>정치 &gt; 정치일반</td>\n",
       "    </tr>\n",
       "    <tr>\n",
       "      <th>194</th>\n",
       "      <td>[경향포토]야3당 회동</td>\n",
       "      <td>정치 &gt; 정치일반</td>\n",
       "    </tr>\n",
       "  </tbody>\n",
       "</table>\n",
       "</div>"
      ],
      "text/plain": [
       "                              title    category\n",
       "135            [경향포토]자리 앉는 야3당 원내대표   정치 > 정치일반\n",
       "136        [경향포토]최순실 관련 야3당 원내대표 회동   정치 > 정치일반\n",
       "228       [경향포토]긴급의총장 들어서는 우상호 원내대표   정치 > 정치일반\n",
       "195               [경향포토]야3당 원내대표 회동   정치 > 정치일반\n",
       "2767            10분만에 깨진 3黨 원내대표 회동  정치 > 국회ㆍ정당\n",
       "131              [경향포토]손잡은 야3당 원내대표   정치 > 정치일반\n",
       "137               [경향포토]야3당 원내대표 회동   정치 > 정치일반\n",
       "196               [경향포토]야3당 원내대표 회의   정치 > 정치일반\n",
       "83    [속보]국회의장·여야 원내대표 회동 10분 만에 결렬   정치 > 정치일반\n",
       "194                    [경향포토]야3당 회동   정치 > 정치일반"
      ]
     },
     "metadata": {},
     "output_type": "display_data"
    },
    {
     "name": "stdout",
     "output_type": "stream",
     "text": [
      "\n",
      "\n",
      "\n",
      "Cluster 1: Size 24\n"
     ]
    },
    {
     "data": {
      "text/html": [
       "<div>\n",
       "<table border=\"1\" class=\"dataframe\">\n",
       "  <thead>\n",
       "    <tr style=\"text-align: right;\">\n",
       "      <th></th>\n",
       "      <th>title</th>\n",
       "      <th>category</th>\n",
       "    </tr>\n",
       "  </thead>\n",
       "  <tbody>\n",
       "    <tr>\n",
       "      <th>292</th>\n",
       "      <td>[경향포토]국회 온 비서실장</td>\n",
       "      <td>정치 &gt; 정치일반</td>\n",
       "    </tr>\n",
       "    <tr>\n",
       "      <th>211</th>\n",
       "      <td>[11·2 기습 개각]“비서실장 누가 맡으려 할까” 뒤엉켜버린 인적쇄신 수순</td>\n",
       "      <td>정치 &gt; 정치일반</td>\n",
       "    </tr>\n",
       "    <tr>\n",
       "      <th>296</th>\n",
       "      <td>[경향포토]운영위 답변하는 한광옥 비서실장</td>\n",
       "      <td>정치 &gt; 정치일반</td>\n",
       "    </tr>\n",
       "    <tr>\n",
       "      <th>1223</th>\n",
       "      <td>김규현 외안수석, 청와대 비서실장 대행키로</td>\n",
       "      <td>정치 &gt; 청와대</td>\n",
       "    </tr>\n",
       "    <tr>\n",
       "      <th>1238</th>\n",
       "      <td>대통령 비서실장 한광옥, 정무수석 허원제</td>\n",
       "      <td>정치 &gt; 청와대</td>\n",
       "    </tr>\n",
       "    <tr>\n",
       "      <th>1206</th>\n",
       "      <td>비서실장도 못 구한채…박대통령, 황급히 ‘수족’ 쳐내</td>\n",
       "      <td>정치 &gt; 청와대</td>\n",
       "    </tr>\n",
       "    <tr>\n",
       "      <th>1624</th>\n",
       "      <td>[사설]한광옥 비서실장, 직언하지 못할 거면 시작도 말라</td>\n",
       "      <td>뉴스 &gt; 정치 &gt; 정치일반</td>\n",
       "    </tr>\n",
       "    <tr>\n",
       "      <th>297</th>\n",
       "      <td>[경향포토]국회 운영위 답변하는 한광옥 비서실장</td>\n",
       "      <td>정치 &gt; 정치일반</td>\n",
       "    </tr>\n",
       "    <tr>\n",
       "      <th>964</th>\n",
       "      <td>신임 대통령 비서실장에 DJ 비서실장, 한광옥 국민대통합위원장</td>\n",
       "      <td>정치 &gt; 국회·정당</td>\n",
       "    </tr>\n",
       "    <tr>\n",
       "      <th>1649</th>\n",
       "      <td>15년 만에 다시 비서실장 기용된 한광옥</td>\n",
       "      <td>뉴스 &gt; 정치 &gt; 정치일반</td>\n",
       "    </tr>\n",
       "  </tbody>\n",
       "</table>\n",
       "</div>"
      ],
      "text/plain": [
       "                                           title        category\n",
       "292                              [경향포토]국회 온 비서실장       정치 > 정치일반\n",
       "211   [11·2 기습 개각]“비서실장 누가 맡으려 할까” 뒤엉켜버린 인적쇄신 수순       정치 > 정치일반\n",
       "296                      [경향포토]운영위 답변하는 한광옥 비서실장       정치 > 정치일반\n",
       "1223                     김규현 외안수석, 청와대 비서실장 대행키로        정치 > 청와대\n",
       "1238                      대통령 비서실장 한광옥, 정무수석 허원제        정치 > 청와대\n",
       "1206               비서실장도 못 구한채…박대통령, 황급히 ‘수족’ 쳐내        정치 > 청와대\n",
       "1624             [사설]한광옥 비서실장, 직언하지 못할 거면 시작도 말라  뉴스 > 정치 > 정치일반\n",
       "297                   [경향포토]국회 운영위 답변하는 한광옥 비서실장       정치 > 정치일반\n",
       "964           신임 대통령 비서실장에 DJ 비서실장, 한광옥 국민대통합위원장      정치 > 국회·정당\n",
       "1649                      15년 만에 다시 비서실장 기용된 한광옥  뉴스 > 정치 > 정치일반"
      ]
     },
     "metadata": {},
     "output_type": "display_data"
    },
    {
     "name": "stdout",
     "output_type": "stream",
     "text": [
      "\n",
      "\n",
      "\n",
      "Cluster 2: Size 6\n"
     ]
    },
    {
     "data": {
      "text/html": [
       "<div>\n",
       "<table border=\"1\" class=\"dataframe\">\n",
       "  <thead>\n",
       "    <tr style=\"text-align: right;\">\n",
       "      <th></th>\n",
       "      <th>title</th>\n",
       "      <th>category</th>\n",
       "    </tr>\n",
       "  </thead>\n",
       "  <tbody>\n",
       "    <tr>\n",
       "      <th>710</th>\n",
       "      <td>[경향포토]청계천 서울빛초롱축제</td>\n",
       "      <td>사회 &gt; 사회일반</td>\n",
       "    </tr>\n",
       "    <tr>\n",
       "      <th>708</th>\n",
       "      <td>[경향포토]서울빛초롱축제 내일 개막</td>\n",
       "      <td>사회 &gt; 사회일반</td>\n",
       "    </tr>\n",
       "    <tr>\n",
       "      <th>709</th>\n",
       "      <td>[경향포토]2016 서울 빛초롱 축제</td>\n",
       "      <td>사회 &gt; 사회일반</td>\n",
       "    </tr>\n",
       "    <tr>\n",
       "      <th>2010</th>\n",
       "      <td>서울빛초롱축제, 4일 청계천서 개막</td>\n",
       "      <td>뉴스 &gt; 사회 &gt; 사회일반</td>\n",
       "    </tr>\n",
       "    <tr>\n",
       "      <th>2323</th>\n",
       "      <td>서울 청계천서 오늘부터 ‘빛초롱축제’ 연다</td>\n",
       "      <td>전국 &gt; 서울·수도권 서울 경기 인천</td>\n",
       "    </tr>\n",
       "    <tr>\n",
       "      <th>711</th>\n",
       "      <td>[경향포토]청계천 '2016 서울빛초롱축제'</td>\n",
       "      <td>사회 &gt; 사회일반</td>\n",
       "    </tr>\n",
       "  </tbody>\n",
       "</table>\n",
       "</div>"
      ],
      "text/plain": [
       "                         title              category\n",
       "710          [경향포토]청계천 서울빛초롱축제             사회 > 사회일반\n",
       "708        [경향포토]서울빛초롱축제 내일 개막             사회 > 사회일반\n",
       "709       [경향포토]2016 서울 빛초롱 축제             사회 > 사회일반\n",
       "2010       서울빛초롱축제, 4일 청계천서 개막        뉴스 > 사회 > 사회일반\n",
       "2323   서울 청계천서 오늘부터 ‘빛초롱축제’ 연다  전국 > 서울·수도권 서울 경기 인천\n",
       "711   [경향포토]청계천 '2016 서울빛초롱축제'             사회 > 사회일반"
      ]
     },
     "metadata": {},
     "output_type": "display_data"
    },
    {
     "name": "stdout",
     "output_type": "stream",
     "text": [
      "\n",
      "\n",
      "\n",
      "Cluster 3: Size 11\n"
     ]
    },
    {
     "data": {
      "text/html": [
       "<div>\n",
       "<table border=\"1\" class=\"dataframe\">\n",
       "  <thead>\n",
       "    <tr style=\"text-align: right;\">\n",
       "      <th></th>\n",
       "      <th>title</th>\n",
       "      <th>category</th>\n",
       "    </tr>\n",
       "  </thead>\n",
       "  <tbody>\n",
       "    <tr>\n",
       "      <th>2486</th>\n",
       "      <td>최순실 리스크? 코스피 장중 2000선 붕괴</td>\n",
       "      <td>경제 &gt; 증권</td>\n",
       "    </tr>\n",
       "    <tr>\n",
       "      <th>2488</th>\n",
       "      <td>미 FOMC·대선 혼란에…코스피 장중 1980선으로</td>\n",
       "      <td>경제 &gt; 증권</td>\n",
       "    </tr>\n",
       "    <tr>\n",
       "      <th>1580</th>\n",
       "      <td>정치 불확실성에 투자 위축… 증시-실물로 번지는 ‘최순실 리스크’</td>\n",
       "      <td>뉴스 &gt; 정치 &gt; 정치일반</td>\n",
       "    </tr>\n",
       "    <tr>\n",
       "      <th>845</th>\n",
       "      <td>2일 코스피 2000선 아래 내려가서 장 출발</td>\n",
       "      <td>마켓·비즈 &gt; 경제일반</td>\n",
       "    </tr>\n",
       "    <tr>\n",
       "      <th>2487</th>\n",
       "      <td>최순실 리스크? 시름시름 앓는 코스피</td>\n",
       "      <td>경제 &gt; 증권</td>\n",
       "    </tr>\n",
       "    <tr>\n",
       "      <th>823</th>\n",
       "      <td>코스피 1일 장중 2000선 붕괴, 1990선까지 하락</td>\n",
       "      <td>마켓·비즈 &gt; 경제일반</td>\n",
       "    </tr>\n",
       "    <tr>\n",
       "      <th>864</th>\n",
       "      <td>최순실 사태·미 대선 걱정에 3일 코스피 약세 출발</td>\n",
       "      <td>마켓·비즈 &gt; 경제일반</td>\n",
       "    </tr>\n",
       "    <tr>\n",
       "      <th>2493</th>\n",
       "      <td>‘최순실 리스크’ 외국인 국내 선물시장에서 대량 매도</td>\n",
       "      <td>경제 &gt; 증권</td>\n",
       "    </tr>\n",
       "    <tr>\n",
       "      <th>2345</th>\n",
       "      <td>증시도 ‘최순실 불똥’··· 코스피 1980선 붕괴, 환율 급등</td>\n",
       "      <td>마켓·비즈 &gt; 금융·재테크</td>\n",
       "    </tr>\n",
       "    <tr>\n",
       "      <th>2344</th>\n",
       "      <td>‘최순실 게이트’ 증시 타격··· 코스피 1980선도 무너져</td>\n",
       "      <td>마켓·비즈 &gt; 금융·재테크</td>\n",
       "    </tr>\n",
       "  </tbody>\n",
       "</table>\n",
       "</div>"
      ],
      "text/plain": [
       "                                     title        category\n",
       "2486              최순실 리스크? 코스피 장중 2000선 붕괴         경제 > 증권\n",
       "2488          미 FOMC·대선 혼란에…코스피 장중 1980선으로         경제 > 증권\n",
       "1580  정치 불확실성에 투자 위축… 증시-실물로 번지는 ‘최순실 리스크’  뉴스 > 정치 > 정치일반\n",
       "845              2일 코스피 2000선 아래 내려가서 장 출발    마켓·비즈 > 경제일반\n",
       "2487                  최순실 리스크? 시름시름 앓는 코스피         경제 > 증권\n",
       "823         코스피 1일 장중 2000선 붕괴, 1990선까지 하락    마켓·비즈 > 경제일반\n",
       "864           최순실 사태·미 대선 걱정에 3일 코스피 약세 출발    마켓·비즈 > 경제일반\n",
       "2493         ‘최순실 리스크’ 외국인 국내 선물시장에서 대량 매도         경제 > 증권\n",
       "2345   증시도 ‘최순실 불똥’··· 코스피 1980선 붕괴, 환율 급등  마켓·비즈 > 금융·재테크\n",
       "2344     ‘최순실 게이트’ 증시 타격··· 코스피 1980선도 무너져  마켓·비즈 > 금융·재테크"
      ]
     },
     "metadata": {},
     "output_type": "display_data"
    },
    {
     "name": "stdout",
     "output_type": "stream",
     "text": [
      "\n",
      "\n",
      "\n",
      "Cluster 4: Size 8\n"
     ]
    },
    {
     "data": {
      "text/html": [
       "<div>\n",
       "<table border=\"1\" class=\"dataframe\">\n",
       "  <thead>\n",
       "    <tr style=\"text-align: right;\">\n",
       "      <th></th>\n",
       "      <th>title</th>\n",
       "      <th>category</th>\n",
       "    </tr>\n",
       "  </thead>\n",
       "  <tbody>\n",
       "    <tr>\n",
       "      <th>700</th>\n",
       "      <td>[경향포토]영장실질심사 마친 '비선실세' 최순실</td>\n",
       "      <td>사회 &gt; 사회일반</td>\n",
       "    </tr>\n",
       "    <tr>\n",
       "      <th>1242</th>\n",
       "      <td>[경향포토]최순실 영장실질심사</td>\n",
       "      <td>정치 &gt; 청와대</td>\n",
       "    </tr>\n",
       "    <tr>\n",
       "      <th>1244</th>\n",
       "      <td>[경향포토]비선실세 최순실 영장실질심사</td>\n",
       "      <td>정치 &gt; 청와대</td>\n",
       "    </tr>\n",
       "    <tr>\n",
       "      <th>1243</th>\n",
       "      <td>[경향포토]영장실질심사 받는 최순실</td>\n",
       "      <td>정치 &gt; 청와대</td>\n",
       "    </tr>\n",
       "    <tr>\n",
       "      <th>701</th>\n",
       "      <td>[경향포토]영장심사 마친 최순실</td>\n",
       "      <td>사회 &gt; 사회일반</td>\n",
       "    </tr>\n",
       "    <tr>\n",
       "      <th>1454</th>\n",
       "      <td>[경향포토]영장실질심사 받는 비선실세 최순실</td>\n",
       "      <td>사회 &gt; 법원·검찰</td>\n",
       "    </tr>\n",
       "    <tr>\n",
       "      <th>1462</th>\n",
       "      <td>[경향포토]영장실질심사 받고 호송차 오르는 최순실</td>\n",
       "      <td>사회 &gt; 법원·검찰</td>\n",
       "    </tr>\n",
       "    <tr>\n",
       "      <th>1461</th>\n",
       "      <td>[경향포토]영장실질심사 마친 최순실</td>\n",
       "      <td>사회 &gt; 법원·검찰</td>\n",
       "    </tr>\n",
       "  </tbody>\n",
       "</table>\n",
       "</div>"
      ],
      "text/plain": [
       "                            title    category\n",
       "700    [경향포토]영장실질심사 마친 '비선실세' 최순실   사회 > 사회일반\n",
       "1242             [경향포토]최순실 영장실질심사    정치 > 청와대\n",
       "1244        [경향포토]비선실세 최순실 영장실질심사    정치 > 청와대\n",
       "1243          [경향포토]영장실질심사 받는 최순실    정치 > 청와대\n",
       "701             [경향포토]영장심사 마친 최순실   사회 > 사회일반\n",
       "1454     [경향포토]영장실질심사 받는 비선실세 최순실  사회 > 법원·검찰\n",
       "1462  [경향포토]영장실질심사 받고 호송차 오르는 최순실  사회 > 법원·검찰\n",
       "1461          [경향포토]영장실질심사 마친 최순실  사회 > 법원·검찰"
      ]
     },
     "metadata": {},
     "output_type": "display_data"
    },
    {
     "name": "stdout",
     "output_type": "stream",
     "text": [
      "\n",
      "\n",
      "\n",
      "Cluster 5: Size 1960\n"
     ]
    },
    {
     "data": {
      "text/html": [
       "<div>\n",
       "<table border=\"1\" class=\"dataframe\">\n",
       "  <thead>\n",
       "    <tr style=\"text-align: right;\">\n",
       "      <th></th>\n",
       "      <th>title</th>\n",
       "      <th>category</th>\n",
       "    </tr>\n",
       "  </thead>\n",
       "  <tbody>\n",
       "    <tr>\n",
       "      <th>2088</th>\n",
       "      <td>부동산 대책 앞두고… 정부, 건설업 리스크 요인 점검</td>\n",
       "      <td>뉴스 &gt; 경제 &gt; 부동산</td>\n",
       "    </tr>\n",
       "    <tr>\n",
       "      <th>1332</th>\n",
       "      <td>[기업특집]아모레퍼시픽 - ‘아시아의 미’ 집중 연구…국가별 피부색 맞춘 제품 개발</td>\n",
       "      <td>마켓·비즈 &gt; 기업소식</td>\n",
       "    </tr>\n",
       "    <tr>\n",
       "      <th>1829</th>\n",
       "      <td>팔 걷어붙인 오바마 \"공화국의 운명, 여러분에게 달려있다\"</td>\n",
       "      <td>국제 &gt; 미국ㆍ중남미</td>\n",
       "    </tr>\n",
       "    <tr>\n",
       "      <th>1152</th>\n",
       "      <td>엘지 계열사 5곳, 탄소경영 최우수</td>\n",
       "      <td>경제 &gt; 경제일반</td>\n",
       "    </tr>\n",
       "    <tr>\n",
       "      <th>1532</th>\n",
       "      <td>후임자 없이 참모 경질 처음… 위기 몰린 靑 ‘다급한 쇄신’</td>\n",
       "      <td>뉴스 &gt; 정치 &gt; 정치일반</td>\n",
       "    </tr>\n",
       "    <tr>\n",
       "      <th>1759</th>\n",
       "      <td>檢·靑 압수수색 신경전… \"강제 진입\" 압박에 결국 손든 靑</td>\n",
       "      <td>사회 &gt; 법원ㆍ검찰ㆍ경찰</td>\n",
       "    </tr>\n",
       "    <tr>\n",
       "      <th>633</th>\n",
       "      <td>채동욱 “눈치가 없어 법대로 하다 잘렸다”</td>\n",
       "      <td>사회 &gt; 사회일반</td>\n",
       "    </tr>\n",
       "    <tr>\n",
       "      <th>376</th>\n",
       "      <td>법원 “이승만 비판 ‘우남찬가’ 저자, 손해배상 책임 없어”</td>\n",
       "      <td>사회 &gt; 사회일반</td>\n",
       "    </tr>\n",
       "    <tr>\n",
       "      <th>2513</th>\n",
       "      <td>[11·3 부동산 대책]과열 지역 위주 ‘급한 불 끄기’··· 재건축·청약광풍 부산...</td>\n",
       "      <td>부동산 &gt;</td>\n",
       "    </tr>\n",
       "    <tr>\n",
       "      <th>1179</th>\n",
       "      <td>“내년 전국 주택 매맷값 0.8% 떨어질 듯”</td>\n",
       "      <td>경제 &gt; 경제일반</td>\n",
       "    </tr>\n",
       "  </tbody>\n",
       "</table>\n",
       "</div>"
      ],
      "text/plain": [
       "                                                  title        category\n",
       "2088                      부동산 대책 앞두고… 정부, 건설업 리스크 요인 점검   뉴스 > 경제 > 부동산\n",
       "1332     [기업특집]아모레퍼시픽 - ‘아시아의 미’ 집중 연구…국가별 피부색 맞춘 제품 개발    마켓·비즈 > 기업소식\n",
       "1829                   팔 걷어붙인 오바마 \"공화국의 운명, 여러분에게 달려있다\"     국제 > 미국ㆍ중남미\n",
       "1152                                엘지 계열사 5곳, 탄소경영 최우수       경제 > 경제일반\n",
       "1532                  후임자 없이 참모 경질 처음… 위기 몰린 靑 ‘다급한 쇄신’  뉴스 > 정치 > 정치일반\n",
       "1759                  檢·靑 압수수색 신경전… \"강제 진입\" 압박에 결국 손든 靑   사회 > 법원ㆍ검찰ㆍ경찰\n",
       "633                             채동욱 “눈치가 없어 법대로 하다 잘렸다”       사회 > 사회일반\n",
       "376                   법원 “이승만 비판 ‘우남찬가’ 저자, 손해배상 책임 없어”       사회 > 사회일반\n",
       "2513  [11·3 부동산 대책]과열 지역 위주 ‘급한 불 끄기’··· 재건축·청약광풍 부산...          부동산 > \n",
       "1179                          “내년 전국 주택 매맷값 0.8% 떨어질 듯”       경제 > 경제일반"
      ]
     },
     "metadata": {},
     "output_type": "display_data"
    },
    {
     "name": "stdout",
     "output_type": "stream",
     "text": [
      "\n",
      "\n",
      "\n",
      "Cluster 6: Size 5\n"
     ]
    },
    {
     "data": {
      "text/html": [
       "<div>\n",
       "<table border=\"1\" class=\"dataframe\">\n",
       "  <thead>\n",
       "    <tr style=\"text-align: right;\">\n",
       "      <th></th>\n",
       "      <th>title</th>\n",
       "      <th>category</th>\n",
       "    </tr>\n",
       "  </thead>\n",
       "  <tbody>\n",
       "    <tr>\n",
       "      <th>668</th>\n",
       "      <td>[경향포토]외국인 학생 패션쇼 - 5</td>\n",
       "      <td>사회 &gt; 사회일반</td>\n",
       "    </tr>\n",
       "    <tr>\n",
       "      <th>669</th>\n",
       "      <td>[경향포토]외국인 학생 패션쇼 - 4</td>\n",
       "      <td>사회 &gt; 사회일반</td>\n",
       "    </tr>\n",
       "    <tr>\n",
       "      <th>672</th>\n",
       "      <td>[경향포토]외국인 학생 패션쇼 - 1</td>\n",
       "      <td>사회 &gt; 사회일반</td>\n",
       "    </tr>\n",
       "    <tr>\n",
       "      <th>671</th>\n",
       "      <td>[경향포토]외국인 학생 패션쇼 - 2</td>\n",
       "      <td>사회 &gt; 사회일반</td>\n",
       "    </tr>\n",
       "    <tr>\n",
       "      <th>670</th>\n",
       "      <td>[경향포토]외국인 학생 패션쇼 - 3</td>\n",
       "      <td>사회 &gt; 사회일반</td>\n",
       "    </tr>\n",
       "  </tbody>\n",
       "</table>\n",
       "</div>"
      ],
      "text/plain": [
       "                    title   category\n",
       "668  [경향포토]외국인 학생 패션쇼 - 5  사회 > 사회일반\n",
       "669  [경향포토]외국인 학생 패션쇼 - 4  사회 > 사회일반\n",
       "672  [경향포토]외국인 학생 패션쇼 - 1  사회 > 사회일반\n",
       "671  [경향포토]외국인 학생 패션쇼 - 2  사회 > 사회일반\n",
       "670  [경향포토]외국인 학생 패션쇼 - 3  사회 > 사회일반"
      ]
     },
     "metadata": {},
     "output_type": "display_data"
    },
    {
     "name": "stdout",
     "output_type": "stream",
     "text": [
      "\n",
      "\n",
      "\n",
      "Cluster 7: Size 4\n"
     ]
    },
    {
     "data": {
      "text/html": [
       "<div>\n",
       "<table border=\"1\" class=\"dataframe\">\n",
       "  <thead>\n",
       "    <tr style=\"text-align: right;\">\n",
       "      <th></th>\n",
       "      <th>title</th>\n",
       "      <th>category</th>\n",
       "    </tr>\n",
       "  </thead>\n",
       "  <tbody>\n",
       "    <tr>\n",
       "      <th>1453</th>\n",
       "      <td>[경향포토]호송차에서 내리는 최순실</td>\n",
       "      <td>사회 &gt; 법원·검찰</td>\n",
       "    </tr>\n",
       "    <tr>\n",
       "      <th>1241</th>\n",
       "      <td>[경향포토]호송차에서 내리는 안종범 전 청와대 정책조정수석</td>\n",
       "      <td>정치 &gt; 청와대</td>\n",
       "    </tr>\n",
       "    <tr>\n",
       "      <th>1460</th>\n",
       "      <td>[경향포토]호송차 오르는 최순실</td>\n",
       "      <td>사회 &gt; 법원·검찰</td>\n",
       "    </tr>\n",
       "    <tr>\n",
       "      <th>703</th>\n",
       "      <td>[경향포토]호송차 향하는 최순실</td>\n",
       "      <td>사회 &gt; 사회일반</td>\n",
       "    </tr>\n",
       "  </tbody>\n",
       "</table>\n",
       "</div>"
      ],
      "text/plain": [
       "                                 title    category\n",
       "1453               [경향포토]호송차에서 내리는 최순실  사회 > 법원·검찰\n",
       "1241  [경향포토]호송차에서 내리는 안종범 전 청와대 정책조정수석    정치 > 청와대\n",
       "1460                 [경향포토]호송차 오르는 최순실  사회 > 법원·검찰\n",
       "703                  [경향포토]호송차 향하는 최순실   사회 > 사회일반"
      ]
     },
     "metadata": {},
     "output_type": "display_data"
    },
    {
     "name": "stdout",
     "output_type": "stream",
     "text": [
      "\n",
      "\n",
      "\n"
     ]
    }
   ],
   "source": [
    "cluster_data = []\n",
    "\n",
    "for cluster_index in range(cluster_num):\n",
    "    if cluster_index in best_cluster:\n",
    "        cluster_data.append(train[train['cluster'] == cluster_index])\n",
    "    \n",
    "for i, d in enumerate(cluster_data):\n",
    "    print('Cluster %d:' % (i), 'Size %d' % (len(d)))\n",
    "\n",
    "    display(d[['title', 'category']].sample(min(10, len(d))))\n",
    "    print('\\n\\n')"
   ]
  },
  {
   "cell_type": "markdown",
   "metadata": {},
   "source": [
    "## Save Dataframe to MongoDB"
   ]
  },
  {
   "cell_type": "code",
   "execution_count": 27,
   "metadata": {
    "collapsed": true
   },
   "outputs": [],
   "source": [
    "from pymongo import MongoClient"
   ]
  },
  {
   "cell_type": "code",
   "execution_count": 28,
   "metadata": {
    "collapsed": true
   },
   "outputs": [],
   "source": [
    "client = MongoClient('mongodb://localhost:27017/somanews')\n",
    "client.somanews.authenticate('ssomanews', 'ssomanews1029')\n",
    "db = client.get_database('somanews')\n",
    "articles = db.get_collection('articles')"
   ]
  },
  {
   "cell_type": "code",
   "execution_count": 29,
   "metadata": {
    "collapsed": false
   },
   "outputs": [],
   "source": [
    "articles.insert_many(train.to_dict(orient='records'))\n",
    "client.close()"
   ]
  }
 ],
 "metadata": {
  "kernelspec": {
   "display_name": "Python 3",
   "language": "python",
   "name": "python3"
  },
  "language_info": {
   "codemirror_mode": {
    "name": "ipython",
    "version": 3
   },
   "file_extension": ".py",
   "mimetype": "text/x-python",
   "name": "python",
   "nbconvert_exporter": "python",
   "pygments_lexer": "ipython3",
   "version": "3.5.2"
  }
 },
 "nbformat": 4,
 "nbformat_minor": 1
}
