{
 "cells": [
  {
   "cell_type": "code",
   "execution_count": null,
   "metadata": {
    "collapsed": false
   },
   "outputs": [
    {
     "name": "stderr",
     "output_type": "stream",
     "text": [
      "Tokenizing: 2457it [00:40, 61.18it/s]\n"
     ]
    },
    {
     "name": "stdout",
     "output_type": "stream",
     "text": [
      "Size of documents: 2457\n",
      "Loading word2vec model.....\n",
      "Complete to load.\n"
     ]
    }
   ],
   "source": [
    "# coding: utf-8\n",
    "\n",
    "from SimilarityClustering import SimilarityClustering\n",
    "import articles_data\n",
    "\n",
    "from gensim.models import Word2Vec\n",
    "import numpy as np\n",
    "import pandas as pd\n",
    "import cnouns as cn\n",
    "from pymongo import MongoClient\n",
    "import datetime\n",
    "\n",
    "client = MongoClient('mongodb://localhost:27017/somanews')\n",
    "client.somanews.authenticate('ssomanews', 'ssomanews1029')\n",
    "db = client.get_database('somanews')\n",
    "\n",
    "crawled_collection = db.get_collection('crawledArticles')\n",
    "clusters_collection = db.get_collection('bclusters')\n",
    "articles_collection = db.get_collection('barticles')\n",
    "\n",
    "datastore_dir = \"../datastore/\"\n",
    "catelist_path = datastore_dir + \"category2.p\"\n",
    "w2v_src_dir = datastore_dir + \"w2v_src3\"\n",
    "w2v_path = datastore_dir + \"sejongcorpus_w2v3_2.p\"\n",
    "\n",
    "corpus_path = datastore_dir + \"corpus2.p\"\n",
    "target_time = datetime.datetime.now()\n",
    "prefix = int(\"%.2d%.2d\"%(target_time.month, target_time.day))\n",
    "prefix_str = \"%d_00\" % prefix\n",
    "\n",
    "dicts = [u'새누리', u'새누리당', u'더민주', u'더민주당', u'최순실', u'박대통령', u'국회의장', u'야권의요구', u'정기국회', u'참여정부']\n",
    "def tokenizer(inp_str):\n",
    "    return cn.custom_pos_tags(inp_str, dicts)\n",
    "\n",
    "# # Model\n",
    "train_df = articles_data.find_recent_articles(crawled_collection, catelist_path, target_time)\n",
    "sc = SimilarityClustering()\n",
    "sc.train(\"cate\", w2v_path, train_df, path=datastore_dir, prefix=prefix_str, tokenizer=tokenizer,\n",
    "            threshold=0.7,\n",
    "            cnt_threshold=2,\n",
    "            repeat=1,\n",
    "            model_name='dbow+dmm')\n",
    "\n",
    "# # Save\n",
    "sc.save(path=datastore_dir, prefix=prefix_str)\n",
    "calced_clusters = sc.save_to_db(prefix, clusters_collection, articles_collection, target_time, test=True)"
   ]
  },
  {
   "cell_type": "code",
   "execution_count": 2,
   "metadata": {
    "collapsed": false
   },
   "outputs": [
    {
     "name": "stdout",
     "output_type": "stream",
     "text": [
      "total: 2317 , size_1: 2199 , countby: 0\n",
      "distance: 0.0\n",
      "variance: 0.0\n",
      "similarity: nan\n",
      "cohesion: 0.0\n",
      "in_threshold: 0.0\n",
      "time_mean: 0.0\n",
      "time_v: 0.0\n",
      "portion: 0.0\n"
     ]
    }
   ],
   "source": [
    "sc = SimilarityClustering.load(path=datastore_dir, prefix=prefix_str, model_name='dbow+dmm', only_d2v=False)"
   ]
  },
  {
   "cell_type": "code",
   "execution_count": 3,
   "metadata": {
    "collapsed": false
   },
   "outputs": [
    {
     "name": "stdout",
     "output_type": "stream",
     "text": [
      "total: 2317 , size_1: 2199 , countby: 0\n",
      "distance: 0.0\n",
      "variance: 0.0\n",
      "similarity: nan\n",
      "cohesion: 0.0\n",
      "in_threshold: 0.0\n",
      "time_mean: 0.0\n",
      "time_v: 0.0\n",
      "portion: 0.0\n"
     ]
    }
   ],
   "source": [
    "sc.iner_score(threshold=0.7, cnt_threshold=10)"
   ]
  },
  {
   "cell_type": "code",
   "execution_count": 4,
   "metadata": {
    "collapsed": true
   },
   "outputs": [],
   "source": [
    "sc.print_clusters(top=15, sortby='similarity')"
   ]
  },
  {
   "cell_type": "code",
   "execution_count": 5,
   "metadata": {
    "collapsed": false
   },
   "outputs": [
    {
     "data": {
      "text/html": [
       "<div>\n",
       "<table border=\"1\" class=\"dataframe\">\n",
       "  <thead>\n",
       "    <tr style=\"text-align: right;\">\n",
       "      <th></th>\n",
       "      <th>cluster</th>\n",
       "      <th>portion</th>\n",
       "      <th>deltaTime</th>\n",
       "      <th>cohesion</th>\n",
       "      <th>ntc</th>\n",
       "    </tr>\n",
       "  </thead>\n",
       "  <tbody>\n",
       "    <tr>\n",
       "      <th>15</th>\n",
       "      <td>1114644</td>\n",
       "      <td>0.109091</td>\n",
       "      <td>0.489065</td>\n",
       "      <td>0.878748</td>\n",
       "      <td>29.343758</td>\n",
       "    </tr>\n",
       "    <tr>\n",
       "      <th>10</th>\n",
       "      <td>1114061</td>\n",
       "      <td>0.054545</td>\n",
       "      <td>0.570149</td>\n",
       "      <td>0.929216</td>\n",
       "      <td>26.885984</td>\n",
       "    </tr>\n",
       "    <tr>\n",
       "      <th>6</th>\n",
       "      <td>1115635</td>\n",
       "      <td>0.054545</td>\n",
       "      <td>0.666372</td>\n",
       "      <td>0.937820</td>\n",
       "      <td>24.439374</td>\n",
       "    </tr>\n",
       "    <tr>\n",
       "      <th>11</th>\n",
       "      <td>1115786</td>\n",
       "      <td>0.054545</td>\n",
       "      <td>0.835447</td>\n",
       "      <td>0.926113</td>\n",
       "      <td>21.285313</td>\n",
       "    </tr>\n",
       "    <tr>\n",
       "      <th>2</th>\n",
       "      <td>1114716</td>\n",
       "      <td>0.054545</td>\n",
       "      <td>0.851397</td>\n",
       "      <td>0.945806</td>\n",
       "      <td>21.258016</td>\n",
       "    </tr>\n",
       "    <tr>\n",
       "      <th>8</th>\n",
       "      <td>1114635</td>\n",
       "      <td>0.054545</td>\n",
       "      <td>0.870340</td>\n",
       "      <td>0.931753</td>\n",
       "      <td>20.861839</td>\n",
       "    </tr>\n",
       "    <tr>\n",
       "      <th>1</th>\n",
       "      <td>1114606</td>\n",
       "      <td>0.054545</td>\n",
       "      <td>0.932257</td>\n",
       "      <td>0.953328</td>\n",
       "      <td>20.314481</td>\n",
       "    </tr>\n",
       "    <tr>\n",
       "      <th>3</th>\n",
       "      <td>1115565</td>\n",
       "      <td>0.054545</td>\n",
       "      <td>0.942967</td>\n",
       "      <td>0.944685</td>\n",
       "      <td>20.106225</td>\n",
       "    </tr>\n",
       "    <tr>\n",
       "      <th>0</th>\n",
       "      <td>1114187</td>\n",
       "      <td>0.054545</td>\n",
       "      <td>0.960603</td>\n",
       "      <td>0.954372</td>\n",
       "      <td>20.008391</td>\n",
       "    </tr>\n",
       "    <tr>\n",
       "      <th>7</th>\n",
       "      <td>1114659</td>\n",
       "      <td>0.054545</td>\n",
       "      <td>0.951397</td>\n",
       "      <td>0.933531</td>\n",
       "      <td>19.900720</td>\n",
       "    </tr>\n",
       "    <tr>\n",
       "      <th>5</th>\n",
       "      <td>1116071</td>\n",
       "      <td>0.072727</td>\n",
       "      <td>0.959504</td>\n",
       "      <td>0.939324</td>\n",
       "      <td>19.888013</td>\n",
       "    </tr>\n",
       "    <tr>\n",
       "      <th>9</th>\n",
       "      <td>1116040</td>\n",
       "      <td>0.054545</td>\n",
       "      <td>0.969945</td>\n",
       "      <td>0.930592</td>\n",
       "      <td>19.670331</td>\n",
       "    </tr>\n",
       "    <tr>\n",
       "      <th>14</th>\n",
       "      <td>1116102</td>\n",
       "      <td>0.072727</td>\n",
       "      <td>0.962561</td>\n",
       "      <td>0.910717</td>\n",
       "      <td>19.568847</td>\n",
       "    </tr>\n",
       "    <tr>\n",
       "      <th>4</th>\n",
       "      <td>1114567</td>\n",
       "      <td>0.054545</td>\n",
       "      <td>0.994900</td>\n",
       "      <td>0.943933</td>\n",
       "      <td>19.545137</td>\n",
       "    </tr>\n",
       "    <tr>\n",
       "      <th>12</th>\n",
       "      <td>1116080</td>\n",
       "      <td>0.072727</td>\n",
       "      <td>0.986945</td>\n",
       "      <td>0.915814</td>\n",
       "      <td>19.363143</td>\n",
       "    </tr>\n",
       "    <tr>\n",
       "      <th>13</th>\n",
       "      <td>1114205</td>\n",
       "      <td>0.072727</td>\n",
       "      <td>0.996508</td>\n",
       "      <td>0.911705</td>\n",
       "      <td>19.224814</td>\n",
       "    </tr>\n",
       "  </tbody>\n",
       "</table>\n",
       "</div>"
      ],
      "text/plain": [
       "    cluster   portion  deltaTime  cohesion        ntc\n",
       "15  1114644  0.109091   0.489065  0.878748  29.343758\n",
       "10  1114061  0.054545   0.570149  0.929216  26.885984\n",
       "6   1115635  0.054545   0.666372  0.937820  24.439374\n",
       "11  1115786  0.054545   0.835447  0.926113  21.285313\n",
       "2   1114716  0.054545   0.851397  0.945806  21.258016\n",
       "8   1114635  0.054545   0.870340  0.931753  20.861839\n",
       "1   1114606  0.054545   0.932257  0.953328  20.314481\n",
       "3   1115565  0.054545   0.942967  0.944685  20.106225\n",
       "0   1114187  0.054545   0.960603  0.954372  20.008391\n",
       "7   1114659  0.054545   0.951397  0.933531  19.900720\n",
       "5   1116071  0.072727   0.959504  0.939324  19.888013\n",
       "9   1116040  0.054545   0.969945  0.930592  19.670331\n",
       "14  1116102  0.072727   0.962561  0.910717  19.568847\n",
       "4   1114567  0.054545   0.994900  0.943933  19.545137\n",
       "12  1116080  0.072727   0.986945  0.915814  19.363143\n",
       "13  1114205  0.072727   0.996508  0.911705  19.224814"
      ]
     },
     "execution_count": 5,
     "metadata": {},
     "output_type": "execute_result"
    }
   ],
   "source": [
    "cdf = pd.DataFrame(calced_clusters, columns=['cluster', 'portion', 'deltaTime', 'cohesion', 'ntc'])\n",
    "sort_cdf = cdf.sort_values('ntc', ascending=False)\n",
    "sort_cdf"
   ]
  },
  {
   "cell_type": "code",
   "execution_count": 6,
   "metadata": {
    "collapsed": false
   },
   "outputs": [
    {
     "name": "stdout",
     "output_type": "stream",
     "text": [
      "29.3437579345 민주노총, 경찰에 11월 12일 청와대 앞까지 행진 신고\n",
      "26.885984293 [경제계 인사]대신증권 外\n",
      "24.4393738689 ‘수백억 횡령’ 부산 엘시티 이영복 회장 검거\n",
      "21.2853134675 청와대 \"박 대통령 '세월호 7시간 성형시술' 의혹, 근거없는 유언비어\"\n",
      "21.2580162163 광주~원주 제2영동고속도로 11일 개통\n",
      "20.861838577 ‘국정농단 비판’ 학생들 대자보 옆에 답장 쓴 선생님\n",
      "20.3144814923 ‘콜센터 상담원’ 등 감정노동자 전문 지원기관 생긴다\n",
      "20.1062245098 대우조선 ‘밑 빠진 독에 물 붓기’…산은·금융위 감자로 수천억 손실\n",
      "20.008391064 두산밥캣 공모가 3만원 확정···8일부터 일반 청약\n",
      "19.9007196187 ‘전두환 아들에 20억 갈취’ 범서방파 무더기 검거\n",
      "19.8880125993 “박근혜 퇴진” 벌써부터 시민 물결 가득…경찰 추산 11만명 돌파\n",
      "19.6703308744 [11·12 민중총궐기]\"이게 나라냐\", '2016 민중총궐기'는 오체투지로 시작\n",
      "19.5688467845 제주에서도 1천여 학생·시민들 ‘박근혜 하야’ 외쳐\n",
      "19.5451367335 검찰, 삼성전자 압수수색…최순실·정유라 특혜지원 의혹\n",
      "19.3631432829 [11·12 민중총궐기]총궐기 본집회 시작, 주최측 “25만명” 운집\n",
      "19.2248137244 [긴급]김무성, 긴급회견 열어 “朴 대통령에 탈당, 총리 지명 철회 공식 요구”\n"
     ]
    }
   ],
   "source": [
    "for idx, row in sort_cdf.iterrows():\n",
    "    for c in calced_clusters:\n",
    "        if(c['cluster'] == row.cluster):\n",
    "            print c['ntc'], c['leading']['title']"
   ]
  },
  {
   "cell_type": "code",
   "execution_count": null,
   "metadata": {
    "collapsed": true
   },
   "outputs": [],
   "source": []
  }
 ],
 "metadata": {
  "kernelspec": {
   "display_name": "Python 2",
   "language": "python",
   "name": "python2"
  },
  "language_info": {
   "codemirror_mode": {
    "name": "ipython",
    "version": 2
   },
   "file_extension": ".py",
   "mimetype": "text/x-python",
   "name": "python",
   "nbconvert_exporter": "python",
   "pygments_lexer": "ipython2",
   "version": "2.7.11"
  }
 },
 "nbformat": 4,
 "nbformat_minor": 1
}
