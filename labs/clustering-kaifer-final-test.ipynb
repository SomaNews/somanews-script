{
 "cells": [
  {
   "cell_type": "code",
   "execution_count": null,
   "metadata": {
    "collapsed": false
   },
   "outputs": [],
   "source": [
    "# coding: utf-8\n",
    "\n",
    "from SimilarityClustering import SimilarityClustering\n",
    "import articles_data\n",
    "\n",
    "from gensim.models import Word2Vec\n",
    "import numpy as np\n",
    "import pandas as pd\n",
    "import cnouns as cn\n",
    "from pymongo import MongoClient\n",
    "import datetime\n",
    "\n",
    "client = MongoClient('mongodb://localhost:27017/somanews')\n",
    "client.somanews.authenticate('ssomanews', 'ssomanews1029')\n",
    "db = client.get_database('somanews')\n",
    "\n",
    "crawled_collection = db.get_collection('crawledArticles')\n",
    "clusters_collection = db.get_collection('bclusters')\n",
    "articles_collection = db.get_collection('barticles')\n",
    "\n",
    "datastore_dir = \"../datastore/\"\n",
    "catelist_path = datastore_dir + \"category2.p\"\n",
    "w2v_src_dir = datastore_dir + \"w2v_src4\"\n",
    "w2v_path = datastore_dir + \"sejongcorpus_w2v4_2.p\"\n",
    "nnp_dict_path = datastore_dir + \"nnps2.p\"\n",
    "corpus_path = datastore_dir + \"corpus2.p\"\n",
    "\n",
    "target_time = datetime.datetime.now()\n",
    "# target_time = datetime.datetime(2016, 11, 19)\n",
    "prefix = int(\"%.2d%.2d\"%(target_time.month, target_time.day))\n",
    "prefix_str = \"%d_00\" % prefix\n",
    "\n",
    "nnp_dict_df = pd.read_pickle(nnp_dict_path)\n",
    "nnp_dict_df = nnp_dict_df[nnp_dict_df>10]\n",
    "nnp_dict = nnp_dict_df.index.tolist()\n",
    "\n",
    "custom_dict = [u'새누리', u'새누리당', u'더민주', u'더민주당', u'최순실', u'박대통령', u'국회의장', u'야권의요구', u'정기국회', u'참여정부']\n",
    "dicts = set(nnp_dict + custom_dict)\n",
    "\n",
    "def tokenizer(inp_str):\n",
    "    return cn.custom_pos_tags(inp_str, dicts)"
   ]
  },
  {
   "cell_type": "code",
   "execution_count": null,
   "metadata": {
    "collapsed": false,
    "scrolled": true
   },
   "outputs": [],
   "source": [
    "# # Model\n",
    "train_df = articles_data.find_recent_articles(crawled_collection, catelist_path, target_time, 7)\n",
    "sc = SimilarityClustering()\n",
    "sc.train(\"cate\", w2v_path, train_df, path=datastore_dir, prefix=prefix_str, tokenizer=tokenizer,\n",
    "            threshold=0.65,\n",
    "            cnt_threshold=10,\n",
    "            repeat=3,\n",
    "            model_name='dbow+dmm')\n",
    "\n",
    "# # Save\n",
    "# sc.iner_score(threshold=0.7, cnt_threshold=8)\n",
    "sc.save(path=datastore_dir, prefix=prefix_str)\n",
    "calced_clusters, sort_cdf = sc.save_to_db(prefix, clusters_collection, articles_collection, target_time)"
   ]
  },
  {
   "cell_type": "code",
   "execution_count": null,
   "metadata": {
    "collapsed": false
   },
   "outputs": [],
   "source": [
    "%matplotlib inline\n",
    "sc.print_error_rate()"
   ]
  },
  {
   "cell_type": "markdown",
   "metadata": {},
   "source": [
    "# Load"
   ]
  },
  {
   "cell_type": "code",
   "execution_count": null,
   "metadata": {
    "collapsed": false
   },
   "outputs": [],
   "source": [
    "sc = SimilarityClustering.load(only_d2v=True, path=datastore_dir, prefix=prefix_str, model_name='dbow+dmm')"
   ]
  },
  {
   "cell_type": "code",
   "execution_count": null,
   "metadata": {
    "collapsed": false,
    "scrolled": true
   },
   "outputs": [],
   "source": [
    "vec651 = sc.get_cluster_similarity(0.65, 1, datastore_dir, prefix_str)\n",
    "vec653 = sc.get_cluster_similarity(0.65, 3, datastore_dir, prefix_str)\n",
    "vec701 = sc.get_cluster_similarity(0.70, 1, datastore_dir, prefix_str)\n",
    "vec703 = sc.get_cluster_similarity(0.70, 3, datastore_dir, prefix_str)"
   ]
  },
  {
   "cell_type": "code",
   "execution_count": null,
   "metadata": {
    "collapsed": false
   },
   "outputs": [],
   "source": [
    "import matplotlib.pyplot as plt\n",
    "%matplotlib inline\n",
    "\n",
    "plt.xlabel(\"Cluster\")\n",
    "plt.ylabel(\"Similarity\")\n",
    "plt.plot(range(len(vec651)), vec651, 'r', label='Thresold: 0.65, iter: 1')\n",
    "plt.plot(range(len(vec653)), vec653, 'g', label='Thresold: 0.65, iter: 3')\n",
    "plt.plot(range(len(vec701)), vec701, 'b', label='Thresold: 0.7, iter: 1')\n",
    "plt.plot(range(len(vec703)), vec703, 'y', label='Thresold: 0.7, iter: 3')\n",
    "plt.show()\n",
    "\n",
    "print(\"Color        Thresold  iter  Avg(Similarity)  Number of clusters\")\n",
    "print(\"----------------------------------------------------------------\")\n",
    "print(\"Red Line       0.65     1       %.3f           %d\"%(sum(vec651)/float(len(vec651)), len(vec651)))\n",
    "print(\"Green Line     0.65     3       %.3f           %d\"%(sum(vec653)/float(len(vec653)), len(vec653)))\n",
    "print(\"Blue Line      0.70     1       %.3f           %d\"%(sum(vec701)/float(len(vec701)), len(vec701)))\n",
    "print(\"Yellow Line    0.70     3       %.3f           %d\"%(sum(vec703)/float(len(vec703)), len(vec703)))"
   ]
  },
  {
   "cell_type": "code",
   "execution_count": null,
   "metadata": {
    "collapsed": false,
    "scrolled": true
   },
   "outputs": [],
   "source": [
    "vec653 = sc.get_cluster_similarity(0.65, 3, datastore_dir, prefix_str)"
   ]
  },
  {
   "cell_type": "code",
   "execution_count": null,
   "metadata": {
    "collapsed": false,
    "scrolled": true
   },
   "outputs": [],
   "source": [
    "factor = {\n",
    "    \"portionRank\": 1,\n",
    "    \"deltaTimeRank\": 1.5,\n",
    "    \"cohesionRank\": 0,\n",
    "    \"portion\": 10,\n",
    "    \"deltaTime\": 10,\n",
    "    \"cohesion\": 1\n",
    "}"
   ]
  },
  {
   "cell_type": "code",
   "execution_count": null,
   "metadata": {
    "collapsed": false,
    "scrolled": false
   },
   "outputs": [],
   "source": [
    "calced_clusters, sort_cdf = sc.save_to_db(prefix, clusters_collection, articles_collection, target_time, factor, test=True)"
   ]
  },
  {
   "cell_type": "code",
   "execution_count": null,
   "metadata": {
    "collapsed": false
   },
   "outputs": [],
   "source": [
    "# sc.df_[sc.df_.new_cluster==1119024].title"
   ]
  },
  {
   "cell_type": "code",
   "execution_count": null,
   "metadata": {
    "collapsed": false
   },
   "outputs": [],
   "source": [
    "ranks = sort_cdf.drop(['count'], 1)\n",
    "ranks"
   ]
  },
  {
   "cell_type": "code",
   "execution_count": null,
   "metadata": {
    "collapsed": false
   },
   "outputs": [],
   "source": [
    "sc.print_cluster_rank(calced_clusters)"
   ]
  },
  {
   "cell_type": "code",
   "execution_count": null,
   "metadata": {
    "collapsed": false
   },
   "outputs": [],
   "source": [
    "%matplotlib inline\n",
    "sc.print_clusters(top=15, sortby='similarity', threshold=0.65)"
   ]
  },
  {
   "cell_type": "code",
   "execution_count": null,
   "metadata": {
    "collapsed": false
   },
   "outputs": [],
   "source": [
    "import matplotlib.pyplot as plt\n",
    "%matplotlib inline\n",
    "\n",
    "portion = ranks.sort_values('portion').portion\n",
    "deltaTime = ranks.sort_values('deltaTime').deltaTime\n",
    "cohesion = ranks.sort_values('cohesion').cohesion\n",
    "portionRank = ranks.sort_values('portionRank').portionRank\n",
    "deltaTimeRank = ranks.sort_values('deltaTimeRank').deltaTimeRank\n",
    "cohesionRank = ranks.sort_values('cohesionRank').cohesionRank\n",
    "\n",
    "plt.xlabel(\"Cluster\")\n",
    "plt.ylabel(\"Value\")\n",
    "plt.plot(range(len(portion)), portion, 'r', label='portion')\n",
    "plt.plot(range(len(deltaTime)), deltaTime, 'g', label='timeDelta')\n",
    "plt.plot(range(len(cohesion)), cohesion, 'b', label='cohesion')\n",
    "plt.legend(bbox_to_anchor=(1, 0.7))\n",
    "plt.show()\n",
    "\n",
    "plt.xlabel(\"Cluster\")\n",
    "plt.ylabel(\"Value\")\n",
    "plt.plot(range(len(portionRank)), portionRank, 'r', label='portionRank')\n",
    "plt.plot(range(len(deltaTimeRank)), deltaTimeRank, 'g', label='deltaTimeRank')\n",
    "plt.plot(range(len(cohesionRank)), cohesionRank, 'b', label='cohesionRank')\n",
    "plt.legend(bbox_to_anchor=(1, 0.7))\n",
    "plt.show()"
   ]
  },
  {
   "cell_type": "code",
   "execution_count": null,
   "metadata": {
    "collapsed": true
   },
   "outputs": [],
   "source": []
  }
 ],
 "metadata": {
  "kernelspec": {
   "display_name": "Python 2",
   "language": "python",
   "name": "python2"
  },
  "language_info": {
   "codemirror_mode": {
    "name": "ipython",
    "version": 2
   },
   "file_extension": ".py",
   "mimetype": "text/x-python",
   "name": "python",
   "nbconvert_exporter": "python",
   "pygments_lexer": "ipython2",
   "version": "2.7.11"
  }
 },
 "nbformat": 4,
 "nbformat_minor": 1
}
