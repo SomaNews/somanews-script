{
 "cells": [
  {
   "cell_type": "markdown",
   "metadata": {},
   "source": [
    "# News Clustering using KMeans Algorithm"
   ]
  },
  {
   "cell_type": "code",
   "execution_count": 1,
   "metadata": {
    "collapsed": false
   },
   "outputs": [],
   "source": [
    "import numpy as np\n",
    "import pandas as pd\n",
    "from time import time\n",
    "import articles_data_py3 as articles_data\n",
    "from pymongo import MongoClient\n",
    "import datetime"
   ]
  },
  {
   "cell_type": "markdown",
   "metadata": {
    "collapsed": true
   },
   "source": [
    "## Load data from MongoDB "
   ]
  },
  {
   "cell_type": "code",
   "execution_count": 2,
   "metadata": {
    "collapsed": false,
    "scrolled": true
   },
   "outputs": [],
   "source": [
    "client = MongoClient('mongodb://localhost:27017/somanews')\n",
    "client.somanews.authenticate('ssomanews', 'ssomanews1029')\n",
    "db = client.get_database('somanews')\n",
    "\n",
    "crawled_collection = db.get_collection('crawledArticles')\n",
    "clusters_collection = db.get_collection('aclusters')\n",
    "articles_collection = db.get_collection('aarticles')"
   ]
  },
  {
   "cell_type": "markdown",
   "metadata": {},
   "source": [
    "## Select Categories\n",
    "- 포함 : 경제, 문화, 건강, 과학, 사회, 정치, 스포츠\n",
    "- 제외 : 종합, 정보없음, 인물, 사설"
   ]
  },
  {
   "cell_type": "code",
   "execution_count": 3,
   "metadata": {
    "collapsed": false
   },
   "outputs": [],
   "source": [
    "catelist_path = '../datastore/category.p'\n",
    "headline_path = '../datastore/headline.p'\n",
    "target_time = datetime.datetime.now()"
   ]
  },
  {
   "cell_type": "code",
   "execution_count": 4,
   "metadata": {
    "collapsed": false
   },
   "outputs": [],
   "source": [
    "train = articles_data.find_recent_articles(crawled_collection, catelist_path, target_time)"
   ]
  },
  {
   "cell_type": "markdown",
   "metadata": {},
   "source": [
    "## Preprocessing\n",
    "1. Datetime (16-09-11 ~ 16-09-17)\n",
    "2. Remove stopwords (regex, hanja)\n",
    "3. POS Tagging with KoNLPy, Mecab\n",
    "4. Using bigram"
   ]
  },
  {
   "cell_type": "code",
   "execution_count": 5,
   "metadata": {
    "collapsed": false
   },
   "outputs": [],
   "source": [
    "from konlpy.tag import Mecab\n",
    "import cnouns\n",
    "import hanja\n",
    "import re"
   ]
  },
  {
   "cell_type": "code",
   "execution_count": 6,
   "metadata": {
    "collapsed": false
   },
   "outputs": [],
   "source": [
    "mecab = Mecab()"
   ]
  },
  {
   "cell_type": "code",
   "execution_count": 7,
   "metadata": {
    "collapsed": true
   },
   "outputs": [],
   "source": [
    "def tokenize(data):\n",
    "    return [' '.join(e for e in mecab.nouns(data))]"
   ]
  },
  {
   "cell_type": "code",
   "execution_count": 8,
   "metadata": {
    "collapsed": false
   },
   "outputs": [],
   "source": [
    "train['title_flat'] = train['title'].apply(lambda text: articles_data.remove_headlines(text, headline_path))\n",
    "train['title_flat'] = train['title_flat'].apply(lambda text: cnouns.text_cleaning_without_special_ch(text))\n",
    "title = [tokenize(each[1]['title_flat']) for each in train.iterrows()]"
   ]
  },
  {
   "cell_type": "markdown",
   "metadata": {},
   "source": [
    "## Training\n",
    "1. Feature extraction - TfidVectorizer\n",
    "2. Decomposition - PCA\n",
    "3. Cluster - KMeans"
   ]
  },
  {
   "cell_type": "code",
   "execution_count": 9,
   "metadata": {
    "collapsed": false,
    "scrolled": true
   },
   "outputs": [],
   "source": [
    "from sklearn.feature_extraction.text import TfidfVectorizer\n",
    "from sklearn.decomposition import PCA\n",
    "from sklearn.cluster import KMeans"
   ]
  },
  {
   "cell_type": "code",
   "execution_count": 10,
   "metadata": {
    "collapsed": false,
    "scrolled": false
   },
   "outputs": [],
   "source": [
    "vectorizer = TfidfVectorizer(lowercase=False, ngram_range=(1,2))\n",
    "title_flat = [item for sublist in title for item in sublist]\n",
    "x_list = vectorizer.fit_transform(title_flat)"
   ]
  },
  {
   "cell_type": "code",
   "execution_count": 11,
   "metadata": {
    "collapsed": false
   },
   "outputs": [
    {
     "data": {
      "text/plain": [
       "(2413, 100)"
      ]
     },
     "execution_count": 11,
     "metadata": {},
     "output_type": "execute_result"
    }
   ],
   "source": [
    "x_list_100d = PCA(n_components=100).fit_transform(x_list.toarray())\n",
    "x_list_100d.shape"
   ]
  },
  {
   "cell_type": "markdown",
   "metadata": {},
   "source": [
    "### Scoring"
   ]
  },
  {
   "cell_type": "code",
   "execution_count": 12,
   "metadata": {
    "collapsed": true
   },
   "outputs": [],
   "source": [
    "from sklearn.metrics import silhouette_samples, silhouette_score\n",
    "from IPython.display import display, HTML\n",
    "import warnings\n",
    "warnings.filterwarnings(\"ignore\", category=DeprecationWarning) "
   ]
  },
  {
   "cell_type": "markdown",
   "metadata": {},
   "source": [
    "### Best Silhoutte Score"
   ]
  },
  {
   "cell_type": "code",
   "execution_count": 13,
   "metadata": {
    "collapsed": true
   },
   "outputs": [],
   "source": [
    "%matplotlib inline\n",
    "import matplotlib.pyplot as plt"
   ]
  },
  {
   "cell_type": "code",
   "execution_count": 14,
   "metadata": {
    "collapsed": true
   },
   "outputs": [],
   "source": [
    "best_score = 0.0\n",
    "best_k = 0"
   ]
  },
  {
   "cell_type": "code",
   "execution_count": 15,
   "metadata": {
    "collapsed": false,
    "scrolled": true
   },
   "outputs": [
    {
     "name": "stdout",
     "output_type": "stream",
     "text": [
      "In Clusters = 25 , Best score is : 0.195\n"
     ]
    }
   ],
   "source": [
    "k_list = []\n",
    "score_list = []\n",
    "for k in range(20, 35):\n",
    "    km = KMeans(n_clusters=k, n_jobs=-1).fit(x_list_100d)\n",
    "    score = silhouette_score(x_list_100d, km.labels_)\n",
    "    if best_score < score:\n",
    "        best_score = score\n",
    "        best_k = k\n",
    "    k_list.append(k)\n",
    "    score_list.append(score)\n",
    "print(\"In Clusters =\", best_k, \", Best score is : %0.3f\" % best_score)"
   ]
  },
  {
   "cell_type": "code",
   "execution_count": 16,
   "metadata": {
    "collapsed": false
   },
   "outputs": [
    {
     "data": {
      "image/png": "[encoded data removed]",
      "text/plain": [
       "<matplotlib.figure.Figure at 0x7f7b5d5e1748>"
      ]
     },
     "metadata": {},
     "output_type": "display_data"
    }
   ],
   "source": [
    "x = k_list\n",
    "y = score_list\n",
    "plt.xlabel('Number of Clusters')\n",
    "plt.ylabel('Silhouette score')\n",
    "plt.title('Finding best k')\n",
    "plt.plot(x, y)\n",
    "plt.show()"
   ]
  },
  {
   "cell_type": "markdown",
   "metadata": {},
   "source": [
    "### K-Means Algorithm"
   ]
  },
  {
   "cell_type": "code",
   "execution_count": 17,
   "metadata": {
    "collapsed": false,
    "scrolled": true
   },
   "outputs": [
    {
     "name": "stdout",
     "output_type": "stream",
     "text": [
      "249.135532738\n"
     ]
    }
   ],
   "source": [
    "km = KMeans(n_clusters=best_k, n_jobs=-1).fit(x_list_100d)\n",
    "labels = km.labels_\n",
    "centroids = km.cluster_centers_\n",
    "print(km.inertia_)"
   ]
  },
  {
   "cell_type": "code",
   "execution_count": 18,
   "metadata": {
    "collapsed": false,
    "scrolled": true
   },
   "outputs": [],
   "source": [
    "x_list_vector = x_list_100d.tolist()\n",
    "train = train.drop(['title_flat'], axis=1)\n",
    "train['vector'] = x_list_vector\n",
    "train['cluster'] = labels"
   ]
  },
  {
   "cell_type": "markdown",
   "metadata": {},
   "source": [
    "## Choose Best Cluster\n",
    "- Minimum inertia"
   ]
  },
  {
   "cell_type": "code",
   "execution_count": 19,
   "metadata": {
    "collapsed": false,
    "scrolled": false
   },
   "outputs": [],
   "source": [
    "sample_silhouette_values = silhouette_samples(x_list_100d, labels)\n",
    "sample_silhouette_score = []\n",
    "list_silhouette_score = []\n",
    "best_cluster = []\n",
    "\n",
    "for i in range(best_k):\n",
    "    ith_cluster_silhouette_values = \\\n",
    "        sample_silhouette_values[labels == i]    \n",
    "    list_silhouette_score.append(abs(ith_cluster_silhouette_values.mean()))\n",
    "\n",
    "list_silhouette_score.sort(reverse=True)\n",
    "sample_silhouette_score = list_silhouette_score[:12]"
   ]
  },
  {
   "cell_type": "code",
   "execution_count": 20,
   "metadata": {
    "collapsed": false
   },
   "outputs": [
    {
     "data": {
      "image/png": "[encoded data removed]",
      "text/plain": [
       "<matplotlib.figure.Figure at 0x7f7b5d4aa4e0>"
      ]
     },
     "metadata": {},
     "output_type": "display_data"
    }
   ],
   "source": [
    "x = [x for x in range(best_k)]\n",
    "y = list_silhouette_score\n",
    "width = 1/1.5\n",
    "plt.xlabel('Each of Cluster')\n",
    "plt.ylabel('Silhouette score')\n",
    "plt.title('Finding best cluster')\n",
    "plt.bar(x, y, width)\n",
    "plt.show()"
   ]
  },
  {
   "cell_type": "code",
   "execution_count": 21,
   "metadata": {
    "collapsed": false,
    "scrolled": false
   },
   "outputs": [
    {
     "data": {
      "text/plain": [
       "[1.0,\n",
       " 0.89569433339431492,\n",
       " 0.71974811131808314,\n",
       " 0.69034386214393828,\n",
       " 0.64362188435602696,\n",
       " 0.60889428640946663,\n",
       " 0.58312090994246768,\n",
       " 0.49304287999023461,\n",
       " 0.38497870778062321,\n",
       " 0.34649285352501391,\n",
       " 0.29818995067954873,\n",
       " 0.25468810986809504]"
      ]
     },
     "execution_count": 21,
     "metadata": {},
     "output_type": "execute_result"
    }
   ],
   "source": [
    "sample_silhouette_score"
   ]
  },
  {
   "cell_type": "code",
   "execution_count": 22,
   "metadata": {
    "collapsed": false,
    "scrolled": true
   },
   "outputs": [],
   "source": [
    "cohesions = []"
   ]
  },
  {
   "cell_type": "code",
   "execution_count": 23,
   "metadata": {
    "collapsed": false
   },
   "outputs": [],
   "source": [
    "for i in range(best_k):\n",
    "    ith_cluster_silhouette_values = \\\n",
    "        sample_silhouette_values[labels == i]\n",
    "        \n",
    "    if abs(ith_cluster_silhouette_values.mean()) in sample_silhouette_score:\n",
    "        best_cluster.append(i)\n",
    "        cohesions.append(abs(ith_cluster_silhouette_values.mean()))"
   ]
  },
  {
   "cell_type": "code",
   "execution_count": 24,
   "metadata": {
    "collapsed": false
   },
   "outputs": [
    {
     "data": {
      "text/plain": [
       "[0.49304287999023461,\n",
       " 0.69034386214393828,\n",
       " 1.0,\n",
       " 0.89569433339431492,\n",
       " 0.60889428640946663,\n",
       " 0.58312090994246768,\n",
       " 0.71974811131808314,\n",
       " 0.38497870778062321,\n",
       " 0.64362188435602696,\n",
       " 0.25468810986809504,\n",
       " 0.34649285352501391,\n",
       " 0.29818995067954873]"
      ]
     },
     "execution_count": 24,
     "metadata": {},
     "output_type": "execute_result"
    }
   ],
   "source": [
    "train = train[train['cluster'].isin(best_cluster)]\n",
    "cohesions"
   ]
  },
  {
   "cell_type": "markdown",
   "metadata": {},
   "source": [
    "## Save to MongoDB"
   ]
  },
  {
   "cell_type": "code",
   "execution_count": 25,
   "metadata": {
    "collapsed": false
   },
   "outputs": [],
   "source": [
    "articles_collection.insert_many(train.to_dict(orient='records'))\n",
    "articles_data.save_to_db(train, 1108, clusters_collection, cohesions)\n",
    "client.close()"
   ]
  },
  {
   "cell_type": "markdown",
   "metadata": {},
   "source": [
    "## Result"
   ]
  },
  {
   "cell_type": "code",
   "execution_count": 26,
   "metadata": {
    "collapsed": false,
    "scrolled": false
   },
   "outputs": [
    {
     "name": "stdout",
     "output_type": "stream",
     "text": [
      "Cluster 0: Size 12\n"
     ]
    },
    {
     "data": {
      "text/html": [
       "<div>\n",
       "<table border=\"1\" class=\"dataframe\">\n",
       "  <thead>\n",
       "    <tr style=\"text-align: right;\">\n",
       "      <th></th>\n",
       "      <th>title</th>\n",
       "      <th>category</th>\n",
       "    </tr>\n",
       "  </thead>\n",
       "  <tbody>\n",
       "    <tr>\n",
       "      <th>1768</th>\n",
       "      <td>‘1000억 비자금’ 엘시티 이영복 체포</td>\n",
       "      <td>뉴스 &gt; 정치 &gt; 정치일반</td>\n",
       "    </tr>\n",
       "    <tr>\n",
       "      <th>1713</th>\n",
       "      <td>‘비자금 의혹’ 엘시티 이영복 회장 체포</td>\n",
       "      <td>사회 &gt; 법원·검찰</td>\n",
       "    </tr>\n",
       "    <tr>\n",
       "      <th>1678</th>\n",
       "      <td>해운대 ‘엘시티’ 이영복 회장 체포</td>\n",
       "      <td>사회 &gt; 법원·검찰</td>\n",
       "    </tr>\n",
       "    <tr>\n",
       "      <th>2091</th>\n",
       "      <td>'엘시티 이영복 리스트' 있나… 與 중진의원 등 3~4명 거론</td>\n",
       "      <td>사회 &gt; 법원ㆍ검찰ㆍ경찰</td>\n",
       "    </tr>\n",
       "    <tr>\n",
       "      <th>315</th>\n",
       "      <td>‘엘시티 비자금’ 이영복 도피 도운 강남 유흥업소 직원 구속</td>\n",
       "      <td>사회 &gt; 법원·검찰</td>\n",
       "    </tr>\n",
       "    <tr>\n",
       "      <th>1897</th>\n",
       "      <td>검찰, ‘엘시티’ 수사 본격화…이영복 회장 검거</td>\n",
       "      <td>사회 &gt; 전국</td>\n",
       "    </tr>\n",
       "    <tr>\n",
       "      <th>1696</th>\n",
       "      <td>‘수백억 횡령’ 부산 엘시티 이영복 회장 검거</td>\n",
       "      <td>사회 &gt; 사회일반</td>\n",
       "    </tr>\n",
       "    <tr>\n",
       "      <th>1814</th>\n",
       "      <td>엘시티 이영복 “성실히 조사받겠다”···부산구치소 수감</td>\n",
       "      <td>사회 &gt; 법원·검찰</td>\n",
       "    </tr>\n",
       "    <tr>\n",
       "      <th>2047</th>\n",
       "      <td>[단독]엘시티 이영복, 2000억 빚더미서 2조7000억 사업 따내</td>\n",
       "      <td>뉴스 &gt; 정치 &gt; 동아일보 단독</td>\n",
       "    </tr>\n",
       "    <tr>\n",
       "      <th>2012</th>\n",
       "      <td>검찰, ‘엘시티’ 이영복 회장 영장 청구…횡령·사기 혐의</td>\n",
       "      <td>사회 &gt; 사회일반</td>\n",
       "    </tr>\n",
       "    <tr>\n",
       "      <th>2236</th>\n",
       "      <td>부산 해운대 엘시티 이영복 회장 구속</td>\n",
       "      <td>사회 &gt; 전국</td>\n",
       "    </tr>\n",
       "    <tr>\n",
       "      <th>2234</th>\n",
       "      <td>해운대 엘시티 이영복 구속…검찰, 비자금 규모 등 집중 조사</td>\n",
       "      <td>사회 &gt; 사건·사고</td>\n",
       "    </tr>\n",
       "  </tbody>\n",
       "</table>\n",
       "</div>"
      ],
      "text/plain": [
       "                                      title           category\n",
       "1768                 ‘1000억 비자금’ 엘시티 이영복 체포     뉴스 > 정치 > 정치일반\n",
       "1713                 ‘비자금 의혹’ 엘시티 이영복 회장 체포         사회 > 법원·검찰\n",
       "1678                    해운대 ‘엘시티’ 이영복 회장 체포         사회 > 법원·검찰\n",
       "2091     '엘시티 이영복 리스트' 있나… 與 중진의원 등 3~4명 거론      사회 > 법원ㆍ검찰ㆍ경찰\n",
       "315       ‘엘시티 비자금’ 이영복 도피 도운 강남 유흥업소 직원 구속         사회 > 법원·검찰\n",
       "1897             검찰, ‘엘시티’ 수사 본격화…이영복 회장 검거            사회 > 전국\n",
       "1696              ‘수백억 횡령’ 부산 엘시티 이영복 회장 검거          사회 > 사회일반\n",
       "1814         엘시티 이영복 “성실히 조사받겠다”···부산구치소 수감         사회 > 법원·검찰\n",
       "2047  [단독]엘시티 이영복, 2000억 빚더미서 2조7000억 사업 따내  뉴스 > 정치 > 동아일보 단독\n",
       "2012        검찰, ‘엘시티’ 이영복 회장 영장 청구…횡령·사기 혐의          사회 > 사회일반\n",
       "2236                   부산 해운대 엘시티 이영복 회장 구속            사회 > 전국\n",
       "2234      해운대 엘시티 이영복 구속…검찰, 비자금 규모 등 집중 조사         사회 > 사건·사고"
      ]
     },
     "metadata": {},
     "output_type": "display_data"
    },
    {
     "name": "stdout",
     "output_type": "stream",
     "text": [
      "\n",
      "\n",
      "\n",
      "Cluster 1: Size 6\n"
     ]
    },
    {
     "data": {
      "text/html": [
       "<div>\n",
       "<table border=\"1\" class=\"dataframe\">\n",
       "  <thead>\n",
       "    <tr style=\"text-align: right;\">\n",
       "      <th></th>\n",
       "      <th>title</th>\n",
       "      <th>category</th>\n",
       "    </tr>\n",
       "  </thead>\n",
       "  <tbody>\n",
       "    <tr>\n",
       "      <th>1316</th>\n",
       "      <td>[간추린 뉴스]두산밥캣 공모주 청약 미달  外</td>\n",
       "      <td>뉴스 &gt; 경제 &gt; 경제일반</td>\n",
       "    </tr>\n",
       "    <tr>\n",
       "      <th>748</th>\n",
       "      <td>두산밥캣 청약 첫날, 경쟁률 0.3대1 ‘불안한 출발’</td>\n",
       "      <td>마켓·비즈 &gt; 금융·재테크</td>\n",
       "    </tr>\n",
       "    <tr>\n",
       "      <th>297</th>\n",
       "      <td>두산밥캣 공모가 3만원 확정, 상장 재도전</td>\n",
       "      <td>경제 &gt; 경제일반</td>\n",
       "    </tr>\n",
       "    <tr>\n",
       "      <th>1185</th>\n",
       "      <td>트럼프 당선 때문에? 두산밥캣 공모주 청약 미달</td>\n",
       "      <td>마켓·비즈 &gt; 경제일반</td>\n",
       "    </tr>\n",
       "    <tr>\n",
       "      <th>401</th>\n",
       "      <td>두산밥캣, 공모가 낮춰 상장 재도전</td>\n",
       "      <td>경제 &gt; 경제일반</td>\n",
       "    </tr>\n",
       "    <tr>\n",
       "      <th>180</th>\n",
       "      <td>두산밥캣 공모가 3만원 확정···8일부터 일반 청약</td>\n",
       "      <td>마켓·비즈 &gt; 금융·재테크</td>\n",
       "    </tr>\n",
       "  </tbody>\n",
       "</table>\n",
       "</div>"
      ],
      "text/plain": [
       "                               title        category\n",
       "1316       [간추린 뉴스]두산밥캣 공모주 청약 미달  外  뉴스 > 경제 > 경제일반\n",
       "748   두산밥캣 청약 첫날, 경쟁률 0.3대1 ‘불안한 출발’  마켓·비즈 > 금융·재테크\n",
       "297          두산밥캣 공모가 3만원 확정, 상장 재도전       경제 > 경제일반\n",
       "1185      트럼프 당선 때문에? 두산밥캣 공모주 청약 미달    마켓·비즈 > 경제일반\n",
       "401              두산밥캣, 공모가 낮춰 상장 재도전       경제 > 경제일반\n",
       "180     두산밥캣 공모가 3만원 확정···8일부터 일반 청약  마켓·비즈 > 금융·재테크"
      ]
     },
     "metadata": {},
     "output_type": "display_data"
    },
    {
     "name": "stdout",
     "output_type": "stream",
     "text": [
      "\n",
      "\n",
      "\n",
      "Cluster 2: Size 1\n"
     ]
    },
    {
     "data": {
      "text/html": [
       "<div>\n",
       "<table border=\"1\" class=\"dataframe\">\n",
       "  <thead>\n",
       "    <tr style=\"text-align: right;\">\n",
       "      <th></th>\n",
       "      <th>title</th>\n",
       "      <th>category</th>\n",
       "    </tr>\n",
       "  </thead>\n",
       "  <tbody>\n",
       "    <tr>\n",
       "      <th>432</th>\n",
       "      <td>[박근혜·최순실 게이트]‘최순실 게이트’ 우병우 의혹 뒷북 수사</td>\n",
       "      <td>정치 &gt; 정치일반</td>\n",
       "    </tr>\n",
       "  </tbody>\n",
       "</table>\n",
       "</div>"
      ],
      "text/plain": [
       "                                   title   category\n",
       "432  [박근혜·최순실 게이트]‘최순실 게이트’ 우병우 의혹 뒷북 수사  정치 > 정치일반"
      ]
     },
     "metadata": {},
     "output_type": "display_data"
    },
    {
     "name": "stdout",
     "output_type": "stream",
     "text": [
      "\n",
      "\n",
      "\n",
      "Cluster 3: Size 3\n"
     ]
    },
    {
     "data": {
      "text/html": [
       "<div>\n",
       "<table border=\"1\" class=\"dataframe\">\n",
       "  <thead>\n",
       "    <tr style=\"text-align: right;\">\n",
       "      <th></th>\n",
       "      <th>title</th>\n",
       "      <th>category</th>\n",
       "    </tr>\n",
       "  </thead>\n",
       "  <tbody>\n",
       "    <tr>\n",
       "      <th>738</th>\n",
       "      <td>경기 광주~강원 원주 제2영동고속도로 11일 개통</td>\n",
       "      <td>사회 &gt; 전국</td>\n",
       "    </tr>\n",
       "    <tr>\n",
       "      <th>788</th>\n",
       "      <td>광주~원주 ‘제2영동고속도로’ 11일 개통</td>\n",
       "      <td>전국 &gt; 전국일반</td>\n",
       "    </tr>\n",
       "    <tr>\n",
       "      <th>736</th>\n",
       "      <td>광주~원주 제2영동고속도로 11일 개통</td>\n",
       "      <td>사회 &gt; 전국</td>\n",
       "    </tr>\n",
       "  </tbody>\n",
       "</table>\n",
       "</div>"
      ],
      "text/plain": [
       "                           title   category\n",
       "738  경기 광주~강원 원주 제2영동고속도로 11일 개통    사회 > 전국\n",
       "788      광주~원주 ‘제2영동고속도로’ 11일 개통  전국 > 전국일반\n",
       "736        광주~원주 제2영동고속도로 11일 개통    사회 > 전국"
      ]
     },
     "metadata": {},
     "output_type": "display_data"
    },
    {
     "name": "stdout",
     "output_type": "stream",
     "text": [
      "\n",
      "\n",
      "\n",
      "Cluster 4: Size 5\n"
     ]
    },
    {
     "data": {
      "text/html": [
       "<div>\n",
       "<table border=\"1\" class=\"dataframe\">\n",
       "  <thead>\n",
       "    <tr style=\"text-align: right;\">\n",
       "      <th></th>\n",
       "      <th>title</th>\n",
       "      <th>category</th>\n",
       "    </tr>\n",
       "  </thead>\n",
       "  <tbody>\n",
       "    <tr>\n",
       "      <th>2374</th>\n",
       "      <td>충남 보령서 규모 3.5 지진 발생</td>\n",
       "      <td>사회 &gt; 사회일반</td>\n",
       "    </tr>\n",
       "    <tr>\n",
       "      <th>2366</th>\n",
       "      <td>[속보]뉴질랜드 크라이스트처치 인근서 규모 7.4지진 발생</td>\n",
       "      <td>국제 &gt; 국제일반</td>\n",
       "    </tr>\n",
       "    <tr>\n",
       "      <th>2380</th>\n",
       "      <td>충남 보령서 규모 3.5 지진 발생</td>\n",
       "      <td>사회 &gt; 사건·사고</td>\n",
       "    </tr>\n",
       "    <tr>\n",
       "      <th>2378</th>\n",
       "      <td>[속보]기상청 “충남 보령서 규모 3.5 지진”</td>\n",
       "      <td>사회 &gt; 사건·사고</td>\n",
       "    </tr>\n",
       "    <tr>\n",
       "      <th>1697</th>\n",
       "      <td>경북 영덕군 해역서 규모 2.5 지진</td>\n",
       "      <td>사회 &gt; 사건·사고</td>\n",
       "    </tr>\n",
       "  </tbody>\n",
       "</table>\n",
       "</div>"
      ],
      "text/plain": [
       "                                 title    category\n",
       "2374               충남 보령서 규모 3.5 지진 발생   사회 > 사회일반\n",
       "2366  [속보]뉴질랜드 크라이스트처치 인근서 규모 7.4지진 발생   국제 > 국제일반\n",
       "2380               충남 보령서 규모 3.5 지진 발생  사회 > 사건·사고\n",
       "2378        [속보]기상청 “충남 보령서 규모 3.5 지진”  사회 > 사건·사고\n",
       "1697              경북 영덕군 해역서 규모 2.5 지진  사회 > 사건·사고"
      ]
     },
     "metadata": {},
     "output_type": "display_data"
    },
    {
     "name": "stdout",
     "output_type": "stream",
     "text": [
      "\n",
      "\n",
      "\n",
      "Cluster 5: Size 15\n"
     ]
    },
    {
     "data": {
      "text/html": [
       "<div>\n",
       "<table border=\"1\" class=\"dataframe\">\n",
       "  <thead>\n",
       "    <tr style=\"text-align: right;\">\n",
       "      <th></th>\n",
       "      <th>title</th>\n",
       "      <th>category</th>\n",
       "    </tr>\n",
       "  </thead>\n",
       "  <tbody>\n",
       "    <tr>\n",
       "      <th>2355</th>\n",
       "      <td>이 시국에…정부, 한·일군사협정 오늘 가서명 강행</td>\n",
       "      <td>정치 &gt; 국방·북한</td>\n",
       "    </tr>\n",
       "    <tr>\n",
       "      <th>1856</th>\n",
       "      <td>‘한·일 정보협정’ 법제처에 심사 의뢰 국방부 “다음주 협정 가서명”</td>\n",
       "      <td>정치 &gt; 국방·북한</td>\n",
       "    </tr>\n",
       "    <tr>\n",
       "      <th>814</th>\n",
       "      <td>한·일 군사정보협정 ‘속전속결’ 체결 강행</td>\n",
       "      <td>정치 &gt; 국방·외교</td>\n",
       "    </tr>\n",
       "    <tr>\n",
       "      <th>2074</th>\n",
       "      <td>韓·日 군사정보보호협정 내주 가서명</td>\n",
       "      <td>정치 &gt; 외교</td>\n",
       "    </tr>\n",
       "    <tr>\n",
       "      <th>1205</th>\n",
       "      <td>국방부 “한일 군사정보협정, 주요 내용 의견 일치”</td>\n",
       "      <td>정치 &gt; 국방·북한</td>\n",
       "    </tr>\n",
       "    <tr>\n",
       "      <th>1687</th>\n",
       "      <td>“한·일 군사협정 강행 땐 국방장관 해임건의”</td>\n",
       "      <td>정치 &gt; 국회·정당</td>\n",
       "    </tr>\n",
       "    <tr>\n",
       "      <th>614</th>\n",
       "      <td>이 와중에…국방부, ‘한일 군사협정’ 2차 협상도 강행</td>\n",
       "      <td>정치 &gt; 국방·북한</td>\n",
       "    </tr>\n",
       "    <tr>\n",
       "      <th>1839</th>\n",
       "      <td>국방부, 반대여론 무시하고 “한일 군사정보협정, 법제처 심사의뢰 요청”</td>\n",
       "      <td>정치 &gt; 국방·외교</td>\n",
       "    </tr>\n",
       "    <tr>\n",
       "      <th>629</th>\n",
       "      <td>정부, '최순실 게이트' 틈타 한일군사정보보호협청 체결 서둘러</td>\n",
       "      <td>정치 &gt; 국방·외교</td>\n",
       "    </tr>\n",
       "    <tr>\n",
       "      <th>2263</th>\n",
       "      <td>국방부, 한일군사정보협정 내일 가서명 ‘반대여론 묵살’</td>\n",
       "      <td>정치 &gt; 국방·외교</td>\n",
       "    </tr>\n",
       "    <tr>\n",
       "      <th>777</th>\n",
       "      <td>한일 군사정보협정 가속…야 “어수선한 틈 밀어붙이기” 반발</td>\n",
       "      <td>정치 &gt; 국방·북한</td>\n",
       "    </tr>\n",
       "    <tr>\n",
       "      <th>1970</th>\n",
       "      <td>국방부 “다음주 한-일 정보협정 가서명”…국정 혼란 와중에 ‘강행’</td>\n",
       "      <td>정치 &gt; 국방·북한</td>\n",
       "    </tr>\n",
       "  </tbody>\n",
       "</table>\n",
       "</div>"
      ],
      "text/plain": [
       "                                        title    category\n",
       "2355              이 시국에…정부, 한·일군사협정 오늘 가서명 강행  정치 > 국방·북한\n",
       "1856   ‘한·일 정보협정’ 법제처에 심사 의뢰 국방부 “다음주 협정 가서명”  정치 > 국방·북한\n",
       "814                   한·일 군사정보협정 ‘속전속결’ 체결 강행  정치 > 국방·외교\n",
       "2074                      韓·日 군사정보보호협정 내주 가서명     정치 > 외교\n",
       "1205             국방부 “한일 군사정보협정, 주요 내용 의견 일치”  정치 > 국방·북한\n",
       "1687                “한·일 군사협정 강행 땐 국방장관 해임건의”  정치 > 국회·정당\n",
       "614            이 와중에…국방부, ‘한일 군사협정’ 2차 협상도 강행  정치 > 국방·북한\n",
       "1839  국방부, 반대여론 무시하고 “한일 군사정보협정, 법제처 심사의뢰 요청”  정치 > 국방·외교\n",
       "629        정부, '최순실 게이트' 틈타 한일군사정보보호협청 체결 서둘러  정치 > 국방·외교\n",
       "2263           국방부, 한일군사정보협정 내일 가서명 ‘반대여론 묵살’  정치 > 국방·외교\n",
       "777          한일 군사정보협정 가속…야 “어수선한 틈 밀어붙이기” 반발  정치 > 국방·북한\n",
       "1970    국방부 “다음주 한-일 정보협정 가서명”…국정 혼란 와중에 ‘강행’  정치 > 국방·북한"
      ]
     },
     "metadata": {},
     "output_type": "display_data"
    },
    {
     "name": "stdout",
     "output_type": "stream",
     "text": [
      "\n",
      "\n",
      "\n",
      "Cluster 6: Size 10\n"
     ]
    },
    {
     "data": {
      "text/html": [
       "<div>\n",
       "<table border=\"1\" class=\"dataframe\">\n",
       "  <thead>\n",
       "    <tr style=\"text-align: right;\">\n",
       "      <th></th>\n",
       "      <th>title</th>\n",
       "      <th>category</th>\n",
       "    </tr>\n",
       "  </thead>\n",
       "  <tbody>\n",
       "    <tr>\n",
       "      <th>689</th>\n",
       "      <td>한진해운 이후, 韓 해운업은 어디로</td>\n",
       "      <td>마켓·비즈 &gt; 경제일반</td>\n",
       "    </tr>\n",
       "    <tr>\n",
       "      <th>779</th>\n",
       "      <td>“제2의 한진해운 막으려면 해운·조선 자금 흐름 이어야”</td>\n",
       "      <td>마켓·비즈 &gt; 경제일반</td>\n",
       "    </tr>\n",
       "    <tr>\n",
       "      <th>1674</th>\n",
       "      <td>한진해운, 선원 640명 일괄 해고</td>\n",
       "      <td>마켓·비즈 &gt; 경제일반</td>\n",
       "    </tr>\n",
       "    <tr>\n",
       "      <th>687</th>\n",
       "      <td>한진해운 9월 말 이후 운송대금 583억여원 받아</td>\n",
       "      <td>경제 &gt; 경제일반</td>\n",
       "    </tr>\n",
       "    <tr>\n",
       "      <th>1666</th>\n",
       "      <td>한진해운 대량실직 현실로해상직원 580명 해고 통보</td>\n",
       "      <td>경제 &gt; 경제일반</td>\n",
       "    </tr>\n",
       "    <tr>\n",
       "      <th>880</th>\n",
       "      <td>한진해운 화물 95.5% 하역… 물류대란 두달만에 마무리</td>\n",
       "      <td>뉴스 &gt; 경제 &gt; 경제일반</td>\n",
       "    </tr>\n",
       "    <tr>\n",
       "      <th>607</th>\n",
       "      <td>한진해운 물류대란 마무리 단계…“97척 중 3척 하역만 남아”</td>\n",
       "      <td>경제 &gt; 경제일반</td>\n",
       "    </tr>\n",
       "    <tr>\n",
       "      <th>1498</th>\n",
       "      <td>한진해운, 선원 600여명 일괄 해고 통보</td>\n",
       "      <td>경제 &gt; 경제일반</td>\n",
       "    </tr>\n",
       "    <tr>\n",
       "      <th>1745</th>\n",
       "      <td>한진해운, 해상직원 560명 일괄 해고</td>\n",
       "      <td>뉴스 &gt; 경제 &gt; 경제일반</td>\n",
       "    </tr>\n",
       "    <tr>\n",
       "      <th>1480</th>\n",
       "      <td>한진해운, 해상직원 600여명에 해고통보··· 대량실직 현실화</td>\n",
       "      <td>마켓·비즈 &gt; 경제일반</td>\n",
       "    </tr>\n",
       "  </tbody>\n",
       "</table>\n",
       "</div>"
      ],
      "text/plain": [
       "                                   title        category\n",
       "689                  한진해운 이후, 韓 해운업은 어디로    마켓·비즈 > 경제일반\n",
       "779      “제2의 한진해운 막으려면 해운·조선 자금 흐름 이어야”    마켓·비즈 > 경제일반\n",
       "1674                 한진해운, 선원 640명 일괄 해고    마켓·비즈 > 경제일반\n",
       "687          한진해운 9월 말 이후 운송대금 583억여원 받아       경제 > 경제일반\n",
       "1666        한진해운 대량실직 현실로해상직원 580명 해고 통보       경제 > 경제일반\n",
       "880      한진해운 화물 95.5% 하역… 물류대란 두달만에 마무리  뉴스 > 경제 > 경제일반\n",
       "607   한진해운 물류대란 마무리 단계…“97척 중 3척 하역만 남아”       경제 > 경제일반\n",
       "1498             한진해운, 선원 600여명 일괄 해고 통보       경제 > 경제일반\n",
       "1745               한진해운, 해상직원 560명 일괄 해고  뉴스 > 경제 > 경제일반\n",
       "1480  한진해운, 해상직원 600여명에 해고통보··· 대량실직 현실화    마켓·비즈 > 경제일반"
      ]
     },
     "metadata": {},
     "output_type": "display_data"
    },
    {
     "name": "stdout",
     "output_type": "stream",
     "text": [
      "\n",
      "\n",
      "\n",
      "Cluster 7: Size 15\n"
     ]
    },
    {
     "data": {
      "text/html": [
       "<div>\n",
       "<table border=\"1\" class=\"dataframe\">\n",
       "  <thead>\n",
       "    <tr style=\"text-align: right;\">\n",
       "      <th></th>\n",
       "      <th>title</th>\n",
       "      <th>category</th>\n",
       "    </tr>\n",
       "  </thead>\n",
       "  <tbody>\n",
       "    <tr>\n",
       "      <th>265</th>\n",
       "      <td>민병희 강원도교육감 “박 대통령 자격 잃었다, 국정교과서 철회하라”</td>\n",
       "      <td>전국 &gt; 강원</td>\n",
       "    </tr>\n",
       "    <tr>\n",
       "      <th>1251</th>\n",
       "      <td>“역사 국정교과서 반대” 학생·시민단체 ‘1인 시위’ 돌입</td>\n",
       "      <td>사회 &gt; 교육·입시</td>\n",
       "    </tr>\n",
       "    <tr>\n",
       "      <th>1455</th>\n",
       "      <td>이청연 교육감 “청소년들, 민주주의 반하는 국정교과서 안 믿어”</td>\n",
       "      <td>사회 &gt; 전국</td>\n",
       "    </tr>\n",
       "    <tr>\n",
       "      <th>1594</th>\n",
       "      <td>[단독]국정교과서 의견수렴한다더니…비공개 접수형, 토론 댓글 차단</td>\n",
       "      <td>사회 &gt; 교육·입시</td>\n",
       "    </tr>\n",
       "    <tr>\n",
       "      <th>531</th>\n",
       "      <td>8일 미국은 새 역사를 쓴다</td>\n",
       "      <td>뉴스 &gt; 국제 &gt; 미국/북미</td>\n",
       "    </tr>\n",
       "    <tr>\n",
       "      <th>2262</th>\n",
       "      <td>한국교총 “교육현장 여론과 배치시 국정 교과서 반대”</td>\n",
       "      <td>사회 &gt; 교육</td>\n",
       "    </tr>\n",
       "    <tr>\n",
       "      <th>1515</th>\n",
       "      <td>이청연 인천교육감 “민주주의 역행 역사 교과서 국정화 중단” 촉구</td>\n",
       "      <td>전국 &gt; 서울·수도권 서울 경기 인천</td>\n",
       "    </tr>\n",
       "    <tr>\n",
       "      <th>1681</th>\n",
       "      <td>[단독]역사교과서 의견수렴 ‘깜깜이’ 진행…반대여론 차단 ‘꼼수’</td>\n",
       "      <td>사회 &gt; 교육·입시</td>\n",
       "    </tr>\n",
       "    <tr>\n",
       "      <th>1114</th>\n",
       "      <td>“박근혜 퇴진과 역사교과서 국정화 중단하라”</td>\n",
       "      <td>사회 &gt; 전국</td>\n",
       "    </tr>\n",
       "    <tr>\n",
       "      <th>362</th>\n",
       "      <td>역사교사들 ”국정교과서 당장 중단해야…학교 현장 혼란 없어”</td>\n",
       "      <td>사회 &gt; 교육</td>\n",
       "    </tr>\n",
       "    <tr>\n",
       "      <th>280</th>\n",
       "      <td>전국역사교사모임 “ ‘박근혜 교과서’ 만들기 중단하라”</td>\n",
       "      <td>사회 &gt; 교육·입시</td>\n",
       "    </tr>\n",
       "    <tr>\n",
       "      <th>1203</th>\n",
       "      <td>교육부 보고 있나? 학생도 학부모도 “국정역사교과서 반대”</td>\n",
       "      <td>사회 &gt; 교육·입시</td>\n",
       "    </tr>\n",
       "  </tbody>\n",
       "</table>\n",
       "</div>"
      ],
      "text/plain": [
       "                                      title              category\n",
       "265   민병희 강원도교육감 “박 대통령 자격 잃었다, 국정교과서 철회하라”               전국 > 강원\n",
       "1251       “역사 국정교과서 반대” 학생·시민단체 ‘1인 시위’ 돌입            사회 > 교육·입시\n",
       "1455    이청연 교육감 “청소년들, 민주주의 반하는 국정교과서 안 믿어”               사회 > 전국\n",
       "1594   [단독]국정교과서 의견수렴한다더니…비공개 접수형, 토론 댓글 차단            사회 > 교육·입시\n",
       "531                         8일 미국은 새 역사를 쓴다       뉴스 > 국제 > 미국/북미\n",
       "2262          한국교총 “교육현장 여론과 배치시 국정 교과서 반대”               사회 > 교육\n",
       "1515   이청연 인천교육감 “민주주의 역행 역사 교과서 국정화 중단” 촉구  전국 > 서울·수도권 서울 경기 인천\n",
       "1681   [단독]역사교과서 의견수렴 ‘깜깜이’ 진행…반대여론 차단 ‘꼼수’            사회 > 교육·입시\n",
       "1114               “박근혜 퇴진과 역사교과서 국정화 중단하라”               사회 > 전국\n",
       "362       역사교사들 ”국정교과서 당장 중단해야…학교 현장 혼란 없어”               사회 > 교육\n",
       "280          전국역사교사모임 “ ‘박근혜 교과서’ 만들기 중단하라”            사회 > 교육·입시\n",
       "1203       교육부 보고 있나? 학생도 학부모도 “국정역사교과서 반대”            사회 > 교육·입시"
      ]
     },
     "metadata": {},
     "output_type": "display_data"
    },
    {
     "name": "stdout",
     "output_type": "stream",
     "text": [
      "\n",
      "\n",
      "\n",
      "Cluster 8: Size 5\n"
     ]
    },
    {
     "data": {
      "text/html": [
       "<div>\n",
       "<table border=\"1\" class=\"dataframe\">\n",
       "  <thead>\n",
       "    <tr style=\"text-align: right;\">\n",
       "      <th></th>\n",
       "      <th>title</th>\n",
       "      <th>category</th>\n",
       "    </tr>\n",
       "  </thead>\n",
       "  <tbody>\n",
       "    <tr>\n",
       "      <th>447</th>\n",
       "      <td>‘차은택 측근’ 송성각 전 콘텐츠진흥원장 체포</td>\n",
       "      <td>사회 &gt; 사회일반</td>\n",
       "    </tr>\n",
       "    <tr>\n",
       "      <th>1695</th>\n",
       "      <td>[속보] ‘차은택 은사’ 송성각 전 콘텐츠진흥원장 영장 발부</td>\n",
       "      <td>사회 &gt; 사회일반</td>\n",
       "    </tr>\n",
       "    <tr>\n",
       "      <th>440</th>\n",
       "      <td>[속보]'최순실 게이트' 송성각 전 콘텐츠진흥원장 체포</td>\n",
       "      <td>사회 &gt; 법원·검찰</td>\n",
       "    </tr>\n",
       "    <tr>\n",
       "      <th>1703</th>\n",
       "      <td>[속보]‘최순실 게이트’ 송성각 전 콘텐츠진흥원장 구속</td>\n",
       "      <td>사회 &gt; 법원·검찰</td>\n",
       "    </tr>\n",
       "    <tr>\n",
       "      <th>446</th>\n",
       "      <td>‘최순실 의혹’ 수사 검찰, 뇌물·강요혐의로 송성각 전 콘텐츠진흥원장 체포</td>\n",
       "      <td>사회 &gt; 사회일반</td>\n",
       "    </tr>\n",
       "  </tbody>\n",
       "</table>\n",
       "</div>"
      ],
      "text/plain": [
       "                                          title    category\n",
       "447                   ‘차은택 측근’ 송성각 전 콘텐츠진흥원장 체포   사회 > 사회일반\n",
       "1695          [속보] ‘차은택 은사’ 송성각 전 콘텐츠진흥원장 영장 발부   사회 > 사회일반\n",
       "440              [속보]'최순실 게이트' 송성각 전 콘텐츠진흥원장 체포  사회 > 법원·검찰\n",
       "1703             [속보]‘최순실 게이트’ 송성각 전 콘텐츠진흥원장 구속  사회 > 법원·검찰\n",
       "446   ‘최순실 의혹’ 수사 검찰, 뇌물·강요혐의로 송성각 전 콘텐츠진흥원장 체포   사회 > 사회일반"
      ]
     },
     "metadata": {},
     "output_type": "display_data"
    },
    {
     "name": "stdout",
     "output_type": "stream",
     "text": [
      "\n",
      "\n",
      "\n",
      "Cluster 9: Size 21\n"
     ]
    },
    {
     "data": {
      "text/html": [
       "<div>\n",
       "<table border=\"1\" class=\"dataframe\">\n",
       "  <thead>\n",
       "    <tr style=\"text-align: right;\">\n",
       "      <th></th>\n",
       "      <th>title</th>\n",
       "      <th>category</th>\n",
       "    </tr>\n",
       "  </thead>\n",
       "  <tbody>\n",
       "    <tr>\n",
       "      <th>1456</th>\n",
       "      <td>‘트럼프 시대’ 정부부처 수장들의 생각은?</td>\n",
       "      <td>경제 &gt; 경제일반</td>\n",
       "    </tr>\n",
       "    <tr>\n",
       "      <th>106</th>\n",
       "      <td>“디지털시대 달라진 新명품족, 이렇게 잡아라”</td>\n",
       "      <td>뉴스 &gt; 사회 &gt; 사회일반</td>\n",
       "    </tr>\n",
       "    <tr>\n",
       "      <th>1418</th>\n",
       "      <td>포퓰리즘에 빠진 시대… 전 세계 '마초 리더' 열풍</td>\n",
       "      <td>국제</td>\n",
       "    </tr>\n",
       "    <tr>\n",
       "      <th>1706</th>\n",
       "      <td>[혼돈의 트럼프 시대]② ‘정치적 올바름’ 강요당한 유권자 분노 폭발</td>\n",
       "      <td>국제 &gt; 미국·중남미</td>\n",
       "    </tr>\n",
       "    <tr>\n",
       "      <th>26</th>\n",
       "      <td>탈북민 3만명 시대</td>\n",
       "      <td>사회</td>\n",
       "    </tr>\n",
       "    <tr>\n",
       "      <th>2353</th>\n",
       "      <td>‘1인 가구’ 시대, ‘맞춤형 주택’이 는다··· 방의 갯수· 거실 크기까지 선택</td>\n",
       "      <td>마켓·비즈 &gt; 금융·재테크</td>\n",
       "    </tr>\n",
       "    <tr>\n",
       "      <th>54</th>\n",
       "      <td>[DBR]평판 나쁜 기업들 도태… 디지털시대 非시장요소 중요성 커져</td>\n",
       "      <td>뉴스 &gt; 경제 &gt; 경제일반</td>\n",
       "    </tr>\n",
       "    <tr>\n",
       "      <th>1994</th>\n",
       "      <td>[트럼프 시대의 한반도](하) 불확실해서 불안…북한에 대해선 ‘백지’</td>\n",
       "      <td>정치 &gt; 국방·외교</td>\n",
       "    </tr>\n",
       "    <tr>\n",
       "      <th>1530</th>\n",
       "      <td>[미국 '트럼프 시대']아베노믹스 타격에 고심 중인 일본</td>\n",
       "      <td>국제 &gt; 일본</td>\n",
       "    </tr>\n",
       "    <tr>\n",
       "      <th>2309</th>\n",
       "      <td>[미국 ‘트럼프 시대’]뉴욕타임스 “이제 남은 희망은 메르켈뿐”</td>\n",
       "      <td>국제 &gt; 국제일반</td>\n",
       "    </tr>\n",
       "    <tr>\n",
       "      <th>2223</th>\n",
       "      <td>[11·12 민중총궐기]“이러려고 크라잉넛 했나 자괴감” “순실의 시대, 상실의 시...</td>\n",
       "      <td>사회 &gt; 사회일반</td>\n",
       "    </tr>\n",
       "    <tr>\n",
       "      <th>2300</th>\n",
       "      <td>[미국 '트럼프 시대']아들·딸·사위에, 로비스트 득실...'정권인수위' 면면</td>\n",
       "      <td>국제 &gt; 미국·중남미</td>\n",
       "    </tr>\n",
       "  </tbody>\n",
       "</table>\n",
       "</div>"
      ],
      "text/plain": [
       "                                                  title        category\n",
       "1456                            ‘트럼프 시대’ 정부부처 수장들의 생각은?       경제 > 경제일반\n",
       "106                           “디지털시대 달라진 新명품족, 이렇게 잡아라”  뉴스 > 사회 > 사회일반\n",
       "1418                       포퓰리즘에 빠진 시대… 전 세계 '마초 리더' 열풍              국제\n",
       "1706             [혼돈의 트럼프 시대]② ‘정치적 올바름’ 강요당한 유권자 분노 폭발     국제 > 미국·중남미\n",
       "26                                           탈북민 3만명 시대              사회\n",
       "2353      ‘1인 가구’ 시대, ‘맞춤형 주택’이 는다··· 방의 갯수· 거실 크기까지 선택  마켓·비즈 > 금융·재테크\n",
       "54                [DBR]평판 나쁜 기업들 도태… 디지털시대 非시장요소 중요성 커져  뉴스 > 경제 > 경제일반\n",
       "1994             [트럼프 시대의 한반도](하) 불확실해서 불안…북한에 대해선 ‘백지’      정치 > 국방·외교\n",
       "1530                    [미국 '트럼프 시대']아베노믹스 타격에 고심 중인 일본         국제 > 일본\n",
       "2309                [미국 ‘트럼프 시대’]뉴욕타임스 “이제 남은 희망은 메르켈뿐”       국제 > 국제일반\n",
       "2223  [11·12 민중총궐기]“이러려고 크라잉넛 했나 자괴감” “순실의 시대, 상실의 시...       사회 > 사회일반\n",
       "2300        [미국 '트럼프 시대']아들·딸·사위에, 로비스트 득실...'정권인수위' 면면     국제 > 미국·중남미"
      ]
     },
     "metadata": {},
     "output_type": "display_data"
    },
    {
     "name": "stdout",
     "output_type": "stream",
     "text": [
      "\n",
      "\n",
      "\n",
      "Cluster 10: Size 16\n"
     ]
    },
    {
     "data": {
      "text/html": [
       "<div>\n",
       "<table border=\"1\" class=\"dataframe\">\n",
       "  <thead>\n",
       "    <tr style=\"text-align: right;\">\n",
       "      <th></th>\n",
       "      <th>title</th>\n",
       "      <th>category</th>\n",
       "    </tr>\n",
       "  </thead>\n",
       "  <tbody>\n",
       "    <tr>\n",
       "      <th>1230</th>\n",
       "      <td>‘굿판·전생 체험’ 박승주 안전처 장관 내정자 자진 사퇴</td>\n",
       "      <td>정치 &gt; 정치일반</td>\n",
       "    </tr>\n",
       "    <tr>\n",
       "      <th>1240</th>\n",
       "      <td>‘전생 체험’ 박승주, 국민안전처 장관 후보자 자진사퇴</td>\n",
       "      <td>정치 &gt; 정치일반</td>\n",
       "    </tr>\n",
       "    <tr>\n",
       "      <th>480</th>\n",
       "      <td>[횡설수설/송평인]안전처 장관 후보자의 굿판</td>\n",
       "      <td>뉴스 &gt; 정치 &gt; 정치일반</td>\n",
       "    </tr>\n",
       "    <tr>\n",
       "      <th>293</th>\n",
       "      <td>'굿판 참여' 박승주 안전처 장관 내정자 \"환태평양 지진대가 활동해서\" 해명</td>\n",
       "      <td>사회 &gt; 사회일반</td>\n",
       "    </tr>\n",
       "    <tr>\n",
       "      <th>394</th>\n",
       "      <td>광화문 한복판 굿판 참석하고 전봉준 만났다는 장관 내정자</td>\n",
       "      <td>정치 &gt; 정치일반</td>\n",
       "    </tr>\n",
       "    <tr>\n",
       "      <th>231</th>\n",
       "      <td>‘전생 안전처’ 장관? 박승주 후보자, 전생 체험 고백 책도 썼다</td>\n",
       "      <td>사회 &gt; 사회일반</td>\n",
       "    </tr>\n",
       "    <tr>\n",
       "      <th>13</th>\n",
       "      <td>김병준 \"자진사퇴 없다… 이렇게 어려울지 몰랐을 것 같나\"</td>\n",
       "      <td>정치</td>\n",
       "    </tr>\n",
       "    <tr>\n",
       "      <th>1227</th>\n",
       "      <td>[속보] 박승주 안전처 장관 내정자, 자진 사퇴</td>\n",
       "      <td>정치 &gt; 정치일반</td>\n",
       "    </tr>\n",
       "    <tr>\n",
       "      <th>1231</th>\n",
       "      <td>박승주 국민안전처 장관 내정자 일주일만에 자진사퇴</td>\n",
       "      <td>전국 &gt; 전국일반</td>\n",
       "    </tr>\n",
       "    <tr>\n",
       "      <th>1350</th>\n",
       "      <td>‘굿판 논란‘ 박승주 안전처장관 후보자 자진 사퇴</td>\n",
       "      <td>뉴스 &gt; 정치 &gt; 국회</td>\n",
       "    </tr>\n",
       "    <tr>\n",
       "      <th>198</th>\n",
       "      <td>박승주 안전처장관 내정자, \"전봉준 장군이 찾아왔다\" 주장, 굿판 참석도</td>\n",
       "      <td>사회 &gt; 사회일반</td>\n",
       "    </tr>\n",
       "    <tr>\n",
       "      <th>182</th>\n",
       "      <td>안전처 장관 내정자 “명상 통해 47가지 모습으로 지구 왔다”</td>\n",
       "      <td>정치 &gt; 정치BAR</td>\n",
       "    </tr>\n",
       "  </tbody>\n",
       "</table>\n",
       "</div>"
      ],
      "text/plain": [
       "                                           title        category\n",
       "1230             ‘굿판·전생 체험’ 박승주 안전처 장관 내정자 자진 사퇴       정치 > 정치일반\n",
       "1240              ‘전생 체험’ 박승주, 국민안전처 장관 후보자 자진사퇴       정치 > 정치일반\n",
       "480                     [횡설수설/송평인]안전처 장관 후보자의 굿판  뉴스 > 정치 > 정치일반\n",
       "293   '굿판 참여' 박승주 안전처 장관 내정자 \"환태평양 지진대가 활동해서\" 해명       사회 > 사회일반\n",
       "394              광화문 한복판 굿판 참석하고 전봉준 만났다는 장관 내정자       정치 > 정치일반\n",
       "231         ‘전생 안전처’ 장관? 박승주 후보자, 전생 체험 고백 책도 썼다       사회 > 사회일반\n",
       "13              김병준 \"자진사퇴 없다… 이렇게 어려울지 몰랐을 것 같나\"              정치\n",
       "1227                  [속보] 박승주 안전처 장관 내정자, 자진 사퇴       정치 > 정치일반\n",
       "1231                 박승주 국민안전처 장관 내정자 일주일만에 자진사퇴       전국 > 전국일반\n",
       "1350                 ‘굿판 논란‘ 박승주 안전처장관 후보자 자진 사퇴    뉴스 > 정치 > 국회\n",
       "198     박승주 안전처장관 내정자, \"전봉준 장군이 찾아왔다\" 주장, 굿판 참석도       사회 > 사회일반\n",
       "182           안전처 장관 내정자 “명상 통해 47가지 모습으로 지구 왔다”      정치 > 정치BAR"
      ]
     },
     "metadata": {},
     "output_type": "display_data"
    },
    {
     "name": "stdout",
     "output_type": "stream",
     "text": [
      "\n",
      "\n",
      "\n",
      "Cluster 11: Size 13\n"
     ]
    },
    {
     "data": {
      "text/html": [
       "<div>\n",
       "<table border=\"1\" class=\"dataframe\">\n",
       "  <thead>\n",
       "    <tr style=\"text-align: right;\">\n",
       "      <th></th>\n",
       "      <th>title</th>\n",
       "      <th>category</th>\n",
       "    </tr>\n",
       "  </thead>\n",
       "  <tbody>\n",
       "    <tr>\n",
       "      <th>1459</th>\n",
       "      <td>청와대 “국회가 조속히 총리후보자 추천해주길”</td>\n",
       "      <td>정치 &gt; 청와대</td>\n",
       "    </tr>\n",
       "    <tr>\n",
       "      <th>521</th>\n",
       "      <td>“국회추천 총리에 내치 전권만 주면 돼”… 민주당 숨고르기</td>\n",
       "      <td>뉴스 &gt; 정치 &gt; 정치일반</td>\n",
       "    </tr>\n",
       "    <tr>\n",
       "      <th>618</th>\n",
       "      <td>박 대통령 총리 지명 사실상 철회...\"여야 합의로 좋은 분 추천하면 총리 임명\"</td>\n",
       "      <td>정치 &gt; 국회·정당</td>\n",
       "    </tr>\n",
       "    <tr>\n",
       "      <th>948</th>\n",
       "      <td>朴대통령 “국회 추천 총리가 내각 통할” 野 “권한 모호… 2선후퇴 먼저” 또 거부</td>\n",
       "      <td>뉴스 &gt; 정치 &gt; 정치일반</td>\n",
       "    </tr>\n",
       "    <tr>\n",
       "      <th>535</th>\n",
       "      <td>\"김병준 철회하고, 國會가 총리 추천하자\"</td>\n",
       "      <td>정치</td>\n",
       "    </tr>\n",
       "    <tr>\n",
       "      <th>1212</th>\n",
       "      <td>야3당 ‘국회 추천 총리’ 공식 거부</td>\n",
       "      <td>정치 &gt; 국회·정당</td>\n",
       "    </tr>\n",
       "    <tr>\n",
       "      <th>959</th>\n",
       "      <td>韓·日 군사협정 서두르는 정부… 野 추천 총리가 받아들일까</td>\n",
       "      <td>정치 &gt; 외교</td>\n",
       "    </tr>\n",
       "    <tr>\n",
       "      <th>628</th>\n",
       "      <td>박대통령 “국회 추천 총리, 내각 통할하도록 하겠다”</td>\n",
       "      <td>정치 &gt; 청와대</td>\n",
       "    </tr>\n",
       "    <tr>\n",
       "      <th>529</th>\n",
       "      <td>“朴대통령, 국회에 총리 추천 맡겨야… 빨리 양보하는게 최선”</td>\n",
       "      <td>뉴스 &gt; 정치 &gt; 정치일반</td>\n",
       "    </tr>\n",
       "    <tr>\n",
       "      <th>1270</th>\n",
       "      <td>야 3당 “박 대통령 결단 먼저”…‘총리 추천 제안’ 공식 거부</td>\n",
       "      <td>정치 &gt; 국회·정당</td>\n",
       "    </tr>\n",
       "    <tr>\n",
       "      <th>950</th>\n",
       "      <td>朴대통령이 국회로 던진 공… 野 \"전권이양 약속하면 총리 협상\"</td>\n",
       "      <td>정치</td>\n",
       "    </tr>\n",
       "    <tr>\n",
       "      <th>1385</th>\n",
       "      <td>'총리 추천' 거부하고 거리로 나서는 3野</td>\n",
       "      <td>정치</td>\n",
       "    </tr>\n",
       "  </tbody>\n",
       "</table>\n",
       "</div>"
      ],
      "text/plain": [
       "                                               title        category\n",
       "1459                       청와대 “국회가 조속히 총리후보자 추천해주길”        정치 > 청와대\n",
       "521                 “국회추천 총리에 내치 전권만 주면 돼”… 민주당 숨고르기  뉴스 > 정치 > 정치일반\n",
       "618    박 대통령 총리 지명 사실상 철회...\"여야 합의로 좋은 분 추천하면 총리 임명\"      정치 > 국회·정당\n",
       "948   朴대통령 “국회 추천 총리가 내각 통할” 野 “권한 모호… 2선후퇴 먼저” 또 거부  뉴스 > 정치 > 정치일반\n",
       "535                          \"김병준 철회하고, 國會가 총리 추천하자\"              정치\n",
       "1212                            야3당 ‘국회 추천 총리’ 공식 거부      정치 > 국회·정당\n",
       "959                 韓·日 군사협정 서두르는 정부… 野 추천 총리가 받아들일까         정치 > 외교\n",
       "628                    박대통령 “국회 추천 총리, 내각 통할하도록 하겠다”        정치 > 청와대\n",
       "529               “朴대통령, 국회에 총리 추천 맡겨야… 빨리 양보하는게 최선”  뉴스 > 정치 > 정치일반\n",
       "1270             야 3당 “박 대통령 결단 먼저”…‘총리 추천 제안’ 공식 거부      정치 > 국회·정당\n",
       "950              朴대통령이 국회로 던진 공… 野 \"전권이양 약속하면 총리 협상\"              정치\n",
       "1385                         '총리 추천' 거부하고 거리로 나서는 3野              정치"
      ]
     },
     "metadata": {},
     "output_type": "display_data"
    },
    {
     "name": "stdout",
     "output_type": "stream",
     "text": [
      "\n",
      "\n",
      "\n"
     ]
    }
   ],
   "source": [
    "cluster_data = []\n",
    "\n",
    "for cluster_index in range(best_k):\n",
    "    if cluster_index in best_cluster:\n",
    "        cluster_data.append(train[train['cluster'] == cluster_index])\n",
    "    \n",
    "for i, d in enumerate(cluster_data):\n",
    "    print('Cluster %d:' % (i), 'Size %d' % (len(d)))\n",
    "\n",
    "    display(d[['title', 'category']].sample(min(len(train.cluster.unique()), len(d))))\n",
    "    print('\\n\\n')"
   ]
  }
 ],
 "metadata": {
  "kernelspec": {
   "display_name": "Python 3",
   "language": "python",
   "name": "python3"
  },
  "language_info": {
   "codemirror_mode": {
    "name": "ipython",
    "version": 3
   },
   "file_extension": ".py",
   "mimetype": "text/x-python",
   "name": "python",
   "nbconvert_exporter": "python",
   "pygments_lexer": "ipython3",
   "version": "3.5.2"
  }
 },
 "nbformat": 4,
 "nbformat_minor": 1
}
