{
 "cells": [
  {
   "cell_type": "markdown",
   "metadata": {},
   "source": [
    "# News Clustering using KMeans Algorithm"
   ]
  },
  {
   "cell_type": "code",
   "execution_count": 1,
   "metadata": {
    "collapsed": false
   },
   "outputs": [],
   "source": [
    "import numpy as np\n",
    "import pandas as pd\n",
    "from time import time\n",
    "import articles_data_py3 as articles_data\n",
    "from pymongo import MongoClient\n",
    "import datetime"
   ]
  },
  {
   "cell_type": "markdown",
   "metadata": {
    "collapsed": true
   },
   "source": [
    "## Load data from MongoDB "
   ]
  },
  {
   "cell_type": "code",
   "execution_count": 2,
   "metadata": {
    "collapsed": false,
    "scrolled": true
   },
   "outputs": [],
   "source": [
    "client = MongoClient('mongodb://localhost:27017/somanews')\n",
    "client.somanews.authenticate('ssomanews', 'ssomanews1029')\n",
    "db = client.get_database('somanews')\n",
    "\n",
    "crawled_collection = db.get_collection('crawledArticles')\n",
    "clusters_collection = db.get_collection('articles')"
   ]
  },
  {
   "cell_type": "markdown",
   "metadata": {},
   "source": [
    "## Select Categories\n",
    "- 포함 : 경제, 문화, 건강, 과학, 사회, 정치, 스포츠\n",
    "- 제외 : 종합, 정보없음, 인물, 사설"
   ]
  },
  {
   "cell_type": "code",
   "execution_count": 3,
   "metadata": {
    "collapsed": false
   },
   "outputs": [],
   "source": [
    "catelist_path = '../datastore/category.p'\n",
    "headline_path = '../datastore/headline.p'\n",
    "target_time = datetime.datetime.now()"
   ]
  },
  {
   "cell_type": "code",
   "execution_count": 4,
   "metadata": {
    "collapsed": false
   },
   "outputs": [
    {
     "ename": "NameError",
     "evalue": "name 'is_dirty_article' is not defined",
     "output_type": "error",
     "traceback": [
      "\u001b[0;31m---------------------------------------------------------------------------\u001b[0m",
      "\u001b[0;31mNameError\u001b[0m                                 Traceback (most recent call last)",
      "\u001b[0;32m<ipython-input-4-288ab318efc3>\u001b[0m in \u001b[0;36m<module>\u001b[0;34m()\u001b[0m\n\u001b[0;32m----> 1\u001b[0;31m \u001b[0mtrain\u001b[0m \u001b[0;34m=\u001b[0m \u001b[0marticles_data\u001b[0m\u001b[0;34m.\u001b[0m\u001b[0mfind_recent_articles\u001b[0m\u001b[0;34m(\u001b[0m\u001b[0mcrawled_collection\u001b[0m\u001b[0;34m,\u001b[0m \u001b[0mcatelist_path\u001b[0m\u001b[0;34m,\u001b[0m \u001b[0mtarget_time\u001b[0m\u001b[0;34m)\u001b[0m\u001b[0;34m\u001b[0m\u001b[0m\n\u001b[0m",
      "\u001b[0;32m/home/whyask37/labs/articles_data_py3.py\u001b[0m in \u001b[0;36mfind_recent_articles\u001b[0;34m(collection, catelist_path, target_time)\u001b[0m\n\u001b[1;32m     40\u001b[0m     \u001b[0md\u001b[0m \u001b[0;34m=\u001b[0m \u001b[0mtarget_time\u001b[0m \u001b[0;34m-\u001b[0m \u001b[0mdatetime\u001b[0m\u001b[0;34m.\u001b[0m\u001b[0mtimedelta\u001b[0m\u001b[0;34m(\u001b[0m\u001b[0mdays\u001b[0m\u001b[0;34m=\u001b[0m\u001b[0;36m7\u001b[0m\u001b[0;34m)\u001b[0m\u001b[0;34m\u001b[0m\u001b[0m\n\u001b[1;32m     41\u001b[0m     \u001b[0;32mfor\u001b[0m \u001b[0marticle\u001b[0m \u001b[0;32min\u001b[0m \u001b[0marticles\u001b[0m\u001b[0;34m.\u001b[0m\u001b[0mfind\u001b[0m\u001b[0;34m(\u001b[0m\u001b[0;34m{\u001b[0m\u001b[0;34m\"publishedAt\"\u001b[0m\u001b[0;34m:\u001b[0m \u001b[0;34m{\u001b[0m\u001b[0;34m\"$gt\"\u001b[0m\u001b[0;34m:\u001b[0m \u001b[0md\u001b[0m\u001b[0;34m,\u001b[0m \u001b[0;34m\"$lt\"\u001b[0m\u001b[0;34m:\u001b[0m \u001b[0mtarget_time\u001b[0m\u001b[0;34m}\u001b[0m\u001b[0;34m}\u001b[0m\u001b[0;34m)\u001b[0m\u001b[0;34m.\u001b[0m\u001b[0msort\u001b[0m\u001b[0;34m(\u001b[0m\u001b[0;34m\"publishedAt\"\u001b[0m\u001b[0;34m)\u001b[0m\u001b[0;34m:\u001b[0m\u001b[0;34m\u001b[0m\u001b[0m\n\u001b[0;32m---> 42\u001b[0;31m         \u001b[0;32mif\u001b[0m\u001b[0;34m(\u001b[0m\u001b[0;32mnot\u001b[0m \u001b[0mis_dirty_article\u001b[0m\u001b[0;34m(\u001b[0m\u001b[0marticle\u001b[0m\u001b[0;34m[\u001b[0m\u001b[0;34m'title'\u001b[0m\u001b[0;34m]\u001b[0m\u001b[0;34m,\u001b[0m \u001b[0marticle\u001b[0m\u001b[0;34m[\u001b[0m\u001b[0;34m'content'\u001b[0m\u001b[0;34m]\u001b[0m\u001b[0;34m)\u001b[0m\u001b[0;34m)\u001b[0m\u001b[0;34m:\u001b[0m\u001b[0;34m\u001b[0m\u001b[0m\n\u001b[0m\u001b[1;32m     43\u001b[0m             \u001b[0marticle_list\u001b[0m\u001b[0;34m.\u001b[0m\u001b[0mappend\u001b[0m\u001b[0;34m(\u001b[0m\u001b[0marticle\u001b[0m\u001b[0;34m)\u001b[0m\u001b[0;34m\u001b[0m\u001b[0m\n\u001b[1;32m     44\u001b[0m \u001b[0;34m\u001b[0m\u001b[0m\n",
      "\u001b[0;31mNameError\u001b[0m: name 'is_dirty_article' is not defined"
     ]
    }
   ],
   "source": [
    "train = articles_data.find_recent_articles(crawled_collection, catelist_path, target_time)"
   ]
  },
  {
   "cell_type": "markdown",
   "metadata": {},
   "source": [
    "## Preprocessing\n",
    "1. Datetime (16-09-11 ~ 16-09-17)\n",
    "2. Remove stopwords (regex, hanja)\n",
    "3. POS Tagging with KoNLPy, Mecab\n",
    "4. Using bigram"
   ]
  },
  {
   "cell_type": "code",
   "execution_count": null,
   "metadata": {
    "collapsed": false
   },
   "outputs": [],
   "source": [
    "from konlpy.tag import Mecab\n",
    "import cnouns\n",
    "import hanja\n",
    "import re"
   ]
  },
  {
   "cell_type": "code",
   "execution_count": null,
   "metadata": {
    "collapsed": false
   },
   "outputs": [],
   "source": [
    "mecab = Mecab()"
   ]
  },
  {
   "cell_type": "code",
   "execution_count": null,
   "metadata": {
    "collapsed": true
   },
   "outputs": [],
   "source": [
    "def tokenize(data):\n",
    "    return [' '.join(e for e in mecab.nouns(data))]"
   ]
  },
  {
   "cell_type": "code",
   "execution_count": null,
   "metadata": {
    "collapsed": false
   },
   "outputs": [],
   "source": [
    "train['title_flat'] = train['title'].apply(lambda text: articles_data.remove_headlines(text, headline_path))\n",
    "train['title_flat'] = train['title_flat'].apply(lambda text: cnouns.text_cleaning_without_special_ch(text))\n",
    "title = [tokenize(each[1]['title_flat']) for each in train.iterrows()]"
   ]
  },
  {
   "cell_type": "markdown",
   "metadata": {},
   "source": [
    "## Training\n",
    "1. Feature extraction - TfidVectorizer\n",
    "2. Decomposition - PCA\n",
    "3. Cluster - KMeans"
   ]
  },
  {
   "cell_type": "code",
   "execution_count": null,
   "metadata": {
    "collapsed": false,
    "scrolled": true
   },
   "outputs": [],
   "source": [
    "from sklearn.feature_extraction.text import TfidfVectorizer\n",
    "from sklearn.decomposition import PCA\n",
    "from sklearn.cluster import KMeans"
   ]
  },
  {
   "cell_type": "code",
   "execution_count": null,
   "metadata": {
    "collapsed": false,
    "scrolled": false
   },
   "outputs": [],
   "source": [
    "vectorizer = TfidfVectorizer(lowercase=False, ngram_range=(1,2))\n",
    "title_flat = [item for sublist in title for item in sublist]\n",
    "x_list = vectorizer.fit_transform(title_flat)"
   ]
  },
  {
   "cell_type": "code",
   "execution_count": null,
   "metadata": {
    "collapsed": false
   },
   "outputs": [],
   "source": [
    "x_list_100d = PCA(n_components=100).fit_transform(x_list.toarray())\n",
    "x_list_100d.shape"
   ]
  },
  {
   "cell_type": "markdown",
   "metadata": {},
   "source": [
    "### Scoring"
   ]
  },
  {
   "cell_type": "code",
   "execution_count": null,
   "metadata": {
    "collapsed": true
   },
   "outputs": [],
   "source": [
    "from sklearn.metrics import silhouette_samples, silhouette_score\n",
    "from IPython.display import display, HTML\n",
    "import warnings\n",
    "warnings.filterwarnings(\"ignore\", category=DeprecationWarning) "
   ]
  },
  {
   "cell_type": "markdown",
   "metadata": {},
   "source": [
    "### Best Silhoutte Score"
   ]
  },
  {
   "cell_type": "code",
   "execution_count": null,
   "metadata": {
    "collapsed": true
   },
   "outputs": [],
   "source": [
    "%matplotlib inline\n",
    "import matplotlib.pyplot as plt"
   ]
  },
  {
   "cell_type": "code",
   "execution_count": null,
   "metadata": {
    "collapsed": true
   },
   "outputs": [],
   "source": [
    "best_score = 0.0\n",
    "best_k = 0"
   ]
  },
  {
   "cell_type": "code",
   "execution_count": null,
   "metadata": {
    "collapsed": false,
    "scrolled": true
   },
   "outputs": [],
   "source": [
    "k_list = []\n",
    "score_list = []\n",
    "for k in range(20, 35):\n",
    "    km = KMeans(n_clusters=k, n_jobs=-1).fit(x_list_100d)\n",
    "    score = silhouette_score(x_list_100d, km.labels_)\n",
    "    if best_score < score:\n",
    "        best_score = score\n",
    "        best_k = k\n",
    "    k_list.append(k)\n",
    "    score_list.append(score)\n",
    "print(\"In Clusters =\", best_k, \", Best score is : %0.3f\" % best_score)"
   ]
  },
  {
   "cell_type": "code",
   "execution_count": null,
   "metadata": {
    "collapsed": false
   },
   "outputs": [],
   "source": [
    "x = k_list\n",
    "y = score_list\n",
    "plt.xlabel('Number of Clusters')\n",
    "plt.ylabel('Silhouette score')\n",
    "plt.title('Finding best k')\n",
    "plt.plot(x, y)\n",
    "plt.show()"
   ]
  },
  {
   "cell_type": "markdown",
   "metadata": {},
   "source": [
    "### K-Means Algorithm"
   ]
  },
  {
   "cell_type": "code",
   "execution_count": null,
   "metadata": {
    "collapsed": false,
    "scrolled": true
   },
   "outputs": [],
   "source": [
    "km = KMeans(n_clusters=best_k, n_jobs=-1).fit(x_list_100d)\n",
    "labels = km.labels_\n",
    "centroids = km.cluster_centers_\n",
    "print(km.inertia_)"
   ]
  },
  {
   "cell_type": "code",
   "execution_count": null,
   "metadata": {
    "collapsed": false,
    "scrolled": true
   },
   "outputs": [],
   "source": [
    "x_list_vector = x_list_100d.tolist()\n",
    "train = train.drop(['title_flat'], axis=1)\n",
    "train['vector'] = x_list_vector\n",
    "train['cluster'] = labels"
   ]
  },
  {
   "cell_type": "markdown",
   "metadata": {},
   "source": [
    "## Choose Best Cluster\n",
    "- Minimum inertia"
   ]
  },
  {
   "cell_type": "code",
   "execution_count": null,
   "metadata": {
    "collapsed": false,
    "scrolled": false
   },
   "outputs": [],
   "source": [
    "sample_silhouette_values = silhouette_samples(x_list_100d, labels)\n",
    "sample_silhouette_score = []\n",
    "list_silhouette_score = []\n",
    "best_cluster = []\n",
    "\n",
    "for i in range(best_k):\n",
    "    ith_cluster_silhouette_values = \\\n",
    "        sample_silhouette_values[labels == i]    \n",
    "    list_silhouette_score.append(abs(ith_cluster_silhouette_values.mean()))\n",
    "\n",
    "list_silhouette_score.sort(reverse=True)\n",
    "sample_silhouette_score = list_silhouette_score[:12]"
   ]
  },
  {
   "cell_type": "code",
   "execution_count": null,
   "metadata": {
    "collapsed": false
   },
   "outputs": [],
   "source": [
    "x = [x for x in range(best_k)]\n",
    "y = list_silhouette_score\n",
    "width = 1/1.5\n",
    "plt.xlabel('Each of Cluster')\n",
    "plt.ylabel('Silhouette score')\n",
    "plt.title('Finding best cluster')\n",
    "plt.bar(x, y, width)\n",
    "plt.show()"
   ]
  },
  {
   "cell_type": "code",
   "execution_count": null,
   "metadata": {
    "collapsed": false,
    "scrolled": false
   },
   "outputs": [],
   "source": [
    "sample_silhouette_score"
   ]
  },
  {
   "cell_type": "code",
   "execution_count": null,
   "metadata": {
    "collapsed": false,
    "scrolled": true
   },
   "outputs": [],
   "source": [
    "cohesions = []"
   ]
  },
  {
   "cell_type": "code",
   "execution_count": null,
   "metadata": {
    "collapsed": false
   },
   "outputs": [],
   "source": [
    "for i in range(best_k):\n",
    "    ith_cluster_silhouette_values = \\\n",
    "        sample_silhouette_values[labels == i]\n",
    "        \n",
    "    if abs(ith_cluster_silhouette_values.mean()) in sample_silhouette_score:\n",
    "        best_cluster.append(i)\n",
    "        cohesions.append(abs(ith_cluster_silhouette_values.mean()))"
   ]
  },
  {
   "cell_type": "code",
   "execution_count": null,
   "metadata": {
    "collapsed": false
   },
   "outputs": [],
   "source": [
    "train = train[train['cluster'].isin(best_cluster)]\n",
    "cohesions"
   ]
  },
  {
   "cell_type": "markdown",
   "metadata": {},
   "source": [
    "## Save to MongoDB"
   ]
  },
  {
   "cell_type": "code",
   "execution_count": null,
   "metadata": {
    "collapsed": false
   },
   "outputs": [],
   "source": [
    "articles_data.save_to_db(train, 1108, clusters_collection, cohesions)\n",
    "client.close()"
   ]
  },
  {
   "cell_type": "markdown",
   "metadata": {},
   "source": [
    "## Result"
   ]
  },
  {
   "cell_type": "code",
   "execution_count": null,
   "metadata": {
    "collapsed": false,
    "scrolled": false
   },
   "outputs": [],
   "source": [
    "cluster_data = []\n",
    "\n",
    "for cluster_index in range(best_k):\n",
    "    if cluster_index in best_cluster:\n",
    "        cluster_data.append(train[train['cluster'] == cluster_index])\n",
    "    \n",
    "for i, d in enumerate(cluster_data):\n",
    "    print('Cluster %d:' % (i), 'Size %d' % (len(d)))\n",
    "\n",
    "    display(d[['title', 'category']].sample(min(len(train.cluster.unique()), len(d))))\n",
    "    print('\\n\\n')"
   ]
  }
 ],
 "metadata": {
  "kernelspec": {
   "display_name": "Python 3",
   "language": "python",
   "name": "python3"
  },
  "language_info": {
   "codemirror_mode": {
    "name": "ipython",
    "version": 3
   },
   "file_extension": ".py",
   "mimetype": "text/x-python",
   "name": "python",
   "nbconvert_exporter": "python",
   "pygments_lexer": "ipython3",
   "version": "3.5.2"
  }
 },
 "nbformat": 4,
 "nbformat_minor": 1
}
