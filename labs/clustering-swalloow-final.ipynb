{
 "cells": [
  {
   "cell_type": "markdown",
   "metadata": {},
   "source": [
    "# News Clustering using KMeans Algorithm"
   ]
  },
  {
   "cell_type": "code",
   "execution_count": 1,
   "metadata": {
    "collapsed": false
   },
   "outputs": [],
   "source": [
    "import numpy as np\n",
    "import pandas as pd\n",
    "from time import time\n",
    "import articles_data_py3 as articles_data\n",
    "from pymongo import MongoClient"
   ]
  },
  {
   "cell_type": "code",
   "execution_count": 2,
   "metadata": {
    "collapsed": true
   },
   "outputs": [],
   "source": [
    "t0 = time()"
   ]
  },
  {
   "cell_type": "markdown",
   "metadata": {
    "collapsed": true
   },
   "source": [
    "## Load data from MongoDB "
   ]
  },
  {
   "cell_type": "code",
   "execution_count": 3,
   "metadata": {
    "collapsed": false,
    "scrolled": true
   },
   "outputs": [],
   "source": [
    "client = MongoClient('mongodb://localhost:27017/somanews')\n",
    "client.somanews.authenticate('ssomanews', 'ssomanews1029')\n",
    "db = client.get_database('somanews')\n",
    "\n",
    "crawled_collection = db.get_collection('crawledArticles')\n",
    "clusters_collection = db.get_collection('articles')"
   ]
  },
  {
   "cell_type": "markdown",
   "metadata": {},
   "source": [
    "## Select Categories\n",
    "- 포함 : 경제, 문화, 건강, 과학, 사회, 정치, 스포츠\n",
    "- 제외 : 종합, 정보없음, 인물, 사설"
   ]
  },
  {
   "cell_type": "code",
   "execution_count": 4,
   "metadata": {
    "collapsed": false
   },
   "outputs": [],
   "source": [
    "catelist_path = '../datastore/category.p'\n",
    "headline_path = '../datastore/headline.p'"
   ]
  },
  {
   "cell_type": "code",
   "execution_count": 5,
   "metadata": {
    "collapsed": true
   },
   "outputs": [],
   "source": [
    "train = articles_data.find_recent_articles(crawled_collection, catelist_path)"
   ]
  },
  {
   "cell_type": "markdown",
   "metadata": {},
   "source": [
    "## Preprocessing\n",
    "1. Datetime (16-09-11 ~ 16-09-17)\n",
    "2. Remove stopwords (regex, hanja)\n",
    "3. POS Tagging with KoNLPy, Mecab\n",
    "4. Using bigram"
   ]
  },
  {
   "cell_type": "code",
   "execution_count": 6,
   "metadata": {
    "collapsed": false
   },
   "outputs": [],
   "source": [
    "import datetime\n",
    "from konlpy.tag import Mecab\n",
    "import cnouns\n",
    "import hanja\n",
    "import re"
   ]
  },
  {
   "cell_type": "code",
   "execution_count": 7,
   "metadata": {
    "collapsed": false
   },
   "outputs": [],
   "source": [
    "mecab = Mecab()"
   ]
  },
  {
   "cell_type": "code",
   "execution_count": 8,
   "metadata": {
    "collapsed": true
   },
   "outputs": [],
   "source": [
    "def tokenize(data):\n",
    "    return [' '.join(e for e in mecab.nouns(data))]"
   ]
  },
  {
   "cell_type": "code",
   "execution_count": 9,
   "metadata": {
    "collapsed": false
   },
   "outputs": [],
   "source": [
    "train['title_flat'] = train['title'].apply(lambda text: articles_data.remove_headlines(text, headline_path))\n",
    "train['title_flat'] = train['title_flat'].apply(lambda text: cnouns.text_cleaning_without_special_ch(text))\n",
    "train = train[train['title_flat']!='NaN']\n",
    "title = [tokenize(each[1]['title_flat']) for each in train.iterrows()]"
   ]
  },
  {
   "cell_type": "markdown",
   "metadata": {},
   "source": [
    "## Training\n",
    "1. Feature extraction - TfidVectorizer\n",
    "2. Decomposition - PCA\n",
    "3. Cluster - KMeans"
   ]
  },
  {
   "cell_type": "code",
   "execution_count": 10,
   "metadata": {
    "collapsed": false,
    "scrolled": true
   },
   "outputs": [],
   "source": [
    "from sklearn.feature_extraction.text import TfidfVectorizer\n",
    "from sklearn.decomposition import PCA\n",
    "from sklearn.cluster import KMeans"
   ]
  },
  {
   "cell_type": "code",
   "execution_count": 11,
   "metadata": {
    "collapsed": false,
    "scrolled": false
   },
   "outputs": [],
   "source": [
    "vectorizer = TfidfVectorizer(lowercase=False, ngram_range=(1,2))\n",
    "title_flat = [item for sublist in title for item in sublist]\n",
    "x_list = vectorizer.fit_transform(title_flat)"
   ]
  },
  {
   "cell_type": "code",
   "execution_count": 12,
   "metadata": {
    "collapsed": false
   },
   "outputs": [
    {
     "data": {
      "text/plain": [
       "(2489, 100)"
      ]
     },
     "execution_count": 12,
     "metadata": {},
     "output_type": "execute_result"
    }
   ],
   "source": [
    "x_list_100d = PCA(n_components=100).fit_transform(x_list.toarray())\n",
    "x_list_100d.shape"
   ]
  },
  {
   "cell_type": "markdown",
   "metadata": {},
   "source": [
    "### Scoring"
   ]
  },
  {
   "cell_type": "code",
   "execution_count": 13,
   "metadata": {
    "collapsed": true
   },
   "outputs": [],
   "source": [
    "from sklearn.metrics import silhouette_samples, silhouette_score\n",
    "from IPython.display import display, HTML\n",
    "import warnings\n",
    "warnings.filterwarnings(\"ignore\", category=DeprecationWarning) "
   ]
  },
  {
   "cell_type": "markdown",
   "metadata": {},
   "source": [
    "### Best Silhoutte Score"
   ]
  },
  {
   "cell_type": "code",
   "execution_count": 14,
   "metadata": {
    "collapsed": true
   },
   "outputs": [],
   "source": [
    "%matplotlib inline\n",
    "import matplotlib.pyplot as plt"
   ]
  },
  {
   "cell_type": "code",
   "execution_count": 15,
   "metadata": {
    "collapsed": true
   },
   "outputs": [],
   "source": [
    "best_score = 0.0\n",
    "best_k = 0"
   ]
  },
  {
   "cell_type": "code",
   "execution_count": 16,
   "metadata": {
    "collapsed": false,
    "scrolled": true
   },
   "outputs": [
    {
     "name": "stdout",
     "output_type": "stream",
     "text": [
      "In Clusters = 33 , Best score is : 0.194\n"
     ]
    }
   ],
   "source": [
    "k_list = []\n",
    "score_list = []\n",
    "for k in range(20, 35):\n",
    "    km = KMeans(n_clusters=k, n_jobs=-1).fit(x_list_100d)\n",
    "    score = silhouette_score(x_list_100d, km.labels_)\n",
    "    if best_score < score:\n",
    "        best_score = score\n",
    "        best_k = k\n",
    "    k_list.append(k)\n",
    "    score_list.append(score)\n",
    "print(\"In Clusters =\", best_k, \", Best score is : %0.3f\" % best_score)"
   ]
  },
  {
   "cell_type": "code",
   "execution_count": 17,
   "metadata": {
    "collapsed": false
   },
   "outputs": [
    {
     "data": {
      "image/png": "[encoded data removed]",
      "text/plain": [
       "<matplotlib.figure.Figure at 0x7f53dddefcf8>"
      ]
     },
     "metadata": {},
     "output_type": "display_data"
    }
   ],
   "source": [
    "x = k_list\n",
    "y = score_list\n",
    "plt.xlabel('Number of Clusters')\n",
    "plt.ylabel('Silhouette score')\n",
    "plt.title('Finding best k')\n",
    "plt.plot(x, y)\n",
    "plt.show()"
   ]
  },
  {
   "cell_type": "markdown",
   "metadata": {},
   "source": [
    "### K-Means Algorithm"
   ]
  },
  {
   "cell_type": "code",
   "execution_count": 18,
   "metadata": {
    "collapsed": false,
    "scrolled": true
   },
   "outputs": [
    {
     "name": "stdout",
     "output_type": "stream",
     "text": [
      "227.106949759\n"
     ]
    }
   ],
   "source": [
    "km = KMeans(n_clusters=best_k, n_jobs=-1).fit(x_list_100d)\n",
    "labels = km.labels_\n",
    "centroids = km.cluster_centers_\n",
    "print(km.inertia_)"
   ]
  },
  {
   "cell_type": "code",
   "execution_count": 19,
   "metadata": {
    "collapsed": false,
    "scrolled": true
   },
   "outputs": [],
   "source": [
    "x_list_vector = x_list_100d.tolist()\n",
    "train = train.drop(['title_flat'], axis=1)\n",
    "train['vector'] = x_list_vector\n",
    "train['cluster'] = labels"
   ]
  },
  {
   "cell_type": "markdown",
   "metadata": {},
   "source": [
    "## Choose Best Cluster\n",
    "- Minimum inertia"
   ]
  },
  {
   "cell_type": "code",
   "execution_count": 20,
   "metadata": {
    "collapsed": false,
    "scrolled": false
   },
   "outputs": [],
   "source": [
    "sample_silhouette_values = silhouette_samples(x_list_100d, labels)\n",
    "sample_silhouette_score = []\n",
    "list_silhouette_score = []\n",
    "best_cluster = []\n",
    "\n",
    "for i in range(best_k):\n",
    "    ith_cluster_silhouette_values = \\\n",
    "        sample_silhouette_values[labels == i]    \n",
    "    list_silhouette_score.append(abs(ith_cluster_silhouette_values.mean()))\n",
    "\n",
    "list_silhouette_score.sort(reverse=True)\n",
    "sample_silhouette_score = list_silhouette_score[:12]"
   ]
  },
  {
   "cell_type": "code",
   "execution_count": 21,
   "metadata": {
    "collapsed": false
   },
   "outputs": [
    {
     "data": {
      "image/png": "[encoded data removed]",
      "text/plain": [
       "<matplotlib.figure.Figure at 0x7f541c0614a8>"
      ]
     },
     "metadata": {},
     "output_type": "display_data"
    }
   ],
   "source": [
    "x = [x for x in range(best_k)]\n",
    "y = list_silhouette_score\n",
    "width = 1/1.5\n",
    "plt.xlabel('Each of Cluster')\n",
    "plt.ylabel('Silhouette score')\n",
    "plt.title('Finding best cluster')\n",
    "plt.bar(x, y, width)\n",
    "plt.show()"
   ]
  },
  {
   "cell_type": "code",
   "execution_count": 22,
   "metadata": {
    "collapsed": false,
    "scrolled": true
   },
   "outputs": [
    {
     "data": {
      "text/plain": [
       "[0.77691385483485942,\n",
       " 0.72172832799999442,\n",
       " 0.67420234698854031,\n",
       " 0.64292597152903619,\n",
       " 0.59798333780782686,\n",
       " 0.49762088500883112,\n",
       " 0.43545709821019979,\n",
       " 0.36775518731652573,\n",
       " 0.33537761846221298,\n",
       " 0.33253188177036486,\n",
       " 0.32125225666533613,\n",
       " 0.30136862558408994]"
      ]
     },
     "execution_count": 22,
     "metadata": {},
     "output_type": "execute_result"
    }
   ],
   "source": [
    "sample_silhouette_score"
   ]
  },
  {
   "cell_type": "code",
   "execution_count": 23,
   "metadata": {
    "collapsed": false
   },
   "outputs": [],
   "source": [
    "for i in range(best_k):\n",
    "    ith_cluster_silhouette_values = \\\n",
    "        sample_silhouette_values[labels == i]\n",
    "        \n",
    "    if abs(ith_cluster_silhouette_values.mean()) in sample_silhouette_score:\n",
    "        best_cluster.append(i)"
   ]
  },
  {
   "cell_type": "code",
   "execution_count": 24,
   "metadata": {
    "collapsed": false
   },
   "outputs": [
    {
     "data": {
      "text/plain": [
       "array([29, 25, 22, 10,  5, 27, 20, 28,  8, 17, 18, 31])"
      ]
     },
     "execution_count": 24,
     "metadata": {},
     "output_type": "execute_result"
    }
   ],
   "source": [
    "train = train[train['cluster'].isin(best_cluster)]\n",
    "train.cluster.unique()"
   ]
  },
  {
   "cell_type": "markdown",
   "metadata": {},
   "source": [
    "## Result"
   ]
  },
  {
   "cell_type": "code",
   "execution_count": 25,
   "metadata": {
    "collapsed": false,
    "scrolled": false
   },
   "outputs": [
    {
     "name": "stdout",
     "output_type": "stream",
     "text": [
      "Cluster 0: Size 12\n"
     ]
    },
    {
     "data": {
      "text/html": [
       "<div>\n",
       "<table border=\"1\" class=\"dataframe\">\n",
       "  <thead>\n",
       "    <tr style=\"text-align: right;\">\n",
       "      <th></th>\n",
       "      <th>title</th>\n",
       "      <th>category</th>\n",
       "    </tr>\n",
       "  </thead>\n",
       "  <tbody>\n",
       "    <tr>\n",
       "      <th>3173</th>\n",
       "      <td>해운대 ‘엘시티’ 이영복 회장 체포</td>\n",
       "      <td>사회 &gt; 법원·검찰</td>\n",
       "    </tr>\n",
       "    <tr>\n",
       "      <th>3317</th>\n",
       "      <td>‘1000억 비자금’ 엘시티 이영복 체포</td>\n",
       "      <td>뉴스 &gt; 정치 &gt; 정치일반</td>\n",
       "    </tr>\n",
       "    <tr>\n",
       "      <th>713</th>\n",
       "      <td>‘엘시티 비자금’ 이영복 도피 도운 강남 유흥업소 직원 구속</td>\n",
       "      <td>사회 &gt; 법원·검찰</td>\n",
       "    </tr>\n",
       "    <tr>\n",
       "      <th>3197</th>\n",
       "      <td>‘수백억 횡령’ 부산 엘시티 이영복 회장 검거</td>\n",
       "      <td>사회 &gt; 사회일반</td>\n",
       "    </tr>\n",
       "    <tr>\n",
       "      <th>4099</th>\n",
       "      <td>부산 해운대 엘시티 이영복 회장 구속</td>\n",
       "      <td>사회 &gt; 전국</td>\n",
       "    </tr>\n",
       "    <tr>\n",
       "      <th>4096</th>\n",
       "      <td>해운대 엘시티 이영복 구속…검찰, 비자금 규모 등 집중 조사</td>\n",
       "      <td>사회 &gt; 사건·사고</td>\n",
       "    </tr>\n",
       "    <tr>\n",
       "      <th>3218</th>\n",
       "      <td>‘비자금 의혹’ 엘시티 이영복 회장 체포</td>\n",
       "      <td>사회 &gt; 법원·검찰</td>\n",
       "    </tr>\n",
       "    <tr>\n",
       "      <th>3712</th>\n",
       "      <td>검찰, ‘엘시티’ 이영복 회장 영장 청구…횡령·사기 혐의</td>\n",
       "      <td>사회 &gt; 사회일반</td>\n",
       "    </tr>\n",
       "    <tr>\n",
       "      <th>3510</th>\n",
       "      <td>검찰, ‘엘시티’ 수사 본격화…이영복 회장 검거</td>\n",
       "      <td>사회 &gt; 전국</td>\n",
       "    </tr>\n",
       "    <tr>\n",
       "      <th>3832</th>\n",
       "      <td>'엘시티 이영복 리스트' 있나… 與 중진의원 등 3~4명 거론</td>\n",
       "      <td>사회 &gt; 법원ㆍ검찰ㆍ경찰</td>\n",
       "    </tr>\n",
       "    <tr>\n",
       "      <th>3391</th>\n",
       "      <td>엘시티 이영복 “성실히 조사받겠다”···부산구치소 수감</td>\n",
       "      <td>사회 &gt; 법원·검찰</td>\n",
       "    </tr>\n",
       "    <tr>\n",
       "      <th>3786</th>\n",
       "      <td>[단독]엘시티 이영복, 2000억 빚더미서 2조7000억 사업 따내</td>\n",
       "      <td>뉴스 &gt; 정치 &gt; 동아일보 단독</td>\n",
       "    </tr>\n",
       "  </tbody>\n",
       "</table>\n",
       "</div>"
      ],
      "text/plain": [
       "                                      title           category\n",
       "3173                    해운대 ‘엘시티’ 이영복 회장 체포         사회 > 법원·검찰\n",
       "3317                 ‘1000억 비자금’ 엘시티 이영복 체포     뉴스 > 정치 > 정치일반\n",
       "713       ‘엘시티 비자금’ 이영복 도피 도운 강남 유흥업소 직원 구속         사회 > 법원·검찰\n",
       "3197              ‘수백억 횡령’ 부산 엘시티 이영복 회장 검거          사회 > 사회일반\n",
       "4099                   부산 해운대 엘시티 이영복 회장 구속            사회 > 전국\n",
       "4096      해운대 엘시티 이영복 구속…검찰, 비자금 규모 등 집중 조사         사회 > 사건·사고\n",
       "3218                 ‘비자금 의혹’ 엘시티 이영복 회장 체포         사회 > 법원·검찰\n",
       "3712        검찰, ‘엘시티’ 이영복 회장 영장 청구…횡령·사기 혐의          사회 > 사회일반\n",
       "3510             검찰, ‘엘시티’ 수사 본격화…이영복 회장 검거            사회 > 전국\n",
       "3832     '엘시티 이영복 리스트' 있나… 與 중진의원 등 3~4명 거론      사회 > 법원ㆍ검찰ㆍ경찰\n",
       "3391         엘시티 이영복 “성실히 조사받겠다”···부산구치소 수감         사회 > 법원·검찰\n",
       "3786  [단독]엘시티 이영복, 2000억 빚더미서 2조7000억 사업 따내  뉴스 > 정치 > 동아일보 단독"
      ]
     },
     "metadata": {},
     "output_type": "display_data"
    },
    {
     "name": "stdout",
     "output_type": "stream",
     "text": [
      "\n",
      "\n",
      "\n",
      "Cluster 1: Size 10\n"
     ]
    },
    {
     "data": {
      "text/html": [
       "<div>\n",
       "<table border=\"1\" class=\"dataframe\">\n",
       "  <thead>\n",
       "    <tr style=\"text-align: right;\">\n",
       "      <th></th>\n",
       "      <th>title</th>\n",
       "      <th>category</th>\n",
       "    </tr>\n",
       "  </thead>\n",
       "  <tbody>\n",
       "    <tr>\n",
       "      <th>1746</th>\n",
       "      <td>한진해운 화물 95.5% 하역… 물류대란 두달만에 마무리</td>\n",
       "      <td>뉴스 &gt; 경제 &gt; 경제일반</td>\n",
       "    </tr>\n",
       "    <tr>\n",
       "      <th>3157</th>\n",
       "      <td>한진해운 대량실직 현실로해상직원 580명 해고 통보</td>\n",
       "      <td>경제 &gt; 경제일반</td>\n",
       "    </tr>\n",
       "    <tr>\n",
       "      <th>1417</th>\n",
       "      <td>한진해운 이후, 韓 해운업은 어디로</td>\n",
       "      <td>마켓·비즈 &gt; 경제일반</td>\n",
       "    </tr>\n",
       "    <tr>\n",
       "      <th>3169</th>\n",
       "      <td>한진해운, 선원 640명 일괄 해고</td>\n",
       "      <td>마켓·비즈 &gt; 경제일반</td>\n",
       "    </tr>\n",
       "    <tr>\n",
       "      <th>2790</th>\n",
       "      <td>한진해운, 해상직원 600여명에 해고통보··· 대량실직 현실화</td>\n",
       "      <td>마켓·비즈 &gt; 경제일반</td>\n",
       "    </tr>\n",
       "    <tr>\n",
       "      <th>1571</th>\n",
       "      <td>“제2의 한진해운 막으려면 해운·조선 자금 흐름 이어야”</td>\n",
       "      <td>마켓·비즈 &gt; 경제일반</td>\n",
       "    </tr>\n",
       "    <tr>\n",
       "      <th>1415</th>\n",
       "      <td>한진해운 9월 말 이후 운송대금 583억여원 받아</td>\n",
       "      <td>경제 &gt; 경제일반</td>\n",
       "    </tr>\n",
       "    <tr>\n",
       "      <th>1285</th>\n",
       "      <td>한진해운 물류대란 마무리 단계…“97척 중 3척 하역만 남아”</td>\n",
       "      <td>경제 &gt; 경제일반</td>\n",
       "    </tr>\n",
       "    <tr>\n",
       "      <th>2821</th>\n",
       "      <td>한진해운, 선원 600여명 일괄 해고 통보</td>\n",
       "      <td>경제 &gt; 경제일반</td>\n",
       "    </tr>\n",
       "    <tr>\n",
       "      <th>3251</th>\n",
       "      <td>한진해운, 해상직원 560명 일괄 해고</td>\n",
       "      <td>뉴스 &gt; 경제 &gt; 경제일반</td>\n",
       "    </tr>\n",
       "  </tbody>\n",
       "</table>\n",
       "</div>"
      ],
      "text/plain": [
       "                                   title        category\n",
       "1746     한진해운 화물 95.5% 하역… 물류대란 두달만에 마무리  뉴스 > 경제 > 경제일반\n",
       "3157        한진해운 대량실직 현실로해상직원 580명 해고 통보       경제 > 경제일반\n",
       "1417                 한진해운 이후, 韓 해운업은 어디로    마켓·비즈 > 경제일반\n",
       "3169                 한진해운, 선원 640명 일괄 해고    마켓·비즈 > 경제일반\n",
       "2790  한진해운, 해상직원 600여명에 해고통보··· 대량실직 현실화    마켓·비즈 > 경제일반\n",
       "1571     “제2의 한진해운 막으려면 해운·조선 자금 흐름 이어야”    마켓·비즈 > 경제일반\n",
       "1415         한진해운 9월 말 이후 운송대금 583억여원 받아       경제 > 경제일반\n",
       "1285  한진해운 물류대란 마무리 단계…“97척 중 3척 하역만 남아”       경제 > 경제일반\n",
       "2821             한진해운, 선원 600여명 일괄 해고 통보       경제 > 경제일반\n",
       "3251               한진해운, 해상직원 560명 일괄 해고  뉴스 > 경제 > 경제일반"
      ]
     },
     "metadata": {},
     "output_type": "display_data"
    },
    {
     "name": "stdout",
     "output_type": "stream",
     "text": [
      "\n",
      "\n",
      "\n",
      "Cluster 2: Size 13\n"
     ]
    },
    {
     "data": {
      "text/html": [
       "<div>\n",
       "<table border=\"1\" class=\"dataframe\">\n",
       "  <thead>\n",
       "    <tr style=\"text-align: right;\">\n",
       "      <th></th>\n",
       "      <th>title</th>\n",
       "      <th>category</th>\n",
       "    </tr>\n",
       "  </thead>\n",
       "  <tbody>\n",
       "    <tr>\n",
       "      <th>3159</th>\n",
       "      <td>대우조선 감자로 산은·금융위 수천억 허공에</td>\n",
       "      <td>경제 &gt; 경제일반</td>\n",
       "    </tr>\n",
       "    <tr>\n",
       "      <th>654</th>\n",
       "      <td>대우조선, 세계 첫 쇄빙LNG선 건조…8일 북극해로 출발</td>\n",
       "      <td>마켓·비즈 &gt; 경제일반</td>\n",
       "    </tr>\n",
       "    <tr>\n",
       "      <th>3758</th>\n",
       "      <td>[경제계 인사]미래에셋대우</td>\n",
       "      <td>뉴스 &gt; 경제 &gt; 경제일반</td>\n",
       "    </tr>\n",
       "    <tr>\n",
       "      <th>3240</th>\n",
       "      <td>[경제계 인사]미래에셋대우</td>\n",
       "      <td>뉴스 &gt; 경제 &gt; 경제일반</td>\n",
       "    </tr>\n",
       "    <tr>\n",
       "      <th>322</th>\n",
       "      <td>산은-수은 “대우조선 3조 추가 자본확충”</td>\n",
       "      <td>뉴스 &gt; 경제 &gt; 경제일반</td>\n",
       "    </tr>\n",
       "    <tr>\n",
       "      <th>474</th>\n",
       "      <td>[단독] 대우조선 살리기 계획 3조원 펑크</td>\n",
       "      <td>경제 &gt; 경제일반</td>\n",
       "    </tr>\n",
       "    <tr>\n",
       "      <th>3166</th>\n",
       "      <td>대우조선 자본확충안…노조 반대로 무산 위기</td>\n",
       "      <td>마켓·비즈 &gt; 경제일반</td>\n",
       "    </tr>\n",
       "    <tr>\n",
       "      <th>3927</th>\n",
       "      <td>“일단 살려놓고 보자”··대우조선해양 ‘폭탄 돌리기’ 나선 정부</td>\n",
       "      <td>마켓·비즈 &gt; 경제일반</td>\n",
       "    </tr>\n",
       "    <tr>\n",
       "      <th>3252</th>\n",
       "      <td>대우조선 채권단 “2조8000억 자본확충, 노조 동의없인 무효”</td>\n",
       "      <td>뉴스 &gt; 경제 &gt; 경제일반</td>\n",
       "    </tr>\n",
       "    <tr>\n",
       "      <th>2512</th>\n",
       "      <td>“대우조선노조 자구안 동참 동의서 10일까지 제출 안하면 지원 중단”</td>\n",
       "      <td>뉴스 &gt; 경제 &gt; 경제일반</td>\n",
       "    </tr>\n",
       "    <tr>\n",
       "      <th>2499</th>\n",
       "      <td>[간추린 뉴스]대우조선, 5300억 규모 거제 부동산 8건 매각 추진 外</td>\n",
       "      <td>뉴스 &gt; 경제 &gt; 경제일반</td>\n",
       "    </tr>\n",
       "    <tr>\n",
       "      <th>3001</th>\n",
       "      <td>대우조선 자본확충안, 노조 반대로 무산 위기</td>\n",
       "      <td>마켓·비즈 &gt; 경제일반</td>\n",
       "    </tr>\n",
       "  </tbody>\n",
       "</table>\n",
       "</div>"
      ],
      "text/plain": [
       "                                         title        category\n",
       "3159                   대우조선 감자로 산은·금융위 수천억 허공에       경제 > 경제일반\n",
       "654            대우조선, 세계 첫 쇄빙LNG선 건조…8일 북극해로 출발    마켓·비즈 > 경제일반\n",
       "3758                            [경제계 인사]미래에셋대우  뉴스 > 경제 > 경제일반\n",
       "3240                            [경제계 인사]미래에셋대우  뉴스 > 경제 > 경제일반\n",
       "322                    산은-수은 “대우조선 3조 추가 자본확충”  뉴스 > 경제 > 경제일반\n",
       "474                    [단독] 대우조선 살리기 계획 3조원 펑크       경제 > 경제일반\n",
       "3166                   대우조선 자본확충안…노조 반대로 무산 위기    마켓·비즈 > 경제일반\n",
       "3927       “일단 살려놓고 보자”··대우조선해양 ‘폭탄 돌리기’ 나선 정부    마켓·비즈 > 경제일반\n",
       "3252       대우조선 채권단 “2조8000억 자본확충, 노조 동의없인 무효”  뉴스 > 경제 > 경제일반\n",
       "2512    “대우조선노조 자구안 동참 동의서 10일까지 제출 안하면 지원 중단”  뉴스 > 경제 > 경제일반\n",
       "2499  [간추린 뉴스]대우조선, 5300억 규모 거제 부동산 8건 매각 추진 外  뉴스 > 경제 > 경제일반\n",
       "3001                  대우조선 자본확충안, 노조 반대로 무산 위기    마켓·비즈 > 경제일반"
      ]
     },
     "metadata": {},
     "output_type": "display_data"
    },
    {
     "name": "stdout",
     "output_type": "stream",
     "text": [
      "\n",
      "\n",
      "\n",
      "Cluster 3: Size 14\n"
     ]
    },
    {
     "data": {
      "text/html": [
       "<div>\n",
       "<table border=\"1\" class=\"dataframe\">\n",
       "  <thead>\n",
       "    <tr style=\"text-align: right;\">\n",
       "      <th></th>\n",
       "      <th>title</th>\n",
       "      <th>category</th>\n",
       "    </tr>\n",
       "  </thead>\n",
       "  <tbody>\n",
       "    <tr>\n",
       "      <th>3457</th>\n",
       "      <td>‘한·일 정보협정’ 법제처에 심사 의뢰 국방부 “다음주 협정 가서명”</td>\n",
       "      <td>정치 &gt; 국방·북한</td>\n",
       "    </tr>\n",
       "    <tr>\n",
       "      <th>3187</th>\n",
       "      <td>“한·일 군사협정 강행 땐 국방장관 해임건의”</td>\n",
       "      <td>정치 &gt; 국회·정당</td>\n",
       "    </tr>\n",
       "    <tr>\n",
       "      <th>1298</th>\n",
       "      <td>이 와중에…국방부, ‘한일 군사협정’ 2차 협상도 강행</td>\n",
       "      <td>정치 &gt; 국방·북한</td>\n",
       "    </tr>\n",
       "    <tr>\n",
       "      <th>1320</th>\n",
       "      <td>정부, '최순실 게이트' 틈타 한일군사정보보호협청 체결 서둘러</td>\n",
       "      <td>정치 &gt; 국방·외교</td>\n",
       "    </tr>\n",
       "    <tr>\n",
       "      <th>3728</th>\n",
       "      <td>한일군사정보협정 11월 셋째주초 가서명</td>\n",
       "      <td>뉴스 &gt; 정치 &gt; 국방</td>\n",
       "    </tr>\n",
       "    <tr>\n",
       "      <th>1632</th>\n",
       "      <td>한·일 군사정보협정 ‘속전속결’ 체결 강행</td>\n",
       "      <td>정치 &gt; 국방·외교</td>\n",
       "    </tr>\n",
       "    <tr>\n",
       "      <th>3705</th>\n",
       "      <td>한·일 군사정보협정 ‘군사작전’ 하듯</td>\n",
       "      <td>정치 &gt; 국방·외교</td>\n",
       "    </tr>\n",
       "    <tr>\n",
       "      <th>1568</th>\n",
       "      <td>한일 군사정보협정 가속…야 “어수선한 틈 밀어붙이기” 반발</td>\n",
       "      <td>정치 &gt; 국방·북한</td>\n",
       "    </tr>\n",
       "    <tr>\n",
       "      <th>3660</th>\n",
       "      <td>국방부 “다음주 한-일 정보협정 가서명”…국정 혼란 와중에 ‘강행’</td>\n",
       "      <td>정치 &gt; 국방·북한</td>\n",
       "    </tr>\n",
       "    <tr>\n",
       "      <th>1848</th>\n",
       "      <td>韓日 군사정보협정 9일 2차협의… 타결 임박</td>\n",
       "      <td>뉴스 &gt; 사회 &gt; 사회일반</td>\n",
       "    </tr>\n",
       "    <tr>\n",
       "      <th>4141</th>\n",
       "      <td>국방부, 한일군사정보협정 내일 가서명 ‘반대여론 묵살’</td>\n",
       "      <td>정치 &gt; 국방·외교</td>\n",
       "    </tr>\n",
       "    <tr>\n",
       "      <th>3424</th>\n",
       "      <td>국방부, 반대여론 무시하고 “한일 군사정보협정, 법제처 심사의뢰 요청”</td>\n",
       "      <td>정치 &gt; 국방·외교</td>\n",
       "    </tr>\n",
       "  </tbody>\n",
       "</table>\n",
       "</div>"
      ],
      "text/plain": [
       "                                        title        category\n",
       "3457   ‘한·일 정보협정’ 법제처에 심사 의뢰 국방부 “다음주 협정 가서명”      정치 > 국방·북한\n",
       "3187                “한·일 군사협정 강행 땐 국방장관 해임건의”      정치 > 국회·정당\n",
       "1298           이 와중에…국방부, ‘한일 군사협정’ 2차 협상도 강행      정치 > 국방·북한\n",
       "1320       정부, '최순실 게이트' 틈타 한일군사정보보호협청 체결 서둘러      정치 > 국방·외교\n",
       "3728                    한일군사정보협정 11월 셋째주초 가서명    뉴스 > 정치 > 국방\n",
       "1632                  한·일 군사정보협정 ‘속전속결’ 체결 강행      정치 > 국방·외교\n",
       "3705                     한·일 군사정보협정 ‘군사작전’ 하듯      정치 > 국방·외교\n",
       "1568         한일 군사정보협정 가속…야 “어수선한 틈 밀어붙이기” 반발      정치 > 국방·북한\n",
       "3660    국방부 “다음주 한-일 정보협정 가서명”…국정 혼란 와중에 ‘강행’      정치 > 국방·북한\n",
       "1848                 韓日 군사정보협정 9일 2차협의… 타결 임박  뉴스 > 사회 > 사회일반\n",
       "4141           국방부, 한일군사정보협정 내일 가서명 ‘반대여론 묵살’      정치 > 국방·외교\n",
       "3424  국방부, 반대여론 무시하고 “한일 군사정보협정, 법제처 심사의뢰 요청”      정치 > 국방·외교"
      ]
     },
     "metadata": {},
     "output_type": "display_data"
    },
    {
     "name": "stdout",
     "output_type": "stream",
     "text": [
      "\n",
      "\n",
      "\n",
      "Cluster 4: Size 8\n"
     ]
    },
    {
     "data": {
      "text/html": [
       "<div>\n",
       "<table border=\"1\" class=\"dataframe\">\n",
       "  <thead>\n",
       "    <tr style=\"text-align: right;\">\n",
       "      <th></th>\n",
       "      <th>title</th>\n",
       "      <th>category</th>\n",
       "    </tr>\n",
       "  </thead>\n",
       "  <tbody>\n",
       "    <tr>\n",
       "      <th>1441</th>\n",
       "      <td>[속보]삼척 촛대바위서 사고···구조 나선 해경 특공대원·근로자 3명 사망·실종</td>\n",
       "      <td>사회 &gt; 사건·사고</td>\n",
       "    </tr>\n",
       "    <tr>\n",
       "      <th>3825</th>\n",
       "      <td>딸 생일날 '먼 길' 떠난 해경 특공대</td>\n",
       "      <td>사회</td>\n",
       "    </tr>\n",
       "    <tr>\n",
       "      <th>3480</th>\n",
       "      <td>삼척 순직 해경 특공대원 ‘LG 의인상’</td>\n",
       "      <td>경제 &gt; 경제일반</td>\n",
       "    </tr>\n",
       "    <tr>\n",
       "      <th>1850</th>\n",
       "      <td>근로자 구하던 해경 2명, 파도 휩쓸려 사망-실종</td>\n",
       "      <td>뉴스 &gt; 사회 &gt; 사회일반</td>\n",
       "    </tr>\n",
       "    <tr>\n",
       "      <th>3403</th>\n",
       "      <td>삼척 갯바위 고립된 노동자 구조중 실종된 해경 특공대원 숨진 채 발견</td>\n",
       "      <td>사회 &gt; 사건·사고</td>\n",
       "    </tr>\n",
       "    <tr>\n",
       "      <th>1495</th>\n",
       "      <td>삼척서 파도에 휩쓸린 해경특공대원 등 2명 사망·1명 실종</td>\n",
       "      <td>사회 &gt; 전국</td>\n",
       "    </tr>\n",
       "    <tr>\n",
       "      <th>1614</th>\n",
       "      <td>삼척 갯바위 공사 중 파도에 고립…노동자 1명·구조 나선 해경 1명 사망</td>\n",
       "      <td>사회 &gt; 사건·사고</td>\n",
       "    </tr>\n",
       "    <tr>\n",
       "      <th>1909</th>\n",
       "      <td>파도 휩쓸린 근로자 구하다… 해경특공대 1명 사망, 1명 실종</td>\n",
       "      <td>사회 &gt; 사건ㆍ사고</td>\n",
       "    </tr>\n",
       "  </tbody>\n",
       "</table>\n",
       "</div>"
      ],
      "text/plain": [
       "                                             title        category\n",
       "1441  [속보]삼척 촛대바위서 사고···구조 나선 해경 특공대원·근로자 3명 사망·실종      사회 > 사건·사고\n",
       "3825                         딸 생일날 '먼 길' 떠난 해경 특공대              사회\n",
       "3480                        삼척 순직 해경 특공대원 ‘LG 의인상’       경제 > 경제일반\n",
       "1850                   근로자 구하던 해경 2명, 파도 휩쓸려 사망-실종  뉴스 > 사회 > 사회일반\n",
       "3403        삼척 갯바위 고립된 노동자 구조중 실종된 해경 특공대원 숨진 채 발견      사회 > 사건·사고\n",
       "1495              삼척서 파도에 휩쓸린 해경특공대원 등 2명 사망·1명 실종         사회 > 전국\n",
       "1614      삼척 갯바위 공사 중 파도에 고립…노동자 1명·구조 나선 해경 1명 사망      사회 > 사건·사고\n",
       "1909            파도 휩쓸린 근로자 구하다… 해경특공대 1명 사망, 1명 실종      사회 > 사건ㆍ사고"
      ]
     },
     "metadata": {},
     "output_type": "display_data"
    },
    {
     "name": "stdout",
     "output_type": "stream",
     "text": [
      "\n",
      "\n",
      "\n",
      "Cluster 5: Size 5\n"
     ]
    },
    {
     "data": {
      "text/html": [
       "<div>\n",
       "<table border=\"1\" class=\"dataframe\">\n",
       "  <thead>\n",
       "    <tr style=\"text-align: right;\">\n",
       "      <th></th>\n",
       "      <th>title</th>\n",
       "      <th>category</th>\n",
       "    </tr>\n",
       "  </thead>\n",
       "  <tbody>\n",
       "    <tr>\n",
       "      <th>956</th>\n",
       "      <td>[속보]'최순실 게이트' 송성각 전 콘텐츠진흥원장 체포</td>\n",
       "      <td>사회 &gt; 법원·검찰</td>\n",
       "    </tr>\n",
       "    <tr>\n",
       "      <th>3196</th>\n",
       "      <td>[속보] ‘차은택 은사’ 송성각 전 콘텐츠진흥원장 영장 발부</td>\n",
       "      <td>사회 &gt; 사회일반</td>\n",
       "    </tr>\n",
       "    <tr>\n",
       "      <th>963</th>\n",
       "      <td>‘최순실 의혹’ 수사 검찰, 뇌물·강요혐의로 송성각 전 콘텐츠진흥원장 체포</td>\n",
       "      <td>사회 &gt; 사회일반</td>\n",
       "    </tr>\n",
       "    <tr>\n",
       "      <th>3204</th>\n",
       "      <td>[속보]‘최순실 게이트’ 송성각 전 콘텐츠진흥원장 구속</td>\n",
       "      <td>사회 &gt; 법원·검찰</td>\n",
       "    </tr>\n",
       "    <tr>\n",
       "      <th>964</th>\n",
       "      <td>‘차은택 측근’ 송성각 전 콘텐츠진흥원장 체포</td>\n",
       "      <td>사회 &gt; 사회일반</td>\n",
       "    </tr>\n",
       "  </tbody>\n",
       "</table>\n",
       "</div>"
      ],
      "text/plain": [
       "                                          title    category\n",
       "956              [속보]'최순실 게이트' 송성각 전 콘텐츠진흥원장 체포  사회 > 법원·검찰\n",
       "3196          [속보] ‘차은택 은사’ 송성각 전 콘텐츠진흥원장 영장 발부   사회 > 사회일반\n",
       "963   ‘최순실 의혹’ 수사 검찰, 뇌물·강요혐의로 송성각 전 콘텐츠진흥원장 체포   사회 > 사회일반\n",
       "3204             [속보]‘최순실 게이트’ 송성각 전 콘텐츠진흥원장 구속  사회 > 법원·검찰\n",
       "964                   ‘차은택 측근’ 송성각 전 콘텐츠진흥원장 체포   사회 > 사회일반"
      ]
     },
     "metadata": {},
     "output_type": "display_data"
    },
    {
     "name": "stdout",
     "output_type": "stream",
     "text": [
      "\n",
      "\n",
      "\n",
      "Cluster 6: Size 32\n"
     ]
    },
    {
     "data": {
      "text/html": [
       "<div>\n",
       "<table border=\"1\" class=\"dataframe\">\n",
       "  <thead>\n",
       "    <tr style=\"text-align: right;\">\n",
       "      <th></th>\n",
       "      <th>title</th>\n",
       "      <th>category</th>\n",
       "    </tr>\n",
       "  </thead>\n",
       "  <tbody>\n",
       "    <tr>\n",
       "      <th>3081</th>\n",
       "      <td>서울~부산 거리 1.4배 해안선 13년 간 개발로 훼손</td>\n",
       "      <td>사회 &gt; 사회일반</td>\n",
       "    </tr>\n",
       "    <tr>\n",
       "      <th>652</th>\n",
       "      <td>마을과 함께하는 방과후학교, 내년 서울 9개구 시범운영</td>\n",
       "      <td>사회 &gt; 교육</td>\n",
       "    </tr>\n",
       "    <tr>\n",
       "      <th>282</th>\n",
       "      <td>[아파트 시세]서울 아파트값 상승률 0.06%… 일주일새 절반 뚝</td>\n",
       "      <td>뉴스 &gt; 경제 &gt; 경제일반</td>\n",
       "    </tr>\n",
       "    <tr>\n",
       "      <th>2252</th>\n",
       "      <td>강원 인재양성 요람, 제2강원학사 서울 강북에 문 연다</td>\n",
       "      <td>사회 &gt; 전국</td>\n",
       "    </tr>\n",
       "    <tr>\n",
       "      <th>3443</th>\n",
       "      <td>‘서울 지하철 통합’ 노사정 합의···4년간 1029명 감축키로</td>\n",
       "      <td>전국 &gt; 서울·수도권 서울 경기 인천</td>\n",
       "    </tr>\n",
       "    <tr>\n",
       "      <th>3237</th>\n",
       "      <td>[화제의 분양현장]‘11·3 규제’ 피하고, 서울 강남 접근성 뛰어난 지역은…</td>\n",
       "      <td>뉴스 &gt; 경제 &gt; 부동산</td>\n",
       "    </tr>\n",
       "    <tr>\n",
       "      <th>1912</th>\n",
       "      <td>서울~원주, 이제 54분이면 도착</td>\n",
       "      <td>사회 &gt; 교통ㆍ관광ㆍ항공</td>\n",
       "    </tr>\n",
       "    <tr>\n",
       "      <th>3734</th>\n",
       "      <td>[굿바이 서울!/정은영]지역 자부심을 키우는 토박이 기업</td>\n",
       "      <td>뉴스 &gt; 경제 &gt; 경제일반</td>\n",
       "    </tr>\n",
       "    <tr>\n",
       "      <th>3780</th>\n",
       "      <td>서울지하철 ‘메트로-도시철도’ 통합 합의</td>\n",
       "      <td>뉴스 &gt; 사회 &gt; 사회일반</td>\n",
       "    </tr>\n",
       "    <tr>\n",
       "      <th>1833</th>\n",
       "      <td>‘감정노동자 권리장전’ 서울 첫 제정</td>\n",
       "      <td>뉴스 &gt; 사회 &gt; 사회일반</td>\n",
       "    </tr>\n",
       "    <tr>\n",
       "      <th>1675</th>\n",
       "      <td>전국 대부분 아침 영하로 떨어져…서울 -2도</td>\n",
       "      <td>사회 &gt; 사회일반</td>\n",
       "    </tr>\n",
       "    <tr>\n",
       "      <th>741</th>\n",
       "      <td>늦가을, 서울에서 단풍을 감상하고 싶다면?</td>\n",
       "      <td>사회 &gt; 사회일반</td>\n",
       "    </tr>\n",
       "  </tbody>\n",
       "</table>\n",
       "</div>"
      ],
      "text/plain": [
       "                                            title              category\n",
       "3081               서울~부산 거리 1.4배 해안선 13년 간 개발로 훼손             사회 > 사회일반\n",
       "652                마을과 함께하는 방과후학교, 내년 서울 9개구 시범운영               사회 > 교육\n",
       "282          [아파트 시세]서울 아파트값 상승률 0.06%… 일주일새 절반 뚝        뉴스 > 경제 > 경제일반\n",
       "2252               강원 인재양성 요람, 제2강원학사 서울 강북에 문 연다               사회 > 전국\n",
       "3443          ‘서울 지하철 통합’ 노사정 합의···4년간 1029명 감축키로  전국 > 서울·수도권 서울 경기 인천\n",
       "3237  [화제의 분양현장]‘11·3 규제’ 피하고, 서울 강남 접근성 뛰어난 지역은…         뉴스 > 경제 > 부동산\n",
       "1912                           서울~원주, 이제 54분이면 도착         사회 > 교통ㆍ관광ㆍ항공\n",
       "3734              [굿바이 서울!/정은영]지역 자부심을 키우는 토박이 기업        뉴스 > 경제 > 경제일반\n",
       "3780                       서울지하철 ‘메트로-도시철도’ 통합 합의        뉴스 > 사회 > 사회일반\n",
       "1833                         ‘감정노동자 권리장전’ 서울 첫 제정        뉴스 > 사회 > 사회일반\n",
       "1675                     전국 대부분 아침 영하로 떨어져…서울 -2도             사회 > 사회일반\n",
       "741                       늦가을, 서울에서 단풍을 감상하고 싶다면?             사회 > 사회일반"
      ]
     },
     "metadata": {},
     "output_type": "display_data"
    },
    {
     "name": "stdout",
     "output_type": "stream",
     "text": [
      "\n",
      "\n",
      "\n",
      "Cluster 7: Size 11\n"
     ]
    },
    {
     "data": {
      "text/html": [
       "<div>\n",
       "<table border=\"1\" class=\"dataframe\">\n",
       "  <thead>\n",
       "    <tr style=\"text-align: right;\">\n",
       "      <th></th>\n",
       "      <th>title</th>\n",
       "      <th>category</th>\n",
       "    </tr>\n",
       "  </thead>\n",
       "  <tbody>\n",
       "    <tr>\n",
       "      <th>412</th>\n",
       "      <td>美 누가 이겨도 ‘보호무역’… 트럼프 당선땐 브렉시트급 충격</td>\n",
       "      <td>뉴스 &gt; 경제 &gt; 경제일반</td>\n",
       "    </tr>\n",
       "    <tr>\n",
       "      <th>2118</th>\n",
       "      <td>트럼프 우세에 국내 금값 급등…브렉시트 이후 최대폭</td>\n",
       "      <td>경제 &gt; 경제일반</td>\n",
       "    </tr>\n",
       "    <tr>\n",
       "      <th>2991</th>\n",
       "      <td>“브렉시트 학습효과·‘통합’ 안도감으로 시장 회복”</td>\n",
       "      <td>경제 &gt; 증권</td>\n",
       "    </tr>\n",
       "    <tr>\n",
       "      <th>3070</th>\n",
       "      <td>브렉시트 충격받았던 영국인들이 미국인들에게 보내는 \"트럼프 시대를 견뎌내는 법\"</td>\n",
       "      <td>국제 &gt; 국제일반</td>\n",
       "    </tr>\n",
       "    <tr>\n",
       "      <th>370</th>\n",
       "      <td>메이 “브렉시트 결정 되돌리는 일 없을 것”</td>\n",
       "      <td>뉴스 &gt; 국제 &gt; 국제일반</td>\n",
       "    </tr>\n",
       "    <tr>\n",
       "      <th>2804</th>\n",
       "      <td>영국 브렉시트와 트럼프 승리의 5가지 공통점</td>\n",
       "      <td>국제 &gt; 국제일반</td>\n",
       "    </tr>\n",
       "    <tr>\n",
       "      <th>3952</th>\n",
       "      <td>“트럼프 당선과 브렉시트, 고립적 보수주의의 부활”</td>\n",
       "      <td>사회 &gt; 사회일반</td>\n",
       "    </tr>\n",
       "    <tr>\n",
       "      <th>184</th>\n",
       "      <td>[2016 미국의 선택]‘미국판 브렉시트’ 일어날지도 모른다</td>\n",
       "      <td>국제 &gt; 미국·중남미</td>\n",
       "    </tr>\n",
       "    <tr>\n",
       "      <th>637</th>\n",
       "      <td>'제2의 브렉시트 일어나나'...세계는 미국 대선을 어떻게 지켜봤나</td>\n",
       "      <td>국제 &gt; 국제일반</td>\n",
       "    </tr>\n",
       "    <tr>\n",
       "      <th>3151</th>\n",
       "      <td>“브렉시트 학습 효과·통합 메시지에 투자심리 회복”</td>\n",
       "      <td>경제 &gt; 증권</td>\n",
       "    </tr>\n",
       "    <tr>\n",
       "      <th>2595</th>\n",
       "      <td>反이민 정서 자극한 포퓰리즘 선거… 브렉시트와 닮은꼴</td>\n",
       "      <td>뉴스 &gt; 국제 &gt; 미국/북미</td>\n",
       "    </tr>\n",
       "  </tbody>\n",
       "</table>\n",
       "</div>"
      ],
      "text/plain": [
       "                                             title         category\n",
       "412              美 누가 이겨도 ‘보호무역’… 트럼프 당선땐 브렉시트급 충격   뉴스 > 경제 > 경제일반\n",
       "2118                  트럼프 우세에 국내 금값 급등…브렉시트 이후 최대폭        경제 > 경제일반\n",
       "2991                  “브렉시트 학습효과·‘통합’ 안도감으로 시장 회복”          경제 > 증권\n",
       "3070  브렉시트 충격받았던 영국인들이 미국인들에게 보내는 \"트럼프 시대를 견뎌내는 법\"        국제 > 국제일반\n",
       "370                       메이 “브렉시트 결정 되돌리는 일 없을 것”   뉴스 > 국제 > 국제일반\n",
       "2804                      영국 브렉시트와 트럼프 승리의 5가지 공통점        국제 > 국제일반\n",
       "3952                  “트럼프 당선과 브렉시트, 고립적 보수주의의 부활”        사회 > 사회일반\n",
       "184              [2016 미국의 선택]‘미국판 브렉시트’ 일어날지도 모른다      국제 > 미국·중남미\n",
       "637          '제2의 브렉시트 일어나나'...세계는 미국 대선을 어떻게 지켜봤나        국제 > 국제일반\n",
       "3151                  “브렉시트 학습 효과·통합 메시지에 투자심리 회복”          경제 > 증권\n",
       "2595                 反이민 정서 자극한 포퓰리즘 선거… 브렉시트와 닮은꼴  뉴스 > 국제 > 미국/북미"
      ]
     },
     "metadata": {},
     "output_type": "display_data"
    },
    {
     "name": "stdout",
     "output_type": "stream",
     "text": [
      "\n",
      "\n",
      "\n",
      "Cluster 8: Size 3\n"
     ]
    },
    {
     "data": {
      "text/html": [
       "<div>\n",
       "<table border=\"1\" class=\"dataframe\">\n",
       "  <thead>\n",
       "    <tr style=\"text-align: right;\">\n",
       "      <th></th>\n",
       "      <th>title</th>\n",
       "      <th>category</th>\n",
       "    </tr>\n",
       "  </thead>\n",
       "  <tbody>\n",
       "    <tr>\n",
       "      <th>1249</th>\n",
       "      <td>[박근혜·최순실 게이트]‘박정희 미화’ 소설 쓴 류철균, 박 대통령이 만든 재단 이사였다</td>\n",
       "      <td>정치 &gt; 정치일반</td>\n",
       "    </tr>\n",
       "    <tr>\n",
       "      <th>942</th>\n",
       "      <td>[박근혜·최순실 게이트]‘박정희 미화’ 소설 쓴 류철균, 박 대통령이 만든 재단 이사였다</td>\n",
       "      <td>정치 &gt; 정치일반</td>\n",
       "    </tr>\n",
       "    <tr>\n",
       "      <th>962</th>\n",
       "      <td>[단독]'박정희 미화' 소설 쓴 류철균, 박 대통령이 만든 재단 이사였다</td>\n",
       "      <td>사회 &gt; 사회일반</td>\n",
       "    </tr>\n",
       "  </tbody>\n",
       "</table>\n",
       "</div>"
      ],
      "text/plain": [
       "                                                  title   category\n",
       "1249  [박근혜·최순실 게이트]‘박정희 미화’ 소설 쓴 류철균, 박 대통령이 만든 재단 이사였다  정치 > 정치일반\n",
       "942   [박근혜·최순실 게이트]‘박정희 미화’ 소설 쓴 류철균, 박 대통령이 만든 재단 이사였다  정치 > 정치일반\n",
       "962            [단독]'박정희 미화' 소설 쓴 류철균, 박 대통령이 만든 재단 이사였다  사회 > 사회일반"
      ]
     },
     "metadata": {},
     "output_type": "display_data"
    },
    {
     "name": "stdout",
     "output_type": "stream",
     "text": [
      "\n",
      "\n",
      "\n",
      "Cluster 9: Size 12\n"
     ]
    },
    {
     "data": {
      "text/html": [
       "<div>\n",
       "<table border=\"1\" class=\"dataframe\">\n",
       "  <thead>\n",
       "    <tr style=\"text-align: right;\">\n",
       "      <th></th>\n",
       "      <th>title</th>\n",
       "      <th>category</th>\n",
       "    </tr>\n",
       "  </thead>\n",
       "  <tbody>\n",
       "    <tr>\n",
       "      <th>1125</th>\n",
       "      <td>“朴대통령, 국회에 총리 추천 맡겨야… 빨리 양보하는게 최선”</td>\n",
       "      <td>뉴스 &gt; 정치 &gt; 정치일반</td>\n",
       "    </tr>\n",
       "    <tr>\n",
       "      <th>2344</th>\n",
       "      <td>야3당 ‘국회 추천 총리’ 공식 거부</td>\n",
       "      <td>정치 &gt; 국회·정당</td>\n",
       "    </tr>\n",
       "    <tr>\n",
       "      <th>1419</th>\n",
       "      <td>안철수 “朴대통령의 국회 총리 추천 수용은 ‘시간끌기용’…완전히 국정 손 떼고 물러...</td>\n",
       "      <td>정치 &gt; 정치일반</td>\n",
       "    </tr>\n",
       "    <tr>\n",
       "      <th>1132</th>\n",
       "      <td>\"김병준 철회하고, 國會가 총리 추천하자\"</td>\n",
       "      <td>정치</td>\n",
       "    </tr>\n",
       "    <tr>\n",
       "      <th>1115</th>\n",
       "      <td>“국회추천 총리에 내치 전권만 주면 돼”… 민주당 숨고르기</td>\n",
       "      <td>뉴스 &gt; 정치 &gt; 정치일반</td>\n",
       "    </tr>\n",
       "    <tr>\n",
       "      <th>1879</th>\n",
       "      <td>朴대통령 “국회 추천 총리가 내각 통할” 野 “권한 모호… 2선후퇴 먼저” 또 거부</td>\n",
       "      <td>뉴스 &gt; 정치 &gt; 정치일반</td>\n",
       "    </tr>\n",
       "    <tr>\n",
       "      <th>2628</th>\n",
       "      <td>'총리 추천' 거부하고 거리로 나서는 3野</td>\n",
       "      <td>정치</td>\n",
       "    </tr>\n",
       "    <tr>\n",
       "      <th>1890</th>\n",
       "      <td>韓·日 군사협정 서두르는 정부… 野 추천 총리가 받아들일까</td>\n",
       "      <td>정치 &gt; 외교</td>\n",
       "    </tr>\n",
       "    <tr>\n",
       "      <th>2453</th>\n",
       "      <td>야 3당 “박 대통령 결단 먼저”…‘총리 추천 제안’ 공식 거부</td>\n",
       "      <td>정치 &gt; 국회·정당</td>\n",
       "    </tr>\n",
       "    <tr>\n",
       "      <th>1319</th>\n",
       "      <td>박대통령 “국회 추천 총리, 내각 통할하도록 하겠다”</td>\n",
       "      <td>정치 &gt; 청와대</td>\n",
       "    </tr>\n",
       "    <tr>\n",
       "      <th>1881</th>\n",
       "      <td>朴대통령이 국회로 던진 공… 野 \"전권이양 약속하면 총리 협상\"</td>\n",
       "      <td>정치</td>\n",
       "    </tr>\n",
       "    <tr>\n",
       "      <th>2762</th>\n",
       "      <td>청와대 “국회가 조속히 총리후보자 추천해주길”</td>\n",
       "      <td>정치 &gt; 청와대</td>\n",
       "    </tr>\n",
       "  </tbody>\n",
       "</table>\n",
       "</div>"
      ],
      "text/plain": [
       "                                                  title        category\n",
       "1125                 “朴대통령, 국회에 총리 추천 맡겨야… 빨리 양보하는게 최선”  뉴스 > 정치 > 정치일반\n",
       "2344                               야3당 ‘국회 추천 총리’ 공식 거부      정치 > 국회·정당\n",
       "1419  안철수 “朴대통령의 국회 총리 추천 수용은 ‘시간끌기용’…완전히 국정 손 떼고 물러...       정치 > 정치일반\n",
       "1132                            \"김병준 철회하고, 國會가 총리 추천하자\"              정치\n",
       "1115                   “국회추천 총리에 내치 전권만 주면 돼”… 민주당 숨고르기  뉴스 > 정치 > 정치일반\n",
       "1879     朴대통령 “국회 추천 총리가 내각 통할” 野 “권한 모호… 2선후퇴 먼저” 또 거부  뉴스 > 정치 > 정치일반\n",
       "2628                            '총리 추천' 거부하고 거리로 나서는 3野              정치\n",
       "1890                   韓·日 군사협정 서두르는 정부… 野 추천 총리가 받아들일까         정치 > 외교\n",
       "2453                야 3당 “박 대통령 결단 먼저”…‘총리 추천 제안’ 공식 거부      정치 > 국회·정당\n",
       "1319                      박대통령 “국회 추천 총리, 내각 통할하도록 하겠다”        정치 > 청와대\n",
       "1881                朴대통령이 국회로 던진 공… 野 \"전권이양 약속하면 총리 협상\"              정치\n",
       "2762                          청와대 “국회가 조속히 총리후보자 추천해주길”        정치 > 청와대"
      ]
     },
     "metadata": {},
     "output_type": "display_data"
    },
    {
     "name": "stdout",
     "output_type": "stream",
     "text": [
      "\n",
      "\n",
      "\n",
      "Cluster 10: Size 17\n"
     ]
    },
    {
     "data": {
      "text/html": [
       "<div>\n",
       "<table border=\"1\" class=\"dataframe\">\n",
       "  <thead>\n",
       "    <tr style=\"text-align: right;\">\n",
       "      <th></th>\n",
       "      <th>title</th>\n",
       "      <th>category</th>\n",
       "    </tr>\n",
       "  </thead>\n",
       "  <tbody>\n",
       "    <tr>\n",
       "      <th>2414</th>\n",
       "      <td>‘전생 체험’ 박승주, 국민안전처 장관 후보자 자진사퇴</td>\n",
       "      <td>정치 &gt; 정치일반</td>\n",
       "    </tr>\n",
       "    <tr>\n",
       "      <th>686</th>\n",
       "      <td>'굿판 참여' 박승주 안전처 장관 내정자 \"환태평양 지진대가 활동해서\" 해명</td>\n",
       "      <td>사회 &gt; 사회일반</td>\n",
       "    </tr>\n",
       "    <tr>\n",
       "      <th>589</th>\n",
       "      <td>‘전생 안전처’ 장관? 박승주 후보자, 전생 체험 고백 책도 썼다</td>\n",
       "      <td>사회 &gt; 사회일반</td>\n",
       "    </tr>\n",
       "    <tr>\n",
       "      <th>2403</th>\n",
       "      <td>‘굿판·전생 체험’ 박승주 안전처 장관 내정자 자진 사퇴</td>\n",
       "      <td>정치 &gt; 정치일반</td>\n",
       "    </tr>\n",
       "    <tr>\n",
       "      <th>708</th>\n",
       "      <td>박승주 국민안전처 장관 내정자 ‘광화문 굿판’ 참석 해명 들어보니</td>\n",
       "      <td>사회 &gt; 사회일반</td>\n",
       "    </tr>\n",
       "    <tr>\n",
       "      <th>2399</th>\n",
       "      <td>[속보] 박승주 안전처 장관 내정자, 자진 사퇴</td>\n",
       "      <td>정치 &gt; 정치일반</td>\n",
       "    </tr>\n",
       "    <tr>\n",
       "      <th>503</th>\n",
       "      <td>안전처 장관 내정자 “명상 통해 47가지 모습으로 지구 왔다”</td>\n",
       "      <td>정치 &gt; 정치BAR</td>\n",
       "    </tr>\n",
       "    <tr>\n",
       "      <th>2577</th>\n",
       "      <td>‘굿판 논란‘ 박승주 안전처장관 후보자 자진 사퇴</td>\n",
       "      <td>뉴스 &gt; 정치 &gt; 국회</td>\n",
       "    </tr>\n",
       "    <tr>\n",
       "      <th>813</th>\n",
       "      <td>[카드뉴스] 장관 내정자와 굿판</td>\n",
       "      <td>사회 &gt; 카드뉴스</td>\n",
       "    </tr>\n",
       "    <tr>\n",
       "      <th>1012</th>\n",
       "      <td>[횡설수설/송평인]안전처 장관 후보자의 굿판</td>\n",
       "      <td>뉴스 &gt; 정치 &gt; 정치일반</td>\n",
       "    </tr>\n",
       "    <tr>\n",
       "      <th>906</th>\n",
       "      <td>광화문 한복판 굿판 참석하고 전봉준 만났다는 장관 내정자</td>\n",
       "      <td>정치 &gt; 정치일반</td>\n",
       "    </tr>\n",
       "    <tr>\n",
       "      <th>519</th>\n",
       "      <td>박승주 안전처장관 내정자, \"전봉준 장군이 찾아왔다\" 주장, 굿판 참석도</td>\n",
       "      <td>사회 &gt; 사회일반</td>\n",
       "    </tr>\n",
       "  </tbody>\n",
       "</table>\n",
       "</div>"
      ],
      "text/plain": [
       "                                           title        category\n",
       "2414              ‘전생 체험’ 박승주, 국민안전처 장관 후보자 자진사퇴       정치 > 정치일반\n",
       "686   '굿판 참여' 박승주 안전처 장관 내정자 \"환태평양 지진대가 활동해서\" 해명       사회 > 사회일반\n",
       "589         ‘전생 안전처’ 장관? 박승주 후보자, 전생 체험 고백 책도 썼다       사회 > 사회일반\n",
       "2403             ‘굿판·전생 체험’ 박승주 안전처 장관 내정자 자진 사퇴       정치 > 정치일반\n",
       "708         박승주 국민안전처 장관 내정자 ‘광화문 굿판’ 참석 해명 들어보니       사회 > 사회일반\n",
       "2399                  [속보] 박승주 안전처 장관 내정자, 자진 사퇴       정치 > 정치일반\n",
       "503           안전처 장관 내정자 “명상 통해 47가지 모습으로 지구 왔다”      정치 > 정치BAR\n",
       "2577                 ‘굿판 논란‘ 박승주 안전처장관 후보자 자진 사퇴    뉴스 > 정치 > 국회\n",
       "813                            [카드뉴스] 장관 내정자와 굿판       사회 > 카드뉴스\n",
       "1012                    [횡설수설/송평인]안전처 장관 후보자의 굿판  뉴스 > 정치 > 정치일반\n",
       "906              광화문 한복판 굿판 참석하고 전봉준 만났다는 장관 내정자       정치 > 정치일반\n",
       "519     박승주 안전처장관 내정자, \"전봉준 장군이 찾아왔다\" 주장, 굿판 참석도       사회 > 사회일반"
      ]
     },
     "metadata": {},
     "output_type": "display_data"
    },
    {
     "name": "stdout",
     "output_type": "stream",
     "text": [
      "\n",
      "\n",
      "\n",
      "Cluster 11: Size 10\n"
     ]
    },
    {
     "data": {
      "text/html": [
       "<div>\n",
       "<table border=\"1\" class=\"dataframe\">\n",
       "  <thead>\n",
       "    <tr style=\"text-align: right;\">\n",
       "      <th></th>\n",
       "      <th>title</th>\n",
       "      <th>category</th>\n",
       "    </tr>\n",
       "  </thead>\n",
       "  <tbody>\n",
       "    <tr>\n",
       "      <th>2380</th>\n",
       "      <td>미국사회 ‘트럼프 쇼크’</td>\n",
       "      <td>국제 &gt; 미국·중남미</td>\n",
       "    </tr>\n",
       "    <tr>\n",
       "      <th>3955</th>\n",
       "      <td>최순실 게이트에 트럼프 쇼크까지…‘10년 위기설’ 현실되나</td>\n",
       "      <td>사회 &gt; 사회일반</td>\n",
       "    </tr>\n",
       "    <tr>\n",
       "      <th>2836</th>\n",
       "      <td>미국-멕시코-캐나다 신문 1면으로 본 ‘트럼프 쇼크’</td>\n",
       "      <td>국제 &gt; 미국·중남미</td>\n",
       "    </tr>\n",
       "    <tr>\n",
       "      <th>3254</th>\n",
       "      <td>하루짜리 ‘트럼프 쇼크’… 亞증시, 親시장 기대감에 반등</td>\n",
       "      <td>뉴스 &gt; 경제 &gt; 경제일반</td>\n",
       "    </tr>\n",
       "    <tr>\n",
       "      <th>3466</th>\n",
       "      <td>IBK증권 “‘트럼프 쇼크 ’로 인한 불확실성 2017년까지 이어질 것”</td>\n",
       "      <td>마켓·비즈 &gt; 경제일반</td>\n",
       "    </tr>\n",
       "    <tr>\n",
       "      <th>2205</th>\n",
       "      <td>트럼프 쇼크에 증시 ‘충격’…코스피 1950선 추락</td>\n",
       "      <td>경제 &gt; 증권</td>\n",
       "    </tr>\n",
       "    <tr>\n",
       "      <th>2987</th>\n",
       "      <td>‘트럼프 쇼크’ 자동차·철강·가전 직격탄</td>\n",
       "      <td>경제 &gt; 경제일반</td>\n",
       "    </tr>\n",
       "    <tr>\n",
       "      <th>3192</th>\n",
       "      <td>‘트럼프 쇼크’마저 위기탈출용 카드로…청 ‘위험한 여론전’</td>\n",
       "      <td>정치 &gt; 청와대</td>\n",
       "    </tr>\n",
       "    <tr>\n",
       "      <th>2304</th>\n",
       "      <td>美 대선 대이변··· 금융시장 ‘트럼프 쇼크’, 코스피 45P 폭락</td>\n",
       "      <td>마켓·비즈 &gt; 경제일반</td>\n",
       "    </tr>\n",
       "    <tr>\n",
       "      <th>2750</th>\n",
       "      <td>‘트럼프 쇼크’ 하루만에 진정?···코스피 1990선 회복</td>\n",
       "      <td>마켓·비즈 &gt; 경제일반</td>\n",
       "    </tr>\n",
       "  </tbody>\n",
       "</table>\n",
       "</div>"
      ],
      "text/plain": [
       "                                         title        category\n",
       "2380                             미국사회 ‘트럼프 쇼크’     국제 > 미국·중남미\n",
       "3955          최순실 게이트에 트럼프 쇼크까지…‘10년 위기설’ 현실되나       사회 > 사회일반\n",
       "2836             미국-멕시코-캐나다 신문 1면으로 본 ‘트럼프 쇼크’     국제 > 미국·중남미\n",
       "3254           하루짜리 ‘트럼프 쇼크’… 亞증시, 親시장 기대감에 반등  뉴스 > 경제 > 경제일반\n",
       "3466  IBK증권 “‘트럼프 쇼크 ’로 인한 불확실성 2017년까지 이어질 것”    마켓·비즈 > 경제일반\n",
       "2205              트럼프 쇼크에 증시 ‘충격’…코스피 1950선 추락         경제 > 증권\n",
       "2987                    ‘트럼프 쇼크’ 자동차·철강·가전 직격탄       경제 > 경제일반\n",
       "3192          ‘트럼프 쇼크’마저 위기탈출용 카드로…청 ‘위험한 여론전’        정치 > 청와대\n",
       "2304     美 대선 대이변··· 금융시장 ‘트럼프 쇼크’, 코스피 45P 폭락    마켓·비즈 > 경제일반\n",
       "2750          ‘트럼프 쇼크’ 하루만에 진정?···코스피 1990선 회복    마켓·비즈 > 경제일반"
      ]
     },
     "metadata": {},
     "output_type": "display_data"
    },
    {
     "name": "stdout",
     "output_type": "stream",
     "text": [
      "\n",
      "\n",
      "\n"
     ]
    }
   ],
   "source": [
    "cluster_data = []\n",
    "\n",
    "for cluster_index in range(best_k):\n",
    "    if cluster_index in best_cluster:\n",
    "        cluster_data.append(train[train['cluster'] == cluster_index])\n",
    "    \n",
    "for i, d in enumerate(cluster_data):\n",
    "    print('Cluster %d:' % (i), 'Size %d' % (len(d)))\n",
    "\n",
    "    display(d[['title', 'category']].sample(min(len(train.cluster.unique()), len(d))))\n",
    "    print('\\n\\n')"
   ]
  },
  {
   "cell_type": "markdown",
   "metadata": {},
   "source": [
    "## Save Dataframe to MongoDB"
   ]
  },
  {
   "cell_type": "code",
   "execution_count": 26,
   "metadata": {
    "collapsed": true
   },
   "outputs": [],
   "source": [
    "client = MongoClient('mongodb://localhost:27017/somanews')\n",
    "client.somanews.authenticate('ssomanews', 'ssomanews1029')\n",
    "db = client.get_database('somanews')\n",
    "articles = db.get_collection('articles')"
   ]
  },
  {
   "cell_type": "code",
   "execution_count": 27,
   "metadata": {
    "collapsed": false
   },
   "outputs": [],
   "source": [
    "articles.insert_many(train.to_dict(orient='records'))\n",
    "client.close()"
   ]
  },
  {
   "cell_type": "code",
   "execution_count": 28,
   "metadata": {
    "collapsed": false
   },
   "outputs": [
    {
     "name": "stdout",
     "output_type": "stream",
     "text": [
      "Done in 93.898s.\n"
     ]
    }
   ],
   "source": [
    "print(\"Done in %0.3fs.\" % (time() - t0))"
   ]
  }
 ],
 "metadata": {
  "kernelspec": {
   "display_name": "Python 3",
   "language": "python",
   "name": "python3"
  },
  "language_info": {
   "codemirror_mode": {
    "name": "ipython",
    "version": 3
   },
   "file_extension": ".py",
   "mimetype": "text/x-python",
   "name": "python",
   "nbconvert_exporter": "python",
   "pygments_lexer": "ipython3",
   "version": "3.5.2"
  }
 },
 "nbformat": 4,
 "nbformat_minor": 1
}
