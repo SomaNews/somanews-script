{
 "cells": [
  {
   "cell_type": "markdown",
   "metadata": {},
   "source": [
    "# Script for News Data Analysis"
   ]
  },
  {
   "cell_type": "code",
   "execution_count": 1,
   "metadata": {
    "collapsed": false
   },
   "outputs": [],
   "source": [
    "import numpy as np\n",
    "import pandas as pd"
   ]
  },
  {
   "cell_type": "markdown",
   "metadata": {},
   "source": [
    "## Load Data"
   ]
  },
  {
   "cell_type": "code",
   "execution_count": 2,
   "metadata": {
    "collapsed": true
   },
   "outputs": [],
   "source": [
    "from pymongo import MongoClient"
   ]
  },
  {
   "cell_type": "code",
   "execution_count": 3,
   "metadata": {
    "collapsed": false
   },
   "outputs": [],
   "source": [
    "client = MongoClient('mongodb://localhost:27017/somanews')\n",
    "client.somanews.authenticate('ssomanews', 'ssomanews1029')\n",
    "db = client.get_database('somanews')\n",
    "articles = db.get_collection('crawledArticles')"
   ]
  },
  {
   "cell_type": "code",
   "execution_count": 4,
   "metadata": {
    "collapsed": false
   },
   "outputs": [],
   "source": [
    "train = pd.DataFrame(list(articles.find()))\n",
    "client.close()"
   ]
  },
  {
   "cell_type": "code",
   "execution_count": 5,
   "metadata": {
    "collapsed": true
   },
   "outputs": [],
   "source": [
    "category = pd.read_pickle(\"../datastore/category.p\")\n",
    "train = pd.merge(train, category, on='category', how='inner')"
   ]
  },
  {
   "cell_type": "markdown",
   "metadata": {},
   "source": [
    "## Preprocessing\n",
    "1. Remove stopwords (regex, hanja)\n",
    "2. Find all in square bracket\n",
    "3. NNP to English"
   ]
  },
  {
   "cell_type": "code",
   "execution_count": 6,
   "metadata": {
    "collapsed": false
   },
   "outputs": [],
   "source": [
    "from konlpy.tag import Mecab\n",
    "import hanja\n",
    "import re"
   ]
  },
  {
   "cell_type": "code",
   "execution_count": 7,
   "metadata": {
    "collapsed": true
   },
   "outputs": [],
   "source": [
    "mecab = Mecab()\n",
    "pos = lambda d: ['/'.join(p) for p in mecab.pos(d)]"
   ]
  },
  {
   "cell_type": "code",
   "execution_count": 8,
   "metadata": {
    "collapsed": false
   },
   "outputs": [],
   "source": [
    "title = train['title'].tolist()\n",
    "title = [re.findall(\"\\[(.*?)\\]\", each) for each in title]\n",
    "title = list(filter(None, title))\n",
    "title = [each[0] for each in title]"
   ]
  },
  {
   "cell_type": "code",
   "execution_count": 9,
   "metadata": {
    "collapsed": true
   },
   "outputs": [],
   "source": [
    "category = train['name'].tolist()"
   ]
  },
  {
   "cell_type": "markdown",
   "metadata": {},
   "source": [
    "## Counting Newsdata"
   ]
  },
  {
   "cell_type": "code",
   "execution_count": 10,
   "metadata": {
    "collapsed": true
   },
   "outputs": [],
   "source": [
    "from collections import Counter\n",
    "from konlpy.utils import pprint"
   ]
  },
  {
   "cell_type": "code",
   "execution_count": 11,
   "metadata": {
    "collapsed": false
   },
   "outputs": [
    {
     "name": "stdout",
     "output_type": "stream",
     "text": [
      "myCounter: [('사회', 37731), ('정치', 29860), ('경제', 23733), ('문화', 13938), ('기타', 12504), ('스포츠', 11965), ('사설', 10223), ('인물', 8911), ('건강', 2329), ('종합', 2081), ('과학', 1612)]\n"
     ]
    }
   ],
   "source": [
    "categories = Counter(category).most_common()\n",
    "print('myCounter:', categories)"
   ]
  },
  {
   "cell_type": "code",
   "execution_count": 12,
   "metadata": {
    "collapsed": false
   },
   "outputs": [
    {
     "name": "stdout",
     "output_type": "stream",
     "text": [
      "myCounter: [('사설', 2876), ('포토', 2507), ('부고', 2358), ('경향포토', 1748), ('인사', 1673), ('카드뉴스', 1505), ('단독', 1446), ('Why', 842), ('알립니다', 688), ('화제의 분양현장', 687), ('오늘의 채널A', 474), ('오늘의 운세', 460), ('오늘의 날씨', 402), ('더 나은 미래', 385), ('부음', 379), ('오늘의 경기', 372), ('날씨', 371), ('만물상', 360), ('팔면봉', 358), ('속보', 348), ('발언대', 333), ('왜냐면', 307), ('스피킹이 강해지는 영어', 299), ('일사일언', 297), ('두근두근 뇌 운동', 295), ('신문으로 배우는 실용한자', 294), ('리빙포인트', 291), ('매일매일 중국어 한마디', 270), ('스포츠 브리핑', 270), ('입에 착착 붙는 일본어', 270)]\n"
     ]
    }
   ],
   "source": [
    "headlines = Counter(title).most_common(30)\n",
    "print('myCounter:', headlines)"
   ]
  },
  {
   "cell_type": "markdown",
   "metadata": {},
   "source": [
    "## Visualization - Graph"
   ]
  },
  {
   "cell_type": "code",
   "execution_count": 13,
   "metadata": {
    "collapsed": false
   },
   "outputs": [],
   "source": [
    "%matplotlib inline\n",
    "import matplotlib.pyplot as plt\n",
    "from matplotlib import font_manager, rc"
   ]
  },
  {
   "cell_type": "code",
   "execution_count": 14,
   "metadata": {
    "collapsed": true
   },
   "outputs": [],
   "source": [
    "x_category = [each[0] for each in categories]\n",
    "y_category = [each[1] for each in categories]\n",
    "indexes_category = np.arange(len(categories))"
   ]
  },
  {
   "cell_type": "code",
   "execution_count": 15,
   "metadata": {
    "collapsed": false
   },
   "outputs": [],
   "source": [
    "x_headline = [each[0] for each in headlines]\n",
    "y_headline = [each[1] for each in headlines]\n",
    "indexes_headline = np.arange(len(headlines))"
   ]
  },
  {
   "cell_type": "code",
   "execution_count": 16,
   "metadata": {
    "collapsed": false
   },
   "outputs": [],
   "source": [
    "krfont = {'family':'NanumGothic', 'size': 7}\n",
    "rc('font', **krfont)"
   ]
  },
  {
   "cell_type": "markdown",
   "metadata": {},
   "source": [
    "## 전체 기사에 대한 카테고리 분포 분석\n",
    "- 의미있는 결과를 내기 위해 가장 빈도가 많이 나타나는 사회, 정치, 경제만 분석"
   ]
  },
  {
   "cell_type": "code",
   "execution_count": 21,
   "metadata": {
    "collapsed": false
   },
   "outputs": [
    {
     "data": {
      "image/png": "[encoded data removed]",
      "text/plain": [
       "<matplotlib.figure.Figure at 0x7f5c90254eb8>"
      ]
     },
     "metadata": {},
     "output_type": "display_data"
    }
   ],
   "source": [
    "plt.xlabel('News Categories')\n",
    "plt.ylabel('Frequency')\n",
    "plt.title('Category Analysis')\n",
    "plt.xticks(indexes_category, x_category)\n",
    "plt.bar(indexes_category, y_category, align='center', color='#5487C0')\n",
    "plt.show()"
   ]
  },
  {
   "cell_type": "markdown",
   "metadata": {},
   "source": [
    "## 뉴스 기사에 대한 태그 분포 분석\n",
    "- 태그를 왜 제거했나? 빈번하게 등장하기 때문에 의미적인 클러스터링을 방해하는 요인으로 작용\n",
    "- 개수를 30개에서 더 늘려 최대한 많이 제거할 수 있도록 수정"
   ]
  },
  {
   "cell_type": "code",
   "execution_count": 26,
   "metadata": {
    "collapsed": false
   },
   "outputs": [
    {
     "data": {
      "image/png": "[encoded data removed]",
      "text/plain": [
       "<matplotlib.figure.Figure at 0x7f5c8be27e10>"
      ]
     },
     "metadata": {},
     "output_type": "display_data"
    }
   ],
   "source": [
    "plt.xlabel('News Tags')\n",
    "plt.ylabel('Frequency')\n",
    "plt.title('News Tag Analysis')\n",
    "plt.xticks(indexes_headline, x_headline)\n",
    "plt.plot(indexes_headline, y_headline, color='#5487C0')\n",
    "plt.gcf().autofmt_xdate()\n",
    "plt.show()"
   ]
  }
 ],
 "metadata": {
  "kernelspec": {
   "display_name": "Python 3",
   "language": "python",
   "name": "python3"
  },
  "language_info": {
   "codemirror_mode": {
    "name": "ipython",
    "version": 3
   },
   "file_extension": ".py",
   "mimetype": "text/x-python",
   "name": "python",
   "nbconvert_exporter": "python",
   "pygments_lexer": "ipython3",
   "version": "3.5.2"
  }
 },
 "nbformat": 4,
 "nbformat_minor": 1
}
