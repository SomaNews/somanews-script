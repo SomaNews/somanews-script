{
 "cells": [
  {
   "cell_type": "code",
   "execution_count": 1,
   "metadata": {
    "collapsed": false
   },
   "outputs": [],
   "source": [
    "# coding: utf-8\n",
    "\n",
    "from SimilarityClustering import SimilarityClustering\n",
    "import articles_data\n",
    "\n",
    "from gensim.models import Word2Vec\n",
    "import numpy as np\n",
    "import pandas as pd\n",
    "import cnouns as cn\n",
    "from pymongo import MongoClient\n",
    "import datetime\n",
    "\n",
    "client = MongoClient('mongodb://localhost:27017/somanews')\n",
    "client.somanews.authenticate('ssomanews', 'ssomanews1029')\n",
    "db = client.get_database('somanews')\n",
    "\n",
    "crawled_collection = db.get_collection('crawledArticles')\n",
    "clusters_collection = db.get_collection('bclusters')\n",
    "articles_collection = db.get_collection('barticles')\n",
    "\n",
    "datastore_dir = \"../datastore/\"\n",
    "catelist_path = datastore_dir + \"category2.p\"\n",
    "w2v_src_dir = datastore_dir + \"w2v_src4\"\n",
    "w2v_path = datastore_dir + \"sejongcorpus_w2v4_2.p\"\n",
    "nnp_dict_path = datastore_dir + \"nnps2.p\"\n",
    "corpus_path = datastore_dir + \"corpus2.p\"\n",
    "\n",
    "target_time = datetime.datetime.now()\n",
    "# target_time = datetime.datetime(2016, 11, 19)\n",
    "prefix = int(\"%.2d%.2d\"%(target_time.month, target_time.day))\n",
    "prefix_str = \"%d_03\" % prefix\n",
    "\n",
    "nnp_dict_df = pd.read_pickle(nnp_dict_path)\n",
    "nnp_dict_df = nnp_dict_df[nnp_dict_df>10]\n",
    "nnp_dict = nnp_dict_df.index.tolist()\n",
    "\n",
    "custom_dict = [u'새누리', u'새누리당', u'더민주', u'더민주당', u'최순실', u'박대통령', u'국회의장', u'야권의요구', u'정기국회', u'참여정부']\n",
    "dicts = set(nnp_dict + custom_dict)\n",
    "\n",
    "def tokenizer(inp_str):\n",
    "    return cn.pos_tags(inp_str)"
   ]
  },
  {
   "cell_type": "code",
   "execution_count": 2,
   "metadata": {
    "collapsed": false,
    "scrolled": true
   },
   "outputs": [
    {
     "name": "stderr",
     "output_type": "stream",
     "text": [
      "Tokenizing: 100%|██████████| 6136/6136 [02:23<00:00, 42.65it/s]\n"
     ]
    },
    {
     "name": "stdout",
     "output_type": "stream",
     "text": [
      "Size of documents: 6136\n",
      "Loading word2vec model.....\n",
      "Complete to load.\n"
     ]
    },
    {
     "name": "stderr",
     "output_type": "stream",
     "text": [
      "\r",
      "Doc2vec train:   0%|          | 0/20 [00:00<?, ?it/s]"
     ]
    },
    {
     "name": "stdout",
     "output_type": "stream",
     "text": [
      "Size of docvecs: 6136\n",
      "1 passes : dmc, error_rate:0.949429\n",
      "1 passes : dbow, error_rate:0.011419\n"
     ]
    },
    {
     "name": "stderr",
     "output_type": "stream",
     "text": [
      "\r",
      "Doc2vec train:   5%|▌         | 1/20 [02:09<41:00, 129.51s/it]"
     ]
    },
    {
     "name": "stdout",
     "output_type": "stream",
     "text": [
      "1 passes : dmm, error_rate:0.045677\n",
      "2 passes : dmc, error_rate:0.814029\n",
      "2 passes : dbow, error_rate:0.001631\n"
     ]
    },
    {
     "name": "stderr",
     "output_type": "stream",
     "text": [
      "\r",
      "Doc2vec train:  10%|█         | 2/20 [04:07<37:48, 126.01s/it]"
     ]
    },
    {
     "name": "stdout",
     "output_type": "stream",
     "text": [
      "2 passes : dmm, error_rate:0.050571\n",
      "3 passes : dmc, error_rate:0.716150\n",
      "3 passes : dbow, error_rate:0.003263\n"
     ]
    },
    {
     "name": "stderr",
     "output_type": "stream",
     "text": [
      "\r",
      "Doc2vec train:  15%|█▌        | 3/20 [06:01<34:44, 122.59s/it]"
     ]
    },
    {
     "name": "stdout",
     "output_type": "stream",
     "text": [
      "3 passes : dmm, error_rate:0.050571\n",
      "4 passes : dmc, error_rate:0.698206\n",
      "4 passes : dbow, error_rate:0.009788\n"
     ]
    },
    {
     "name": "stderr",
     "output_type": "stream",
     "text": [
      "\r",
      "Doc2vec train:  20%|██        | 4/20 [08:00<32:20, 121.30s/it]"
     ]
    },
    {
     "name": "stdout",
     "output_type": "stream",
     "text": [
      "4 passes : dmm, error_rate:0.102773\n",
      "5 passes : dmc, error_rate:0.579119\n",
      "5 passes : dbow, error_rate:0.004894\n"
     ]
    },
    {
     "name": "stderr",
     "output_type": "stream",
     "text": [
      "\r",
      "Doc2vec train:  25%|██▌       | 5/20 [09:56<29:54, 119.65s/it]"
     ]
    },
    {
     "name": "stdout",
     "output_type": "stream",
     "text": [
      "5 passes : dmm, error_rate:0.101142\n",
      "6 passes : dmc, error_rate:0.541599\n",
      "6 passes : dbow, error_rate:0.003263\n"
     ]
    },
    {
     "name": "stderr",
     "output_type": "stream",
     "text": [
      "\r",
      "Doc2vec train:  30%|███       | 6/20 [11:50<27:31, 117.94s/it]"
     ]
    },
    {
     "name": "stdout",
     "output_type": "stream",
     "text": [
      "6 passes : dmm, error_rate:0.096248\n",
      "7 passes : dmc, error_rate:0.489396\n",
      "7 passes : dbow, error_rate:0.008157\n"
     ]
    },
    {
     "name": "stderr",
     "output_type": "stream",
     "text": [
      "\r",
      "Doc2vec train:  35%|███▌      | 7/20 [13:44<25:19, 116.87s/it]"
     ]
    },
    {
     "name": "stdout",
     "output_type": "stream",
     "text": [
      "7 passes : dmm, error_rate:0.101142\n",
      "8 passes : dmc, error_rate:0.425775\n",
      "8 passes : dbow, error_rate:0.003263\n"
     ]
    },
    {
     "name": "stderr",
     "output_type": "stream",
     "text": [
      "\r",
      "Doc2vec train:  40%|████      | 8/20 [15:37<23:08, 115.71s/it]"
     ]
    },
    {
     "name": "stdout",
     "output_type": "stream",
     "text": [
      "8 passes : dmm, error_rate:0.101142\n",
      "9 passes : dmc, error_rate:0.417618\n",
      "9 passes : dbow, error_rate:0.004894\n"
     ]
    },
    {
     "name": "stderr",
     "output_type": "stream",
     "text": [
      "\r",
      "Doc2vec train:  45%|████▌     | 9/20 [17:29<21:00, 114.61s/it]"
     ]
    },
    {
     "name": "stdout",
     "output_type": "stream",
     "text": [
      "9 passes : dmm, error_rate:0.076672\n",
      "10 passes : dmc, error_rate:0.332790\n",
      "10 passes : dbow, error_rate:0.006525\n"
     ]
    },
    {
     "name": "stderr",
     "output_type": "stream",
     "text": [
      "\r",
      "Doc2vec train:  50%|█████     | 10/20 [19:19<18:53, 113.30s/it]"
     ]
    },
    {
     "name": "stdout",
     "output_type": "stream",
     "text": [
      "10 passes : dmm, error_rate:0.137031\n",
      "11 passes : dmc, error_rate:0.316476\n",
      "11 passes : dbow, error_rate:0.006525\n"
     ]
    },
    {
     "name": "stderr",
     "output_type": "stream",
     "text": [
      "\r",
      "Doc2vec train:  55%|█████▌    | 11/20 [21:09<16:48, 112.11s/it]"
     ]
    },
    {
     "name": "stdout",
     "output_type": "stream",
     "text": [
      "11 passes : dmm, error_rate:0.109299\n",
      "12 passes : dmc, error_rate:0.252855\n",
      "12 passes : dbow, error_rate:0.001631\n"
     ]
    },
    {
     "name": "stderr",
     "output_type": "stream",
     "text": [
      "\r",
      "Doc2vec train:  60%|██████    | 12/20 [22:58<14:50, 111.34s/it]"
     ]
    },
    {
     "name": "stdout",
     "output_type": "stream",
     "text": [
      "12 passes : dmm, error_rate:0.081566\n",
      "13 passes : dmc, error_rate:0.244698\n",
      "13 passes : dbow, error_rate:0.003263\n"
     ]
    },
    {
     "name": "stderr",
     "output_type": "stream",
     "text": [
      "\r",
      "Doc2vec train:  65%|██████▌   | 13/20 [24:16<11:49, 101.30s/it]"
     ]
    },
    {
     "name": "stdout",
     "output_type": "stream",
     "text": [
      "13 passes : dmm, error_rate:0.104405\n",
      "14 passes : dmc, error_rate:0.207178\n",
      "14 passes : dbow, error_rate:0.004894\n"
     ]
    },
    {
     "name": "stderr",
     "output_type": "stream",
     "text": [
      "\r",
      "Doc2vec train:  70%|███████   | 14/20 [25:26<09:11, 91.97s/it] "
     ]
    },
    {
     "name": "stdout",
     "output_type": "stream",
     "text": [
      "14 passes : dmm, error_rate:0.104405\n",
      "15 passes : dmc, error_rate:0.187602\n",
      "15 passes : dbow, error_rate:0.001631\n"
     ]
    },
    {
     "name": "stderr",
     "output_type": "stream",
     "text": [
      "\r",
      "Doc2vec train:  75%|███████▌  | 15/20 [26:39<07:11, 86.29s/it]"
     ]
    },
    {
     "name": "stdout",
     "output_type": "stream",
     "text": [
      "15 passes : dmm, error_rate:0.081566\n",
      "16 passes : dmc, error_rate:0.130506\n",
      "16 passes : dbow, error_rate:0.001631\n"
     ]
    },
    {
     "name": "stderr",
     "output_type": "stream",
     "text": [
      "\r",
      "Doc2vec train:  80%|████████  | 16/20 [27:46<05:21, 80.40s/it]"
     ]
    },
    {
     "name": "stdout",
     "output_type": "stream",
     "text": [
      "16 passes : dmm, error_rate:0.089723\n",
      "17 passes : dmc, error_rate:0.132137\n",
      "17 passes : dbow, error_rate:0.004894\n"
     ]
    },
    {
     "name": "stderr",
     "output_type": "stream",
     "text": [
      "\r",
      "Doc2vec train:  85%|████████▌ | 17/20 [28:50<03:46, 75.49s/it]"
     ]
    },
    {
     "name": "stdout",
     "output_type": "stream",
     "text": [
      "17 passes : dmm, error_rate:0.084829\n",
      "18 passes : dmc, error_rate:0.123980\n",
      "18 passes : dbow, error_rate:0.003263\n"
     ]
    },
    {
     "name": "stderr",
     "output_type": "stream",
     "text": [
      "\r",
      "Doc2vec train:  90%|█████████ | 18/20 [29:53<02:23, 71.93s/it]"
     ]
    },
    {
     "name": "stdout",
     "output_type": "stream",
     "text": [
      "18 passes : dmm, error_rate:0.081566\n",
      "19 passes : dmc, error_rate:0.092985\n",
      "19 passes : dbow, error_rate:0.001631\n"
     ]
    },
    {
     "name": "stderr",
     "output_type": "stream",
     "text": [
      "\r",
      "Doc2vec train:  95%|█████████▌| 19/20 [30:57<01:09, 69.53s/it]"
     ]
    },
    {
     "name": "stdout",
     "output_type": "stream",
     "text": [
      "19 passes : dmm, error_rate:0.075041\n",
      "20 passes : dmc, error_rate:0.107667\n",
      "20 passes : dbow, error_rate:0.001631\n"
     ]
    },
    {
     "name": "stderr",
     "output_type": "stream",
     "text": [
      "\r",
      "Doc2vec train: 100%|██████████| 20/20 [32:14<00:00, 71.55s/it]"
     ]
    },
    {
     "name": "stdout",
     "output_type": "stream",
     "text": [
      "20 passes : dmm, error_rate:0.073409\n"
     ]
    },
    {
     "name": "stderr",
     "output_type": "stream",
     "text": [
      "\n"
     ]
    },
    {
     "name": "stdout",
     "output_type": "stream",
     "text": [
      "Similarity cate clustering.....\n",
      "\n",
      "Clustering category : 경제\n",
      "similarity_clustering - threshold:0.650000\n",
      "Iter 1/3\n",
      "Calculate similarity. size:1055\n"
     ]
    },
    {
     "name": "stderr",
     "output_type": "stream",
     "text": [
      "Clustering:   4%|▍         | 78/2027 [00:00<00:02, 776.00it/s]"
     ]
    },
    {
     "name": "stdout",
     "output_type": "stream",
     "text": [
      "Sorting\n",
      "Clustering - size:2027\n"
     ]
    },
    {
     "name": "stderr",
     "output_type": "stream",
     "text": [
      "Clustering: 100%|██████████| 2027/2027 [00:02<00:00, 829.20it/s]\n"
     ]
    },
    {
     "name": "stdout",
     "output_type": "stream",
     "text": [
      "Iter 2/3\n",
      "Calculate similarity. size:722\n"
     ]
    },
    {
     "name": "stderr",
     "output_type": "stream",
     "text": [
      "Clustering:  38%|███▊      | 84/221 [00:00<00:00, 834.82it/s]"
     ]
    },
    {
     "name": "stdout",
     "output_type": "stream",
     "text": [
      "Sorting\n",
      "Clustering - size:221\n"
     ]
    },
    {
     "name": "stderr",
     "output_type": "stream",
     "text": [
      "Clustering: 100%|██████████| 221/221 [00:00<00:00, 834.60it/s]\n"
     ]
    },
    {
     "name": "stdout",
     "output_type": "stream",
     "text": [
      "Iter 3/3\n",
      "Calculate similarity. size:737\n"
     ]
    },
    {
     "name": "stderr",
     "output_type": "stream",
     "text": [
      "Clustering: 100%|██████████| 63/63 [00:00<00:00, 799.94it/s]"
     ]
    },
    {
     "name": "stdout",
     "output_type": "stream",
     "text": [
      "Sorting\n",
      "Clustering - size:63\n"
     ]
    },
    {
     "name": "stderr",
     "output_type": "stream",
     "text": [
      "\n"
     ]
    },
    {
     "name": "stdout",
     "output_type": "stream",
     "text": [
      "Done in 14.496s.\n",
      "\n",
      "Clustering category : 문화\n",
      "similarity_clustering - threshold:0.650000\n",
      "Iter 1/3\n",
      "Calculate similarity. size:624\n"
     ]
    },
    {
     "name": "stderr",
     "output_type": "stream",
     "text": [
      "Clustering:  49%|████▊     | 81/167 [00:00<00:00, 802.11it/s]"
     ]
    },
    {
     "name": "stdout",
     "output_type": "stream",
     "text": [
      "Sorting\n",
      "Clustering - size:167\n"
     ]
    },
    {
     "name": "stderr",
     "output_type": "stream",
     "text": [
      "Clustering: 100%|██████████| 167/167 [00:00<00:00, 726.41it/s]\n"
     ]
    },
    {
     "name": "stdout",
     "output_type": "stream",
     "text": [
      "Iter 2/3\n",
      "Calculate similarity. size:502\n"
     ]
    },
    {
     "name": "stderr",
     "output_type": "stream",
     "text": [
      "Clustering: 100%|██████████| 4/4 [00:00<00:00, 527.02it/s]"
     ]
    },
    {
     "name": "stdout",
     "output_type": "stream",
     "text": [
      "Sorting\n",
      "Clustering - size:4\n"
     ]
    },
    {
     "name": "stderr",
     "output_type": "stream",
     "text": [
      "\n"
     ]
    },
    {
     "name": "stdout",
     "output_type": "stream",
     "text": [
      "Iter 3/3\n",
      "Calculate similarity. size:513\n"
     ]
    },
    {
     "name": "stderr",
     "output_type": "stream",
     "text": [
      "\r",
      "Clustering: 0it [00:00, ?it/s]"
     ]
    },
    {
     "name": "stdout",
     "output_type": "stream",
     "text": [
      "Sorting\n",
      "Clustering - size:0\n"
     ]
    },
    {
     "name": "stderr",
     "output_type": "stream",
     "text": [
      "\n"
     ]
    },
    {
     "name": "stdout",
     "output_type": "stream",
     "text": [
      "Done in 6.163s.\n",
      "\n",
      "Clustering category : 사회\n",
      "similarity_clustering - threshold:0.650000\n",
      "Iter 1/3\n",
      "Calculate similarity. size:2119\n"
     ]
    },
    {
     "name": "stderr",
     "output_type": "stream",
     "text": [
      "Clustering:   2%|▏         | 81/3797 [00:00<00:04, 804.30it/s]"
     ]
    },
    {
     "name": "stdout",
     "output_type": "stream",
     "text": [
      "Sorting\n",
      "Clustering - size:3797\n"
     ]
    },
    {
     "name": "stderr",
     "output_type": "stream",
     "text": [
      "Clustering: 100%|██████████| 3797/3797 [00:04<00:00, 785.76it/s]\n"
     ]
    },
    {
     "name": "stdout",
     "output_type": "stream",
     "text": [
      "Iter 2/3\n",
      "Calculate similarity. size:1621\n"
     ]
    },
    {
     "name": "stderr",
     "output_type": "stream",
     "text": [
      "Clustering:  10%|▉         | 69/723 [00:00<00:00, 684.20it/s]"
     ]
    },
    {
     "name": "stdout",
     "output_type": "stream",
     "text": [
      "Sorting\n",
      "Clustering - size:723\n"
     ]
    },
    {
     "name": "stderr",
     "output_type": "stream",
     "text": [
      "Clustering: 100%|██████████| 723/723 [00:00<00:00, 777.36it/s]\n"
     ]
    },
    {
     "name": "stdout",
     "output_type": "stream",
     "text": [
      "Iter 3/3\n",
      "Calculate similarity. size:1555\n"
     ]
    },
    {
     "name": "stderr",
     "output_type": "stream",
     "text": [
      "Clustering: 100%|██████████| 129/129 [00:00<00:00, 892.40it/s]"
     ]
    },
    {
     "name": "stdout",
     "output_type": "stream",
     "text": [
      "Sorting\n",
      "Clustering - size:129\n"
     ]
    },
    {
     "name": "stderr",
     "output_type": "stream",
     "text": [
      "\n"
     ]
    },
    {
     "name": "stdout",
     "output_type": "stream",
     "text": [
      "Done in 46.951s.\n",
      "\n",
      "Clustering category : 정치\n",
      "similarity_clustering - threshold:0.650000\n",
      "Iter 1/3\n",
      "Calculate similarity. size:1636\n"
     ]
    },
    {
     "name": "stderr",
     "output_type": "stream",
     "text": [
      "Clustering:   2%|▏         | 81/4764 [00:00<00:05, 809.90it/s]"
     ]
    },
    {
     "name": "stdout",
     "output_type": "stream",
     "text": [
      "Sorting\n",
      "Clustering - size:4764\n"
     ]
    },
    {
     "name": "stderr",
     "output_type": "stream",
     "text": [
      "Clustering: 100%|██████████| 4764/4764 [00:06<00:00, 774.25it/s]\n"
     ]
    },
    {
     "name": "stdout",
     "output_type": "stream",
     "text": [
      "Iter 2/3\n",
      "Calculate similarity. size:1231\n"
     ]
    },
    {
     "name": "stderr",
     "output_type": "stream",
     "text": [
      "Clustering:  16%|█▋        | 79/482 [00:00<00:00, 783.47it/s]"
     ]
    },
    {
     "name": "stdout",
     "output_type": "stream",
     "text": [
      "Sorting\n",
      "Clustering - size:482\n"
     ]
    },
    {
     "name": "stderr",
     "output_type": "stream",
     "text": [
      "Clustering: 100%|██████████| 482/482 [00:00<00:00, 800.11it/s]\n"
     ]
    },
    {
     "name": "stdout",
     "output_type": "stream",
     "text": [
      "Iter 3/3\n",
      "Calculate similarity. size:1169\n"
     ]
    },
    {
     "name": "stderr",
     "output_type": "stream",
     "text": [
      "Clustering: 100%|██████████| 68/68 [00:00<00:00, 804.62it/s]"
     ]
    },
    {
     "name": "stdout",
     "output_type": "stream",
     "text": [
      "Sorting\n",
      "Clustering - size:68\n"
     ]
    },
    {
     "name": "stderr",
     "output_type": "stream",
     "text": [
      "\n"
     ]
    },
    {
     "name": "stdout",
     "output_type": "stream",
     "text": [
      "Done in 31.449s.\n",
      "\n",
      "Clustering category : 스포츠\n",
      "similarity_clustering - threshold:0.650000\n",
      "Iter 1/3\n",
      "Calculate similarity. size:441\n"
     ]
    },
    {
     "name": "stderr",
     "output_type": "stream",
     "text": [
      "Clustering:   4%|▍         | 78/1800 [00:00<00:02, 776.24it/s]"
     ]
    },
    {
     "name": "stdout",
     "output_type": "stream",
     "text": [
      "Sorting\n",
      "Clustering - size:1800\n"
     ]
    },
    {
     "name": "stderr",
     "output_type": "stream",
     "text": [
      "Clustering: 100%|██████████| 1800/1800 [00:02<00:00, 796.02it/s]\n"
     ]
    },
    {
     "name": "stdout",
     "output_type": "stream",
     "text": [
      "Iter 2/3\n",
      "Calculate similarity. size:402\n"
     ]
    },
    {
     "name": "stderr",
     "output_type": "stream",
     "text": [
      "Clustering:  14%|█▍        | 77/545 [00:00<00:00, 764.27it/s]"
     ]
    },
    {
     "name": "stdout",
     "output_type": "stream",
     "text": [
      "Sorting\n",
      "Clustering - size:545\n"
     ]
    },
    {
     "name": "stderr",
     "output_type": "stream",
     "text": [
      "Clustering: 100%|██████████| 545/545 [00:00<00:00, 770.84it/s]\n"
     ]
    },
    {
     "name": "stdout",
     "output_type": "stream",
     "text": [
      "Iter 3/3\n",
      "Calculate similarity. size:297\n"
     ]
    },
    {
     "name": "stderr",
     "output_type": "stream",
     "text": [
      "Clustering: 100%|██████████| 47/47 [00:00<00:00, 817.04it/s]"
     ]
    },
    {
     "name": "stdout",
     "output_type": "stream",
     "text": [
      "Sorting\n",
      "Clustering - size:47\n"
     ]
    },
    {
     "name": "stderr",
     "output_type": "stream",
     "text": [
      "\n",
      "Clustering: 100%|██████████| 27/27 [00:00<00:00, 687.39it/s]"
     ]
    },
    {
     "name": "stdout",
     "output_type": "stream",
     "text": [
      "Done in 6.721s.\n",
      "\n",
      "Clustering category : 과학\n",
      "similarity_clustering - threshold:0.650000\n",
      "Iter 1/3\n",
      "Calculate similarity. size:104\n",
      "Sorting\n",
      "Clustering - size:27\n"
     ]
    },
    {
     "name": "stderr",
     "output_type": "stream",
     "text": [
      "\n",
      "Clustering: 0it [00:00, ?it/s]\n"
     ]
    },
    {
     "name": "stdout",
     "output_type": "stream",
     "text": [
      "Iter 2/3\n",
      "Calculate similarity. size:84\n",
      "Sorting\n",
      "Clustering - size:0\n",
      "Iter 3/3\n",
      "Calculate similarity. size:87\n"
     ]
    },
    {
     "name": "stderr",
     "output_type": "stream",
     "text": [
      "Clustering: 0it [00:00, ?it/s]\n"
     ]
    },
    {
     "name": "stdout",
     "output_type": "stream",
     "text": [
      "Sorting\n",
      "Clustering - size:0\n",
      "Done in 0.691s.\n",
      "\n",
      "Clustering category : 건강\n",
      "similarity_clustering - threshold:0.650000\n",
      "Iter 1/3\n",
      "Calculate similarity. size:157\n"
     ]
    },
    {
     "name": "stderr",
     "output_type": "stream",
     "text": [
      "Clustering: 100%|██████████| 139/139 [00:00<00:00, 805.69it/s]"
     ]
    },
    {
     "name": "stdout",
     "output_type": "stream",
     "text": [
      "Sorting\n",
      "Clustering - size:139\n"
     ]
    },
    {
     "name": "stderr",
     "output_type": "stream",
     "text": [
      "\n",
      "Clustering: 100%|██████████| 4/4 [00:00<00:00, 467.77it/s]"
     ]
    },
    {
     "name": "stdout",
     "output_type": "stream",
     "text": [
      "Iter 2/3\n",
      "Calculate similarity. size:102\n",
      "Sorting\n",
      "Clustering - size:4\n"
     ]
    },
    {
     "name": "stderr",
     "output_type": "stream",
     "text": [
      "\n",
      "Clustering: 100%|██████████| 2/2 [00:00<00:00, 383.29it/s]"
     ]
    },
    {
     "name": "stdout",
     "output_type": "stream",
     "text": [
      "Iter 3/3\n",
      "Calculate similarity. size:111\n",
      "Sorting\n",
      "Clustering - size:2\n"
     ]
    },
    {
     "name": "stderr",
     "output_type": "stream",
     "text": [
      "\n"
     ]
    },
    {
     "name": "stdout",
     "output_type": "stream",
     "text": [
      "Done in 1.118s.\n",
      "Complete to similarity clustering.\n",
      "total: 4749 , size_1: 4066 , countby: 11\n",
      "distance: 2958.0757942\n",
      "variance: 2.23785208473\n",
      "similarity: 79.3537790077\n",
      "cohesion: 9.25880214813\n",
      "in_threshold: 143.0\n",
      "time_mean: 5110740.54122\n",
      "time_v: 143819246594.0\n",
      "portion: 0.023631029987\n",
      "Complete to save model.\n"
     ]
    }
   ],
   "source": [
    "# # Model\n",
    "train_df = articles_data.find_recent_articles(crawled_collection, catelist_path, target_time)\n",
    "sc = SimilarityClustering()\n",
    "sc.train(\"cate\", w2v_path, train_df, path=datastore_dir, prefix=prefix_str, tokenizer=tokenizer,\n",
    "            threshold=0.65,\n",
    "            cnt_threshold=10,\n",
    "            repeat=3,\n",
    "            model_name='dbow+dmm')\n",
    "\n",
    "# # Save\n",
    "# sc.iner_score(threshold=0.7, cnt_threshold=8)\n",
    "sc.save(path=datastore_dir, prefix=prefix_str)\n",
    "# calced_clusters, sort_cdf = sc.save_to_db(prefix, clusters_collection, articles_collection, target_time)"
   ]
  },
  {
   "cell_type": "code",
   "execution_count": null,
   "metadata": {
    "collapsed": false
   },
   "outputs": [],
   "source": [
    "%matplotlib inline\n",
    "sc.print_error_rate()"
   ]
  },
  {
   "cell_type": "markdown",
   "metadata": {},
   "source": [
    "# Load"
   ]
  },
  {
   "cell_type": "code",
   "execution_count": null,
   "metadata": {
    "collapsed": false
   },
   "outputs": [],
   "source": [
    "sc = SimilarityClustering.load(only_d2v=False, path=datastore_dir, prefix=prefix_str, model_name='dbow+dmm')"
   ]
  },
  {
   "cell_type": "code",
   "execution_count": 7,
   "metadata": {
    "collapsed": true
   },
   "outputs": [],
   "source": [
    "factor = {\n",
    "    \"portionRank\": 1,\n",
    "    \"deltaTimeRank\": 1.5,\n",
    "    \"cohesionRank\": 1,\n",
    "    \"portion\": 10,\n",
    "    \"deltaTime\": 10,\n",
    "    \"cohesion\": 1\n",
    "}"
   ]
  },
  {
   "cell_type": "code",
   "execution_count": 4,
   "metadata": {
    "collapsed": false,
    "scrolled": false
   },
   "outputs": [
    {
     "name": "stdout",
     "output_type": "stream",
     "text": [
      "imageURL is empty! Cluster: 1122216, count: 13\n",
      "Number of clusters is 11\n",
      "Number of articles is 6136\n"
     ]
    }
   ],
   "source": [
    "calced_clusters, sort_cdf = sc.save_to_db(prefix, clusters_collection, articles_collection, target_time, factor, test=True)"
   ]
  },
  {
   "cell_type": "code",
   "execution_count": 16,
   "metadata": {
    "collapsed": false
   },
   "outputs": [
    {
     "name": "stdout",
     "output_type": "stream",
     "text": [
      "imageURL is empty! Cluster: 1122216, count: 13\n",
      "Number of clusters is 11\n",
      "Number of articles is 6136\n",
      "1 1122449.0 3.7 [속보]검 “박근혜 공범”…변호인 “지극히 유감”\n",
      "2 1122098.0 4.2 마지막 대회, 마지막 홀서 완성한 ‘전인지 드라마’\n",
      "3 1122969.0 8.7 ‘늑대 축구’ 김도훈, 울산 사령탑 맡아\n",
      "4 1122146.0 11.7 정부, 국무회의에서 특검법 공포안, 한·일 군사정보보호협정 의결\n",
      "5 1123462.0 13.5 박태환 부활… 3개월만 빨랐어도\n",
      "6 1123595.0 14.0 ‘저들이 낮게 갈때 우린 높게 간다’ 수준 높은 평화시위\n",
      "7 1122497.0 17.2 政敵부터 오바마 사람들까지… 인선 폭 넓히는 트럼프\n",
      "8 1122216.0 19.9 [오늘의 경기/11월9일]프로농구 外\n",
      "9 1124947.0 21.2 해남 닭·음성 오리 농장서 '고병원성 AI'\n",
      "10 1122191.0 24.0 한숨 돌린 증시\n",
      "11 1123441.0 26.9 [박근혜·최순실 게이트]빨라진 ‘탄핵’…민주·국민의당, 당론 확정\n"
     ]
    }
   ],
   "source": [
    "factor = {\n",
    "    \"portionRank\": 1,\n",
    "    \"deltaTimeRank\": 1.5,\n",
    "    \"cohesionRank\": 1,\n",
    "    \"portion\": 10,\n",
    "    \"deltaTime\": 10,\n",
    "    \"cohesion\": 1\n",
    "}\n",
    "calced_clusters, sort_cdf = sc.save_to_db(prefix, clusters_collection, articles_collection, target_time, factor, test=True)\n",
    "sc.print_cluster_rank(calced_clusters)"
   ]
  },
  {
   "cell_type": "code",
   "execution_count": 5,
   "metadata": {
    "collapsed": false
   },
   "outputs": [
    {
     "data": {
      "text/html": [
       "<div>\n",
       "<table border=\"1\" class=\"dataframe\">\n",
       "  <thead>\n",
       "    <tr style=\"text-align: right;\">\n",
       "      <th></th>\n",
       "      <th>cluster</th>\n",
       "      <th>portion</th>\n",
       "      <th>deltaTime</th>\n",
       "      <th>portionRank</th>\n",
       "      <th>cohesionRank</th>\n",
       "      <th>deltaTimeRank</th>\n",
       "      <th>rank</th>\n",
       "    </tr>\n",
       "  </thead>\n",
       "  <tbody>\n",
       "    <tr>\n",
       "      <th>1</th>\n",
       "      <td>1122098</td>\n",
       "      <td>0.075862</td>\n",
       "      <td>0.232652</td>\n",
       "      <td>8</td>\n",
       "      <td>1</td>\n",
       "      <td>0</td>\n",
       "      <td>15.0</td>\n",
       "    </tr>\n",
       "    <tr>\n",
       "      <th>2</th>\n",
       "      <td>1122449</td>\n",
       "      <td>0.096552</td>\n",
       "      <td>0.298269</td>\n",
       "      <td>2</td>\n",
       "      <td>2</td>\n",
       "      <td>1</td>\n",
       "      <td>8.0</td>\n",
       "    </tr>\n",
       "    <tr>\n",
       "      <th>8</th>\n",
       "      <td>1122969</td>\n",
       "      <td>0.089655</td>\n",
       "      <td>0.344191</td>\n",
       "      <td>5</td>\n",
       "      <td>8</td>\n",
       "      <td>2</td>\n",
       "      <td>3.5</td>\n",
       "    </tr>\n",
       "    <tr>\n",
       "      <th>9</th>\n",
       "      <td>1122146</td>\n",
       "      <td>0.089655</td>\n",
       "      <td>0.401344</td>\n",
       "      <td>6</td>\n",
       "      <td>9</td>\n",
       "      <td>3</td>\n",
       "      <td>19.5</td>\n",
       "    </tr>\n",
       "    <tr>\n",
       "      <th>4</th>\n",
       "      <td>1123462</td>\n",
       "      <td>0.082759</td>\n",
       "      <td>0.424613</td>\n",
       "      <td>7</td>\n",
       "      <td>4</td>\n",
       "      <td>4</td>\n",
       "      <td>13.0</td>\n",
       "    </tr>\n",
       "    <tr>\n",
       "      <th>10</th>\n",
       "      <td>1123595</td>\n",
       "      <td>0.103448</td>\n",
       "      <td>0.457883</td>\n",
       "      <td>1</td>\n",
       "      <td>10</td>\n",
       "      <td>5</td>\n",
       "      <td>15.0</td>\n",
       "    </tr>\n",
       "    <tr>\n",
       "      <th>7</th>\n",
       "      <td>1122497</td>\n",
       "      <td>0.089655</td>\n",
       "      <td>0.485601</td>\n",
       "      <td>4</td>\n",
       "      <td>7</td>\n",
       "      <td>6</td>\n",
       "      <td>23.5</td>\n",
       "    </tr>\n",
       "    <tr>\n",
       "      <th>3</th>\n",
       "      <td>1124947</td>\n",
       "      <td>0.075862</td>\n",
       "      <td>0.508210</td>\n",
       "      <td>9</td>\n",
       "      <td>3</td>\n",
       "      <td>7</td>\n",
       "      <td>13.0</td>\n",
       "    </tr>\n",
       "    <tr>\n",
       "      <th>0</th>\n",
       "      <td>1122216</td>\n",
       "      <td>0.089655</td>\n",
       "      <td>0.564803</td>\n",
       "      <td>3</td>\n",
       "      <td>0</td>\n",
       "      <td>8</td>\n",
       "      <td>8.0</td>\n",
       "    </tr>\n",
       "    <tr>\n",
       "      <th>6</th>\n",
       "      <td>1123441</td>\n",
       "      <td>0.075862</td>\n",
       "      <td>0.605793</td>\n",
       "      <td>10</td>\n",
       "      <td>6</td>\n",
       "      <td>9</td>\n",
       "      <td>10.5</td>\n",
       "    </tr>\n",
       "    <tr>\n",
       "      <th>5</th>\n",
       "      <td>1122191</td>\n",
       "      <td>0.131034</td>\n",
       "      <td>0.713684</td>\n",
       "      <td>0</td>\n",
       "      <td>5</td>\n",
       "      <td>10</td>\n",
       "      <td>8.5</td>\n",
       "    </tr>\n",
       "  </tbody>\n",
       "</table>\n",
       "</div>"
      ],
      "text/plain": [
       "    cluster   portion  deltaTime  portionRank  cohesionRank  deltaTimeRank  \\\n",
       "1   1122098  0.075862   0.232652            8             1              0   \n",
       "2   1122449  0.096552   0.298269            2             2              1   \n",
       "8   1122969  0.089655   0.344191            5             8              2   \n",
       "9   1122146  0.089655   0.401344            6             9              3   \n",
       "4   1123462  0.082759   0.424613            7             4              4   \n",
       "10  1123595  0.103448   0.457883            1            10              5   \n",
       "7   1122497  0.089655   0.485601            4             7              6   \n",
       "3   1124947  0.075862   0.508210            9             3              7   \n",
       "0   1122216  0.089655   0.564803            3             0              8   \n",
       "6   1123441  0.075862   0.605793           10             6              9   \n",
       "5   1122191  0.131034   0.713684            0             5             10   \n",
       "\n",
       "    rank  \n",
       "1   15.0  \n",
       "2    8.0  \n",
       "8    3.5  \n",
       "9   19.5  \n",
       "4   13.0  \n",
       "10  15.0  \n",
       "7   23.5  \n",
       "3   13.0  \n",
       "0    8.0  \n",
       "6   10.5  \n",
       "5    8.5  "
      ]
     },
     "execution_count": 5,
     "metadata": {},
     "output_type": "execute_result"
    }
   ],
   "source": [
    "sort_cdf.drop(['count', 'cohesion'], 1)"
   ]
  },
  {
   "cell_type": "code",
   "execution_count": 6,
   "metadata": {
    "collapsed": false
   },
   "outputs": [
    {
     "name": "stdout",
     "output_type": "stream",
     "text": [
      "1 1122449.0 3.5 [속보]검 “박근혜 공범”…변호인 “지극히 유감”\n",
      "2 1122098.0 8.0 마지막 대회, 마지막 홀서 완성한 ‘전인지 드라마’\n",
      "3 1122969.0 8.0 ‘늑대 축구’ 김도훈, 울산 사령탑 맡아\n",
      "4 1123595.0 8.5 ‘저들이 낮게 갈때 우린 높게 간다’ 수준 높은 평화시위\n",
      "5 1122146.0 10.5 정부, 국무회의에서 특검법 공포안, 한·일 군사정보보호협정 의결\n",
      "6 1123462.0 13.0 박태환 부활… 3개월만 빨랐어도\n",
      "7 1122497.0 13.0 政敵부터 오바마 사람들까지… 인선 폭 넓히는 트럼프\n",
      "8 1122216.0 15.0 [오늘의 경기/11월9일]프로농구 外\n",
      "9 1122191.0 15.0 한숨 돌린 증시\n",
      "10 1124947.0 19.5 해남 닭·음성 오리 농장서 '고병원성 AI'\n",
      "11 1123441.0 23.5 [박근혜·최순실 게이트]빨라진 ‘탄핵’…민주·국민의당, 당론 확정\n"
     ]
    }
   ],
   "source": [
    "sc.print_cluster_rank(calced_clusters)"
   ]
  },
  {
   "cell_type": "code",
   "execution_count": null,
   "metadata": {
    "collapsed": false
   },
   "outputs": [],
   "source": [
    "# %matplotlib inline\n",
    "# sc.print_clusters(top=15, sortby='similarity', threshold=0.65)"
   ]
  },
  {
   "cell_type": "code",
   "execution_count": null,
   "metadata": {
    "collapsed": true
   },
   "outputs": [],
   "source": []
  }
 ],
 "metadata": {
  "kernelspec": {
   "display_name": "Python 2",
   "language": "python",
   "name": "python2"
  },
  "language_info": {
   "codemirror_mode": {
    "name": "ipython",
    "version": 2
   },
   "file_extension": ".py",
   "mimetype": "text/x-python",
   "name": "python",
   "nbconvert_exporter": "python",
   "pygments_lexer": "ipython2",
   "version": "2.7.11"
  }
 },
 "nbformat": 4,
 "nbformat_minor": 1
}
