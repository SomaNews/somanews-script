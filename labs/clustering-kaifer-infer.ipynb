{
 "cells": [
  {
   "cell_type": "code",
   "execution_count": 9,
   "metadata": {
    "collapsed": false
   },
   "outputs": [],
   "source": [
    "# coding: utf-8\n",
    "\n",
    "from SimilarityClustering import SimilarityClustering\n",
    "import articles_data\n",
    "\n",
    "from gensim.models import Word2Vec\n",
    "import numpy as np\n",
    "import pandas as pd\n",
    "import cnouns as cn\n",
    "from pymongo import MongoClient\n",
    "import datetime\n",
    "\n",
    "client = MongoClient('mongodb://localhost:27017/somanews')\n",
    "client.somanews.authenticate('ssomanews', 'ssomanews1029')\n",
    "db = client.get_database('somanews')\n",
    "\n",
    "crawled_collection = db.get_collection('crawledArticles')\n",
    "clusters_collection = db.get_collection('bclusters')\n",
    "articles_collection = db.get_collection('barticles')\n",
    "\n",
    "datastore_dir = \"../datastore/\"\n",
    "catelist_path = datastore_dir + \"category2.p\"\n",
    "w2v_src_dir = datastore_dir + \"w2v_src2\"\n",
    "w2v_path = datastore_dir + \"sejongcorpus_w2v2_2.p\"\n",
    "nnp_dict_path = datastore_dir + \"nnps2.p\"\n",
    "corpus_path = datastore_dir + \"corpus2.p\"\n",
    "\n",
    "target_time = datetime.datetime.now()\n",
    "# target_time = datetime.datetime(2016, 11, 23)\n",
    "prefix = int(\"%.2d%.2d\"%(target_time.month, target_time.day))\n",
    "# prefix_str = \"pretrained_1m\"\n",
    "prefix_str = \"%d_00\" % prefix\n",
    "pretrained_1m = \"pretrained_1m\"\n",
    "\n",
    "nnp_dict_df = pd.read_pickle(nnp_dict_path)\n",
    "nnp_dict_df = nnp_dict_df[nnp_dict_df>10]\n",
    "nnp_dict = nnp_dict_df.index.tolist()\n",
    "\n",
    "custom_dict = [u'새누리', u'새누리당', u'더민주', u'더민주당', u'최순실', u'박대통령', u'국회의장', u'야권의요구', u'정기국회', u'참여정부']\n",
    "dicts = set(nnp_dict + custom_dict)\n",
    "\n",
    "from konlpy.tag import Mecab\n",
    "mecab = Mecab()\n",
    "def tokenizer(inp_str):\n",
    "    return ' '.join([p[0] + p[1] for p in mecab.pos(inp_str)])"
   ]
  },
  {
   "cell_type": "code",
   "execution_count": null,
   "metadata": {
    "collapsed": false,
    "scrolled": true
   },
   "outputs": [],
   "source": [
    "# # # Model\n",
    "# train_df = articles_data.find_recent_articles(crawled_collection, catelist_path, target_time, 7)\n",
    "# sc = SimilarityClustering()\n",
    "# sc.reset(train_df[:])\n",
    "# sc.tokenize(tokenizer)\n",
    "# sc.doc_train(w2v_path, alpha=0.025, min_alpha=0.001, passes=20)\n",
    "# sc.d2v_save(datastore_dir, prefix_str)\n",
    "# sc.select_model('dbow+dmm')"
   ]
  },
  {
   "cell_type": "markdown",
   "metadata": {},
   "source": [
    "# Load"
   ]
  },
  {
   "cell_type": "code",
   "execution_count": 10,
   "metadata": {
    "collapsed": false
   },
   "outputs": [
    {
     "name": "stderr",
     "output_type": "stream",
     "text": [
      "Tokenizing: 100%|██████████| 3172/3172 [00:41<00:00, 76.10it/s]\n",
      "Infer docvecs:   0%|          | 6/3172 [00:00<01:00, 52.28it/s]"
     ]
    },
    {
     "name": "stdout",
     "output_type": "stream",
     "text": [
      "Size of documents: 3172\n"
     ]
    },
    {
     "name": "stderr",
     "output_type": "stream",
     "text": [
      "Infer docvecs: 100%|██████████| 3172/3172 [00:35<00:00, 94.35it/s]\n"
     ]
    }
   ],
   "source": [
    "train_df = articles_data.find_recent_articles(crawled_collection, catelist_path, target_time, 7)\n",
    "sc = SimilarityClustering.load_pretrained(datastore_dir, prefix_str, pretrained_1m, train_df, tokenizer)"
   ]
  },
  {
   "cell_type": "code",
   "execution_count": 11,
   "metadata": {
    "collapsed": false,
    "scrolled": false
   },
   "outputs": [
    {
     "name": "stdout",
     "output_type": "stream",
     "text": [
      "Similarity cate clustering.....\n",
      "\n",
      "Clustering category : 경제\n",
      "similarity_clustering - threshold:0.650000\n",
      "Iter 1/3\n",
      "Calculate similarity. size:554\n",
      "Sorting\n"
     ]
    },
    {
     "name": "stderr",
     "output_type": "stream",
     "text": [
      "Clustering:   0%|          | 85/17053 [00:00<00:20, 841.05it/s]"
     ]
    },
    {
     "name": "stdout",
     "output_type": "stream",
     "text": [
      "Clustering - size:17053\n"
     ]
    },
    {
     "name": "stderr",
     "output_type": "stream",
     "text": [
      "Clustering: 100%|██████████| 17053/17053 [00:18<00:00, 929.05it/s]\n"
     ]
    },
    {
     "name": "stdout",
     "output_type": "stream",
     "text": [
      "Iter 2/3\n",
      "Calculate similarity. size:436\n"
     ]
    },
    {
     "name": "stderr",
     "output_type": "stream",
     "text": [
      "Clustering:   3%|▎         | 91/2732 [00:00<00:02, 906.65it/s]"
     ]
    },
    {
     "name": "stdout",
     "output_type": "stream",
     "text": [
      "Sorting\n",
      "Clustering - size:2732\n"
     ]
    },
    {
     "name": "stderr",
     "output_type": "stream",
     "text": [
      "Clustering: 100%|██████████| 2732/2732 [00:03<00:00, 899.23it/s]\n"
     ]
    },
    {
     "name": "stdout",
     "output_type": "stream",
     "text": [
      "Iter 3/3\n",
      "Calculate similarity. size:481\n"
     ]
    },
    {
     "name": "stderr",
     "output_type": "stream",
     "text": [
      "Clustering:   8%|▊         | 90/1064 [00:00<00:01, 892.59it/s]"
     ]
    },
    {
     "name": "stdout",
     "output_type": "stream",
     "text": [
      "Sorting\n",
      "Clustering - size:1064\n"
     ]
    },
    {
     "name": "stderr",
     "output_type": "stream",
     "text": [
      "Clustering: 100%|██████████| 1064/1064 [00:01<00:00, 909.34it/s]\n"
     ]
    },
    {
     "name": "stdout",
     "output_type": "stream",
     "text": [
      "Done in 27.861s.\n",
      "\n",
      "Clustering category : 문화\n",
      "similarity_clustering - threshold:0.650000\n",
      "Iter 1/3\n",
      "Calculate similarity. size:313\n"
     ]
    },
    {
     "name": "stderr",
     "output_type": "stream",
     "text": [
      "Clustering:   3%|▎         | 78/2624 [00:00<00:03, 772.51it/s]"
     ]
    },
    {
     "name": "stdout",
     "output_type": "stream",
     "text": [
      "Sorting\n",
      "Clustering - size:2624\n"
     ]
    },
    {
     "name": "stderr",
     "output_type": "stream",
     "text": [
      "Clustering: 100%|██████████| 2624/2624 [00:02<00:00, 887.59it/s]\n"
     ]
    },
    {
     "name": "stdout",
     "output_type": "stream",
     "text": [
      "Iter 2/3\n",
      "Calculate similarity. size:277\n"
     ]
    },
    {
     "name": "stderr",
     "output_type": "stream",
     "text": [
      "Clustering:  18%|█▊        | 81/444 [00:00<00:00, 803.32it/s]"
     ]
    },
    {
     "name": "stdout",
     "output_type": "stream",
     "text": [
      "Sorting\n",
      "Clustering - size:444\n"
     ]
    },
    {
     "name": "stderr",
     "output_type": "stream",
     "text": [
      "Clustering: 100%|██████████| 444/444 [00:00<00:00, 828.69it/s]\n",
      "Clustering:   0%|          | 0/59 [00:00<?, ?it/s]"
     ]
    },
    {
     "name": "stdout",
     "output_type": "stream",
     "text": [
      "Iter 3/3\n",
      "Calculate similarity. size:218\n",
      "Sorting\n",
      "Clustering - size:59\n"
     ]
    },
    {
     "name": "stderr",
     "output_type": "stream",
     "text": [
      "Clustering: 100%|██████████| 59/59 [00:00<00:00, 824.55it/s]\n"
     ]
    },
    {
     "name": "stdout",
     "output_type": "stream",
     "text": [
      "Done in 5.679s.\n",
      "\n",
      "Clustering category : 사회\n",
      "similarity_clustering - threshold:0.650000\n",
      "Iter 1/3\n",
      "Calculate similarity. size:1105\n",
      "Sorting\n"
     ]
    },
    {
     "name": "stderr",
     "output_type": "stream",
     "text": [
      "Clustering:   0%|          | 83/68651 [00:00<01:23, 825.40it/s]"
     ]
    },
    {
     "name": "stdout",
     "output_type": "stream",
     "text": [
      "Clustering - size:68651\n"
     ]
    },
    {
     "name": "stderr",
     "output_type": "stream",
     "text": [
      "Clustering: 100%|██████████| 68651/68651 [01:15<00:00, 951.28it/s]\n"
     ]
    },
    {
     "name": "stdout",
     "output_type": "stream",
     "text": [
      "Iter 2/3\n",
      "Calculate similarity. size:1037\n",
      "Sorting\n"
     ]
    },
    {
     "name": "stderr",
     "output_type": "stream",
     "text": [
      "Clustering:   0%|          | 79/22033 [00:00<00:27, 788.60it/s]"
     ]
    },
    {
     "name": "stdout",
     "output_type": "stream",
     "text": [
      "Clustering - size:22033\n"
     ]
    },
    {
     "name": "stderr",
     "output_type": "stream",
     "text": [
      "Clustering: 100%|██████████| 22033/22033 [00:24<00:00, 910.27it/s]\n"
     ]
    },
    {
     "name": "stdout",
     "output_type": "stream",
     "text": [
      "Iter 3/3\n",
      "Calculate similarity. size:1003\n"
     ]
    },
    {
     "name": "stderr",
     "output_type": "stream",
     "text": [
      "Clustering:   1%|▏         | 88/6675 [00:00<00:07, 870.67it/s]"
     ]
    },
    {
     "name": "stdout",
     "output_type": "stream",
     "text": [
      "Sorting\n",
      "Clustering - size:6675\n"
     ]
    },
    {
     "name": "stderr",
     "output_type": "stream",
     "text": [
      "Clustering: 100%|██████████| 6675/6675 [00:07<00:00, 894.12it/s]\n"
     ]
    },
    {
     "name": "stdout",
     "output_type": "stream",
     "text": [
      "Done in 123.719s.\n",
      "\n",
      "Clustering category : 정치\n",
      "similarity_clustering - threshold:0.650000\n",
      "Iter 1/3\n",
      "Calculate similarity. size:819\n",
      "Sorting\n"
     ]
    },
    {
     "name": "stderr",
     "output_type": "stream",
     "text": [
      "Clustering:   0%|          | 78/102205 [00:00<02:11, 774.32it/s]"
     ]
    },
    {
     "name": "stdout",
     "output_type": "stream",
     "text": [
      "Clustering - size:102205\n"
     ]
    },
    {
     "name": "stderr",
     "output_type": "stream",
     "text": [
      "Clustering: 100%|██████████| 102205/102205 [01:51<00:00, 919.90it/s]\n"
     ]
    },
    {
     "name": "stdout",
     "output_type": "stream",
     "text": [
      "Iter 2/3\n",
      "Calculate similarity. size:585\n"
     ]
    },
    {
     "name": "stderr",
     "output_type": "stream",
     "text": [
      "Clustering:   0%|          | 76/20062 [00:00<00:26, 750.60it/s]"
     ]
    },
    {
     "name": "stdout",
     "output_type": "stream",
     "text": [
      "Sorting\n",
      "Clustering - size:20062\n"
     ]
    },
    {
     "name": "stderr",
     "output_type": "stream",
     "text": [
      "Clustering: 100%|██████████| 20062/20062 [00:21<00:00, 913.59it/s]\n"
     ]
    },
    {
     "name": "stdout",
     "output_type": "stream",
     "text": [
      "Iter 3/3\n",
      "Calculate similarity. size:569\n"
     ]
    },
    {
     "name": "stderr",
     "output_type": "stream",
     "text": [
      "Clustering:   2%|▏         | 87/5236 [00:00<00:05, 867.74it/s]"
     ]
    },
    {
     "name": "stdout",
     "output_type": "stream",
     "text": [
      "Sorting\n",
      "Clustering - size:5236\n"
     ]
    },
    {
     "name": "stderr",
     "output_type": "stream",
     "text": [
      "Clustering: 100%|██████████| 5236/5236 [00:05<00:00, 898.51it/s]\n"
     ]
    },
    {
     "name": "stdout",
     "output_type": "stream",
     "text": [
      "Done in 148.591s.\n",
      "\n",
      "Clustering category : 스포츠\n",
      "similarity_clustering - threshold:0.650000\n",
      "Iter 1/3\n",
      "Calculate similarity. size:221\n",
      "Sorting\n"
     ]
    },
    {
     "name": "stderr",
     "output_type": "stream",
     "text": [
      "Clustering:   1%|          | 81/7569 [00:00<00:09, 802.90it/s]"
     ]
    },
    {
     "name": "stdout",
     "output_type": "stream",
     "text": [
      "Clustering - size:7569\n"
     ]
    },
    {
     "name": "stderr",
     "output_type": "stream",
     "text": [
      "Clustering: 100%|██████████| 7569/7569 [00:08<00:00, 919.14it/s]\n",
      "Clustering:  27%|██▋       | 92/345 [00:00<00:00, 910.46it/s]"
     ]
    },
    {
     "name": "stdout",
     "output_type": "stream",
     "text": [
      "Iter 2/3\n",
      "Calculate similarity. size:80\n",
      "Sorting\n",
      "Clustering - size:345\n"
     ]
    },
    {
     "name": "stderr",
     "output_type": "stream",
     "text": [
      "Clustering: 100%|██████████| 345/345 [00:00<00:00, 884.64it/s]\n",
      "Clustering:  17%|█▋        | 96/549 [00:00<00:00, 951.93it/s]"
     ]
    },
    {
     "name": "stdout",
     "output_type": "stream",
     "text": [
      "Iter 3/3\n",
      "Calculate similarity. size:164\n",
      "Sorting\n",
      "Clustering - size:549\n"
     ]
    },
    {
     "name": "stderr",
     "output_type": "stream",
     "text": [
      "Clustering: 100%|██████████| 549/549 [00:00<00:00, 926.05it/s]\n",
      "Clustering:  28%|██▊       | 88/318 [00:00<00:00, 876.36it/s]"
     ]
    },
    {
     "name": "stdout",
     "output_type": "stream",
     "text": [
      "Done in 10.517s.\n",
      "\n",
      "Clustering category : 과학\n",
      "similarity_clustering - threshold:0.650000\n",
      "Iter 1/3\n",
      "Calculate similarity. size:65\n",
      "Sorting\n",
      "Clustering - size:318\n"
     ]
    },
    {
     "name": "stderr",
     "output_type": "stream",
     "text": [
      "Clustering: 100%|██████████| 318/318 [00:00<00:00, 887.01it/s]\n",
      "Clustering: 100%|██████████| 3/3 [00:00<00:00, 567.54it/s]\n",
      "Clustering: 100%|██████████| 4/4 [00:00<00:00, 703.59it/s]\n"
     ]
    },
    {
     "name": "stdout",
     "output_type": "stream",
     "text": [
      "Iter 2/3\n",
      "Calculate similarity. size:18\n",
      "Sorting\n",
      "Clustering - size:3\n",
      "Iter 3/3\n",
      "Calculate similarity. size:26\n",
      "Sorting\n",
      "Clustering - size:4\n",
      "Done in 0.658s.\n",
      "\n",
      "Clustering category : 건강\n",
      "similarity_clustering - threshold:0.650000\n",
      "Iter 1/3\n",
      "Calculate similarity. size:95\n"
     ]
    },
    {
     "name": "stderr",
     "output_type": "stream",
     "text": [
      "Clustering:   9%|▉         | 86/962 [00:00<00:01, 856.03it/s]"
     ]
    },
    {
     "name": "stdout",
     "output_type": "stream",
     "text": [
      "Sorting\n",
      "Clustering - size:962\n"
     ]
    },
    {
     "name": "stderr",
     "output_type": "stream",
     "text": [
      "Clustering: 100%|██████████| 962/962 [00:01<00:00, 915.88it/s]\n",
      "Clustering: 100%|██████████| 84/84 [00:00<00:00, 832.42it/s]"
     ]
    },
    {
     "name": "stdout",
     "output_type": "stream",
     "text": [
      "Iter 2/3\n",
      "Calculate similarity. size:41\n",
      "Sorting\n",
      "Clustering - size:84\n"
     ]
    },
    {
     "name": "stderr",
     "output_type": "stream",
     "text": [
      "\n",
      "Clustering: 100%|██████████| 41/41 [00:00<00:00, 1016.13it/s]\n"
     ]
    },
    {
     "name": "stdout",
     "output_type": "stream",
     "text": [
      "Iter 3/3\n",
      "Calculate similarity. size:63\n",
      "Sorting\n",
      "Clustering - size:41\n",
      "Done in 1.676s.\n",
      "Complete to similarity clustering.\n",
      "total: 2270 , size_1: 2063 , countby: 15\n",
      "distance: 11411.9104544\n",
      "variance: 3.05692758859\n",
      "similarity: 79.7002399272\n",
      "cohesion: 63.443475467\n",
      "in_threshold: 535.0\n",
      "time_mean: 4421602.34311\n",
      "time_v: 44825961579.2\n",
      "portion: 0.170870113493\n"
     ]
    }
   ],
   "source": [
    "sc.cluster_train(\"cate\", path=datastore_dir, prefix=prefix_str, \n",
    "                 cnt_threshold=10, \n",
    "                 threshold=0.65, \n",
    "                 dt_threshold=0.05,\n",
    "                 repeat=3)"
   ]
  },
  {
   "cell_type": "code",
   "execution_count": 12,
   "metadata": {
    "collapsed": false
   },
   "outputs": [
    {
     "name": "stdout",
     "output_type": "stream",
     "text": [
      "Complete to save model.\n"
     ]
    }
   ],
   "source": [
    "sc.save(path=datastore_dir, prefix=prefix_str)"
   ]
  },
  {
   "cell_type": "code",
   "execution_count": 2,
   "metadata": {
    "collapsed": false
   },
   "outputs": [
    {
     "name": "stdout",
     "output_type": "stream",
     "text": [
      "total: 2409 , size_1: 2221 , countby: 16\n",
      "distance: 15631.7557215\n",
      "variance: 6.51982243255\n",
      "similarity: 28.5056764558\n",
      "cohesion: 4.3060354416\n",
      "in_threshold: 176.0\n",
      "time_mean: 5056320.4028\n",
      "time_v: 55395779792.8\n",
      "portion: 0.12329202415\n"
     ]
    }
   ],
   "source": [
    "sc = SimilarityClustering.load(only_d2v=False, path=datastore_dir, prefix=prefix_str, model_name='dbow+dmm')"
   ]
  },
  {
   "cell_type": "code",
   "execution_count": 13,
   "metadata": {
    "collapsed": false,
    "scrolled": true
   },
   "outputs": [
    {
     "name": "stdout",
     "output_type": "stream",
     "text": [
      "Number of clusters is 15\n",
      "Number of articles is 3172\n"
     ]
    }
   ],
   "source": [
    "calced_clusters, sorted_cdf = sc.save_to_db(prefix, clusters_collection, articles_collection, target_time)"
   ]
  },
  {
   "cell_type": "code",
   "execution_count": null,
   "metadata": {
    "collapsed": false
   },
   "outputs": [],
   "source": [
    "sc.print_cluster_rank(calced_clusters)"
   ]
  },
  {
   "cell_type": "code",
   "execution_count": null,
   "metadata": {
    "collapsed": false
   },
   "outputs": [],
   "source": [
    "%matplotlib inline\n",
    "sc.print_clusters(top=15, sortby='similarity', threshold=0.65)"
   ]
  },
  {
   "cell_type": "code",
   "execution_count": 4,
   "metadata": {
    "collapsed": false
   },
   "outputs": [
    {
     "data": {
      "text/html": [
       "<div>\n",
       "<table border=\"1\" class=\"dataframe\">\n",
       "  <thead>\n",
       "    <tr style=\"text-align: right;\">\n",
       "      <th></th>\n",
       "      <th>cluster</th>\n",
       "      <th>portion</th>\n",
       "      <th>deltaTime</th>\n",
       "      <th>cohesion</th>\n",
       "      <th>count</th>\n",
       "      <th>portionRank</th>\n",
       "      <th>cohesionRank</th>\n",
       "      <th>deltaTimeRank</th>\n",
       "      <th>rank</th>\n",
       "      <th>rank_desc</th>\n",
       "    </tr>\n",
       "  </thead>\n",
       "  <tbody>\n",
       "    <tr>\n",
       "      <th>9</th>\n",
       "      <td>1123009</td>\n",
       "      <td>0.118557</td>\n",
       "      <td>0.533187</td>\n",
       "      <td>0.254489</td>\n",
       "      <td>46.0</td>\n",
       "      <td>1</td>\n",
       "      <td>9</td>\n",
       "      <td>9</td>\n",
       "      <td>14.5</td>\n",
       "      <td>11</td>\n",
       "    </tr>\n",
       "    <tr>\n",
       "      <th>11</th>\n",
       "      <td>1123015</td>\n",
       "      <td>0.028351</td>\n",
       "      <td>0.386761</td>\n",
       "      <td>0.244854</td>\n",
       "      <td>11.0</td>\n",
       "      <td>15</td>\n",
       "      <td>11</td>\n",
       "      <td>1</td>\n",
       "      <td>16.5</td>\n",
       "      <td>9</td>\n",
       "    </tr>\n",
       "    <tr>\n",
       "      <th>1</th>\n",
       "      <td>1123019</td>\n",
       "      <td>0.224227</td>\n",
       "      <td>0.524979</td>\n",
       "      <td>0.371899</td>\n",
       "      <td>87.0</td>\n",
       "      <td>0</td>\n",
       "      <td>1</td>\n",
       "      <td>8</td>\n",
       "      <td>12.0</td>\n",
       "      <td>13</td>\n",
       "    </tr>\n",
       "    <tr>\n",
       "      <th>13</th>\n",
       "      <td>1123025</td>\n",
       "      <td>0.059278</td>\n",
       "      <td>0.463523</td>\n",
       "      <td>0.244336</td>\n",
       "      <td>23.0</td>\n",
       "      <td>5</td>\n",
       "      <td>13</td>\n",
       "      <td>4</td>\n",
       "      <td>11.0</td>\n",
       "      <td>14</td>\n",
       "    </tr>\n",
       "    <tr>\n",
       "      <th>7</th>\n",
       "      <td>1123058</td>\n",
       "      <td>0.067010</td>\n",
       "      <td>0.344260</td>\n",
       "      <td>0.277180</td>\n",
       "      <td>26.0</td>\n",
       "      <td>3</td>\n",
       "      <td>7</td>\n",
       "      <td>0</td>\n",
       "      <td>3.0</td>\n",
       "      <td>16</td>\n",
       "    </tr>\n",
       "    <tr>\n",
       "      <th>0</th>\n",
       "      <td>1123064</td>\n",
       "      <td>0.054124</td>\n",
       "      <td>0.638644</td>\n",
       "      <td>0.429299</td>\n",
       "      <td>21.0</td>\n",
       "      <td>7</td>\n",
       "      <td>0</td>\n",
       "      <td>11</td>\n",
       "      <td>23.5</td>\n",
       "      <td>6</td>\n",
       "    </tr>\n",
       "    <tr>\n",
       "      <th>12</th>\n",
       "      <td>1123073</td>\n",
       "      <td>0.033505</td>\n",
       "      <td>0.422266</td>\n",
       "      <td>0.244671</td>\n",
       "      <td>13.0</td>\n",
       "      <td>11</td>\n",
       "      <td>12</td>\n",
       "      <td>2</td>\n",
       "      <td>14.0</td>\n",
       "      <td>12</td>\n",
       "    </tr>\n",
       "    <tr>\n",
       "      <th>15</th>\n",
       "      <td>1123080</td>\n",
       "      <td>0.059278</td>\n",
       "      <td>0.481821</td>\n",
       "      <td>0.202945</td>\n",
       "      <td>23.0</td>\n",
       "      <td>6</td>\n",
       "      <td>15</td>\n",
       "      <td>6</td>\n",
       "      <td>15.0</td>\n",
       "      <td>10</td>\n",
       "    </tr>\n",
       "    <tr>\n",
       "      <th>6</th>\n",
       "      <td>1123092</td>\n",
       "      <td>0.059278</td>\n",
       "      <td>0.775610</td>\n",
       "      <td>0.278158</td>\n",
       "      <td>23.0</td>\n",
       "      <td>4</td>\n",
       "      <td>6</td>\n",
       "      <td>15</td>\n",
       "      <td>26.5</td>\n",
       "      <td>5</td>\n",
       "    </tr>\n",
       "    <tr>\n",
       "      <th>14</th>\n",
       "      <td>1123136</td>\n",
       "      <td>0.033505</td>\n",
       "      <td>0.622422</td>\n",
       "      <td>0.204926</td>\n",
       "      <td>13.0</td>\n",
       "      <td>12</td>\n",
       "      <td>14</td>\n",
       "      <td>10</td>\n",
       "      <td>27.0</td>\n",
       "      <td>4</td>\n",
       "    </tr>\n",
       "    <tr>\n",
       "      <th>4</th>\n",
       "      <td>1123260</td>\n",
       "      <td>0.028351</td>\n",
       "      <td>0.455092</td>\n",
       "      <td>0.297273</td>\n",
       "      <td>11.0</td>\n",
       "      <td>14</td>\n",
       "      <td>4</td>\n",
       "      <td>3</td>\n",
       "      <td>18.5</td>\n",
       "      <td>8</td>\n",
       "    </tr>\n",
       "    <tr>\n",
       "      <th>10</th>\n",
       "      <td>1123279</td>\n",
       "      <td>0.043814</td>\n",
       "      <td>0.517839</td>\n",
       "      <td>0.248315</td>\n",
       "      <td>17.0</td>\n",
       "      <td>10</td>\n",
       "      <td>10</td>\n",
       "      <td>7</td>\n",
       "      <td>20.5</td>\n",
       "      <td>7</td>\n",
       "    </tr>\n",
       "    <tr>\n",
       "      <th>5</th>\n",
       "      <td>1123287</td>\n",
       "      <td>0.072165</td>\n",
       "      <td>0.481196</td>\n",
       "      <td>0.286258</td>\n",
       "      <td>28.0</td>\n",
       "      <td>2</td>\n",
       "      <td>5</td>\n",
       "      <td>5</td>\n",
       "      <td>9.5</td>\n",
       "      <td>15</td>\n",
       "    </tr>\n",
       "    <tr>\n",
       "      <th>2</th>\n",
       "      <td>1123573</td>\n",
       "      <td>0.046392</td>\n",
       "      <td>0.706152</td>\n",
       "      <td>0.362379</td>\n",
       "      <td>18.0</td>\n",
       "      <td>8</td>\n",
       "      <td>2</td>\n",
       "      <td>13</td>\n",
       "      <td>27.5</td>\n",
       "      <td>3</td>\n",
       "    </tr>\n",
       "    <tr>\n",
       "      <th>3</th>\n",
       "      <td>1123798</td>\n",
       "      <td>0.028351</td>\n",
       "      <td>0.642670</td>\n",
       "      <td>0.343772</td>\n",
       "      <td>11.0</td>\n",
       "      <td>13</td>\n",
       "      <td>3</td>\n",
       "      <td>12</td>\n",
       "      <td>31.0</td>\n",
       "      <td>1</td>\n",
       "    </tr>\n",
       "    <tr>\n",
       "      <th>8</th>\n",
       "      <td>1123909</td>\n",
       "      <td>0.043814</td>\n",
       "      <td>0.749351</td>\n",
       "      <td>0.270154</td>\n",
       "      <td>17.0</td>\n",
       "      <td>9</td>\n",
       "      <td>8</td>\n",
       "      <td>14</td>\n",
       "      <td>30.0</td>\n",
       "      <td>2</td>\n",
       "    </tr>\n",
       "  </tbody>\n",
       "</table>\n",
       "</div>"
      ],
      "text/plain": [
       "    cluster   portion  deltaTime  cohesion  count  portionRank  cohesionRank  \\\n",
       "9   1123009  0.118557   0.533187  0.254489   46.0            1             9   \n",
       "11  1123015  0.028351   0.386761  0.244854   11.0           15            11   \n",
       "1   1123019  0.224227   0.524979  0.371899   87.0            0             1   \n",
       "13  1123025  0.059278   0.463523  0.244336   23.0            5            13   \n",
       "7   1123058  0.067010   0.344260  0.277180   26.0            3             7   \n",
       "0   1123064  0.054124   0.638644  0.429299   21.0            7             0   \n",
       "12  1123073  0.033505   0.422266  0.244671   13.0           11            12   \n",
       "15  1123080  0.059278   0.481821  0.202945   23.0            6            15   \n",
       "6   1123092  0.059278   0.775610  0.278158   23.0            4             6   \n",
       "14  1123136  0.033505   0.622422  0.204926   13.0           12            14   \n",
       "4   1123260  0.028351   0.455092  0.297273   11.0           14             4   \n",
       "10  1123279  0.043814   0.517839  0.248315   17.0           10            10   \n",
       "5   1123287  0.072165   0.481196  0.286258   28.0            2             5   \n",
       "2   1123573  0.046392   0.706152  0.362379   18.0            8             2   \n",
       "3   1123798  0.028351   0.642670  0.343772   11.0           13             3   \n",
       "8   1123909  0.043814   0.749351  0.270154   17.0            9             8   \n",
       "\n",
       "    deltaTimeRank  rank  rank_desc  \n",
       "9               9  14.5         11  \n",
       "11              1  16.5          9  \n",
       "1               8  12.0         13  \n",
       "13              4  11.0         14  \n",
       "7               0   3.0         16  \n",
       "0              11  23.5          6  \n",
       "12              2  14.0         12  \n",
       "15              6  15.0         10  \n",
       "6              15  26.5          5  \n",
       "14             10  27.0          4  \n",
       "4               3  18.5          8  \n",
       "10              7  20.5          7  \n",
       "5               5   9.5         15  \n",
       "2              13  27.5          3  \n",
       "3              12  31.0          1  \n",
       "8              14  30.0          2  "
      ]
     },
     "execution_count": 4,
     "metadata": {},
     "output_type": "execute_result"
    }
   ],
   "source": [
    "sorted_cdf"
   ]
  },
  {
   "cell_type": "code",
   "execution_count": null,
   "metadata": {
    "collapsed": true
   },
   "outputs": [],
   "source": []
  }
 ],
 "metadata": {
  "kernelspec": {
   "display_name": "Python 2",
   "language": "python",
   "name": "python2"
  },
  "language_info": {
   "codemirror_mode": {
    "name": "ipython",
    "version": 2
   },
   "file_extension": ".py",
   "mimetype": "text/x-python",
   "name": "python",
   "nbconvert_exporter": "python",
   "pygments_lexer": "ipython2",
   "version": "2.7.11"
  }
 },
 "nbformat": 4,
 "nbformat_minor": 1
}
