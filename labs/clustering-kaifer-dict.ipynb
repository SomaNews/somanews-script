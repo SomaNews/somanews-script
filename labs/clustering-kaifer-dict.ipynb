{
 "cells": [
  {
   "cell_type": "code",
   "execution_count": 15,
   "metadata": {
    "collapsed": false
   },
   "outputs": [],
   "source": [
    "from SimilarityClustering import SimilarityClustering\n",
    "import articles_data\n",
    "\n",
    "from gensim.models import Word2Vec\n",
    "import numpy as np\n",
    "import pandas as pd\n",
    "import cnouns as cn\n",
    "from pymongo import MongoClient\n",
    "from datetime import datetime"
   ]
  },
  {
   "cell_type": "code",
   "execution_count": 16,
   "metadata": {
    "collapsed": false
   },
   "outputs": [],
   "source": [
    "client = MongoClient('mongodb://localhost:27017/somanews')\n",
    "client.somanews.authenticate('ssomanews', 'ssomanews1029')\n",
    "db = client.get_database('somanews')\n",
    "\n",
    "crawled_collection = db.get_collection('crawledArticles')\n",
    "clusters_collection = db.get_collection('clusters')"
   ]
  },
  {
   "cell_type": "code",
   "execution_count": 17,
   "metadata": {
    "collapsed": false
   },
   "outputs": [],
   "source": [
    "catelist_path = '../datastore/category2.p'\n",
    "# w2v_src_dir = \"../datastore/w2v_src\"\n",
    "# w2v_path = \"../datastore/sejongcorpus_w2v2.p\"\n",
    "\n",
    "w2v_src_dir = \"../datastore/w2v_src2\"\n",
    "w2v_path = \"../datastore/sejongcorpus_w2v2_2.p\"\n",
    "\n",
    "corpus_path = \"../datastore/corpus2.p\"\n",
    "now = datetime.now()\n",
    "prefix = int(\"%.2d%.2d\"%(now.month, now.day))\n",
    "prefix = 1104\n",
    "prefix_str = \"%d_00\" % prefix"
   ]
  },
  {
   "cell_type": "markdown",
   "metadata": {},
   "source": [
    "# Dict\n",
    "* 세종코퍼스에서 고유명사 뽑기\n",
    "* Chunking"
   ]
  },
  {
   "cell_type": "code",
   "execution_count": 1,
   "metadata": {
    "collapsed": false
   },
   "outputs": [
    {
     "name": "stdout",
     "output_type": "stream",
     "text": [
      "박근혜NNP 대통령NNG 은JX\n"
     ]
    }
   ],
   "source": [
    "import articles_data\n",
    "import cnouns as cn\n",
    "\n",
    "headline_path = '../datastore/headline2.p'\n",
    "\n",
    "def tokenizer(text):\n",
    "    text = articles_data.remove_headlines(text, headline_path)\n",
    "    return cn.tokenizer(text)\n",
    "\n",
    "print tokenizer(u\"[사설]박근혜 대통령은\")"
   ]
  },
  {
   "cell_type": "code",
   "execution_count": 2,
   "metadata": {
    "collapsed": false
   },
   "outputs": [],
   "source": [
    "from konlpy.tag import Mecab\n",
    "import hanja\n",
    "import re\n",
    "import cnouns as cn\n",
    "\n",
    "from HuffmanCoding import HuffmanCoding\n",
    "mecab = Mecab()"
   ]
  },
  {
   "cell_type": "code",
   "execution_count": 27,
   "metadata": {
    "collapsed": false
   },
   "outputs": [
    {
     "data": {
      "text/plain": [
       "604721.062582"
      ]
     },
     "execution_count": 27,
     "metadata": {},
     "output_type": "execute_result"
    }
   ],
   "source": [
    "import time\n",
    "from datetime import datetime\n",
    "\n",
    "now = datetime.now()\n",
    "\n",
    "t1 = train_df.publishedAt[0]\n",
    "t2 = train_df.publishedAt[2]\n",
    "\n",
    "(now - t2).total_seconds()"
   ]
  },
  {
   "cell_type": "code",
   "execution_count": 18,
   "metadata": {
    "collapsed": false
   },
   "outputs": [],
   "source": [
    "train_df = articles_data.find_recent_articles(crawled_collection, catelist_path)"
   ]
  },
  {
   "cell_type": "code",
   "execution_count": null,
   "metadata": {
    "collapsed": false
   },
   "outputs": [],
   "source": [
    "print train_df.content[0]"
   ]
  },
  {
   "cell_type": "code",
   "execution_count": 3,
   "metadata": {
    "collapsed": false
   },
   "outputs": [],
   "source": [
    "inp_str = u'새누리당과 새누리당 박근혜 대통령은 8일 \"국회에서 여야 합의로 총리에 좋은 분을 추천해 주신다면 그 분을 총리로 임명해 실질적으로 내각을 통할할 수 있도록 하겠다\"고 밝혔다. 박 대통령은 이날 오전 국회를 전격 방문, 정세균 국회의장을 만나 최순실 정국수습을 위해 국회가 추천한 총리를 임명해달라는 야권의 요구를 수용하겠다는 의사를 공식적으로 밝혔다. 이에 따라 박 대통령은 지난 2일 참여정부 핵심인사였던 김병준 전 청와대 정책실장을 책임 총리로 내정했으나, 지명 6일 만에 사실상 철회하는 수순을 밟을 것으로 예상된다. 박 대통령이 정기국회 예산안 시정연설이나 국회 개원연설 등 공식 일정을 제외하고 정치적인 이유로 국회를 방문한 것은 이번이 두번째다. 박 대통령은 지난 2013년 9월 국정원 대선개입 의혹 정국을 풀기 위해 여야 대표와 국회 사랑재에서 회동한 적이 있다.'\n",
    "# inp_str = u'새누리당 더민주 핵심인사 참여정부, 새천년 새누리당은 새누리당이 새누리당과'\n",
    "# inp_str = train_df.content[0]"
   ]
  },
  {
   "cell_type": "code",
   "execution_count": 7,
   "metadata": {
    "collapsed": false
   },
   "outputs": [],
   "source": [
    "clean_text = cn.text_cleaning_without_special_ch(inp_str)\n",
    "syllables = cn.tokenize_syllables(7, clean_text)\n",
    "morphs = mecab.morphs(clean_text)\n",
    "nouns = mecab.nouns(clean_text)\n",
    "pos_tags = [m for m in morphs if m not in nouns]"
   ]
  },
  {
   "cell_type": "code",
   "execution_count": 8,
   "metadata": {
    "collapsed": false
   },
   "outputs": [],
   "source": [
    "hc = HuffmanCoding(clean_text)\n",
    "huff_dict = hc.encode()\n",
    "hcd = hc.decode(syllables)"
   ]
  },
  {
   "cell_type": "code",
   "execution_count": 28,
   "metadata": {
    "collapsed": false
   },
   "outputs": [],
   "source": [
    "filtered = hcd[hcd.apply(lambda x: not x['word'] in pos_tags, axis=1)]\n",
    "sortby_word = filtered.sort_values('word', ascending=True)\n",
    "sortby_weight = filtered.sort_values('weight', ascending=False)\n",
    "# sortby_word"
   ]
  },
  {
   "cell_type": "code",
   "execution_count": 29,
   "metadata": {
    "collapsed": true
   },
   "outputs": [],
   "source": [
    "dicts = [u'새누리', u'새누리당', u'더민주', u'더민주당', u'최순실', u'박대통령', u'국회의장', u'야권의요구', u'정기국회', u'참여정부']\n",
    "def tokenizer(inp_str):\n",
    "    return cn.custom_pos_tags(inp_str, dicts)"
   ]
  },
  {
   "cell_type": "code",
   "execution_count": 30,
   "metadata": {
    "collapsed": false
   },
   "outputs": [
    {
     "name": "stdout",
     "output_type": "stream",
     "text": [
      "새누리당NNP 과JC 새누리당NNP 박근혜NNP 대통령NNG 은JX 8SN 일NNBC 국회NNG 에서JKB 여야NNG 합의NNG 로JKB 총리NNG 에JKB 좋VA 은ETM 분NNB 을JKO 추천NNG 해XSV+EC 주VX 신다면EP+EC 그MM 분NNB 을JKO 총리NNG 로JKB 임명NNG 해XSV+EC 실질NNG 적XSN 으로JKB 내각NNG 을JKO 통할NNG 할XSV+ETM 수NNB 있VV 도록EC 하VX 겠EP 다EC 고JKQ 밝혔VV+EP 다EF 박대통령NNP 은JX 이날NNG 오전NNG 국회NNG 를JKO 전격NNG 방문NNG 정세균NNP 국회의장NNP 을JKO 만나VV+EC 최순실NNP 정국NNG 수습NNG 을JKO 위해VV+EC 국회NNG 가JKS 추천NNG 한XSA+ETM 총리NNG 를JKO 임명NNG 해XSV+EC 달VX 라는ETM 야권의요구NNP 를JKO 수용NNG 하XSV 겠EP 다는ETM 의사NNG 를JKO 공식NNG 적XSN 으로JKB 밝혔VV+EP 다EF 이NP 에JKB 따라VV+EC 박대통령NNP 은JX 지난VV+ETM 2SN 일NNBC 참여정부NNP 핵심NNG 인사NNG 였VCP+EP 던ETM 김병준NNP 전MM 청와대NNP 정책NNG 실장NNG 을JKO 책임NNG 총리NNG 로JKB 내정NNG 했으나XSV+EP+EC 지명NNG 6SN 일NNBC 만NNB 에JKB 사실NNG 상XSN 철회NNG 하XSV 는ETM 수순NNG 을JKO 밟VV 을ETM 것NNB 으로JKB 예상NNG 된다XSV+EF 박대통령NNP 이JKS 정기국회NNP 예산안NNG 시정NNG 연설NNG 이나JC 국회NNG 개원NNG 연설NNG 등NNB 공식NNG 일정NNG 을JKO 제외NNG 하XSV 고EC 정치NNG 적XSN 인VCP+ETM 이유NNG 로JKB 국회NNG 를JKO 방문NNG 한XSA+ETM 것NNB 은JX 이번NNG 이JKS 두MM 번NNBC 째XSN 다VCP+EF 박대통령NNP 은JX 지난VV+ETM 2013SN 년NNB 9SN 월NNBC 국정원NNP 대선NNG 개입NNG 의혹NNG 정국NNG 을JKO 풀VV 기ETN 위해VV+EC 여야NNG 대표NNG 와JC 국회NNG 사랑NNG 재NNG 에서JKB 회동NNG 한XSA+ETM 적NNB 이JKS 있VA 다EF\n"
     ]
    }
   ],
   "source": [
    "print tokenizer(inp_str)"
   ]
  },
  {
   "cell_type": "code",
   "execution_count": 5,
   "metadata": {
    "collapsed": false
   },
   "outputs": [
    {
     "name": "stdout",
     "output_type": "stream",
     "text": [
      "새누리당NNP\n",
      "과JC\n",
      "새누리당NNP\n",
      "박근혜NNP\n",
      "대통령NNG\n",
      "은JX\n",
      "8SN\n",
      "일NNBC\n",
      "국회NNG\n",
      "에서JKB\n",
      "여야NNG\n",
      "합의NNG\n",
      "로JKB\n",
      "총리NNG\n",
      "에JKB\n",
      "좋VA\n",
      "은ETM\n",
      "분NNB\n",
      "을JKO\n",
      "추천NNG\n",
      "해XSV+EC\n",
      "주VX\n",
      "신다면EP+EC\n",
      "그MM\n",
      "분NNB\n",
      "을JKO\n",
      "총리NNG\n",
      "로JKB\n",
      "임명NNG\n",
      "해XSV+EC\n",
      "실질NNG\n",
      "적XSN\n",
      "으로JKB\n",
      "내각NNG\n",
      "을JKO\n",
      "통할NNG\n",
      "할XSV+ETM\n",
      "수NNB\n",
      "있VV\n",
      "도록EC\n",
      "하VX\n",
      "겠EP\n",
      "다EC\n",
      "고JKQ\n",
      "밝혔VV+EP\n",
      "다EF\n",
      "박대통령NNP\n",
      "은JX\n",
      "이날NNG\n",
      "오전NNG\n",
      "국회NNG\n",
      "를JKO\n",
      "전격NNG\n",
      "방문NNG\n",
      "정세균NNP\n",
      "국회의장NNP\n",
      "을JKO\n",
      "만나VV+EC\n",
      "최순실NNP\n",
      "정국NNG\n",
      "수습NNG\n",
      "을JKO\n",
      "위해VV+EC\n",
      "국회NNG\n",
      "가JKS\n",
      "추천NNG\n",
      "한XSA+ETM\n",
      "총리NNG\n",
      "를JKO\n",
      "임명NNG\n",
      "해XSV+EC\n",
      "달VX\n",
      "라는ETM\n",
      "야권의요구NNP\n",
      "를JKO\n",
      "수용NNG\n",
      "하XSV\n",
      "겠EP\n",
      "다는ETM\n",
      "의사NNG\n",
      "를JKO\n",
      "공식NNG\n",
      "적XSN\n",
      "으로JKB\n",
      "밝혔VV+EP\n",
      "다EF\n",
      "이NP\n",
      "에JKB\n",
      "따라VV+EC\n",
      "박대통령NNP\n",
      "은JX\n",
      "지난VV+ETM\n",
      "2SN\n",
      "일NNBC\n",
      "참여NNG\n",
      "정부NNG\n",
      "핵심NNG\n",
      "인사NNG\n",
      "였VCP+EP\n",
      "던ETM\n",
      "김병준NNP\n",
      "전MM\n",
      "청와대NNP\n",
      "정책NNG\n",
      "실장NNG\n",
      "을JKO\n",
      "책임NNG\n",
      "총리NNG\n",
      "로JKB\n",
      "내정NNG\n",
      "했으나XSV+EP+EC\n",
      "지명NNG\n",
      "6SN\n",
      "일NNBC\n",
      "만NNB\n",
      "에JKB\n",
      "사실NNG\n",
      "상XSN\n",
      "철회NNG\n",
      "하XSV\n",
      "는ETM\n",
      "수순NNG\n",
      "을JKO\n",
      "밟VV\n",
      "을ETM\n",
      "것NNB\n",
      "으로JKB\n",
      "예상NNG\n",
      "된다XSV+EF\n",
      "박대통령NNP\n",
      "이JKS\n",
      "정기국회NNP\n",
      "예산안NNG\n",
      "시정NNG\n",
      "연설NNG\n",
      "이나JC\n",
      "국회NNG\n",
      "개원NNG\n",
      "연설NNG\n",
      "등NNB\n",
      "공식NNG\n",
      "일정NNG\n",
      "을JKO\n",
      "제외NNG\n",
      "하XSV\n",
      "고EC\n",
      "정치NNG\n",
      "적XSN\n",
      "인VCP+ETM\n",
      "이유NNG\n",
      "로JKB\n",
      "국회NNG\n",
      "를JKO\n",
      "방문NNG\n",
      "한XSA+ETM\n",
      "것NNB\n",
      "은JX\n",
      "이번NNG\n",
      "이JKS\n",
      "두MM\n",
      "번NNBC\n",
      "째XSN\n",
      "다VCP+EF\n",
      "박대통령NNP\n",
      "은JX\n",
      "지난VV+ETM\n",
      "2013SN\n",
      "년NNB\n",
      "9SN\n",
      "월NNBC\n",
      "국정원NNP\n",
      "대선NNG\n",
      "개입NNG\n",
      "의혹NNG\n",
      "정국NNG\n",
      "을JKO\n",
      "풀VV\n",
      "기ETN\n",
      "위해VV+EC\n",
      "여야NNG\n",
      "대표NNG\n",
      "와JC\n",
      "국회NNG\n",
      "사랑NNG\n",
      "재NNG\n",
      "에서JKB\n",
      "회동NNG\n",
      "한XSA+ETM\n",
      "적NNB\n",
      "이JKS\n",
      "있VA\n",
      "다EF\n"
     ]
    }
   ],
   "source": [
    "for t in cn.custom_pos_tags_arr(inp_str, dicts):\n",
    "    print t"
   ]
  },
  {
   "cell_type": "code",
   "execution_count": null,
   "metadata": {
    "collapsed": false
   },
   "outputs": [],
   "source": [
    "dicts = [u'새누리', u'새누리당', u'더민주', u'더민주당', u'최순실']\n",
    "\n",
    "s = u'새누리당과 더민주 더민주당이 최순실'\n",
    "pts = cn.custom_pos(mecab.pos(inp_str), 3, dicts)\n",
    "for r in mecab.pos(s):\n",
    "    print r[0], r[1]\n",
    "print \"----\"\n",
    "# for r in mecab.pos(inp_str):\n",
    "#     print r[0], r[1]\n",
    "print \"----\"\n",
    "for r in pts:\n",
    "    print r[0], r[1]"
   ]
  },
  {
   "cell_type": "code",
   "execution_count": null,
   "metadata": {
    "collapsed": false
   },
   "outputs": [],
   "source": [
    "filtered[17:]"
   ]
  },
  {
   "cell_type": "code",
   "execution_count": null,
   "metadata": {
    "collapsed": false
   },
   "outputs": [],
   "source": [
    "clean_text = cn.text_cleaning(inp_str)\n",
    "pos_tags = mecab.pos(clean_text)\n",
    "clean_text2 = cn.text_cleaning_without_special_ch(inp_str)\n",
    "split_by_whitespace = clean_text2.split(' ')"
   ]
  },
  {
   "cell_type": "code",
   "execution_count": null,
   "metadata": {
    "collapsed": false
   },
   "outputs": [],
   "source": [
    "for s in split_by_whitespace:\n",
    "    p = mecab.pos(s)\n",
    "    \n",
    "#     p = mecab.nouns(s)\n",
    "    for p1 in p:\n",
    "        print p1[0], p1[1]\n",
    "    print ''"
   ]
  },
  {
   "cell_type": "code",
   "execution_count": null,
   "metadata": {
    "collapsed": false
   },
   "outputs": [],
   "source": [
    "def morphs_ngrams_without_tag(inp_pos, max_n):\n",
    "    results = []\n",
    "    for n in range(2, max_n + 1):\n",
    "        ngrams = zip(*[inp_pos[i:] for i in range(n)])\n",
    "        for ngram in ngrams:\n",
    "            if(all([not cn.test_special_ch(e[1]) for e in ngram])):\n",
    "                results.append(ngram)\n",
    "    return results"
   ]
  },
  {
   "cell_type": "code",
   "execution_count": null,
   "metadata": {
    "collapsed": false
   },
   "outputs": [],
   "source": [
    "l = morphs_ngrams_without_tag(pos_tags,3)\n",
    "l[1]"
   ]
  },
  {
   "cell_type": "code",
   "execution_count": null,
   "metadata": {
    "collapsed": false
   },
   "outputs": [],
   "source": [
    "from collections import Counter\n",
    "\n",
    "term_dic = {}\n",
    "\n",
    "ngrams = morphs_ngrams_without_tag(pos_tags,3)\n",
    "counter=Counter(ngrams)\n",
    "\n",
    "tags = list(set(ngrams))\n",
    "for t in tags:\n",
    "    s = sum(1 if x == t else 0 for x in split_by_whitespace)\n",
    "    if(s > 0):\n",
    "        term_dic[t] = {\n",
    "            \"morphs\": counter[t],\n",
    "            \"split\": s\n",
    "        }"
   ]
  },
  {
   "cell_type": "code",
   "execution_count": null,
   "metadata": {
    "collapsed": false
   },
   "outputs": [],
   "source": [
    "for s in split_by_whitespace:\n",
    "    p = mecab.pos(s)\n",
    "#     p = mecab.nouns(s)\n",
    "    for p1 in p:\n",
    "        print p1[0], p1[1]\n",
    "    print ''"
   ]
  },
  {
   "cell_type": "code",
   "execution_count": null,
   "metadata": {
    "collapsed": false
   },
   "outputs": [],
   "source": [
    "for key, val in term_dic.items():\n",
    "    print key, val"
   ]
  },
  {
   "cell_type": "markdown",
   "metadata": {},
   "source": [
    "# Doc2Vec"
   ]
  },
  {
   "cell_type": "code",
   "execution_count": null,
   "metadata": {
    "collapsed": false,
    "scrolled": true
   },
   "outputs": [],
   "source": [
    "size = articles_data.makeDataset(crawled_collection, w2v_src_dir, corpus_path)\n",
    "print size"
   ]
  },
  {
   "cell_type": "code",
   "execution_count": null,
   "metadata": {
    "collapsed": true
   },
   "outputs": [],
   "source": [
    "articles_data.trainWord2Vec(w2v_src_dir, w2v_path, size)"
   ]
  },
  {
   "cell_type": "markdown",
   "metadata": {},
   "source": [
    "# Model"
   ]
  },
  {
   "cell_type": "code",
   "execution_count": null,
   "metadata": {
    "collapsed": false
   },
   "outputs": [],
   "source": [
    "train_df = articles_data.find_recent_articles(crawled_collection, catelist_path)\n",
    "sc = SimilarityClustering()\n",
    "sc.train(\"cate\", w2v_path, train_df, path=\"../datastore\", prefix=prefix_str)"
   ]
  },
  {
   "cell_type": "code",
   "execution_count": null,
   "metadata": {
    "collapsed": false
   },
   "outputs": [],
   "source": [
    "sc = SimilarityClustering.load(path=\"../datastore\", prefix=prefix_str)"
   ]
  },
  {
   "cell_type": "markdown",
   "metadata": {},
   "source": [
    "# Save"
   ]
  },
  {
   "cell_type": "code",
   "execution_count": null,
   "metadata": {
    "collapsed": false
   },
   "outputs": [],
   "source": [
    "sc.save_to_db(prefix, clusters_collection)"
   ]
  },
  {
   "cell_type": "markdown",
   "metadata": {},
   "source": [
    "# Test"
   ]
  },
  {
   "cell_type": "code",
   "execution_count": null,
   "metadata": {
    "collapsed": false,
    "scrolled": false
   },
   "outputs": [],
   "source": [
    "sc.print_clusters()"
   ]
  },
  {
   "cell_type": "code",
   "execution_count": null,
   "metadata": {
    "collapsed": false,
    "scrolled": true
   },
   "outputs": [],
   "source": [
    "sc.print_topics()"
   ]
  },
  {
   "cell_type": "code",
   "execution_count": null,
   "metadata": {
    "collapsed": false
   },
   "outputs": [],
   "source": [
    "sc.print_centers()"
   ]
  },
  {
   "cell_type": "code",
   "execution_count": null,
   "metadata": {
    "collapsed": false
   },
   "outputs": [],
   "source": [
    "clusters_collection.find_one({\"cluster\":1104032})"
   ]
  },
  {
   "cell_type": "code",
   "execution_count": null,
   "metadata": {
    "collapsed": false
   },
   "outputs": [],
   "source": [
    "from nltk.tokenize import word_tokenize\n",
    "from nltk.corpus import stopwords\n",
    "\n",
    "import nltk\n",
    "nltk.download()\n",
    "stopset = set(stopwords.words('english'))"
   ]
  },
  {
   "cell_type": "code",
   "execution_count": null,
   "metadata": {
    "collapsed": true
   },
   "outputs": [],
   "source": []
  },
  {
   "cell_type": "code",
   "execution_count": null,
   "metadata": {
    "collapsed": true
   },
   "outputs": [],
   "source": []
  }
 ],
 "metadata": {
  "kernelspec": {
   "display_name": "Python 2",
   "language": "python",
   "name": "python2"
  },
  "language_info": {
   "codemirror_mode": {
    "name": "ipython",
    "version": 2
   },
   "file_extension": ".py",
   "mimetype": "text/x-python",
   "name": "python",
   "nbconvert_exporter": "python",
   "pygments_lexer": "ipython2",
   "version": "2.7.11"
  }
 },
 "nbformat": 4,
 "nbformat_minor": 1
}
