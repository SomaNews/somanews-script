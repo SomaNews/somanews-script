{
 "cells": [
  {
   "cell_type": "markdown",
   "metadata": {},
   "source": [
    "[박현우] 간단한 클러스터링 예제\n",
    "========================\n",
    "\n",
    "이 노트북에서는 클러스터링을 하는 방식을 간단하게 다뤄봅니다."
   ]
  },
  {
   "cell_type": "code",
   "execution_count": 1,
   "metadata": {
    "collapsed": false
   },
   "outputs": [],
   "source": [
    "%matplotlib inline\n",
    "from IPython.display import display, HTML\n",
    "\n",
    "import matplotlib\n",
    "krfont = {'family' : 'nanumgothic', 'weight' : 'bold', 'size'   : 10}\n",
    "matplotlib.rc('font', **krfont)"
   ]
  },
  {
   "cell_type": "code",
   "execution_count": 2,
   "metadata": {
    "collapsed": true
   },
   "outputs": [],
   "source": [
    "import numpy as np\n",
    "import pandas as pd\n",
    "from tqdm import tqdm_notebook as tqdm"
   ]
  },
  {
   "cell_type": "code",
   "execution_count": 3,
   "metadata": {
    "collapsed": true
   },
   "outputs": [],
   "source": [
    "from multiprocessing import Pool\n",
    "import multiprocessing\n",
    "\n",
    "cores = multiprocessing.cpu_count()"
   ]
  },
  {
   "cell_type": "code",
   "execution_count": 4,
   "metadata": {
    "collapsed": false,
    "scrolled": true
   },
   "outputs": [],
   "source": [
    "chosun_data = pd.read_pickle(\"chosun_news.df\")"
   ]
  },
  {
   "cell_type": "markdown",
   "metadata": {},
   "source": [
    "1. Corpus 로딩하기\n",
    "---------------------"
   ]
  },
  {
   "cell_type": "code",
   "execution_count": 5,
   "metadata": {
    "collapsed": false
   },
   "outputs": [],
   "source": [
    "from konlpy.tag import Mecab, Hannanum, Twitter\n",
    "mecab = Mecab()\n",
    "hannanum = Hannanum()\n",
    "twitter = Twitter()"
   ]
  },
  {
   "cell_type": "code",
   "execution_count": 6,
   "metadata": {
    "collapsed": false
   },
   "outputs": [
    {
     "name": "stdout",
     "output_type": "stream",
     "text": [
      "['사설', '미', '증거', '수사', '나선', '중', '이중', '플레이']\n"
     ]
    }
   ],
   "source": [
    "import re, hanja\n",
    "import numba\n",
    "\n",
    "def tokenizeText(text):\n",
    "    text = ' '.join(hanja.split_hanja(text))\n",
    "    text = hanja.translate(text, 'substitution')\n",
    "    return mecab.nouns(text)\n",
    "\n",
    "print(tokenizeText('[사설] 美가 증거 내밀자 수사 나선 中 이중 플레이'))"
   ]
  },
  {
   "cell_type": "code",
   "execution_count": 7,
   "metadata": {
    "collapsed": true
   },
   "outputs": [],
   "source": [
    "import logging\n",
    "logging.basicConfig(format='%(asctime)s : %(levelname)s : %(message)s', level=logging.WARNING)"
   ]
  },
  {
   "cell_type": "code",
   "execution_count": 8,
   "metadata": {
    "collapsed": false
   },
   "outputs": [],
   "source": [
    "from gensim import corpora"
   ]
  },
  {
   "cell_type": "code",
   "execution_count": 9,
   "metadata": {
    "collapsed": false
   },
   "outputs": [
    {
     "name": "stderr",
     "output_type": "stream",
     "text": [
      "Widget Javascript not detected.  It may not be installed properly. Did you enable the widgetsnbextension? If not, then run \"jupyter nbextension enable --py --sys-prefix widgetsnbextension\"\n"
     ]
    },
    {
     "name": "stdout",
     "output_type": "stream",
     "text": [
      "\n"
     ]
    }
   ],
   "source": [
    "words = []\n",
    "# using mecab\n",
    "with Pool(cores) as p:\n",
    "    words = list(tqdm(p.imap(tokenizeText, chosun_data['title']), total=len(chosun_data)))\n",
    "# words = [tokenizeText(text) for text in tqdm(chosun_data['content'])]\n",
    "dictionary = corpora.Dictionary(words)"
   ]
  },
  {
   "cell_type": "markdown",
   "metadata": {},
   "source": [
    "2. Doc2Vec를 이용한 문서->벡터 변환\n",
    "------------------------------"
   ]
  },
  {
   "cell_type": "code",
   "execution_count": 10,
   "metadata": {
    "collapsed": false
   },
   "outputs": [
    {
     "name": "stdout",
     "output_type": "stream",
     "text": [
      "\n"
     ]
    },
    {
     "name": "stderr",
     "output_type": "stream",
     "text": [
      "Widget Javascript not detected.  It may not be installed properly. Did you enable the widgetsnbextension? If not, then run \"jupyter nbextension enable --py --sys-prefix widgetsnbextension\"\n"
     ]
    }
   ],
   "source": [
    "counts = {}\n",
    "for sentence in tqdm(words):\n",
    "    for word in sentence:\n",
    "        counts[word] = counts.get(word, 0) + 1"
   ]
  },
  {
   "cell_type": "code",
   "execution_count": 11,
   "metadata": {
    "collapsed": false
   },
   "outputs": [
    {
     "data": {
      "text/plain": [
       "18"
      ]
     },
     "execution_count": 11,
     "metadata": {},
     "output_type": "execute_result"
    }
   ],
   "source": [
    "counts['의']"
   ]
  },
  {
   "cell_type": "code",
   "execution_count": 12,
   "metadata": {
    "collapsed": true
   },
   "outputs": [],
   "source": [
    "import gensim\n",
    "from gensim.models.word2vec import Word2Vec, Text8Corpus\n",
    "from collections import OrderedDict\n",
    "import itertools"
   ]
  },
  {
   "cell_type": "code",
   "execution_count": 13,
   "metadata": {
    "collapsed": false
   },
   "outputs": [],
   "source": [
    "import random\n",
    "\n",
    "sentences = [gensim.models.doc2vec.LabeledSentence(\n",
    "        words=words, tags=[i])\n",
    "        for i, words in enumerate(words)]\n",
    "tmp = [(i, sentence) for i, sentence in enumerate(sentences)]\n",
    "random.shuffle(tmp)\n",
    "train_set = [x[1] for x in tmp[:len(tmp) * 3 // 10]]"
   ]
  },
  {
   "cell_type": "code",
   "execution_count": 14,
   "metadata": {
    "collapsed": false
   },
   "outputs": [],
   "source": [
    "w2v_model = Word2Vec(size=64, workers=cores)\n",
    "w2v_model.build_vocab(words)"
   ]
  },
  {
   "cell_type": "code",
   "execution_count": 15,
   "metadata": {
    "collapsed": false
   },
   "outputs": [
    {
     "data": {
      "text/plain": [
       "1000127"
      ]
     },
     "execution_count": 15,
     "metadata": {},
     "output_type": "execute_result"
    }
   ],
   "source": [
    "w2v_model.train(words)"
   ]
  },
  {
   "cell_type": "code",
   "execution_count": 16,
   "metadata": {
    "collapsed": false
   },
   "outputs": [
    {
     "data": {
      "text/plain": [
       "0.72399169342167857"
      ]
     },
     "execution_count": 16,
     "metadata": {},
     "output_type": "execute_result"
    }
   ],
   "source": [
    "w2v_model.similarity('이명박', '대통령')"
   ]
  },
  {
   "cell_type": "markdown",
   "metadata": {},
   "source": [
    "* paragraph2vec의 알고리즘에서 word2vec를 쓴다.\n",
    "* Word2Vec은 전체 뉴스에 대해서 하는게 어떤가. 너무 word/content 갯수가 적지 않은가.\n",
    "* 전처리 과정이 필요한가?"
   ]
  },
  {
   "cell_type": "markdown",
   "metadata": {},
   "source": [
    "3. sklearn을 이용한 Agglomerative Clustering\n",
    "------------------------------------------"
   ]
  },
  {
   "cell_type": "code",
   "execution_count": 17,
   "metadata": {
    "collapsed": true
   },
   "outputs": [],
   "source": [
    "def vectorizeWords(ws):\n",
    "    vsum = np.zeros(64)\n",
    "    fsum = 0.0\n",
    "    for w in ws:\n",
    "        if w in w2v_model.vocab:\n",
    "            f = counts[w]\n",
    "            if f == 0:\n",
    "                print(w)\n",
    "            fsum += 1 / f\n",
    "            vsum += w2v_model[w] / f\n",
    "    if fsum < 0.001:\n",
    "        return np.zeros(64)\n",
    "    else:\n",
    "        return vsum / fsum"
   ]
  },
  {
   "cell_type": "code",
   "execution_count": 18,
   "metadata": {
    "collapsed": false
   },
   "outputs": [
    {
     "data": {
      "text/plain": [
       "array([ 0.02326744, -0.07676168,  0.03696233,  0.00987689,  0.05502864,\n",
       "        0.05866513, -0.01148869,  0.04847459, -0.16405456,  0.0139331 ,\n",
       "        0.16142796, -0.00276149, -0.02363969,  0.11010678, -0.05427916,\n",
       "        0.06599977,  0.15847055, -0.1199093 , -0.02340623, -0.05826076,\n",
       "        0.01110925,  0.04290614, -0.11823361,  0.12032168,  0.05085335,\n",
       "        0.04675043, -0.0072211 ,  0.15575176,  0.12219956,  0.08567622,\n",
       "        0.02464284, -0.09451726,  0.01727629, -0.03601583,  0.0477478 ,\n",
       "       -0.04698411,  0.19029253,  0.11677974,  0.11509391, -0.09544056,\n",
       "        0.05337664,  0.0851169 , -0.1139282 , -0.11747369, -0.02468912,\n",
       "       -0.02794749, -0.090407  , -0.11354564,  0.06161017, -0.04227237,\n",
       "       -0.07465349,  0.00030149,  0.06177193,  0.13517344,  0.11186998,\n",
       "       -0.03922398, -0.02496146,  0.11335936, -0.06517375,  0.07318591,\n",
       "        0.03461071, -0.01050999,  0.08935292,  0.04567676])"
      ]
     },
     "execution_count": 18,
     "metadata": {},
     "output_type": "execute_result"
    }
   ],
   "source": [
    "vectorizeWords(['사설', '미', '증거', '수사', '나선', '중', '이중', '플레이'])"
   ]
  },
  {
   "cell_type": "code",
   "execution_count": 19,
   "metadata": {
    "collapsed": false
   },
   "outputs": [
    {
     "name": "stderr",
     "output_type": "stream",
     "text": [
      "Widget Javascript not detected.  It may not be installed properly. Did you enable the widgetsnbextension? If not, then run \"jupyter nbextension enable --py --sys-prefix widgetsnbextension\"\n"
     ]
    },
    {
     "name": "stdout",
     "output_type": "stream",
     "text": [
      "\n"
     ]
    }
   ],
   "source": [
    "content_vectors = []\n",
    "for i, sentence in enumerate(tqdm(sentences)):\n",
    "    v = vectorizeWords(sentence.words)\n",
    "    content_vectors.append(v)\n",
    "content_vectors = np.asarray(content_vectors)"
   ]
  },
  {
   "cell_type": "code",
   "execution_count": 20,
   "metadata": {
    "collapsed": true
   },
   "outputs": [],
   "source": [
    "from sklearn.cluster import AgglomerativeClustering, DBSCAN, KMeans, SpectralClustering, MeanShift\n",
    "from spherecluster import SphericalKMeans"
   ]
  },
  {
   "cell_type": "code",
   "execution_count": 21,
   "metadata": {
    "collapsed": false
   },
   "outputs": [
    {
     "name": "stdout",
     "output_type": "stream",
     "text": [
      "# of clusters : 50\n"
     ]
    }
   ],
   "source": [
    "cluster_num = 50\n",
    "# cluster_model = AgglomerativeClustering(n_clusters=cluster_num, linkage=\"average\", affinity='cosine')\n",
    "# cluster_model = DBSCAN(eps=.30, min_samples=3, metric='cosine', algorithm='brute')\n",
    "# cluster_model = KMeans(n_clusters=cluster_num)\n",
    "cluster_model = SphericalKMeans(n_clusters=cluster_num)\n",
    "# cluster_model = SpectralClustering(n_clusters=cluster_num, affinity='cosine')\n",
    "# cluster_model = MeanShift(n_jobs=cores)\n",
    "cluster_model.fit(content_vectors)\n",
    "\n",
    "cluster_num = len(set(cluster_model.labels_)) - (1 if -1 in cluster_model.labels_ else 0)\n",
    "print('# of clusters : %d' % cluster_num)\n",
    "if -1 in cluster_model.labels_:\n",
    "    noiseNum = np.sum(cluster_model.labels_ == -1)\n",
    "    totNum = len(content_vectors)\n",
    "    print('Noise : %d/%d (%.2f%%)' % (noiseNum, totNum, noiseNum / totNum * 100))"
   ]
  },
  {
   "cell_type": "code",
   "execution_count": 22,
   "metadata": {
    "collapsed": false
   },
   "outputs": [],
   "source": [
    "cluster_data = []\n",
    "for cluster_index in range(cluster_num):\n",
    "    cluster_data.append(chosun_data[cluster_model.labels_ == cluster_index])"
   ]
  },
  {
   "cell_type": "code",
   "execution_count": null,
   "metadata": {
    "collapsed": false
   },
   "outputs": [
    {
     "data": {
      "text/plain": [
       "array([ 0.00906142, -0.11755657,  0.03440735,  0.01343728,  0.08631227,\n",
       "        0.08654681, -0.00665735,  0.10412623, -0.25305292,  0.04015826,\n",
       "        0.25743564, -0.00388694, -0.04156394,  0.1668861 , -0.08814424,\n",
       "        0.10953267,  0.23459355, -0.17656178, -0.03165278, -0.05350388,\n",
       "        0.03358564,  0.05574028, -0.1952626 ,  0.17438948,  0.07549638,\n",
       "        0.05782397, -0.01364027,  0.22175321,  0.1757884 ,  0.11781355,\n",
       "        0.05328186, -0.14409947,  0.02025538, -0.0455035 ,  0.07910068,\n",
       "       -0.07356098,  0.29458924,  0.16772723,  0.15780507, -0.12697357,\n",
       "        0.07419625,  0.12043047, -0.17074333, -0.18910623, -0.01703443,\n",
       "       -0.05430681, -0.12772772, -0.16863227,  0.09750941, -0.06981467,\n",
       "       -0.1114451 , -0.01439235,  0.12030905,  0.1985726 ,  0.14701027,\n",
       "       -0.0631576 , -0.04437923,  0.15126495, -0.10236627,  0.12339782,\n",
       "        0.04960776, -0.01291204,  0.13977099,  0.07583495])"
      ]
     },
     "execution_count": 23,
     "metadata": {},
     "output_type": "execute_result"
    }
   ],
   "source": [
    "cluster_model.cluster_centers_[0]"
   ]
  },
  {
   "cell_type": "code",
   "execution_count": null,
   "metadata": {
    "collapsed": false,
    "scrolled": false
   },
   "outputs": [
    {
     "name": "stdout",
     "output_type": "stream",
     "text": [
      "Cluster #0\n"
     ]
    },
    {
     "data": {
      "text/plain": [
       "[('미군', 0.9992335438728333),\n",
       " ('지정', 0.9989767074584961),\n",
       " ('절반', 0.9989298582077026),\n",
       " ('회계', 0.998836874961853),\n",
       " ('작전', 0.9988340139389038),\n",
       " ('합병', 0.9988318085670471),\n",
       " ('층', 0.9987736344337463),\n",
       " ('러시아', 0.9987475872039795),\n",
       " ('독일', 0.9986741542816162)]"
      ]
     },
     "metadata": {},
     "output_type": "display_data"
    },
    {
     "data": {
      "text/html": [
       "<div>\n",
       "<table border=\"1\" class=\"dataframe\">\n",
       "  <thead>\n",
       "    <tr style=\"text-align: right;\">\n",
       "      <th></th>\n",
       "      <th>category</th>\n",
       "      <th>title</th>\n",
       "    </tr>\n",
       "  </thead>\n",
       "  <tbody>\n",
       "    <tr>\n",
       "      <th>29512</th>\n",
       "      <td>국제</td>\n",
       "      <td>[글로벌 콕콕] 시크교도 美대위 터번·수염 소송 승리 외</td>\n",
       "    </tr>\n",
       "    <tr>\n",
       "      <th>35652</th>\n",
       "      <td>사회</td>\n",
       "      <td>타는 자와 걷는 자 '아찔한 동행'</td>\n",
       "    </tr>\n",
       "    <tr>\n",
       "      <th>44779</th>\n",
       "      <td>사회 &gt; 국방</td>\n",
       "      <td>南 확성기 방송 이후 \"北, 삐라 100만장 살포\"</td>\n",
       "    </tr>\n",
       "    <tr>\n",
       "      <th>665</th>\n",
       "      <td>사회 &gt; 교육ㆍ시험</td>\n",
       "      <td>부동산 반짝 뜨자… 공인중개사 시험에 19만명 몰려</td>\n",
       "    </tr>\n",
       "    <tr>\n",
       "      <th>51980</th>\n",
       "      <td>스포츠ㆍ연예 &gt; 스포츠 &gt; 종합 &gt; 동계</td>\n",
       "      <td>'아이언 맨' 윤성빈, 金같은 銅</td>\n",
       "    </tr>\n",
       "    <tr>\n",
       "      <th>5103</th>\n",
       "      <td>사회</td>\n",
       "      <td>梨大사태 23일… '느린 민주주의'의 비극</td>\n",
       "    </tr>\n",
       "    <tr>\n",
       "      <th>60207</th>\n",
       "      <td>사회 &gt; 인물 &gt; 사람들</td>\n",
       "      <td>히딩크 첫 방북… 오늘 평양 풋살구장 착공</td>\n",
       "    </tr>\n",
       "    <tr>\n",
       "      <th>69307</th>\n",
       "      <td>사설ㆍ칼럼 &gt; 내부칼럼 &gt; 오늘의 100자평</td>\n",
       "      <td>[오늘의 100자평] \"문재인 '학자금 대출 금리 0%로'… 靑年 대책 곧 발표\"</td>\n",
       "    </tr>\n",
       "    <tr>\n",
       "      <th>1470</th>\n",
       "      <td>사회 &gt; 법원ㆍ검찰ㆍ경찰</td>\n",
       "      <td>홍만표·우병우 변론 '도나도나 사건'… 大法 \"유죄 취지로 다시 재판하라\"</td>\n",
       "    </tr>\n",
       "    <tr>\n",
       "      <th>11201</th>\n",
       "      <td>사회 &gt; 법원ㆍ검찰ㆍ경찰</td>\n",
       "      <td>[핫코너] 모기는 알고있다, 누가 범인인지</td>\n",
       "    </tr>\n",
       "  </tbody>\n",
       "</table>\n",
       "</div>"
      ],
      "text/plain": [
       "                       category                                          title\n",
       "29512                        국제                [글로벌 콕콕] 시크교도 美대위 터번·수염 소송 승리 외\n",
       "35652                        사회                            타는 자와 걷는 자 '아찔한 동행'\n",
       "44779                   사회 > 국방                   南 확성기 방송 이후 \"北, 삐라 100만장 살포\"\n",
       "665                  사회 > 교육ㆍ시험                   부동산 반짝 뜨자… 공인중개사 시험에 19만명 몰려\n",
       "51980    스포츠ㆍ연예 > 스포츠 > 종합 > 동계                             '아이언 맨' 윤성빈, 金같은 銅\n",
       "5103                         사회                        梨大사태 23일… '느린 민주주의'의 비극\n",
       "60207             사회 > 인물 > 사람들                        히딩크 첫 방북… 오늘 평양 풋살구장 착공\n",
       "69307  사설ㆍ칼럼 > 내부칼럼 > 오늘의 100자평  [오늘의 100자평] \"문재인 '학자금 대출 금리 0%로'… 靑年 대책 곧 발표\"\n",
       "1470              사회 > 법원ㆍ검찰ㆍ경찰      홍만표·우병우 변론 '도나도나 사건'… 大法 \"유죄 취지로 다시 재판하라\"\n",
       "11201             사회 > 법원ㆍ검찰ㆍ경찰                        [핫코너] 모기는 알고있다, 누가 범인인지"
      ]
     },
     "metadata": {},
     "output_type": "display_data"
    },
    {
     "name": "stdout",
     "output_type": "stream",
     "text": [
      "Cluster #1\n"
     ]
    },
    {
     "data": {
      "text/plain": [
       "[('상상', 0.9972658157348633),\n",
       " ('순간', 0.9971310496330261),\n",
       " ('리뷰', 0.9970732927322388),\n",
       " ('죽음', 0.9968907237052917),\n",
       " ('인간', 0.9966734647750854),\n",
       " ('언니', 0.996556282043457),\n",
       " ('피부', 0.995757520198822),\n",
       " ('진짜', 0.9957261085510254)]"
      ]
     },
     "metadata": {},
     "output_type": "display_data"
    },
    {
     "data": {
      "text/html": [
       "<div>\n",
       "<table border=\"1\" class=\"dataframe\">\n",
       "  <thead>\n",
       "    <tr style=\"text-align: right;\">\n",
       "      <th></th>\n",
       "      <th>category</th>\n",
       "      <th>title</th>\n",
       "    </tr>\n",
       "  </thead>\n",
       "  <tbody>\n",
       "    <tr>\n",
       "      <th>52860</th>\n",
       "      <td>사설ㆍ칼럼 &gt; 외부칼럼 &gt; 가슴으로 읽는…</td>\n",
       "      <td>[가슴으로 읽는 동시] 키 작은 아이</td>\n",
       "    </tr>\n",
       "    <tr>\n",
       "      <th>46763</th>\n",
       "      <td>문화 &gt; 북스 &gt; 신간소개</td>\n",
       "      <td>[어린이책] 화장실 '응가'는 어디로 가는 걸까</td>\n",
       "    </tr>\n",
       "    <tr>\n",
       "      <th>58343</th>\n",
       "      <td>문화 &gt; 북스</td>\n",
       "      <td>[당신의 리스트] 피아니스트 백건우의 연습이 끝난 뒤 펼치는 책 5</td>\n",
       "    </tr>\n",
       "    <tr>\n",
       "      <th>12053</th>\n",
       "      <td>사회 &gt; 인물 &gt; 사람들</td>\n",
       "      <td>[내 인생의 100℃] \"이제 발레 밖 인생도 음미해야죠\"</td>\n",
       "    </tr>\n",
       "    <tr>\n",
       "      <th>122716</th>\n",
       "      <td>문화</td>\n",
       "      <td>[트렌드+] 힘들수록 찾게 된다 '무지갯빛 위로'</td>\n",
       "    </tr>\n",
       "    <tr>\n",
       "      <th>34835</th>\n",
       "      <td>사설ㆍ칼럼 &gt; 외부칼럼 &gt; 일사일언</td>\n",
       "      <td>[일사일언] 새로운 발견의 즐거움</td>\n",
       "    </tr>\n",
       "    <tr>\n",
       "      <th>27707</th>\n",
       "      <td>사회 &gt; 교육ㆍ시험 &gt; 일본어</td>\n",
       "      <td>[입에 착착 붙는 일본어] ~을 절제하다</td>\n",
       "    </tr>\n",
       "    <tr>\n",
       "      <th>5342</th>\n",
       "      <td>nativeAD &gt; 삼성전자</td>\n",
       "      <td>무난한 검은색? \"남자라면 핑크지\"</td>\n",
       "    </tr>\n",
       "    <tr>\n",
       "      <th>9197</th>\n",
       "      <td>사회 &gt; 교육ㆍ시험 &gt; 일본어</td>\n",
       "      <td>[입에 착착 붙는 일본어] 이야기를 딴 데로 돌리다</td>\n",
       "    </tr>\n",
       "    <tr>\n",
       "      <th>22569</th>\n",
       "      <td>사회 &gt; 카드뉴스</td>\n",
       "      <td>[카드뉴스] 흉악범의 드러난 얼굴</td>\n",
       "    </tr>\n",
       "  </tbody>\n",
       "</table>\n",
       "</div>"
      ],
      "text/plain": [
       "                       category                                  title\n",
       "52860   사설ㆍ칼럼 > 외부칼럼 > 가슴으로 읽는…                   [가슴으로 읽는 동시] 키 작은 아이\n",
       "46763            문화 > 북스 > 신간소개             [어린이책] 화장실 '응가'는 어디로 가는 걸까\n",
       "58343                   문화 > 북스  [당신의 리스트] 피아니스트 백건우의 연습이 끝난 뒤 펼치는 책 5\n",
       "12053             사회 > 인물 > 사람들       [내 인생의 100℃] \"이제 발레 밖 인생도 음미해야죠\"\n",
       "122716                       문화            [트렌드+] 힘들수록 찾게 된다 '무지갯빛 위로'\n",
       "34835       사설ㆍ칼럼 > 외부칼럼 > 일사일언                     [일사일언] 새로운 발견의 즐거움\n",
       "27707          사회 > 교육ㆍ시험 > 일본어                 [입에 착착 붙는 일본어] ~을 절제하다\n",
       "5342            nativeAD > 삼성전자                    무난한 검은색? \"남자라면 핑크지\"\n",
       "9197           사회 > 교육ㆍ시험 > 일본어           [입에 착착 붙는 일본어] 이야기를 딴 데로 돌리다\n",
       "22569                 사회 > 카드뉴스                     [카드뉴스] 흉악범의 드러난 얼굴"
      ]
     },
     "metadata": {},
     "output_type": "display_data"
    },
    {
     "name": "stdout",
     "output_type": "stream",
     "text": [
      "Cluster #2\n"
     ]
    },
    {
     "data": {
      "text/plain": [
       "[('월요일', 0.9899840354919434),\n",
       " ('금요일', 0.9897873997688293),\n",
       " ('일요일', 0.989763617515564),\n",
       " ('화요일', 0.9897189736366272),\n",
       " ('토요일', 0.9879075884819031)]"
      ]
     },
     "metadata": {},
     "output_type": "display_data"
    },
    {
     "data": {
      "text/html": [
       "<div>\n",
       "<table border=\"1\" class=\"dataframe\">\n",
       "  <thead>\n",
       "    <tr style=\"text-align: right;\">\n",
       "      <th></th>\n",
       "      <th>category</th>\n",
       "      <th>title</th>\n",
       "    </tr>\n",
       "  </thead>\n",
       "  <tbody>\n",
       "    <tr>\n",
       "      <th>56973</th>\n",
       "      <td>사회 &gt; 날씨</td>\n",
       "      <td>[오늘의 날씨] 2015년 11월 20일</td>\n",
       "    </tr>\n",
       "    <tr>\n",
       "      <th>20215</th>\n",
       "      <td>사회 &gt; 날씨</td>\n",
       "      <td>[오늘의 날씨] 2016년 5월 24일</td>\n",
       "    </tr>\n",
       "    <tr>\n",
       "      <th>66144</th>\n",
       "      <td>사회 &gt; 날씨</td>\n",
       "      <td>[오늘의 날씨] 2015년 10월 9일</td>\n",
       "    </tr>\n",
       "    <tr>\n",
       "      <th>14034</th>\n",
       "      <td>사회 &gt; 날씨</td>\n",
       "      <td>[오늘의 날씨] 2016년 6월 27일</td>\n",
       "    </tr>\n",
       "    <tr>\n",
       "      <th>60062</th>\n",
       "      <td>사회 &gt; 날씨</td>\n",
       "      <td>[오늘의 날씨] 2015년 11월 6일</td>\n",
       "    </tr>\n",
       "    <tr>\n",
       "      <th>37373</th>\n",
       "      <td>스포츠ㆍ연예 &gt; 스포츠 &gt; 종합</td>\n",
       "      <td>[오늘의 경기] 2016년 2월 25일</td>\n",
       "    </tr>\n",
       "    <tr>\n",
       "      <th>123176</th>\n",
       "      <td>스포츠ㆍ연예 &gt; 스포츠 &gt; 종합</td>\n",
       "      <td>[오늘의 경기] 2016년 9월 28일</td>\n",
       "    </tr>\n",
       "    <tr>\n",
       "      <th>655</th>\n",
       "      <td>사회 &gt; 날씨</td>\n",
       "      <td>[오늘의 날씨] 2016년 9월 18일</td>\n",
       "    </tr>\n",
       "    <tr>\n",
       "      <th>12957</th>\n",
       "      <td>사회 &gt; 날씨</td>\n",
       "      <td>[오늘의 날씨] 2016년 7월 2일</td>\n",
       "    </tr>\n",
       "    <tr>\n",
       "      <th>15027</th>\n",
       "      <td>스포츠ㆍ연예 &gt; 스포츠 &gt; 종합</td>\n",
       "      <td>[오늘의 경기] 2016년 6월 21일</td>\n",
       "    </tr>\n",
       "  </tbody>\n",
       "</table>\n",
       "</div>"
      ],
      "text/plain": [
       "                 category                   title\n",
       "56973             사회 > 날씨  [오늘의 날씨] 2015년 11월 20일\n",
       "20215             사회 > 날씨   [오늘의 날씨] 2016년 5월 24일\n",
       "66144             사회 > 날씨   [오늘의 날씨] 2015년 10월 9일\n",
       "14034             사회 > 날씨   [오늘의 날씨] 2016년 6월 27일\n",
       "60062             사회 > 날씨   [오늘의 날씨] 2015년 11월 6일\n",
       "37373   스포츠ㆍ연예 > 스포츠 > 종합   [오늘의 경기] 2016년 2월 25일\n",
       "123176  스포츠ㆍ연예 > 스포츠 > 종합   [오늘의 경기] 2016년 9월 28일\n",
       "655               사회 > 날씨   [오늘의 날씨] 2016년 9월 18일\n",
       "12957             사회 > 날씨    [오늘의 날씨] 2016년 7월 2일\n",
       "15027   스포츠ㆍ연예 > 스포츠 > 종합   [오늘의 경기] 2016년 6월 21일"
      ]
     },
     "metadata": {},
     "output_type": "display_data"
    },
    {
     "name": "stdout",
     "output_type": "stream",
     "text": [
      "Cluster #3\n"
     ]
    },
    {
     "data": {
      "text/plain": [
       "[('시계', 0.9993937015533447),\n",
       " ('강원', 0.9991089701652527),\n",
       " ('베이징', 0.9991000890731812),\n",
       " ('보호', 0.9990666508674622),\n",
       " ('독일', 0.9989525079727173),\n",
       " ('날개', 0.9989141225814819),\n",
       " ('공포', 0.9989113807678223),\n",
       " ('층', 0.9988776445388794),\n",
       " ('투자자', 0.9988032579421997),\n",
       " ('메르스', 0.9988014101982117)]"
      ]
     },
     "metadata": {},
     "output_type": "display_data"
    },
    {
     "data": {
      "text/html": [
       "<div>\n",
       "<table border=\"1\" class=\"dataframe\">\n",
       "  <thead>\n",
       "    <tr style=\"text-align: right;\">\n",
       "      <th></th>\n",
       "      <th>category</th>\n",
       "      <th>title</th>\n",
       "    </tr>\n",
       "  </thead>\n",
       "  <tbody>\n",
       "    <tr>\n",
       "      <th>43630</th>\n",
       "      <td>사회 &gt; 의료ㆍ보건</td>\n",
       "      <td>색깔로 알려주는 혈당 수치… 5초면 결과 확인</td>\n",
       "    </tr>\n",
       "    <tr>\n",
       "      <th>33126</th>\n",
       "      <td>사설ㆍ칼럼 &gt; 외부칼럼 &gt; 발언대</td>\n",
       "      <td>[발언대] 너무 가난한 대한민국 文人들</td>\n",
       "    </tr>\n",
       "    <tr>\n",
       "      <th>30474</th>\n",
       "      <td>사회</td>\n",
       "      <td>퇴근후에도 카톡, 카톡… 직장인 60% \"스마트폰 불편\"</td>\n",
       "    </tr>\n",
       "    <tr>\n",
       "      <th>49371</th>\n",
       "      <td>경제</td>\n",
       "      <td>[Weekly BIZ] 중국 일대일로가 성공할 수밖에 없는 이유 두 가지</td>\n",
       "    </tr>\n",
       "    <tr>\n",
       "      <th>51041</th>\n",
       "      <td>경제</td>\n",
       "      <td>\"거대한 변화 시작됐다는 의미… 한국은 안전\"</td>\n",
       "    </tr>\n",
       "    <tr>\n",
       "      <th>14767</th>\n",
       "      <td>사설ㆍ칼럼 &gt; 내부칼럼 &gt; 경제포커스</td>\n",
       "      <td>[경제포커스] 주가 폭락 대비하는 소로스와 아이칸</td>\n",
       "    </tr>\n",
       "    <tr>\n",
       "      <th>49448</th>\n",
       "      <td>사설ㆍ칼럼 &gt; 내부칼럼 &gt; 만물상</td>\n",
       "      <td>[만물상] 산타의 선물</td>\n",
       "    </tr>\n",
       "    <tr>\n",
       "      <th>9376</th>\n",
       "      <td>사회 &gt; 법원ㆍ검찰ㆍ경찰</td>\n",
       "      <td>[Why] 동료 경찰에 권총을 빼들어?… 요즘 공무원 왜 이러나</td>\n",
       "    </tr>\n",
       "    <tr>\n",
       "      <th>55351</th>\n",
       "      <td>스포츠ㆍ연예 &gt; 스포츠 &gt; 축구</td>\n",
       "      <td>홍명보 前감독, 중국행 급부상</td>\n",
       "    </tr>\n",
       "    <tr>\n",
       "      <th>30519</th>\n",
       "      <td>경제 &gt; 부동산</td>\n",
       "      <td>美공군전용 하우스, 군인·가족 8만명 유입 예상</td>\n",
       "    </tr>\n",
       "  </tbody>\n",
       "</table>\n",
       "</div>"
      ],
      "text/plain": [
       "                   category                                     title\n",
       "43630            사회 > 의료ㆍ보건                 색깔로 알려주는 혈당 수치… 5초면 결과 확인\n",
       "33126    사설ㆍ칼럼 > 외부칼럼 > 발언대                     [발언대] 너무 가난한 대한민국 文人들\n",
       "30474                    사회           퇴근후에도 카톡, 카톡… 직장인 60% \"스마트폰 불편\"\n",
       "49371                    경제  [Weekly BIZ] 중국 일대일로가 성공할 수밖에 없는 이유 두 가지\n",
       "51041                    경제                 \"거대한 변화 시작됐다는 의미… 한국은 안전\"\n",
       "14767  사설ㆍ칼럼 > 내부칼럼 > 경제포커스               [경제포커스] 주가 폭락 대비하는 소로스와 아이칸\n",
       "49448    사설ㆍ칼럼 > 내부칼럼 > 만물상                              [만물상] 산타의 선물\n",
       "9376          사회 > 법원ㆍ검찰ㆍ경찰       [Why] 동료 경찰에 권총을 빼들어?… 요즘 공무원 왜 이러나\n",
       "55351     스포츠ㆍ연예 > 스포츠 > 축구                          홍명보 前감독, 중국행 급부상\n",
       "30519              경제 > 부동산                美공군전용 하우스, 군인·가족 8만명 유입 예상"
      ]
     },
     "metadata": {},
     "output_type": "display_data"
    },
    {
     "name": "stdout",
     "output_type": "stream",
     "text": [
      "Cluster #4\n"
     ]
    },
    {
     "data": {
      "text/plain": [
       "[('코레', 0.9350157976150513),\n",
       " ('경진', 0.9330222606658936),\n",
       " ('육사', 0.9313944578170776),\n",
       " ('매주', 0.924437403678894),\n",
       " ('출발점', 0.923674464225769)]"
      ]
     },
     "metadata": {},
     "output_type": "display_data"
    },
    {
     "data": {
      "text/html": [
       "<div>\n",
       "<table border=\"1\" class=\"dataframe\">\n",
       "  <thead>\n",
       "    <tr style=\"text-align: right;\">\n",
       "      <th></th>\n",
       "      <th>category</th>\n",
       "      <th>title</th>\n",
       "    </tr>\n",
       "  </thead>\n",
       "  <tbody>\n",
       "    <tr>\n",
       "      <th>51894</th>\n",
       "      <td>정치 &gt; 나눔 통일</td>\n",
       "      <td>[통일나눔펀드 참여 현황] 2015년 12월 14일</td>\n",
       "    </tr>\n",
       "    <tr>\n",
       "      <th>39680</th>\n",
       "      <td>정치 &gt; 나눔 통일</td>\n",
       "      <td>[통일나눔펀드 참여 현황] 2016년 2월 15일</td>\n",
       "    </tr>\n",
       "    <tr>\n",
       "      <th>45245</th>\n",
       "      <td>정치 &gt; 나눔 통일</td>\n",
       "      <td>[통일나눔펀드 참여 현황] 2016년 1월 18일</td>\n",
       "    </tr>\n",
       "    <tr>\n",
       "      <th>56530</th>\n",
       "      <td>정치 &gt; 나눔 통일</td>\n",
       "      <td>[통일나눔펀드 참여 현황] 2015년 11월 23일</td>\n",
       "    </tr>\n",
       "    <tr>\n",
       "      <th>38764</th>\n",
       "      <td>정치 &gt; 나눔 통일</td>\n",
       "      <td>[통일나눔펀드 참여 현황] 2016년 2월 19일</td>\n",
       "    </tr>\n",
       "    <tr>\n",
       "      <th>58626</th>\n",
       "      <td>정치 &gt; 나눔 통일</td>\n",
       "      <td>[통일나눔펀드 참여 현황] 2015년 11월 13일</td>\n",
       "    </tr>\n",
       "    <tr>\n",
       "      <th>28943</th>\n",
       "      <td>정치 &gt; 나눔 통일</td>\n",
       "      <td>[통일나눔펀드 참여 현황] 2016년 4월 8일</td>\n",
       "    </tr>\n",
       "    <tr>\n",
       "      <th>35467</th>\n",
       "      <td>정치 &gt; 나눔 통일</td>\n",
       "      <td>[통일나눔펀드 참여 현황] 2016년 3월 7일</td>\n",
       "    </tr>\n",
       "    <tr>\n",
       "      <th>57686</th>\n",
       "      <td>정치 &gt; 나눔 통일</td>\n",
       "      <td>[통일나눔펀드 참여 현황] 2015년 11월 18일</td>\n",
       "    </tr>\n",
       "    <tr>\n",
       "      <th>47948</th>\n",
       "      <td>정치 &gt; 나눔 통일</td>\n",
       "      <td>[통일나눔펀드 참여 현황] 2016년 1월 4일</td>\n",
       "    </tr>\n",
       "  </tbody>\n",
       "</table>\n",
       "</div>"
      ],
      "text/plain": [
       "         category                         title\n",
       "51894  정치 > 나눔 통일  [통일나눔펀드 참여 현황] 2015년 12월 14일\n",
       "39680  정치 > 나눔 통일   [통일나눔펀드 참여 현황] 2016년 2월 15일\n",
       "45245  정치 > 나눔 통일   [통일나눔펀드 참여 현황] 2016년 1월 18일\n",
       "56530  정치 > 나눔 통일  [통일나눔펀드 참여 현황] 2015년 11월 23일\n",
       "38764  정치 > 나눔 통일   [통일나눔펀드 참여 현황] 2016년 2월 19일\n",
       "58626  정치 > 나눔 통일  [통일나눔펀드 참여 현황] 2015년 11월 13일\n",
       "28943  정치 > 나눔 통일    [통일나눔펀드 참여 현황] 2016년 4월 8일\n",
       "35467  정치 > 나눔 통일    [통일나눔펀드 참여 현황] 2016년 3월 7일\n",
       "57686  정치 > 나눔 통일  [통일나눔펀드 참여 현황] 2015년 11월 18일\n",
       "47948  정치 > 나눔 통일    [통일나눔펀드 참여 현황] 2016년 1월 4일"
      ]
     },
     "metadata": {},
     "output_type": "display_data"
    },
    {
     "name": "stdout",
     "output_type": "stream",
     "text": [
      "Cluster #5\n"
     ]
    },
    {
     "data": {
      "text/plain": [
       "[('주필', 0.9242385625839233),\n",
       " ('중국식', 0.9137383699417114),\n",
       " ('편집', 0.8951913714408875),\n",
       " ('예절', 0.8773351907730103),\n",
       " ('산업체', 0.8652300834655762),\n",
       " ('신문협회', 0.8619397878646851)]"
      ]
     },
     "metadata": {},
     "output_type": "display_data"
    },
    {
     "data": {
      "text/html": [
       "<div>\n",
       "<table border=\"1\" class=\"dataframe\">\n",
       "  <thead>\n",
       "    <tr style=\"text-align: right;\">\n",
       "      <th></th>\n",
       "      <th>category</th>\n",
       "      <th>title</th>\n",
       "    </tr>\n",
       "  </thead>\n",
       "  <tbody>\n",
       "    <tr>\n",
       "      <th>36364</th>\n",
       "      <td>사회 &gt; 교육ㆍ시험 &gt; 생활한자</td>\n",
       "      <td>[신문으로 배우는 실용한자] 득실(得失)</td>\n",
       "    </tr>\n",
       "    <tr>\n",
       "      <th>22013</th>\n",
       "      <td>사회 &gt; 교육ㆍ시험 &gt; 생활한자</td>\n",
       "      <td>[신문으로 배우는 실용한자] 제망매가(祭亡妹歌)</td>\n",
       "    </tr>\n",
       "    <tr>\n",
       "      <th>16096</th>\n",
       "      <td>사회 &gt; 교육ㆍ시험 &gt; 생활한자</td>\n",
       "      <td>[신문으로 배우는 실용한자] 연등(燃燈)</td>\n",
       "    </tr>\n",
       "    <tr>\n",
       "      <th>32384</th>\n",
       "      <td>사회 &gt; 교육ㆍ시험 &gt; 생활한자</td>\n",
       "      <td>[신문으로 배우는 실용한자] 초충도(草蟲圖)</td>\n",
       "    </tr>\n",
       "    <tr>\n",
       "      <th>48248</th>\n",
       "      <td>사회 &gt; 교육ㆍ시험 &gt; 생활한자</td>\n",
       "      <td>[신문으로 배우는 실용한자] 무병장수(無病長壽)</td>\n",
       "    </tr>\n",
       "    <tr>\n",
       "      <th>31857</th>\n",
       "      <td>사회 &gt; 교육ㆍ시험 &gt; 생활한자</td>\n",
       "      <td>[신문으로 배우는 실용한자] 용장(勇將)</td>\n",
       "    </tr>\n",
       "    <tr>\n",
       "      <th>36612</th>\n",
       "      <td>사회 &gt; 교육ㆍ시험 &gt; 생활한자</td>\n",
       "      <td>[신문으로 배우는 실용한자] 선당후사(先黨後私)</td>\n",
       "    </tr>\n",
       "    <tr>\n",
       "      <th>16314</th>\n",
       "      <td>사회 &gt; 교육ㆍ시험 &gt; 생활한자</td>\n",
       "      <td>[신문으로 배우는 실용한자] 요물(妖物)</td>\n",
       "    </tr>\n",
       "    <tr>\n",
       "      <th>11182</th>\n",
       "      <td>사회 &gt; 교육ㆍ시험 &gt; 생활한자</td>\n",
       "      <td>[신문으로 배우는 실용한자] 오판(誤判)</td>\n",
       "    </tr>\n",
       "    <tr>\n",
       "      <th>50103</th>\n",
       "      <td>사회 &gt; 두근두근 뇌 운동, 신문은 의사선생님</td>\n",
       "      <td>[두근두근 뇌 운동] [274] 신문은 스케치북</td>\n",
       "    </tr>\n",
       "  </tbody>\n",
       "</table>\n",
       "</div>"
      ],
      "text/plain": [
       "                        category                       title\n",
       "36364          사회 > 교육ㆍ시험 > 생활한자      [신문으로 배우는 실용한자] 득실(得失)\n",
       "22013          사회 > 교육ㆍ시험 > 생활한자  [신문으로 배우는 실용한자] 제망매가(祭亡妹歌)\n",
       "16096          사회 > 교육ㆍ시험 > 생활한자      [신문으로 배우는 실용한자] 연등(燃燈)\n",
       "32384          사회 > 교육ㆍ시험 > 생활한자    [신문으로 배우는 실용한자] 초충도(草蟲圖)\n",
       "48248          사회 > 교육ㆍ시험 > 생활한자  [신문으로 배우는 실용한자] 무병장수(無病長壽)\n",
       "31857          사회 > 교육ㆍ시험 > 생활한자      [신문으로 배우는 실용한자] 용장(勇將)\n",
       "36612          사회 > 교육ㆍ시험 > 생활한자  [신문으로 배우는 실용한자] 선당후사(先黨後私)\n",
       "16314          사회 > 교육ㆍ시험 > 생활한자      [신문으로 배우는 실용한자] 요물(妖物)\n",
       "11182          사회 > 교육ㆍ시험 > 생활한자      [신문으로 배우는 실용한자] 오판(誤判)\n",
       "50103  사회 > 두근두근 뇌 운동, 신문은 의사선생님  [두근두근 뇌 운동] [274] 신문은 스케치북"
      ]
     },
     "metadata": {},
     "output_type": "display_data"
    },
    {
     "name": "stdout",
     "output_type": "stream",
     "text": [
      "Cluster #6\n"
     ]
    },
    {
     "data": {
      "text/plain": [
       "[('통학', 0.9501463174819946),\n",
       " ('기숙', 0.9501328468322754),\n",
       " ('어휘', 0.942747175693512),\n",
       " ('절대', 0.9418768882751465),\n",
       " ('언어', 0.9399248957633972),\n",
       " ('델리', 0.93730229139328),\n",
       " ('연세', 0.9365417957305908),\n",
       " ('평촌', 0.9352841377258301),\n",
       " ('토킹', 0.9348889589309692)]"
      ]
     },
     "metadata": {},
     "output_type": "display_data"
    },
    {
     "data": {
      "text/html": [
       "<div>\n",
       "<table border=\"1\" class=\"dataframe\">\n",
       "  <thead>\n",
       "    <tr style=\"text-align: right;\">\n",
       "      <th></th>\n",
       "      <th>category</th>\n",
       "      <th>title</th>\n",
       "    </tr>\n",
       "  </thead>\n",
       "  <tbody>\n",
       "    <tr>\n",
       "      <th>22757</th>\n",
       "      <td>사회 &gt; 교육ㆍ시험 &gt; 영어</td>\n",
       "      <td>[스피킹이 강해지는 영어] narrow it down to</td>\n",
       "    </tr>\n",
       "    <tr>\n",
       "      <th>56983</th>\n",
       "      <td>사회 &gt; 교육ㆍ시험 &gt; 영어</td>\n",
       "      <td>[스피킹이 강해지는 영어] Whatever makes you happy.</td>\n",
       "    </tr>\n",
       "    <tr>\n",
       "      <th>30461</th>\n",
       "      <td>사회 &gt; 교육ㆍ시험 &gt; 영어</td>\n",
       "      <td>[스피킹이 강해지는 영어] ruffle some feathers</td>\n",
       "    </tr>\n",
       "    <tr>\n",
       "      <th>54946</th>\n",
       "      <td>사회 &gt; 교육ㆍ시험 &gt; 영어</td>\n",
       "      <td>[스피킹이 강해지는 영어] start all over again</td>\n",
       "    </tr>\n",
       "    <tr>\n",
       "      <th>5884</th>\n",
       "      <td>사회 &gt; 교육ㆍ시험 &gt; 영어</td>\n",
       "      <td>[스피킹이 강해지는 영어] He has an off-putting personality.</td>\n",
       "    </tr>\n",
       "    <tr>\n",
       "      <th>14070</th>\n",
       "      <td>사회 &gt; 교육ㆍ시험 &gt; 영어</td>\n",
       "      <td>[스피킹이 강해지는 영어] You should have taken my side.</td>\n",
       "    </tr>\n",
       "    <tr>\n",
       "      <th>20045</th>\n",
       "      <td>사회 &gt; 교육ㆍ시험 &gt; 영어</td>\n",
       "      <td>[스피킹이 강해지는 영어] You're one to talk.</td>\n",
       "    </tr>\n",
       "    <tr>\n",
       "      <th>61373</th>\n",
       "      <td>사회 &gt; 교육ㆍ시험 &gt; 중국어</td>\n",
       "      <td>[스피킹이 강해지는 중국어] 실마리가 잡히다</td>\n",
       "    </tr>\n",
       "    <tr>\n",
       "      <th>41213</th>\n",
       "      <td>사회 &gt; 교육ㆍ시험 &gt; 영어</td>\n",
       "      <td>[스피킹이 강해지는 영어] hit a nerve</td>\n",
       "    </tr>\n",
       "    <tr>\n",
       "      <th>37490</th>\n",
       "      <td>사회 &gt; 교육ㆍ시험 &gt; 영어</td>\n",
       "      <td>[스피킹이 강해지는 영어] pull your socks up</td>\n",
       "    </tr>\n",
       "  </tbody>\n",
       "</table>\n",
       "</div>"
      ],
      "text/plain": [
       "               category                                              title\n",
       "22757   사회 > 교육ㆍ시험 > 영어                   [스피킹이 강해지는 영어] narrow it down to\n",
       "56983   사회 > 교육ㆍ시험 > 영어           [스피킹이 강해지는 영어] Whatever makes you happy.\n",
       "30461   사회 > 교육ㆍ시험 > 영어                [스피킹이 강해지는 영어] ruffle some feathers\n",
       "54946   사회 > 교육ㆍ시험 > 영어                [스피킹이 강해지는 영어] start all over again\n",
       "5884    사회 > 교육ㆍ시험 > 영어  [스피킹이 강해지는 영어] He has an off-putting personality.\n",
       "14070   사회 > 교육ㆍ시험 > 영어      [스피킹이 강해지는 영어] You should have taken my side.\n",
       "20045   사회 > 교육ㆍ시험 > 영어                 [스피킹이 강해지는 영어] You're one to talk.\n",
       "61373  사회 > 교육ㆍ시험 > 중국어                           [스피킹이 강해지는 중국어] 실마리가 잡히다\n",
       "41213   사회 > 교육ㆍ시험 > 영어                         [스피킹이 강해지는 영어] hit a nerve\n",
       "37490   사회 > 교육ㆍ시험 > 영어                  [스피킹이 강해지는 영어] pull your socks up"
      ]
     },
     "metadata": {},
     "output_type": "display_data"
    },
    {
     "name": "stdout",
     "output_type": "stream",
     "text": [
      "Cluster #7\n"
     ]
    },
    {
     "data": {
      "text/plain": [
       "[('허정구', 0.984905481338501),\n",
       " ('농심', 0.9667046666145325),\n",
       " ('박돈규', 0.9571049213409424),\n",
       " ('토목', 0.9446415901184082),\n",
       " ('면적', 0.9446142911911011)]"
      ]
     },
     "metadata": {},
     "output_type": "display_data"
    },
    {
     "data": {
      "text/html": [
       "<div>\n",
       "<table border=\"1\" class=\"dataframe\">\n",
       "  <thead>\n",
       "    <tr style=\"text-align: right;\">\n",
       "      <th></th>\n",
       "      <th>category</th>\n",
       "      <th>title</th>\n",
       "    </tr>\n",
       "  </thead>\n",
       "  <tbody>\n",
       "    <tr>\n",
       "      <th>49616</th>\n",
       "      <td>스포츠ㆍ연예 &gt; 스포츠 &gt; 종합 &gt; 바둑</td>\n",
       "      <td>[제20회 LG배 조선일보 기왕전] 수훈의 一局</td>\n",
       "    </tr>\n",
       "    <tr>\n",
       "      <th>123436</th>\n",
       "      <td>스포츠ㆍ연예 &gt; 스포츠 &gt; 종합 &gt; 바둑</td>\n",
       "      <td>[제21회 LG배 조선일보 기왕전] 드러나는 罪過</td>\n",
       "    </tr>\n",
       "    <tr>\n",
       "      <th>25519</th>\n",
       "      <td>스포츠ㆍ연예 &gt; 스포츠 &gt; 종합 &gt; 바둑</td>\n",
       "      <td>[제20회 LG배 조선일보 기왕전] 흑 불계승</td>\n",
       "    </tr>\n",
       "    <tr>\n",
       "      <th>37145</th>\n",
       "      <td>스포츠ㆍ연예 &gt; 스포츠 &gt; 종합 &gt; 바둑</td>\n",
       "      <td>[제20회 LG배 조선일보 기왕전]</td>\n",
       "    </tr>\n",
       "    <tr>\n",
       "      <th>6948</th>\n",
       "      <td>스포츠ㆍ연예 &gt; 스포츠 &gt; 종합 &gt; 바둑</td>\n",
       "      <td>[제21회 LG배 조선일보 기왕전] 정밀한 手順</td>\n",
       "    </tr>\n",
       "    <tr>\n",
       "      <th>21906</th>\n",
       "      <td>스포츠ㆍ연예 &gt; 스포츠 &gt; 종합 &gt; 바둑</td>\n",
       "      <td>[제21회 LG배 조선일보 기왕전] 紅一點</td>\n",
       "    </tr>\n",
       "    <tr>\n",
       "      <th>41793</th>\n",
       "      <td>스포츠ㆍ연예 &gt; 스포츠 &gt; 종합 &gt; 바둑</td>\n",
       "      <td>[제20회 LG배 조선일보 기왕전] 흑 불계승</td>\n",
       "    </tr>\n",
       "    <tr>\n",
       "      <th>5395</th>\n",
       "      <td>스포츠ㆍ연예 &gt; 스포츠 &gt; 종합 &gt; 바둑</td>\n",
       "      <td>[제21회 LG배 조선일보 기왕전] 未生馬 각축장</td>\n",
       "    </tr>\n",
       "    <tr>\n",
       "      <th>61990</th>\n",
       "      <td>스포츠ㆍ연예 &gt; 스포츠 &gt; 종합 &gt; 바둑</td>\n",
       "      <td>[제20회 LG배 조선일보 기왕전] 깊숙한 侵入</td>\n",
       "    </tr>\n",
       "    <tr>\n",
       "      <th>14444</th>\n",
       "      <td>사회 &gt; 교통ㆍ관광ㆍ항공</td>\n",
       "      <td>새 'V字 활주로' 이착륙 횟수 2배로 늘어난다</td>\n",
       "    </tr>\n",
       "  </tbody>\n",
       "</table>\n",
       "</div>"
      ],
      "text/plain": [
       "                      category                        title\n",
       "49616   스포츠ㆍ연예 > 스포츠 > 종합 > 바둑   [제20회 LG배 조선일보 기왕전] 수훈의 一局\n",
       "123436  스포츠ㆍ연예 > 스포츠 > 종합 > 바둑  [제21회 LG배 조선일보 기왕전] 드러나는 罪過\n",
       "25519   스포츠ㆍ연예 > 스포츠 > 종합 > 바둑    [제20회 LG배 조선일보 기왕전] 흑 불계승\n",
       "37145   스포츠ㆍ연예 > 스포츠 > 종합 > 바둑          [제20회 LG배 조선일보 기왕전]\n",
       "6948    스포츠ㆍ연예 > 스포츠 > 종합 > 바둑   [제21회 LG배 조선일보 기왕전] 정밀한 手順\n",
       "21906   스포츠ㆍ연예 > 스포츠 > 종합 > 바둑      [제21회 LG배 조선일보 기왕전] 紅一點\n",
       "41793   스포츠ㆍ연예 > 스포츠 > 종합 > 바둑    [제20회 LG배 조선일보 기왕전] 흑 불계승\n",
       "5395    스포츠ㆍ연예 > 스포츠 > 종합 > 바둑  [제21회 LG배 조선일보 기왕전] 未生馬 각축장\n",
       "61990   스포츠ㆍ연예 > 스포츠 > 종합 > 바둑   [제20회 LG배 조선일보 기왕전] 깊숙한 侵入\n",
       "14444            사회 > 교통ㆍ관광ㆍ항공   새 'V字 활주로' 이착륙 횟수 2배로 늘어난다"
      ]
     },
     "metadata": {},
     "output_type": "display_data"
    },
    {
     "name": "stdout",
     "output_type": "stream",
     "text": [
      "Cluster #8\n"
     ]
    },
    {
     "data": {
      "text/plain": [
       "[('겨울철', 0.9785867929458618),\n",
       " ('냄새', 0.9763165712356567),\n",
       " ('달걀', 0.9718624353408813),\n",
       " ('껍질', 0.9693838953971863),\n",
       " ('속옷', 0.96842360496521),\n",
       " ('흰색', 0.9666528701782227),\n",
       " ('얼룩', 0.9665070176124573),\n",
       " ('냄비', 0.9652026295661926),\n",
       " ('객원', 0.9650499820709229)]"
      ]
     },
     "metadata": {},
     "output_type": "display_data"
    },
    {
     "data": {
      "text/html": [
       "<div>\n",
       "<table border=\"1\" class=\"dataframe\">\n",
       "  <thead>\n",
       "    <tr style=\"text-align: right;\">\n",
       "      <th></th>\n",
       "      <th>category</th>\n",
       "      <th>title</th>\n",
       "    </tr>\n",
       "  </thead>\n",
       "  <tbody>\n",
       "    <tr>\n",
       "      <th>58774</th>\n",
       "      <td>사회 &gt; 리빙포인트</td>\n",
       "      <td>[리빙포인트] 와이셔츠 목때 지울 땐</td>\n",
       "    </tr>\n",
       "    <tr>\n",
       "      <th>6075</th>\n",
       "      <td>사설ㆍ칼럼 &gt; 리스트칼럼 &gt; 송희영 칼럼</td>\n",
       "      <td>[송희영 칼럼] 미국이 화내는 건 무섭지 않나</td>\n",
       "    </tr>\n",
       "    <tr>\n",
       "      <th>15159</th>\n",
       "      <td>사회 &gt; 리빙포인트</td>\n",
       "      <td>[리빙포인트] 주방에 몰리는 초파리 없애려면</td>\n",
       "    </tr>\n",
       "    <tr>\n",
       "      <th>12468</th>\n",
       "      <td>사회 &gt; 리빙포인트</td>\n",
       "      <td>[리빙포인트] 달걀 신선하게 보관하려면</td>\n",
       "    </tr>\n",
       "    <tr>\n",
       "      <th>53383</th>\n",
       "      <td>사설ㆍ칼럼 &gt; 내부칼럼 &gt; 기자의 시각</td>\n",
       "      <td>[기자의 시각] 한 점 부끄러움</td>\n",
       "    </tr>\n",
       "    <tr>\n",
       "      <th>29683</th>\n",
       "      <td>사회 &gt; 리빙포인트</td>\n",
       "      <td>[리빙포인트] 집 안에 밴 청국장 냄새 없애는 법</td>\n",
       "    </tr>\n",
       "    <tr>\n",
       "      <th>2994</th>\n",
       "      <td>사회 &gt; 리빙포인트</td>\n",
       "      <td>[리빙포인트] 욕실 비누 오래 쓰려면</td>\n",
       "    </tr>\n",
       "    <tr>\n",
       "      <th>123468</th>\n",
       "      <td>사회 &gt; 리빙포인트</td>\n",
       "      <td>[리빙포인트] 환절기 비염·아토피 예방하려면</td>\n",
       "    </tr>\n",
       "    <tr>\n",
       "      <th>6886</th>\n",
       "      <td>사회 &gt; 리빙포인트</td>\n",
       "      <td>[리빙포인트] 설익은 밥, 고슬고슬하게 하려면</td>\n",
       "    </tr>\n",
       "    <tr>\n",
       "      <th>51070</th>\n",
       "      <td>스포츠ㆍ연예 &gt; 엔터테인먼트 &gt; TV/방송 &gt; 예능</td>\n",
       "      <td>[TV조선 ch19] 성교육에 나선 황신혜</td>\n",
       "    </tr>\n",
       "  </tbody>\n",
       "</table>\n",
       "</div>"
      ],
      "text/plain": [
       "                            category                        title\n",
       "58774                     사회 > 리빙포인트         [리빙포인트] 와이셔츠 목때 지울 땐\n",
       "6075          사설ㆍ칼럼 > 리스트칼럼 > 송희영 칼럼    [송희영 칼럼] 미국이 화내는 건 무섭지 않나\n",
       "15159                     사회 > 리빙포인트     [리빙포인트] 주방에 몰리는 초파리 없애려면\n",
       "12468                     사회 > 리빙포인트        [리빙포인트] 달걀 신선하게 보관하려면\n",
       "53383          사설ㆍ칼럼 > 내부칼럼 > 기자의 시각            [기자의 시각] 한 점 부끄러움\n",
       "29683                     사회 > 리빙포인트  [리빙포인트] 집 안에 밴 청국장 냄새 없애는 법\n",
       "2994                      사회 > 리빙포인트         [리빙포인트] 욕실 비누 오래 쓰려면\n",
       "123468                    사회 > 리빙포인트     [리빙포인트] 환절기 비염·아토피 예방하려면\n",
       "6886                      사회 > 리빙포인트    [리빙포인트] 설익은 밥, 고슬고슬하게 하려면\n",
       "51070   스포츠ㆍ연예 > 엔터테인먼트 > TV/방송 > 예능      [TV조선 ch19] 성교육에 나선 황신혜"
      ]
     },
     "metadata": {},
     "output_type": "display_data"
    },
    {
     "name": "stdout",
     "output_type": "stream",
     "text": [
      "Cluster #9\n"
     ]
    },
    {
     "data": {
      "text/plain": [
       "[('무대', 0.9984275102615356),\n",
       " ('안대희', 0.998355507850647),\n",
       " ('친', 0.9983426928520203),\n",
       " ('기구', 0.9982569217681885),\n",
       " ('호랑이', 0.9981874227523804),\n",
       " ('홍기택', 0.9981817007064819),\n",
       " ('상황', 0.9981433749198914),\n",
       " ('집필', 0.9981359243392944)]"
      ]
     },
     "metadata": {},
     "output_type": "display_data"
    },
    {
     "data": {
      "text/html": [
       "<div>\n",
       "<table border=\"1\" class=\"dataframe\">\n",
       "  <thead>\n",
       "    <tr style=\"text-align: right;\">\n",
       "      <th></th>\n",
       "      <th>category</th>\n",
       "      <th>title</th>\n",
       "    </tr>\n",
       "  </thead>\n",
       "  <tbody>\n",
       "    <tr>\n",
       "      <th>41520</th>\n",
       "      <td>사설ㆍ칼럼 &gt; 외부칼럼 &gt; 발언대</td>\n",
       "      <td>[발언대] '증오차별 방지법' 미루지 말라</td>\n",
       "    </tr>\n",
       "    <tr>\n",
       "      <th>14654</th>\n",
       "      <td>사회 &gt; 교통ㆍ관광ㆍ항공</td>\n",
       "      <td>김해 V자 활주로… '콜럼버스의 달걀'</td>\n",
       "    </tr>\n",
       "    <tr>\n",
       "      <th>20350</th>\n",
       "      <td>사설ㆍ칼럼 &gt; 내부칼럼 &gt; 기자수첩</td>\n",
       "      <td>[기자수첩] \"공익법인 시리즈, 그만 좀…\" 제발 저린 사람들</td>\n",
       "    </tr>\n",
       "    <tr>\n",
       "      <th>18931</th>\n",
       "      <td>사설ㆍ칼럼 &gt; 외부칼럼 &gt; 시론ㆍ기고</td>\n",
       "      <td>[기고] 아베에게 히로시마의 정신을 묻는다</td>\n",
       "    </tr>\n",
       "    <tr>\n",
       "      <th>56461</th>\n",
       "      <td>사회 &gt; 전국뉴스 &gt; 영남 &gt; 경남뉴스</td>\n",
       "      <td>거제 주민들 \"대통령 당선 잔치 벌이던 때가 엊그제 같은데…\"</td>\n",
       "    </tr>\n",
       "    <tr>\n",
       "      <th>56166</th>\n",
       "      <td>국제</td>\n",
       "      <td>'위안부 否定' 역사왜곡 책, 美 학자들에게 뿌린 일본</td>\n",
       "    </tr>\n",
       "    <tr>\n",
       "      <th>18318</th>\n",
       "      <td>국제 &gt; 미국ㆍ중남미</td>\n",
       "      <td>[who] 부통령 후보 떠오른 트럼프캠프 좌장… 충성도 높고 '코드' 비슷해 자주 獨對</td>\n",
       "    </tr>\n",
       "    <tr>\n",
       "      <th>44626</th>\n",
       "      <td>경제</td>\n",
       "      <td>\"중국서 살아남으려면 '중국에 뼈 묻겠다' 각오하라\"</td>\n",
       "    </tr>\n",
       "    <tr>\n",
       "      <th>22082</th>\n",
       "      <td>사회 &gt; 카드뉴스</td>\n",
       "      <td>[카드뉴스] 정부까지 나서서 베끼는게 '창조경제'인가요</td>\n",
       "    </tr>\n",
       "    <tr>\n",
       "      <th>69647</th>\n",
       "      <td>사설ㆍ칼럼 &gt; 내부칼럼 &gt; 만물상</td>\n",
       "      <td>[만물상] 대통령의 '휴가 선물'</td>\n",
       "    </tr>\n",
       "  </tbody>\n",
       "</table>\n",
       "</div>"
      ],
      "text/plain": [
       "                    category                                             title\n",
       "41520     사설ㆍ칼럼 > 외부칼럼 > 발언대                           [발언대] '증오차별 방지법' 미루지 말라\n",
       "14654          사회 > 교통ㆍ관광ㆍ항공                             김해 V자 활주로… '콜럼버스의 달걀'\n",
       "20350    사설ㆍ칼럼 > 내부칼럼 > 기자수첩                [기자수첩] \"공익법인 시리즈, 그만 좀…\" 제발 저린 사람들\n",
       "18931   사설ㆍ칼럼 > 외부칼럼 > 시론ㆍ기고                           [기고] 아베에게 히로시마의 정신을 묻는다\n",
       "56461  사회 > 전국뉴스 > 영남 > 경남뉴스                거제 주민들 \"대통령 당선 잔치 벌이던 때가 엊그제 같은데…\"\n",
       "56166                     국제                    '위안부 否定' 역사왜곡 책, 美 학자들에게 뿌린 일본\n",
       "18318            국제 > 미국ㆍ중남미  [who] 부통령 후보 떠오른 트럼프캠프 좌장… 충성도 높고 '코드' 비슷해 자주 獨對\n",
       "44626                     경제                     \"중국서 살아남으려면 '중국에 뼈 묻겠다' 각오하라\"\n",
       "22082              사회 > 카드뉴스                    [카드뉴스] 정부까지 나서서 베끼는게 '창조경제'인가요\n",
       "69647     사설ㆍ칼럼 > 내부칼럼 > 만물상                                [만물상] 대통령의 '휴가 선물'"
      ]
     },
     "metadata": {},
     "output_type": "display_data"
    },
    {
     "name": "stdout",
     "output_type": "stream",
     "text": [
      "Cluster #10\n"
     ]
    },
    {
     "data": {
      "text/plain": [
       "[('귀성', 0.8826271891593933),\n",
       " ('자다', 0.880496621131897),\n",
       " ('체면', 0.8655592799186707),\n",
       " ('밤새', 0.8626766204833984),\n",
       " ('언어', 0.8499035835266113),\n",
       " ('절제', 0.8484327793121338),\n",
       " ('궁지', 0.8466356992721558),\n",
       " ('흥미', 0.8443588614463806)]"
      ]
     },
     "metadata": {},
     "output_type": "display_data"
    },
    {
     "data": {
      "text/html": [
       "<div>\n",
       "<table border=\"1\" class=\"dataframe\">\n",
       "  <thead>\n",
       "    <tr style=\"text-align: right;\">\n",
       "      <th></th>\n",
       "      <th>category</th>\n",
       "      <th>title</th>\n",
       "    </tr>\n",
       "  </thead>\n",
       "  <tbody>\n",
       "    <tr>\n",
       "      <th>3024</th>\n",
       "      <td>사회 &gt; 교육ㆍ시험 &gt; 일본어</td>\n",
       "      <td>[입에 착착 붙는 일본어] 차가 크게 부서지다</td>\n",
       "    </tr>\n",
       "    <tr>\n",
       "      <th>1116</th>\n",
       "      <td>사회 &gt; 교육ㆍ시험 &gt; 일본어</td>\n",
       "      <td>[입에 착착 붙는 일본어] 몸이 유연하다</td>\n",
       "    </tr>\n",
       "    <tr>\n",
       "      <th>39399</th>\n",
       "      <td>사회 &gt; 교육ㆍ시험 &gt; 일본어</td>\n",
       "      <td>[입에 착착 붙는 일본어] ~에 버티고 앉다</td>\n",
       "    </tr>\n",
       "    <tr>\n",
       "      <th>57303</th>\n",
       "      <td>사회 &gt; 교육ㆍ시험 &gt; 일본어</td>\n",
       "      <td>[입에 착착 붙는 일본어] 인재를 찾다</td>\n",
       "    </tr>\n",
       "    <tr>\n",
       "      <th>66408</th>\n",
       "      <td>사회 &gt; 교육ㆍ시험 &gt; 일본어</td>\n",
       "      <td>[스피킹이 강해지는 일본어] 식욕을 돋우다</td>\n",
       "    </tr>\n",
       "    <tr>\n",
       "      <th>124102</th>\n",
       "      <td>사회 &gt; 교육ㆍ시험 &gt; 일본어</td>\n",
       "      <td>[입에 착착 붙는 일본어] 소매를 걷어 올리다</td>\n",
       "    </tr>\n",
       "    <tr>\n",
       "      <th>542</th>\n",
       "      <td>사회 &gt; 교육ㆍ시험 &gt; 일본어</td>\n",
       "      <td>[입에 착착 붙는 일본어] 다방면에 걸치다</td>\n",
       "    </tr>\n",
       "    <tr>\n",
       "      <th>52055</th>\n",
       "      <td>사회 &gt; 교육ㆍ시험 &gt; 일본어</td>\n",
       "      <td>[입에 착착 붙는 일본어] ~이 쇠약해지다</td>\n",
       "    </tr>\n",
       "    <tr>\n",
       "      <th>4928</th>\n",
       "      <td>사회 &gt; 교육ㆍ시험 &gt; 일본어</td>\n",
       "      <td>[입에 착착 붙는 일본어] 큰 차로 이기다</td>\n",
       "    </tr>\n",
       "    <tr>\n",
       "      <th>4751</th>\n",
       "      <td>사회 &gt; 교육ㆍ시험 &gt; 일본어</td>\n",
       "      <td>[입에 착착 붙는 일본어] 일제히 달아나다</td>\n",
       "    </tr>\n",
       "  </tbody>\n",
       "</table>\n",
       "</div>"
      ],
      "text/plain": [
       "                category                      title\n",
       "3024    사회 > 교육ㆍ시험 > 일본어  [입에 착착 붙는 일본어] 차가 크게 부서지다\n",
       "1116    사회 > 교육ㆍ시험 > 일본어     [입에 착착 붙는 일본어] 몸이 유연하다\n",
       "39399   사회 > 교육ㆍ시험 > 일본어   [입에 착착 붙는 일본어] ~에 버티고 앉다\n",
       "57303   사회 > 교육ㆍ시험 > 일본어      [입에 착착 붙는 일본어] 인재를 찾다\n",
       "66408   사회 > 교육ㆍ시험 > 일본어    [스피킹이 강해지는 일본어] 식욕을 돋우다\n",
       "124102  사회 > 교육ㆍ시험 > 일본어  [입에 착착 붙는 일본어] 소매를 걷어 올리다\n",
       "542     사회 > 교육ㆍ시험 > 일본어    [입에 착착 붙는 일본어] 다방면에 걸치다\n",
       "52055   사회 > 교육ㆍ시험 > 일본어    [입에 착착 붙는 일본어] ~이 쇠약해지다\n",
       "4928    사회 > 교육ㆍ시험 > 일본어    [입에 착착 붙는 일본어] 큰 차로 이기다\n",
       "4751    사회 > 교육ㆍ시험 > 일본어    [입에 착착 붙는 일본어] 일제히 달아나다"
      ]
     },
     "metadata": {},
     "output_type": "display_data"
    },
    {
     "name": "stdout",
     "output_type": "stream",
     "text": [
      "Cluster #11\n"
     ]
    },
    {
     "data": {
      "text/plain": [
       "[('보유자', 0.967165470123291),\n",
       " ('교통부', 0.9612691402435303),\n",
       " ('노동부', 0.9558401107788086),\n",
       " ('경희대', 0.9533736109733582),\n",
       " ('교장', 0.9494696259498596),\n",
       " ('원로', 0.9478127360343933)]"
      ]
     },
     "metadata": {},
     "output_type": "display_data"
    },
    {
     "data": {
      "text/html": [
       "<div>\n",
       "<table border=\"1\" class=\"dataframe\">\n",
       "  <thead>\n",
       "    <tr style=\"text-align: right;\">\n",
       "      <th></th>\n",
       "      <th>category</th>\n",
       "      <th>title</th>\n",
       "    </tr>\n",
       "  </thead>\n",
       "  <tbody>\n",
       "    <tr>\n",
       "      <th>4900</th>\n",
       "      <td>사회 &gt; 인물 &gt; 부음</td>\n",
       "      <td>[부음] 김경희 별세 외</td>\n",
       "    </tr>\n",
       "    <tr>\n",
       "      <th>23931</th>\n",
       "      <td>사회 &gt; 인물 &gt; 부음</td>\n",
       "      <td>[부음] 강봉순씨 별세 외</td>\n",
       "    </tr>\n",
       "    <tr>\n",
       "      <th>54109</th>\n",
       "      <td>사회 &gt; 인물 &gt; 부음</td>\n",
       "      <td>[부음] 김석한씨 별세 외</td>\n",
       "    </tr>\n",
       "    <tr>\n",
       "      <th>8810</th>\n",
       "      <td>사회 &gt; 인물 &gt; 부음</td>\n",
       "      <td>[부음] 김국자씨 별세 외</td>\n",
       "    </tr>\n",
       "    <tr>\n",
       "      <th>53729</th>\n",
       "      <td>사회 &gt; 인물 &gt; 부음</td>\n",
       "      <td>[부음] 송숙희씨 별세 외</td>\n",
       "    </tr>\n",
       "    <tr>\n",
       "      <th>60444</th>\n",
       "      <td>사회 &gt; 인물 &gt; 부음</td>\n",
       "      <td>[부음] 공노길씨 별세 외</td>\n",
       "    </tr>\n",
       "    <tr>\n",
       "      <th>45158</th>\n",
       "      <td>사회 &gt; 인물 &gt; 부음</td>\n",
       "      <td>[부음] 김남순 별세 외</td>\n",
       "    </tr>\n",
       "    <tr>\n",
       "      <th>28444</th>\n",
       "      <td>사회 &gt; 인물 &gt; 부음</td>\n",
       "      <td>[부음] 고순이씨 별세 외</td>\n",
       "    </tr>\n",
       "    <tr>\n",
       "      <th>65021</th>\n",
       "      <td>사회 &gt; 인물 &gt; 부음</td>\n",
       "      <td>[부음] 국옥진 별세 외</td>\n",
       "    </tr>\n",
       "    <tr>\n",
       "      <th>14421</th>\n",
       "      <td>사회 &gt; 인물 &gt; 부음</td>\n",
       "      <td>[부음] 박등무 좌수영어방놀이 보유자 별세 외</td>\n",
       "    </tr>\n",
       "  </tbody>\n",
       "</table>\n",
       "</div>"
      ],
      "text/plain": [
       "           category                      title\n",
       "4900   사회 > 인물 > 부음              [부음] 김경희 별세 외\n",
       "23931  사회 > 인물 > 부음             [부음] 강봉순씨 별세 외\n",
       "54109  사회 > 인물 > 부음             [부음] 김석한씨 별세 외\n",
       "8810   사회 > 인물 > 부음             [부음] 김국자씨 별세 외\n",
       "53729  사회 > 인물 > 부음             [부음] 송숙희씨 별세 외\n",
       "60444  사회 > 인물 > 부음             [부음] 공노길씨 별세 외\n",
       "45158  사회 > 인물 > 부음              [부음] 김남순 별세 외\n",
       "28444  사회 > 인물 > 부음             [부음] 고순이씨 별세 외\n",
       "65021  사회 > 인물 > 부음              [부음] 국옥진 별세 외\n",
       "14421  사회 > 인물 > 부음  [부음] 박등무 좌수영어방놀이 보유자 별세 외"
      ]
     },
     "metadata": {},
     "output_type": "display_data"
    },
    {
     "name": "stdout",
     "output_type": "stream",
     "text": [
      "Cluster #12\n"
     ]
    },
    {
     "data": {
      "text/plain": [
       "[('게요', 0.8547637462615967),\n",
       " ('양해원', 0.8502042889595032),\n",
       " ('체면', 0.8383005857467651),\n",
       " ('애니메이션', 0.8327479958534241),\n",
       " ('귀성', 0.8327317833900452),\n",
       " ('리듬', 0.819180965423584)]"
      ]
     },
     "metadata": {},
     "output_type": "display_data"
    },
    {
     "data": {
      "text/html": [
       "<div>\n",
       "<table border=\"1\" class=\"dataframe\">\n",
       "  <thead>\n",
       "    <tr style=\"text-align: right;\">\n",
       "      <th></th>\n",
       "      <th>category</th>\n",
       "      <th>title</th>\n",
       "    </tr>\n",
       "  </thead>\n",
       "  <tbody>\n",
       "    <tr>\n",
       "      <th>7487</th>\n",
       "      <td>사회 &gt; 교육ㆍ시험 &gt; 중국어</td>\n",
       "      <td>[매일매일 중국어 한마디] 스스로 하다</td>\n",
       "    </tr>\n",
       "    <tr>\n",
       "      <th>33027</th>\n",
       "      <td>사회 &gt; 교육ㆍ시험 &gt; 중국어</td>\n",
       "      <td>[매일매일 중국어 한마디] 병세가 위중하다</td>\n",
       "    </tr>\n",
       "    <tr>\n",
       "      <th>27535</th>\n",
       "      <td>사회 &gt; 교육ㆍ시험 &gt; 중국어</td>\n",
       "      <td>[매일매일 중국어 한마디] 영원히 알 수 없다</td>\n",
       "    </tr>\n",
       "    <tr>\n",
       "      <th>28904</th>\n",
       "      <td>사회 &gt; 교육ㆍ시험 &gt; 중국어</td>\n",
       "      <td>[매일매일 중국어 한마디] 가출하다</td>\n",
       "    </tr>\n",
       "    <tr>\n",
       "      <th>971</th>\n",
       "      <td>사회 &gt; 교육ㆍ시험 &gt; 중국어</td>\n",
       "      <td>[매일매일 중국어 한마디] 알람을 맞추다</td>\n",
       "    </tr>\n",
       "    <tr>\n",
       "      <th>26524</th>\n",
       "      <td>사회 &gt; 교육ㆍ시험 &gt; 중국어</td>\n",
       "      <td>[매일매일 중국어 한마디] 왜 진작 말 안 했어요?</td>\n",
       "    </tr>\n",
       "    <tr>\n",
       "      <th>52960</th>\n",
       "      <td>사회 &gt; 교육ㆍ시험 &gt; 중국어</td>\n",
       "      <td>[매일매일 중국어 한마디] 깜짝 놀라다</td>\n",
       "    </tr>\n",
       "    <tr>\n",
       "      <th>1115</th>\n",
       "      <td>사회 &gt; 교육ㆍ시험 &gt; 중국어</td>\n",
       "      <td>[매일매일 중국어 한마디] 고의가 아니에요</td>\n",
       "    </tr>\n",
       "    <tr>\n",
       "      <th>10181</th>\n",
       "      <td>사회 &gt; 교육ㆍ시험 &gt; 중국어</td>\n",
       "      <td>[매일매일 중국어 한마디] 그럼 그렇게 해요</td>\n",
       "    </tr>\n",
       "    <tr>\n",
       "      <th>14454</th>\n",
       "      <td>사회 &gt; 교육ㆍ시험 &gt; 중국어</td>\n",
       "      <td>[매일매일 중국어 한마디] 멀리 내다보다</td>\n",
       "    </tr>\n",
       "  </tbody>\n",
       "</table>\n",
       "</div>"
      ],
      "text/plain": [
       "               category                         title\n",
       "7487   사회 > 교육ㆍ시험 > 중국어         [매일매일 중국어 한마디] 스스로 하다\n",
       "33027  사회 > 교육ㆍ시험 > 중국어       [매일매일 중국어 한마디] 병세가 위중하다\n",
       "27535  사회 > 교육ㆍ시험 > 중국어     [매일매일 중국어 한마디] 영원히 알 수 없다\n",
       "28904  사회 > 교육ㆍ시험 > 중국어           [매일매일 중국어 한마디] 가출하다\n",
       "971    사회 > 교육ㆍ시험 > 중국어        [매일매일 중국어 한마디] 알람을 맞추다\n",
       "26524  사회 > 교육ㆍ시험 > 중국어  [매일매일 중국어 한마디] 왜 진작 말 안 했어요?\n",
       "52960  사회 > 교육ㆍ시험 > 중국어         [매일매일 중국어 한마디] 깜짝 놀라다\n",
       "1115   사회 > 교육ㆍ시험 > 중국어       [매일매일 중국어 한마디] 고의가 아니에요\n",
       "10181  사회 > 교육ㆍ시험 > 중국어      [매일매일 중국어 한마디] 그럼 그렇게 해요\n",
       "14454  사회 > 교육ㆍ시험 > 중국어        [매일매일 중국어 한마디] 멀리 내다보다"
      ]
     },
     "metadata": {},
     "output_type": "display_data"
    },
    {
     "name": "stdout",
     "output_type": "stream",
     "text": [
      "Cluster #13\n"
     ]
    },
    {
     "data": {
      "text/plain": [
       "[('오리온', 0.9974108338356018),\n",
       " ('우승', 0.9958072900772095),\n",
       " ('프로', 0.995680570602417),\n",
       " ('테니스', 0.9954463243484497),\n",
       " ('첼시', 0.9950322508811951),\n",
       " ('컵', 0.9946343898773193),\n",
       " ('투수', 0.9943892955780029),\n",
       " ('경기장', 0.9941338896751404),\n",
       " ('육상', 0.9939630031585693)]"
      ]
     },
     "metadata": {},
     "output_type": "display_data"
    },
    {
     "data": {
      "text/html": [
       "<div>\n",
       "<table border=\"1\" class=\"dataframe\">\n",
       "  <thead>\n",
       "    <tr style=\"text-align: right;\">\n",
       "      <th></th>\n",
       "      <th>category</th>\n",
       "      <th>title</th>\n",
       "    </tr>\n",
       "  </thead>\n",
       "  <tbody>\n",
       "    <tr>\n",
       "      <th>61123</th>\n",
       "      <td>사회 &gt; 인물 &gt; 사람들</td>\n",
       "      <td>\"혼백만이라도 고국에서 쉬시길\"</td>\n",
       "    </tr>\n",
       "    <tr>\n",
       "      <th>63761</th>\n",
       "      <td>스포츠ㆍ연예 &gt; 스포츠 &gt; 종합</td>\n",
       "      <td>[스포츠 브리핑] 농구 모비스, 삼성 상대 22연승 외</td>\n",
       "    </tr>\n",
       "    <tr>\n",
       "      <th>5971</th>\n",
       "      <td>사회 &gt; 법원ㆍ검찰ㆍ경찰</td>\n",
       "      <td>[땅, 땅… 오늘의 판결] 군대서 축구하다 다치면 \"국가유공자는 안돼도 보훈대상자로...</td>\n",
       "    </tr>\n",
       "    <tr>\n",
       "      <th>48733</th>\n",
       "      <td>스포츠ㆍ연예 &gt; 스포츠 &gt; 종합 &gt; 바둑</td>\n",
       "      <td>[바둑 소식] 심종식 六단 50년 기사 생활 마감</td>\n",
       "    </tr>\n",
       "    <tr>\n",
       "      <th>122787</th>\n",
       "      <td>스포츠ㆍ연예 &gt; 스포츠 &gt; 종합</td>\n",
       "      <td>[스포츠 브리핑] 이용대·유연성組, 코리아오픈 4강行</td>\n",
       "    </tr>\n",
       "    <tr>\n",
       "      <th>18483</th>\n",
       "      <td>스포츠ㆍ연예 &gt; 스포츠 &gt; 야구 &gt; 프로야구</td>\n",
       "      <td>한화, 8년만에 5연승 달렸다</td>\n",
       "    </tr>\n",
       "    <tr>\n",
       "      <th>16212</th>\n",
       "      <td>스포츠ㆍ연예 &gt; 스포츠 &gt; 종합</td>\n",
       "      <td>[스포츠 브리핑] 피츠버그, 북미아이스하키리그 우승</td>\n",
       "    </tr>\n",
       "    <tr>\n",
       "      <th>48747</th>\n",
       "      <td>스포츠ㆍ연예 &gt; 스포츠 &gt; 축구 &gt; 프로축구</td>\n",
       "      <td>데얀, K리그 컴백</td>\n",
       "    </tr>\n",
       "    <tr>\n",
       "      <th>45840</th>\n",
       "      <td>사회 &gt; 인물 &gt; 사람들</td>\n",
       "      <td>성낙인, 경기高 '자랑스런 경기인'</td>\n",
       "    </tr>\n",
       "    <tr>\n",
       "      <th>36960</th>\n",
       "      <td>스포츠ㆍ연예 &gt; 스포츠 &gt; 종합</td>\n",
       "      <td>[스포츠 브리핑] 대한육상연맹 회장에 오동진 외</td>\n",
       "    </tr>\n",
       "  </tbody>\n",
       "</table>\n",
       "</div>"
      ],
      "text/plain": [
       "                        category  \\\n",
       "61123              사회 > 인물 > 사람들   \n",
       "63761          스포츠ㆍ연예 > 스포츠 > 종합   \n",
       "5971               사회 > 법원ㆍ검찰ㆍ경찰   \n",
       "48733     스포츠ㆍ연예 > 스포츠 > 종합 > 바둑   \n",
       "122787         스포츠ㆍ연예 > 스포츠 > 종합   \n",
       "18483   스포츠ㆍ연예 > 스포츠 > 야구 > 프로야구   \n",
       "16212          스포츠ㆍ연예 > 스포츠 > 종합   \n",
       "48747   스포츠ㆍ연예 > 스포츠 > 축구 > 프로축구   \n",
       "45840              사회 > 인물 > 사람들   \n",
       "36960          스포츠ㆍ연예 > 스포츠 > 종합   \n",
       "\n",
       "                                                    title  \n",
       "61123                                   \"혼백만이라도 고국에서 쉬시길\"  \n",
       "63761                      [스포츠 브리핑] 농구 모비스, 삼성 상대 22연승 외  \n",
       "5971    [땅, 땅… 오늘의 판결] 군대서 축구하다 다치면 \"국가유공자는 안돼도 보훈대상자로...  \n",
       "48733                         [바둑 소식] 심종식 六단 50년 기사 생활 마감  \n",
       "122787                      [스포츠 브리핑] 이용대·유연성組, 코리아오픈 4강行  \n",
       "18483                                    한화, 8년만에 5연승 달렸다  \n",
       "16212                        [스포츠 브리핑] 피츠버그, 북미아이스하키리그 우승  \n",
       "48747                                          데얀, K리그 컴백  \n",
       "45840                                 성낙인, 경기高 '자랑스런 경기인'  \n",
       "36960                          [스포츠 브리핑] 대한육상연맹 회장에 오동진 외  "
      ]
     },
     "metadata": {},
     "output_type": "display_data"
    },
    {
     "name": "stdout",
     "output_type": "stream",
     "text": [
      "Cluster #14\n"
     ]
    },
    {
     "data": {
      "text/plain": [
       "[('삼행시', 0.9879584312438965),\n",
       " ('암송', 0.9665622711181641),\n",
       " ('꽈배기', 0.9625203013420105),\n",
       " ('계산기', 0.9594970941543579),\n",
       " ('이어가기', 0.9510075449943542),\n",
       " ('초성', 0.9313068389892578),\n",
       " ('날짜', 0.9028805494308472),\n",
       " ('강세', 0.8932898044586182)]"
      ]
     },
     "metadata": {},
     "output_type": "display_data"
    },
    {
     "data": {
      "text/html": [
       "<div>\n",
       "<table border=\"1\" class=\"dataframe\">\n",
       "  <thead>\n",
       "    <tr style=\"text-align: right;\">\n",
       "      <th></th>\n",
       "      <th>category</th>\n",
       "      <th>title</th>\n",
       "    </tr>\n",
       "  </thead>\n",
       "  <tbody>\n",
       "    <tr>\n",
       "      <th>62258</th>\n",
       "      <td>사회 &gt; 두근두근 뇌 운동, 신문은 의사선생님</td>\n",
       "      <td>[두근두근 뇌 운동] [233] 그때를 기억하시나요</td>\n",
       "    </tr>\n",
       "    <tr>\n",
       "      <th>18103</th>\n",
       "      <td>사회 &gt; 두근두근 뇌 운동, 신문은 의사선생님</td>\n",
       "      <td>[두근두근 뇌 운동] [390] 암호로 바꿔 쓰기</td>\n",
       "    </tr>\n",
       "    <tr>\n",
       "      <th>62866</th>\n",
       "      <td>사회 &gt; 두근두근 뇌 운동, 신문은 의사선생님</td>\n",
       "      <td>[두근두근 뇌 운동] [232] 제목 외우기</td>\n",
       "    </tr>\n",
       "    <tr>\n",
       "      <th>50375</th>\n",
       "      <td>사회 &gt; 두근두근 뇌 운동, 신문은 의사선생님</td>\n",
       "      <td>[두근두근 뇌 운동] [273] 칼럼 풀어 읽기</td>\n",
       "    </tr>\n",
       "    <tr>\n",
       "      <th>38677</th>\n",
       "      <td>사회 &gt; 두근두근 뇌 운동, 신문은 의사선생님</td>\n",
       "      <td>[두근두근 뇌 운동] [315] 사다리를 타자</td>\n",
       "    </tr>\n",
       "    <tr>\n",
       "      <th>39596</th>\n",
       "      <td>사회 &gt; 두근두근 뇌 운동, 신문은 의사선생님</td>\n",
       "      <td>[두근두근 뇌 운동] [311] 문장 꽈배기</td>\n",
       "    </tr>\n",
       "    <tr>\n",
       "      <th>39363</th>\n",
       "      <td>사회 &gt; 두근두근 뇌 운동, 신문은 의사선생님</td>\n",
       "      <td>[두근두근 뇌 운동] [312] 로꾸거 암송클럽</td>\n",
       "    </tr>\n",
       "    <tr>\n",
       "      <th>6358</th>\n",
       "      <td>사회 &gt; 두근두근 뇌 운동, 신문은 의사선생님</td>\n",
       "      <td>[두근두근 뇌 운동] [440] 양손으로 또박또박</td>\n",
       "    </tr>\n",
       "    <tr>\n",
       "      <th>15055</th>\n",
       "      <td>사회 &gt; 두근두근 뇌 운동, 신문은 의사선생님</td>\n",
       "      <td>[두근두근 뇌 운동] [402] 로꾸거 암송클럽</td>\n",
       "    </tr>\n",
       "    <tr>\n",
       "      <th>21626</th>\n",
       "      <td>사회 &gt; 두근두근 뇌 운동, 신문은 의사선생님</td>\n",
       "      <td>[두근두근 뇌 운동] [376] 초성 이어가기</td>\n",
       "    </tr>\n",
       "  </tbody>\n",
       "</table>\n",
       "</div>"
      ],
      "text/plain": [
       "                        category                         title\n",
       "62258  사회 > 두근두근 뇌 운동, 신문은 의사선생님  [두근두근 뇌 운동] [233] 그때를 기억하시나요\n",
       "18103  사회 > 두근두근 뇌 운동, 신문은 의사선생님   [두근두근 뇌 운동] [390] 암호로 바꿔 쓰기\n",
       "62866  사회 > 두근두근 뇌 운동, 신문은 의사선생님      [두근두근 뇌 운동] [232] 제목 외우기\n",
       "50375  사회 > 두근두근 뇌 운동, 신문은 의사선생님    [두근두근 뇌 운동] [273] 칼럼 풀어 읽기\n",
       "38677  사회 > 두근두근 뇌 운동, 신문은 의사선생님     [두근두근 뇌 운동] [315] 사다리를 타자\n",
       "39596  사회 > 두근두근 뇌 운동, 신문은 의사선생님      [두근두근 뇌 운동] [311] 문장 꽈배기\n",
       "39363  사회 > 두근두근 뇌 운동, 신문은 의사선생님    [두근두근 뇌 운동] [312] 로꾸거 암송클럽\n",
       "6358   사회 > 두근두근 뇌 운동, 신문은 의사선생님   [두근두근 뇌 운동] [440] 양손으로 또박또박\n",
       "15055  사회 > 두근두근 뇌 운동, 신문은 의사선생님    [두근두근 뇌 운동] [402] 로꾸거 암송클럽\n",
       "21626  사회 > 두근두근 뇌 운동, 신문은 의사선생님     [두근두근 뇌 운동] [376] 초성 이어가기"
      ]
     },
     "metadata": {},
     "output_type": "display_data"
    },
    {
     "name": "stdout",
     "output_type": "stream",
     "text": [
      "Cluster #15\n"
     ]
    },
    {
     "data": {
      "text/plain": [
       "[('유승민', 0.9973349571228027),\n",
       " ('현역', 0.9963376522064209),\n",
       " ('원내대표', 0.9961423873901367),\n",
       " ('여야', 0.9960534572601318),\n",
       " ('호남', 0.9953433275222778)]"
      ]
     },
     "metadata": {},
     "output_type": "display_data"
    },
    {
     "data": {
      "text/html": [
       "<div>\n",
       "<table border=\"1\" class=\"dataframe\">\n",
       "  <thead>\n",
       "    <tr style=\"text-align: right;\">\n",
       "      <th></th>\n",
       "      <th>category</th>\n",
       "      <th>title</th>\n",
       "    </tr>\n",
       "  </thead>\n",
       "  <tbody>\n",
       "    <tr>\n",
       "      <th>63216</th>\n",
       "      <td>정치</td>\n",
       "      <td>김무성 \"이렇게 개혁적인 대통령은 앞으로 없을 것\"</td>\n",
       "    </tr>\n",
       "    <tr>\n",
       "      <th>4613</th>\n",
       "      <td>정치</td>\n",
       "      <td>한곳서 세곳으로 늘어난 '사드 반대'</td>\n",
       "    </tr>\n",
       "    <tr>\n",
       "      <th>16353</th>\n",
       "      <td>정치 &gt; 국회ㆍ정당</td>\n",
       "      <td>朴대통령 \"더 많이 소통할 것\" 丁의장 \"국회 가장 많이 찾은 대통령\"</td>\n",
       "    </tr>\n",
       "    <tr>\n",
       "      <th>7382</th>\n",
       "      <td>정치 &gt; 외교</td>\n",
       "      <td>\"사드 배치 왜 반대하나\"… 미국도 野의원들 만나</td>\n",
       "    </tr>\n",
       "    <tr>\n",
       "      <th>32451</th>\n",
       "      <td>정치</td>\n",
       "      <td>국회 심판론 다시 꺼낸 朴대통령</td>\n",
       "    </tr>\n",
       "    <tr>\n",
       "      <th>26986</th>\n",
       "      <td>사설ㆍ칼럼 &gt; 내부칼럼 &gt; 사설</td>\n",
       "      <td>[사설] 골육상쟁 끝에 참패 자초한 親朴, 이제 당권 못잡아 안달하나</td>\n",
       "    </tr>\n",
       "    <tr>\n",
       "      <th>123520</th>\n",
       "      <td>정치 &gt; 여론조사</td>\n",
       "      <td>핵무장은 51.5%, 사드배치는 58.8%가 찬성</td>\n",
       "    </tr>\n",
       "    <tr>\n",
       "      <th>24514</th>\n",
       "      <td>사설ㆍ칼럼 &gt; 내부칼럼 &gt; 팔면봉</td>\n",
       "      <td>[팔면봉] 靑, '親朴' 이름으로 원내대표 등 출마하려는 의원에 제동 외</td>\n",
       "    </tr>\n",
       "    <tr>\n",
       "      <th>67382</th>\n",
       "      <td>사설ㆍ칼럼 &gt; 내부칼럼 &gt; 팔면봉</td>\n",
       "      <td>[팔면봉] 與野 의원들, 선관위에 \"선거구 획정 미뤄달라\"고 외</td>\n",
       "    </tr>\n",
       "    <tr>\n",
       "      <th>14392</th>\n",
       "      <td>문화 &gt; 종교ㆍ학술</td>\n",
       "      <td>문수보살 팔이 쭉~ 늘어난 이유는?</td>\n",
       "    </tr>\n",
       "  </tbody>\n",
       "</table>\n",
       "</div>"
      ],
      "text/plain": [
       "                  category                                     title\n",
       "63216                   정치              김무성 \"이렇게 개혁적인 대통령은 앞으로 없을 것\"\n",
       "4613                    정치                      한곳서 세곳으로 늘어난 '사드 반대'\n",
       "16353           정치 > 국회ㆍ정당   朴대통령 \"더 많이 소통할 것\" 丁의장 \"국회 가장 많이 찾은 대통령\"\n",
       "7382               정치 > 외교               \"사드 배치 왜 반대하나\"… 미국도 野의원들 만나\n",
       "32451                   정치                         국회 심판론 다시 꺼낸 朴대통령\n",
       "26986    사설ㆍ칼럼 > 내부칼럼 > 사설    [사설] 골육상쟁 끝에 참패 자초한 親朴, 이제 당권 못잡아 안달하나\n",
       "123520           정치 > 여론조사               핵무장은 51.5%, 사드배치는 58.8%가 찬성\n",
       "24514   사설ㆍ칼럼 > 내부칼럼 > 팔면봉  [팔면봉] 靑, '親朴' 이름으로 원내대표 등 출마하려는 의원에 제동 외\n",
       "67382   사설ㆍ칼럼 > 내부칼럼 > 팔면봉       [팔면봉] 與野 의원들, 선관위에 \"선거구 획정 미뤄달라\"고 외\n",
       "14392           문화 > 종교ㆍ학술                       문수보살 팔이 쭉~ 늘어난 이유는?"
      ]
     },
     "metadata": {},
     "output_type": "display_data"
    },
    {
     "name": "stdout",
     "output_type": "stream",
     "text": [
      "Cluster #16\n"
     ]
    },
    {
     "data": {
      "text/plain": [
       "[('배상', 0.9162426590919495)]"
      ]
     },
     "metadata": {},
     "output_type": "display_data"
    },
    {
     "data": {
      "text/html": [
       "<div>\n",
       "<table border=\"1\" class=\"dataframe\">\n",
       "  <thead>\n",
       "    <tr style=\"text-align: right;\">\n",
       "      <th></th>\n",
       "      <th>category</th>\n",
       "      <th>title</th>\n",
       "    </tr>\n",
       "  </thead>\n",
       "  <tbody>\n",
       "    <tr>\n",
       "      <th>32309</th>\n",
       "      <td>국제 &gt; 미국ㆍ중남미</td>\n",
       "      <td>88년 만에 마주 앉다</td>\n",
       "    </tr>\n",
       "    <tr>\n",
       "      <th>29853</th>\n",
       "      <td>정치 &gt; 국회ㆍ정당</td>\n",
       "      <td>노회찬 39.9  강기윤 29.1… 엄용수 34.3  조해진 24%</td>\n",
       "    </tr>\n",
       "    <tr>\n",
       "      <th>19668</th>\n",
       "      <td>사회 &gt; 인물 &gt; 사람들</td>\n",
       "      <td>70년 만에 더 예뻐져 돌아오는 '미스김 라일락'</td>\n",
       "    </tr>\n",
       "    <tr>\n",
       "      <th>49357</th>\n",
       "      <td>경제 &gt; 부동산</td>\n",
       "      <td>3.3㎡당 5억5500만원!</td>\n",
       "    </tr>\n",
       "    <tr>\n",
       "      <th>27635</th>\n",
       "      <td>경제 &gt; 과학</td>\n",
       "      <td>\"3만년 걸리는 다른 태양계, 20년이면 간다\"</td>\n",
       "    </tr>\n",
       "    <tr>\n",
       "      <th>2816</th>\n",
       "      <td>사회 &gt; 인물 &gt; 사람들</td>\n",
       "      <td>이영애 육군사관학교에 1억 쾌척</td>\n",
       "    </tr>\n",
       "    <tr>\n",
       "      <th>11694</th>\n",
       "      <td>사회 &gt; 인물 &gt; 사람들</td>\n",
       "      <td>9년 만에 '본'으로 돌아온 맷 데이먼</td>\n",
       "    </tr>\n",
       "    <tr>\n",
       "      <th>13335</th>\n",
       "      <td>사회 &gt; 인물 &gt; 사람들</td>\n",
       "      <td>'아침마당' 안주인 이금희, 18년 만에 떠난다</td>\n",
       "    </tr>\n",
       "    <tr>\n",
       "      <th>59427</th>\n",
       "      <td>스포츠ㆍ연예 &gt; 스포츠 &gt; 야구</td>\n",
       "      <td>147억원</td>\n",
       "    </tr>\n",
       "    <tr>\n",
       "      <th>123863</th>\n",
       "      <td>국제 &gt; 미국ㆍ중남미</td>\n",
       "      <td>1700억:370억원</td>\n",
       "    </tr>\n",
       "  </tbody>\n",
       "</table>\n",
       "</div>"
      ],
      "text/plain": [
       "                 category                                  title\n",
       "32309         국제 > 미국ㆍ중남미                           88년 만에 마주 앉다\n",
       "29853          정치 > 국회ㆍ정당  노회찬 39.9  강기윤 29.1… 엄용수 34.3  조해진 24%\n",
       "19668       사회 > 인물 > 사람들            70년 만에 더 예뻐져 돌아오는 '미스김 라일락'\n",
       "49357            경제 > 부동산                        3.3㎡당 5억5500만원!\n",
       "27635             경제 > 과학             \"3만년 걸리는 다른 태양계, 20년이면 간다\"\n",
       "2816        사회 > 인물 > 사람들                      이영애 육군사관학교에 1억 쾌척\n",
       "11694       사회 > 인물 > 사람들                  9년 만에 '본'으로 돌아온 맷 데이먼\n",
       "13335       사회 > 인물 > 사람들             '아침마당' 안주인 이금희, 18년 만에 떠난다\n",
       "59427   스포츠ㆍ연예 > 스포츠 > 야구                                  147억원\n",
       "123863        국제 > 미국ㆍ중남미                            1700억:370억원"
      ]
     },
     "metadata": {},
     "output_type": "display_data"
    },
    {
     "name": "stdout",
     "output_type": "stream",
     "text": [
      "Cluster #17\n"
     ]
    },
    {
     "data": {
      "text/plain": [
       "[('서지문', 0.8757438063621521),\n",
       " ('건가요', 0.8457963466644287),\n",
       " ('멘탈', 0.8363375663757324),\n",
       " ('아빠', 0.8363243341445923)]"
      ]
     },
     "metadata": {},
     "output_type": "display_data"
    },
    {
     "data": {
      "text/html": [
       "<div>\n",
       "<table border=\"1\" class=\"dataframe\">\n",
       "  <thead>\n",
       "    <tr style=\"text-align: right;\">\n",
       "      <th></th>\n",
       "      <th>category</th>\n",
       "      <th>title</th>\n",
       "    </tr>\n",
       "  </thead>\n",
       "  <tbody>\n",
       "    <tr>\n",
       "      <th>42235</th>\n",
       "      <td>사회 &gt; 카드뉴스</td>\n",
       "      <td>[카드뉴스] 홍광호가 7년만에 '빨래'합니다.</td>\n",
       "    </tr>\n",
       "    <tr>\n",
       "      <th>52817</th>\n",
       "      <td>사회 &gt; 카드뉴스</td>\n",
       "      <td>[카드뉴스] 구세군 자선냄비가 '동네북'인가요?</td>\n",
       "    </tr>\n",
       "    <tr>\n",
       "      <th>63995</th>\n",
       "      <td>사회 &gt; 카드뉴스</td>\n",
       "      <td>[카드뉴스] 절대 터지지 않는 축구공</td>\n",
       "    </tr>\n",
       "    <tr>\n",
       "      <th>16387</th>\n",
       "      <td>사회 &gt; 카드뉴스</td>\n",
       "      <td>[카드뉴스] Y염색체는 알고 있다</td>\n",
       "    </tr>\n",
       "    <tr>\n",
       "      <th>48692</th>\n",
       "      <td>사회 &gt; 카드뉴스</td>\n",
       "      <td>[카드뉴스] 님아, 아직 '주모'를 부르지 마오.</td>\n",
       "    </tr>\n",
       "    <tr>\n",
       "      <th>44632</th>\n",
       "      <td>사회 &gt; 카드뉴스</td>\n",
       "      <td>[카드뉴스] JYP를 떼 내니 Jay Park이 보였다</td>\n",
       "    </tr>\n",
       "    <tr>\n",
       "      <th>17263</th>\n",
       "      <td>사회 &gt; 카드뉴스</td>\n",
       "      <td>[카드뉴스] '46(괜찮으냐), 47(괜찮다)'</td>\n",
       "    </tr>\n",
       "    <tr>\n",
       "      <th>5747</th>\n",
       "      <td>사설ㆍ칼럼 &gt; 외부칼럼 &gt; 서지문의 뉴스로 책읽기</td>\n",
       "      <td>[서지문의 뉴스로 책읽기] [9] 아직도 무궁무진한 6·25 祕史</td>\n",
       "    </tr>\n",
       "    <tr>\n",
       "      <th>20282</th>\n",
       "      <td>사회 &gt; 카드뉴스</td>\n",
       "      <td>[카드뉴스] 그럼 그렇지, 울 아배는 난봉꾼이 아니었어요.</td>\n",
       "    </tr>\n",
       "    <tr>\n",
       "      <th>67533</th>\n",
       "      <td>사회 &gt; 카드뉴스</td>\n",
       "      <td>[카드뉴스] 킹스맨 콜린퍼스 구하기 PROJECT</td>\n",
       "    </tr>\n",
       "  </tbody>\n",
       "</table>\n",
       "</div>"
      ],
      "text/plain": [
       "                          category                                 title\n",
       "42235                    사회 > 카드뉴스             [카드뉴스] 홍광호가 7년만에 '빨래'합니다.\n",
       "52817                    사회 > 카드뉴스            [카드뉴스] 구세군 자선냄비가 '동네북'인가요?\n",
       "63995                    사회 > 카드뉴스                  [카드뉴스] 절대 터지지 않는 축구공\n",
       "16387                    사회 > 카드뉴스                    [카드뉴스] Y염색체는 알고 있다\n",
       "48692                    사회 > 카드뉴스           [카드뉴스] 님아, 아직 '주모'를 부르지 마오.\n",
       "44632                    사회 > 카드뉴스        [카드뉴스] JYP를 떼 내니 Jay Park이 보였다\n",
       "17263                    사회 > 카드뉴스            [카드뉴스] '46(괜찮으냐), 47(괜찮다)'\n",
       "5747   사설ㆍ칼럼 > 외부칼럼 > 서지문의 뉴스로 책읽기  [서지문의 뉴스로 책읽기] [9] 아직도 무궁무진한 6·25 祕史\n",
       "20282                    사회 > 카드뉴스      [카드뉴스] 그럼 그렇지, 울 아배는 난봉꾼이 아니었어요.\n",
       "67533                    사회 > 카드뉴스           [카드뉴스] 킹스맨 콜린퍼스 구하기 PROJECT"
      ]
     },
     "metadata": {},
     "output_type": "display_data"
    },
    {
     "name": "stdout",
     "output_type": "stream",
     "text": [
      "Cluster #18\n"
     ]
    },
    {
     "data": {
      "text/plain": [
       "[('세평', 0.9911118149757385),\n",
       " ('시조', 0.9514538645744324),\n",
       " ('한시', 0.9429572820663452),\n",
       " ('동시', 0.9330354332923889),\n",
       " ('서초동', 0.9258646965026855),\n",
       " ('새벽', 0.8807963728904724),\n",
       " ('오전', 0.8566190004348755)]"
      ]
     },
     "metadata": {},
     "output_type": "display_data"
    },
    {
     "data": {
      "text/html": [
       "<div>\n",
       "<table border=\"1\" class=\"dataframe\">\n",
       "  <thead>\n",
       "    <tr style=\"text-align: right;\">\n",
       "      <th></th>\n",
       "      <th>category</th>\n",
       "      <th>title</th>\n",
       "    </tr>\n",
       "  </thead>\n",
       "  <tbody>\n",
       "    <tr>\n",
       "      <th>17701</th>\n",
       "      <td>사설ㆍ칼럼 &gt; 외부칼럼 &gt; 가슴으로 읽는…</td>\n",
       "      <td>[가슴으로 읽는 시] 써레</td>\n",
       "    </tr>\n",
       "    <tr>\n",
       "      <th>65556</th>\n",
       "      <td>사설ㆍ칼럼 &gt; 외부칼럼 &gt; 가슴으로 읽는…</td>\n",
       "      <td>[가슴으로 읽는 시] 유리창</td>\n",
       "    </tr>\n",
       "    <tr>\n",
       "      <th>38194</th>\n",
       "      <td>스포츠ㆍ연예 &gt; 엔터테인먼트 &gt; TV/방송 &gt; 드라마</td>\n",
       "      <td>[삼시세평(三視世評)] 장영실이 '지동설' 발견?… 그러시면 아니되옵니다</td>\n",
       "    </tr>\n",
       "    <tr>\n",
       "      <th>53377</th>\n",
       "      <td>사설ㆍ칼럼 &gt; 외부칼럼 &gt; 가슴으로 읽는…</td>\n",
       "      <td>[가슴으로 읽는 시] 강변 유정 -소월에게</td>\n",
       "    </tr>\n",
       "    <tr>\n",
       "      <th>4522</th>\n",
       "      <td>문화 &gt; 더테이블</td>\n",
       "      <td>다시, 詩다</td>\n",
       "    </tr>\n",
       "    <tr>\n",
       "      <th>15809</th>\n",
       "      <td>문화 &gt; 생활ㆍ여성 &gt; 음식</td>\n",
       "      <td>[삼시세평(三視世評)] 달고 짜고 저렴한 중독성… 끝맛은 씁쓸</td>\n",
       "    </tr>\n",
       "    <tr>\n",
       "      <th>18924</th>\n",
       "      <td>사설ㆍ칼럼 &gt; 외부칼럼 &gt; 가슴으로 읽는…</td>\n",
       "      <td>[가슴으로 읽는 시] 유월</td>\n",
       "    </tr>\n",
       "    <tr>\n",
       "      <th>31131</th>\n",
       "      <td>사설ㆍ칼럼 &gt; 외부칼럼 &gt; 가슴으로 읽는…</td>\n",
       "      <td>[가슴으로 읽는 시] 춘신(春信)</td>\n",
       "    </tr>\n",
       "    <tr>\n",
       "      <th>62809</th>\n",
       "      <td>사설ㆍ칼럼 &gt; 외부칼럼 &gt; 가슴으로 읽는…</td>\n",
       "      <td>[가슴으로 읽는 시조] 작은 시</td>\n",
       "    </tr>\n",
       "    <tr>\n",
       "      <th>33871</th>\n",
       "      <td>사설ㆍ칼럼 &gt; 외부칼럼 &gt; 가슴으로 읽는…</td>\n",
       "      <td>[가슴으로 읽는 시] 적멸보궁</td>\n",
       "    </tr>\n",
       "  </tbody>\n",
       "</table>\n",
       "</div>"
      ],
      "text/plain": [
       "                            category                                     title\n",
       "17701        사설ㆍ칼럼 > 외부칼럼 > 가슴으로 읽는…                            [가슴으로 읽는 시] 써레\n",
       "65556        사설ㆍ칼럼 > 외부칼럼 > 가슴으로 읽는…                           [가슴으로 읽는 시] 유리창\n",
       "38194  스포츠ㆍ연예 > 엔터테인먼트 > TV/방송 > 드라마  [삼시세평(三視世評)] 장영실이 '지동설' 발견?… 그러시면 아니되옵니다\n",
       "53377        사설ㆍ칼럼 > 외부칼럼 > 가슴으로 읽는…                   [가슴으로 읽는 시] 강변 유정 -소월에게\n",
       "4522                       문화 > 더테이블                                    다시, 詩다\n",
       "15809                문화 > 생활ㆍ여성 > 음식        [삼시세평(三視世評)] 달고 짜고 저렴한 중독성… 끝맛은 씁쓸\n",
       "18924        사설ㆍ칼럼 > 외부칼럼 > 가슴으로 읽는…                            [가슴으로 읽는 시] 유월\n",
       "31131        사설ㆍ칼럼 > 외부칼럼 > 가슴으로 읽는…                        [가슴으로 읽는 시] 춘신(春信)\n",
       "62809        사설ㆍ칼럼 > 외부칼럼 > 가슴으로 읽는…                         [가슴으로 읽는 시조] 작은 시\n",
       "33871        사설ㆍ칼럼 > 외부칼럼 > 가슴으로 읽는…                          [가슴으로 읽는 시] 적멸보궁"
      ]
     },
     "metadata": {},
     "output_type": "display_data"
    },
    {
     "name": "stdout",
     "output_type": "stream",
     "text": [
      "Cluster #19\n"
     ]
    },
    {
     "data": {
      "text/plain": [
       "[('보관', 0.9166784286499023),\n",
       " ('냄새', 0.9141029119491577),\n",
       " ('얼룩', 0.9128220677375793),\n",
       " ('양파', 0.8984675407409668),\n",
       " ('달걀', 0.878505289554596),\n",
       " ('흰색', 0.8781532049179077)]"
      ]
     },
     "metadata": {},
     "output_type": "display_data"
    },
    {
     "data": {
      "text/html": [
       "<div>\n",
       "<table border=\"1\" class=\"dataframe\">\n",
       "  <thead>\n",
       "    <tr style=\"text-align: right;\">\n",
       "      <th></th>\n",
       "      <th>category</th>\n",
       "      <th>title</th>\n",
       "    </tr>\n",
       "  </thead>\n",
       "  <tbody>\n",
       "    <tr>\n",
       "      <th>1090</th>\n",
       "      <td>사회 &gt; 리빙포인트</td>\n",
       "      <td>[리빙포인트] 멀미약, 출발 몇 분 전에 먹을까?</td>\n",
       "    </tr>\n",
       "    <tr>\n",
       "      <th>20145</th>\n",
       "      <td>사회 &gt; 리빙포인트</td>\n",
       "      <td>[리빙포인트] 야채, 신선하게 보관하는 법</td>\n",
       "    </tr>\n",
       "    <tr>\n",
       "      <th>22917</th>\n",
       "      <td>사회 &gt; 리빙포인트</td>\n",
       "      <td>[리빙포인트] 우산살 녹슬었을 땐</td>\n",
       "    </tr>\n",
       "    <tr>\n",
       "      <th>61800</th>\n",
       "      <td>사회 &gt; 리빙포인트</td>\n",
       "      <td>[리빙포인트] 무 오래두고 먹으려면</td>\n",
       "    </tr>\n",
       "    <tr>\n",
       "      <th>48373</th>\n",
       "      <td>사회 &gt; 리빙포인트</td>\n",
       "      <td>[리빙포인트] 털목도리 구겨졌을 땐</td>\n",
       "    </tr>\n",
       "    <tr>\n",
       "      <th>1899</th>\n",
       "      <td>사회 &gt; 리빙포인트</td>\n",
       "      <td>[리빙포인트] 새 프라이팬 오래 쓰려면</td>\n",
       "    </tr>\n",
       "    <tr>\n",
       "      <th>29086</th>\n",
       "      <td>사회 &gt; 리빙포인트</td>\n",
       "      <td>[리빙포인트] 도배·페인트 냄새 없애는 법</td>\n",
       "    </tr>\n",
       "    <tr>\n",
       "      <th>59231</th>\n",
       "      <td>사회 &gt; 리빙포인트</td>\n",
       "      <td>[리빙포인트] 파인애플 보관법</td>\n",
       "    </tr>\n",
       "    <tr>\n",
       "      <th>69031</th>\n",
       "      <td>사회 &gt; 리빙포인트</td>\n",
       "      <td>[리빙포인트] 젖먹이 손톱 깎아줄 땐</td>\n",
       "    </tr>\n",
       "    <tr>\n",
       "      <th>51889</th>\n",
       "      <td>사회 &gt; 리빙포인트</td>\n",
       "      <td>[리빙포인트] 귤껍질 활용하는 법</td>\n",
       "    </tr>\n",
       "  </tbody>\n",
       "</table>\n",
       "</div>"
      ],
      "text/plain": [
       "         category                        title\n",
       "1090   사회 > 리빙포인트  [리빙포인트] 멀미약, 출발 몇 분 전에 먹을까?\n",
       "20145  사회 > 리빙포인트      [리빙포인트] 야채, 신선하게 보관하는 법\n",
       "22917  사회 > 리빙포인트           [리빙포인트] 우산살 녹슬었을 땐\n",
       "61800  사회 > 리빙포인트          [리빙포인트] 무 오래두고 먹으려면\n",
       "48373  사회 > 리빙포인트          [리빙포인트] 털목도리 구겨졌을 땐\n",
       "1899   사회 > 리빙포인트        [리빙포인트] 새 프라이팬 오래 쓰려면\n",
       "29086  사회 > 리빙포인트      [리빙포인트] 도배·페인트 냄새 없애는 법\n",
       "59231  사회 > 리빙포인트             [리빙포인트] 파인애플 보관법\n",
       "69031  사회 > 리빙포인트         [리빙포인트] 젖먹이 손톱 깎아줄 땐\n",
       "51889  사회 > 리빙포인트           [리빙포인트] 귤껍질 활용하는 법"
      ]
     },
     "metadata": {},
     "output_type": "display_data"
    },
    {
     "name": "stdout",
     "output_type": "stream",
     "text": [
      "Cluster #20\n"
     ]
    },
    {
     "data": {
      "text/plain": [
       "[('성적표', 0.9925395846366882),\n",
       " ('일자', 0.9897547960281372),\n",
       " ('무패', 0.9896954894065857),\n",
       " ('금요일', 0.9886354207992554),\n",
       " ('기미', 0.9881421327590942),\n",
       " ('일요일', 0.9864299297332764),\n",
       " ('리거', 0.9863869547843933),\n",
       " ('부양', 0.986000657081604),\n",
       " ('정사', 0.9857887029647827)]"
      ]
     },
     "metadata": {},
     "output_type": "display_data"
    },
    {
     "data": {
      "text/html": [
       "<div>\n",
       "<table border=\"1\" class=\"dataframe\">\n",
       "  <thead>\n",
       "    <tr style=\"text-align: right;\">\n",
       "      <th></th>\n",
       "      <th>category</th>\n",
       "      <th>title</th>\n",
       "    </tr>\n",
       "  </thead>\n",
       "  <tbody>\n",
       "    <tr>\n",
       "      <th>25697</th>\n",
       "      <td>스포츠ㆍ연예 &gt; 스포츠 &gt; 종합</td>\n",
       "      <td>[내일의 경기] 2016년 4월 24일</td>\n",
       "    </tr>\n",
       "    <tr>\n",
       "      <th>19269</th>\n",
       "      <td>사회 &gt; 날씨</td>\n",
       "      <td>[이진희의 날씨 레터] 꿈과 사랑 있으면 '靑春'</td>\n",
       "    </tr>\n",
       "    <tr>\n",
       "      <th>8524</th>\n",
       "      <td>경제 &gt; 글로벌경제</td>\n",
       "      <td>아베 \"경기 부양에 300조원 넘게 풀겠다\"</td>\n",
       "    </tr>\n",
       "    <tr>\n",
       "      <th>35525</th>\n",
       "      <td>스포츠ㆍ연예 &gt; 스포츠 &gt; 종합</td>\n",
       "      <td>[내일의 경기] 2016년 3월 6일</td>\n",
       "    </tr>\n",
       "    <tr>\n",
       "      <th>59664</th>\n",
       "      <td>스포츠ㆍ연예 &gt; 스포츠 &gt; 종합</td>\n",
       "      <td>[내일의 경기] 2015년 11월 8일</td>\n",
       "    </tr>\n",
       "    <tr>\n",
       "      <th>123614</th>\n",
       "      <td>스포츠ㆍ연예 &gt; 스포츠 &gt; 종합</td>\n",
       "      <td>[내일의 경기] 2016년 9월 25일</td>\n",
       "    </tr>\n",
       "    <tr>\n",
       "      <th>38568</th>\n",
       "      <td>문화 &gt; 오늘의 운세</td>\n",
       "      <td>[오늘의 운세] 2월 20일 토요일(음력 1월 13일 壬申)</td>\n",
       "    </tr>\n",
       "    <tr>\n",
       "      <th>29893</th>\n",
       "      <td>스포츠ㆍ연예 &gt; 스포츠 &gt; 종합</td>\n",
       "      <td>[내일의 경기] 2016년 4월 3일</td>\n",
       "    </tr>\n",
       "    <tr>\n",
       "      <th>51509</th>\n",
       "      <td>사회 &gt; 전국뉴스 &gt; 수도권 &gt; 서울뉴스</td>\n",
       "      <td>서울광장 스케이트장, 내일부터 타러가세요</td>\n",
       "    </tr>\n",
       "    <tr>\n",
       "      <th>12870</th>\n",
       "      <td>스포츠ㆍ연예 &gt; 스포츠 &gt; 종합</td>\n",
       "      <td>[내일의 경기] 2016년 7월 3일</td>\n",
       "    </tr>\n",
       "  </tbody>\n",
       "</table>\n",
       "</div>"
      ],
      "text/plain": [
       "                      category                              title\n",
       "25697        스포츠ㆍ연예 > 스포츠 > 종합              [내일의 경기] 2016년 4월 24일\n",
       "19269                  사회 > 날씨        [이진희의 날씨 레터] 꿈과 사랑 있으면 '靑春'\n",
       "8524                경제 > 글로벌경제           아베 \"경기 부양에 300조원 넘게 풀겠다\"\n",
       "35525        스포츠ㆍ연예 > 스포츠 > 종합               [내일의 경기] 2016년 3월 6일\n",
       "59664        스포츠ㆍ연예 > 스포츠 > 종합              [내일의 경기] 2015년 11월 8일\n",
       "123614       스포츠ㆍ연예 > 스포츠 > 종합              [내일의 경기] 2016년 9월 25일\n",
       "38568              문화 > 오늘의 운세  [오늘의 운세] 2월 20일 토요일(음력 1월 13일 壬申)\n",
       "29893        스포츠ㆍ연예 > 스포츠 > 종합               [내일의 경기] 2016년 4월 3일\n",
       "51509   사회 > 전국뉴스 > 수도권 > 서울뉴스             서울광장 스케이트장, 내일부터 타러가세요\n",
       "12870        스포츠ㆍ연예 > 스포츠 > 종합               [내일의 경기] 2016년 7월 3일"
      ]
     },
     "metadata": {},
     "output_type": "display_data"
    },
    {
     "name": "stdout",
     "output_type": "stream",
     "text": [
      "Cluster #21\n"
     ]
    },
    {
     "data": {
      "text/plain": [
       "[('강원', 0.9991183280944824),\n",
       " ('시계', 0.9991153478622437),\n",
       " ('보호', 0.999061107635498),\n",
       " ('베이징', 0.9990077614784241),\n",
       " ('비상', 0.9988688230514526),\n",
       " ('날개', 0.9988593459129333),\n",
       " ('수지', 0.9988554120063782),\n",
       " ('독일', 0.9988448619842529),\n",
       " ('성과', 0.998841404914856),\n",
       " ('작전', 0.9988151788711548)]"
      ]
     },
     "metadata": {},
     "output_type": "display_data"
    },
    {
     "data": {
      "text/html": [
       "<div>\n",
       "<table border=\"1\" class=\"dataframe\">\n",
       "  <thead>\n",
       "    <tr style=\"text-align: right;\">\n",
       "      <th></th>\n",
       "      <th>category</th>\n",
       "      <th>title</th>\n",
       "    </tr>\n",
       "  </thead>\n",
       "  <tbody>\n",
       "    <tr>\n",
       "      <th>17788</th>\n",
       "      <td>정치 &gt; 북한</td>\n",
       "      <td>탈북민 1호 외과전문의, 의사 고시 준비 탈북민에 무료 강의</td>\n",
       "    </tr>\n",
       "    <tr>\n",
       "      <th>149</th>\n",
       "      <td>사설ㆍ칼럼 &gt; 외부칼럼 &gt; 발언대</td>\n",
       "      <td>[발언대] '쌀 풍년 재앙' 해법은 보리와 밀 농사</td>\n",
       "    </tr>\n",
       "    <tr>\n",
       "      <th>15843</th>\n",
       "      <td>국제</td>\n",
       "      <td>폴란드와 발트 3國에 美·나토 대대 병력 주둔</td>\n",
       "    </tr>\n",
       "    <tr>\n",
       "      <th>40096</th>\n",
       "      <td>사회 &gt; 날씨</td>\n",
       "      <td>주말까지 많은 비… 내주부터 다시 한파</td>\n",
       "    </tr>\n",
       "    <tr>\n",
       "      <th>60323</th>\n",
       "      <td>경제</td>\n",
       "      <td>포토샵 조작 들통… 조롱당한 캐머런 총리</td>\n",
       "    </tr>\n",
       "    <tr>\n",
       "      <th>26078</th>\n",
       "      <td>사회 &gt; 환경ㆍ재해</td>\n",
       "      <td>\"12년간 환경문제에 대한 대중 관심 이끌어\"… 올해는 84편 상영</td>\n",
       "    </tr>\n",
       "    <tr>\n",
       "      <th>64456</th>\n",
       "      <td>정치 &gt; 정부ㆍ지자체</td>\n",
       "      <td>몸에 밴 안전문화… '안심 전력' 공급한다</td>\n",
       "    </tr>\n",
       "    <tr>\n",
       "      <th>32320</th>\n",
       "      <td>사회 &gt; 의료ㆍ보건</td>\n",
       "      <td>파스처럼… 붙이는 당뇨 진단·투약 장치 개발</td>\n",
       "    </tr>\n",
       "    <tr>\n",
       "      <th>42111</th>\n",
       "      <td>사회 &gt; 교육ㆍ시험 &gt; 맛있는 공부</td>\n",
       "      <td>아이 스스로 만들어 본 경험이 창직의 밑거름</td>\n",
       "    </tr>\n",
       "    <tr>\n",
       "      <th>69794</th>\n",
       "      <td>사회 &gt; 법원ㆍ검찰ㆍ경찰</td>\n",
       "      <td>선임계 안 내고 '몰래 변론'한 검사장급 前官 1명 더 있다</td>\n",
       "    </tr>\n",
       "  </tbody>\n",
       "</table>\n",
       "</div>"
      ],
      "text/plain": [
       "                  category                                  title\n",
       "17788              정치 > 북한      탈북민 1호 외과전문의, 의사 고시 준비 탈북민에 무료 강의\n",
       "149     사설ㆍ칼럼 > 외부칼럼 > 발언대           [발언대] '쌀 풍년 재앙' 해법은 보리와 밀 농사\n",
       "15843                   국제              폴란드와 발트 3國에 美·나토 대대 병력 주둔\n",
       "40096              사회 > 날씨                  주말까지 많은 비… 내주부터 다시 한파\n",
       "60323                   경제                 포토샵 조작 들통… 조롱당한 캐머런 총리\n",
       "26078           사회 > 환경ㆍ재해  \"12년간 환경문제에 대한 대중 관심 이끌어\"… 올해는 84편 상영\n",
       "64456          정치 > 정부ㆍ지자체                몸에 밴 안전문화… '안심 전력' 공급한다\n",
       "32320           사회 > 의료ㆍ보건               파스처럼… 붙이는 당뇨 진단·투약 장치 개발\n",
       "42111  사회 > 교육ㆍ시험 > 맛있는 공부               아이 스스로 만들어 본 경험이 창직의 밑거름\n",
       "69794        사회 > 법원ㆍ검찰ㆍ경찰      선임계 안 내고 '몰래 변론'한 검사장급 前官 1명 더 있다"
      ]
     },
     "metadata": {},
     "output_type": "display_data"
    },
    {
     "name": "stdout",
     "output_type": "stream",
     "text": [
      "Cluster #22\n"
     ]
    },
    {
     "data": {
      "text/plain": [
       "[('시계', 0.9991640448570251),\n",
       " ('추락', 0.9990720748901367),\n",
       " ('계층', 0.9990494251251221),\n",
       " ('외곽', 0.998991847038269),\n",
       " ('소음', 0.9989585876464844),\n",
       " ('이슬람', 0.9988457560539246),\n",
       " ('주문', 0.9987982511520386),\n",
       " ('날개', 0.9987930059432983),\n",
       " ('샷', 0.9987726807594299),\n",
       " ('족', 0.9987245202064514)]"
      ]
     },
     "metadata": {},
     "output_type": "display_data"
    },
    {
     "data": {
      "text/html": [
       "<div>\n",
       "<table border=\"1\" class=\"dataframe\">\n",
       "  <thead>\n",
       "    <tr style=\"text-align: right;\">\n",
       "      <th></th>\n",
       "      <th>category</th>\n",
       "      <th>title</th>\n",
       "    </tr>\n",
       "  </thead>\n",
       "  <tbody>\n",
       "    <tr>\n",
       "      <th>27414</th>\n",
       "      <td>스포츠ㆍ연예 &gt; 스포츠 &gt; 농구 &gt; NBA</td>\n",
       "      <td>태양이 저문 날, 또 하나의 태양이 떴다</td>\n",
       "    </tr>\n",
       "    <tr>\n",
       "      <th>35305</th>\n",
       "      <td>문화 &gt; 전시ㆍ공연 &gt; 공연 &gt; 연극</td>\n",
       "      <td>[연극 리뷰] 잊혔던 '분단' 현실 되살아나 일상을 뒤흔드네</td>\n",
       "    </tr>\n",
       "    <tr>\n",
       "      <th>17343</th>\n",
       "      <td>문화</td>\n",
       "      <td>韓·中 文人, 시와 소설을 노래하다</td>\n",
       "    </tr>\n",
       "    <tr>\n",
       "      <th>50030</th>\n",
       "      <td>스포츠ㆍ연예 &gt; 엔터테인먼트 &gt; 연예 &gt; 음악 &gt; 대중음악</td>\n",
       "      <td>난 '시행착오'의 아이콘… 그래도 본업은 음악이죠</td>\n",
       "    </tr>\n",
       "    <tr>\n",
       "      <th>12205</th>\n",
       "      <td>사설ㆍ칼럼 &gt; 외부칼럼 &gt; 가슴으로 읽는…</td>\n",
       "      <td>[가슴으로 읽는 동시] '반쪽'이라는 말</td>\n",
       "    </tr>\n",
       "    <tr>\n",
       "      <th>33770</th>\n",
       "      <td>경제</td>\n",
       "      <td>\"두뇌 게임은 모두 정복… 의학 등 현실문제 다룰때\"</td>\n",
       "    </tr>\n",
       "    <tr>\n",
       "      <th>17898</th>\n",
       "      <td>문화 &gt; 북스</td>\n",
       "      <td>[김시덕의 종횡무진 인문학] 잘 살아보려 복개한 청계천, 정작 가난의 아픔은 덮지 못했다</td>\n",
       "    </tr>\n",
       "    <tr>\n",
       "      <th>33636</th>\n",
       "      <td>문화</td>\n",
       "      <td>출판사 \"우리 서점 냅니다, 독자 만나려고\"</td>\n",
       "    </tr>\n",
       "    <tr>\n",
       "      <th>38638</th>\n",
       "      <td>문화 &gt; 생활ㆍ여성 &gt; 뷰티</td>\n",
       "      <td>그녀의 20대, 곡물 발아 에너지로 피부 속까지 건강한 아름다움을</td>\n",
       "    </tr>\n",
       "    <tr>\n",
       "      <th>15318</th>\n",
       "      <td>경제 &gt; 기업</td>\n",
       "      <td>아파트·주택 장점 합친 프리미엄 빌라 건축</td>\n",
       "    </tr>\n",
       "  </tbody>\n",
       "</table>\n",
       "</div>"
      ],
      "text/plain": [
       "                               category  \\\n",
       "27414           스포츠ㆍ연예 > 스포츠 > 농구 > NBA   \n",
       "35305              문화 > 전시ㆍ공연 > 공연 > 연극   \n",
       "17343                                문화   \n",
       "50030  스포츠ㆍ연예 > 엔터테인먼트 > 연예 > 음악 > 대중음악   \n",
       "12205           사설ㆍ칼럼 > 외부칼럼 > 가슴으로 읽는…   \n",
       "33770                                경제   \n",
       "17898                           문화 > 북스   \n",
       "33636                                문화   \n",
       "38638                   문화 > 생활ㆍ여성 > 뷰티   \n",
       "15318                           경제 > 기업   \n",
       "\n",
       "                                                   title  \n",
       "27414                             태양이 저문 날, 또 하나의 태양이 떴다  \n",
       "35305                  [연극 리뷰] 잊혔던 '분단' 현실 되살아나 일상을 뒤흔드네  \n",
       "17343                                韓·中 文人, 시와 소설을 노래하다  \n",
       "50030                        난 '시행착오'의 아이콘… 그래도 본업은 음악이죠  \n",
       "12205                             [가슴으로 읽는 동시] '반쪽'이라는 말  \n",
       "33770                      \"두뇌 게임은 모두 정복… 의학 등 현실문제 다룰때\"  \n",
       "17898  [김시덕의 종횡무진 인문학] 잘 살아보려 복개한 청계천, 정작 가난의 아픔은 덮지 못했다  \n",
       "33636                           출판사 \"우리 서점 냅니다, 독자 만나려고\"  \n",
       "38638               그녀의 20대, 곡물 발아 에너지로 피부 속까지 건강한 아름다움을  \n",
       "15318                            아파트·주택 장점 합친 프리미엄 빌라 건축  "
      ]
     },
     "metadata": {},
     "output_type": "display_data"
    },
    {
     "name": "stdout",
     "output_type": "stream",
     "text": [
      "Cluster #23\n"
     ]
    },
    {
     "data": {
      "text/plain": [
       "[('추락', 0.999536395072937),\n",
       " ('시계', 0.9991633296012878),\n",
       " ('항공', 0.9991072416305542),\n",
       " ('기준', 0.9990927577018738),\n",
       " ('날개', 0.9990295171737671),\n",
       " ('수영', 0.9990037083625793),\n",
       " ('연결', 0.9989597797393799),\n",
       " ('모바일', 0.9989444613456726),\n",
       " ('트럭', 0.9989348649978638),\n",
       " ('의무', 0.9989312887191772)]"
      ]
     },
     "metadata": {},
     "output_type": "display_data"
    },
    {
     "data": {
      "text/html": [
       "<div>\n",
       "<table border=\"1\" class=\"dataframe\">\n",
       "  <thead>\n",
       "    <tr style=\"text-align: right;\">\n",
       "      <th></th>\n",
       "      <th>category</th>\n",
       "      <th>title</th>\n",
       "    </tr>\n",
       "  </thead>\n",
       "  <tbody>\n",
       "    <tr>\n",
       "      <th>49830</th>\n",
       "      <td>사설ㆍ칼럼 &gt; 외부칼럼 &gt; 발언대</td>\n",
       "      <td>[발언대] 진정한 명문 구단을 기다린다</td>\n",
       "    </tr>\n",
       "    <tr>\n",
       "      <th>62052</th>\n",
       "      <td>문화</td>\n",
       "      <td>골방 '덕후' 아닙니다, 靑春의 '취향공동체'죠</td>\n",
       "    </tr>\n",
       "    <tr>\n",
       "      <th>48761</th>\n",
       "      <td>사설ㆍ칼럼 &gt; 외부칼럼</td>\n",
       "      <td>[열린 포럼] '광주型 일자리' 가능하려면</td>\n",
       "    </tr>\n",
       "    <tr>\n",
       "      <th>66303</th>\n",
       "      <td>문화 &gt; 생활ㆍ여성 &gt; 패션</td>\n",
       "      <td>모던 핏으로 품격 살려주는 '멋쟁이 필수 아이템'</td>\n",
       "    </tr>\n",
       "    <tr>\n",
       "      <th>68813</th>\n",
       "      <td>사회 &gt; 인물 &gt; 사람들</td>\n",
       "      <td>전윤철 산학연종합센터 상임고문</td>\n",
       "    </tr>\n",
       "    <tr>\n",
       "      <th>9732</th>\n",
       "      <td>사회 &gt; 교육ㆍ시험</td>\n",
       "      <td>모양은 다르지만 본질은 하나, 세계화·융합교육… 그리고 혁신</td>\n",
       "    </tr>\n",
       "    <tr>\n",
       "      <th>65631</th>\n",
       "      <td>사회 &gt; 교육ㆍ시험 &gt; 맛있는 공부</td>\n",
       "      <td>디지털 디자인 기술로 만나는 '살아있는 교과서 체험展' 오픈</td>\n",
       "    </tr>\n",
       "    <tr>\n",
       "      <th>122862</th>\n",
       "      <td>사회</td>\n",
       "      <td>[Why] 유치원 다니는 강아지들… 셔틀버스는 기본, 과목별 시간표도</td>\n",
       "    </tr>\n",
       "    <tr>\n",
       "      <th>26270</th>\n",
       "      <td>사설ㆍ칼럼 &gt; 내부칼럼 &gt; 만물상</td>\n",
       "      <td>[만물상] 토종 천연 효모</td>\n",
       "    </tr>\n",
       "    <tr>\n",
       "      <th>53472</th>\n",
       "      <td>사회 &gt; 교육ㆍ시험 &gt; 맛있는 공부</td>\n",
       "      <td>올해 '불수능' ?… 쉬운 문제에 적응돼 체감 난도 높아</td>\n",
       "    </tr>\n",
       "  </tbody>\n",
       "</table>\n",
       "</div>"
      ],
      "text/plain": [
       "                   category                                   title\n",
       "49830    사설ㆍ칼럼 > 외부칼럼 > 발언대                   [발언대] 진정한 명문 구단을 기다린다\n",
       "62052                    문화              골방 '덕후' 아닙니다, 靑春의 '취향공동체'죠\n",
       "48761          사설ㆍ칼럼 > 외부칼럼                 [열린 포럼] '광주型 일자리' 가능하려면\n",
       "66303       문화 > 생활ㆍ여성 > 패션             모던 핏으로 품격 살려주는 '멋쟁이 필수 아이템'\n",
       "68813         사회 > 인물 > 사람들                        전윤철 산학연종합센터 상임고문\n",
       "9732             사회 > 교육ㆍ시험       모양은 다르지만 본질은 하나, 세계화·융합교육… 그리고 혁신\n",
       "65631   사회 > 교육ㆍ시험 > 맛있는 공부       디지털 디자인 기술로 만나는 '살아있는 교과서 체험展' 오픈\n",
       "122862                   사회  [Why] 유치원 다니는 강아지들… 셔틀버스는 기본, 과목별 시간표도\n",
       "26270    사설ㆍ칼럼 > 내부칼럼 > 만물상                          [만물상] 토종 천연 효모\n",
       "53472   사회 > 교육ㆍ시험 > 맛있는 공부         올해 '불수능' ?… 쉬운 문제에 적응돼 체감 난도 높아"
      ]
     },
     "metadata": {},
     "output_type": "display_data"
    },
    {
     "name": "stdout",
     "output_type": "stream",
     "text": [
      "Cluster #24\n"
     ]
    },
    {
     "data": {
      "text/plain": [
       "[('마중물', 0.951356053352356),\n",
       " ('육사', 0.9464383721351624),\n",
       " ('열망', 0.9452709555625916),\n",
       " ('출발점', 0.9425193071365356),\n",
       " ('임직원', 0.9380306005477905)]"
      ]
     },
     "metadata": {},
     "output_type": "display_data"
    },
    {
     "data": {
      "text/html": [
       "<div>\n",
       "<table border=\"1\" class=\"dataframe\">\n",
       "  <thead>\n",
       "    <tr style=\"text-align: right;\">\n",
       "      <th></th>\n",
       "      <th>category</th>\n",
       "      <th>title</th>\n",
       "    </tr>\n",
       "  </thead>\n",
       "  <tbody>\n",
       "    <tr>\n",
       "      <th>10416</th>\n",
       "      <td>정치 &gt; 나눔 통일</td>\n",
       "      <td>통일나눔펀드에 동참하세요</td>\n",
       "    </tr>\n",
       "    <tr>\n",
       "      <th>18394</th>\n",
       "      <td>정치 &gt; 나눔 통일</td>\n",
       "      <td>통일나눔펀드에 동참하세요</td>\n",
       "    </tr>\n",
       "    <tr>\n",
       "      <th>28002</th>\n",
       "      <td>정치 &gt; 나눔 통일</td>\n",
       "      <td>통일나눔펀드에 동참하세요</td>\n",
       "    </tr>\n",
       "    <tr>\n",
       "      <th>3664</th>\n",
       "      <td>정치 &gt; 나눔 통일</td>\n",
       "      <td>통일나눔펀드에 동참하세요</td>\n",
       "    </tr>\n",
       "    <tr>\n",
       "      <th>9009</th>\n",
       "      <td>정치 &gt; 나눔 통일</td>\n",
       "      <td>통일나눔펀드에 동참하세요</td>\n",
       "    </tr>\n",
       "    <tr>\n",
       "      <th>4028</th>\n",
       "      <td>정치 &gt; 나눔 통일</td>\n",
       "      <td>통일나눔펀드에 동참하세요</td>\n",
       "    </tr>\n",
       "    <tr>\n",
       "      <th>59779</th>\n",
       "      <td>정치 &gt; 나눔 통일</td>\n",
       "      <td>生後 72일… 최연소 '통일 기부'</td>\n",
       "    </tr>\n",
       "    <tr>\n",
       "      <th>15298</th>\n",
       "      <td>정치 &gt; 나눔 통일</td>\n",
       "      <td>통일나눔펀드에 동참하세요</td>\n",
       "    </tr>\n",
       "    <tr>\n",
       "      <th>19972</th>\n",
       "      <td>정치 &gt; 나눔 통일</td>\n",
       "      <td>통일나눔펀드에 동참하세요</td>\n",
       "    </tr>\n",
       "    <tr>\n",
       "      <th>8309</th>\n",
       "      <td>정치 &gt; 나눔 통일</td>\n",
       "      <td>통일나눔펀드에 동참하세요</td>\n",
       "    </tr>\n",
       "  </tbody>\n",
       "</table>\n",
       "</div>"
      ],
      "text/plain": [
       "         category                title\n",
       "10416  정치 > 나눔 통일        통일나눔펀드에 동참하세요\n",
       "18394  정치 > 나눔 통일        통일나눔펀드에 동참하세요\n",
       "28002  정치 > 나눔 통일        통일나눔펀드에 동참하세요\n",
       "3664   정치 > 나눔 통일        통일나눔펀드에 동참하세요\n",
       "9009   정치 > 나눔 통일        통일나눔펀드에 동참하세요\n",
       "4028   정치 > 나눔 통일        통일나눔펀드에 동참하세요\n",
       "59779  정치 > 나눔 통일  生後 72일… 최연소 '통일 기부'\n",
       "15298  정치 > 나눔 통일        통일나눔펀드에 동참하세요\n",
       "19972  정치 > 나눔 통일        통일나눔펀드에 동참하세요\n",
       "8309   정치 > 나눔 통일        통일나눔펀드에 동참하세요"
      ]
     },
     "metadata": {},
     "output_type": "display_data"
    },
    {
     "name": "stdout",
     "output_type": "stream",
     "text": [
      "Cluster #25\n"
     ]
    },
    {
     "data": {
      "text/plain": [
       "[('토요일', 0.999538779258728),\n",
       " ('화요일', 0.9988112449645996),\n",
       " ('일요일', 0.9985345602035522),\n",
       " ('금요일', 0.9984485507011414),\n",
       " ('월요일', 0.9982478022575378),\n",
       " ('목요일', 0.9939917325973511),\n",
       " ('수요일', 0.9917510151863098)]"
      ]
     },
     "metadata": {},
     "output_type": "display_data"
    },
    {
     "data": {
      "text/html": [
       "<div>\n",
       "<table border=\"1\" class=\"dataframe\">\n",
       "  <thead>\n",
       "    <tr style=\"text-align: right;\">\n",
       "      <th></th>\n",
       "      <th>category</th>\n",
       "      <th>title</th>\n",
       "    </tr>\n",
       "  </thead>\n",
       "  <tbody>\n",
       "    <tr>\n",
       "      <th>4802</th>\n",
       "      <td>문화 &gt; 오늘의 운세</td>\n",
       "      <td>[오늘의 운세] 8월 23일 화요일(음력 7월 21일 丁丑)</td>\n",
       "    </tr>\n",
       "    <tr>\n",
       "      <th>57732</th>\n",
       "      <td>문화 &gt; 오늘의 운세</td>\n",
       "      <td>[오늘의 운세] 11월 18일 수요일(음력 10월 7일 戊戌)</td>\n",
       "    </tr>\n",
       "    <tr>\n",
       "      <th>17735</th>\n",
       "      <td>사회 &gt; 두근두근 뇌 운동, 신문은 의사선생님</td>\n",
       "      <td>[두근두근 뇌 운동] [391] 날씨 따라 삼천리</td>\n",
       "    </tr>\n",
       "    <tr>\n",
       "      <th>64220</th>\n",
       "      <td>문화 &gt; 오늘의 운세</td>\n",
       "      <td>[오늘의 운세] 10월 17일 토요일(음력 9월 5일 丙寅)</td>\n",
       "    </tr>\n",
       "    <tr>\n",
       "      <th>24442</th>\n",
       "      <td>문화 &gt; 오늘의 운세</td>\n",
       "      <td>[오늘의 운세] 5월 1일 일요일(음력 3월 25일 癸未)</td>\n",
       "    </tr>\n",
       "    <tr>\n",
       "      <th>40185</th>\n",
       "      <td>문화 &gt; 오늘의 운세</td>\n",
       "      <td>[오늘의 운세] 2월 12일 금요일(음력 1월 5일 甲子)</td>\n",
       "    </tr>\n",
       "    <tr>\n",
       "      <th>19357</th>\n",
       "      <td>문화 &gt; 오늘의 운세</td>\n",
       "      <td>[오늘의 운세] 5월 29일 일요일(음력 4월 23일 辛亥)</td>\n",
       "    </tr>\n",
       "    <tr>\n",
       "      <th>3400</th>\n",
       "      <td>문화 &gt; 오늘의 운세</td>\n",
       "      <td>[오늘의 운세] 8월 31일 수요일(음력 7월 29일 乙酉)</td>\n",
       "    </tr>\n",
       "    <tr>\n",
       "      <th>123286</th>\n",
       "      <td>문화 &gt; 오늘의 운세</td>\n",
       "      <td>[오늘의 운세] 9월 28일 수요일(음력 8월 28일 癸丑)</td>\n",
       "    </tr>\n",
       "    <tr>\n",
       "      <th>60584</th>\n",
       "      <td>문화 &gt; 오늘의 운세</td>\n",
       "      <td>[오늘의 운세] 11월 4일 수요일(음력 9월 23일 甲申)</td>\n",
       "    </tr>\n",
       "  </tbody>\n",
       "</table>\n",
       "</div>"
      ],
      "text/plain": [
       "                         category                               title\n",
       "4802                  문화 > 오늘의 운세   [오늘의 운세] 8월 23일 화요일(음력 7월 21일 丁丑)\n",
       "57732                 문화 > 오늘의 운세  [오늘의 운세] 11월 18일 수요일(음력 10월 7일 戊戌)\n",
       "17735   사회 > 두근두근 뇌 운동, 신문은 의사선생님         [두근두근 뇌 운동] [391] 날씨 따라 삼천리\n",
       "64220                 문화 > 오늘의 운세   [오늘의 운세] 10월 17일 토요일(음력 9월 5일 丙寅)\n",
       "24442                 문화 > 오늘의 운세    [오늘의 운세] 5월 1일 일요일(음력 3월 25일 癸未)\n",
       "40185                 문화 > 오늘의 운세    [오늘의 운세] 2월 12일 금요일(음력 1월 5일 甲子)\n",
       "19357                 문화 > 오늘의 운세   [오늘의 운세] 5월 29일 일요일(음력 4월 23일 辛亥)\n",
       "3400                  문화 > 오늘의 운세   [오늘의 운세] 8월 31일 수요일(음력 7월 29일 乙酉)\n",
       "123286                문화 > 오늘의 운세   [오늘의 운세] 9월 28일 수요일(음력 8월 28일 癸丑)\n",
       "60584                 문화 > 오늘의 운세   [오늘의 운세] 11월 4일 수요일(음력 9월 23일 甲申)"
      ]
     },
     "metadata": {},
     "output_type": "display_data"
    },
    {
     "name": "stdout",
     "output_type": "stream",
     "text": [
      "Cluster #26\n"
     ]
    },
    {
     "data": {
      "text/plain": [
       "[('합병', 0.9991604685783386),\n",
       " ('계층', 0.9987947344779968),\n",
       " ('관', 0.9987038373947144),\n",
       " ('폭발', 0.9986853003501892),\n",
       " ('화학', 0.9986725449562073),\n",
       " ('날개', 0.9985700845718384),\n",
       " ('유물', 0.9985643625259399),\n",
       " ('드', 0.9985404014587402),\n",
       " ('샷', 0.9985191822052002),\n",
       " ('심장', 0.9985110759735107)]"
      ]
     },
     "metadata": {},
     "output_type": "display_data"
    },
    {
     "data": {
      "text/html": [
       "<div>\n",
       "<table border=\"1\" class=\"dataframe\">\n",
       "  <thead>\n",
       "    <tr style=\"text-align: right;\">\n",
       "      <th></th>\n",
       "      <th>category</th>\n",
       "      <th>title</th>\n",
       "    </tr>\n",
       "  </thead>\n",
       "  <tbody>\n",
       "    <tr>\n",
       "      <th>6855</th>\n",
       "      <td>스포츠ㆍ연예 &gt; 스포츠 &gt; 리우올림픽</td>\n",
       "      <td>패셔니스타 신태용 감독</td>\n",
       "    </tr>\n",
       "    <tr>\n",
       "      <th>52149</th>\n",
       "      <td>국제 &gt; 아시아</td>\n",
       "      <td>여의도 1.7배 中 고속철 생산 기지… 공장끼리 철도로 연결</td>\n",
       "    </tr>\n",
       "    <tr>\n",
       "      <th>4303</th>\n",
       "      <td>사설ㆍ칼럼 &gt; 내부칼럼 &gt; 사설</td>\n",
       "      <td>[사설] 北 SLBM 성공 보면서도 내 집값 땅값이 우선인가</td>\n",
       "    </tr>\n",
       "    <tr>\n",
       "      <th>23378</th>\n",
       "      <td>사회</td>\n",
       "      <td>소백산 방사 여우, 야생에서 세 마리 출산</td>\n",
       "    </tr>\n",
       "    <tr>\n",
       "      <th>35027</th>\n",
       "      <td>스포츠ㆍ연예 &gt; 스포츠 &gt; 농구 &gt; 남자프로농구</td>\n",
       "      <td>에밋의 에너지, 인삼을 꿀꺽</td>\n",
       "    </tr>\n",
       "    <tr>\n",
       "      <th>38601</th>\n",
       "      <td>스포츠ㆍ연예 &gt; 스포츠 &gt; 종합</td>\n",
       "      <td>\"행복이 이런걸까요? 매스 스타트, 평창 종목 됐잖아요\"</td>\n",
       "    </tr>\n",
       "    <tr>\n",
       "      <th>35176</th>\n",
       "      <td>사회</td>\n",
       "      <td>[단독] 토익 대체하겠다던 텝스… 응시자 5년새 60% 급감</td>\n",
       "    </tr>\n",
       "    <tr>\n",
       "      <th>61846</th>\n",
       "      <td>사회 &gt; 교육ㆍ시험</td>\n",
       "      <td>성추행 등 非違 서울대 교수, 징계前엔 사표 못낸다</td>\n",
       "    </tr>\n",
       "    <tr>\n",
       "      <th>54641</th>\n",
       "      <td>사회 &gt; 인물 &gt; 사람들</td>\n",
       "      <td>두산 4세 박서원, 면세점 전무 겸임</td>\n",
       "    </tr>\n",
       "    <tr>\n",
       "      <th>4727</th>\n",
       "      <td>사회 &gt; 인물 &gt; 사람들</td>\n",
       "      <td>올해의 亞 영화인, 故 키아로스타미</td>\n",
       "    </tr>\n",
       "  </tbody>\n",
       "</table>\n",
       "</div>"
      ],
      "text/plain": [
       "                         category                              title\n",
       "6855         스포츠ㆍ연예 > 스포츠 > 리우올림픽                       패셔니스타 신태용 감독\n",
       "52149                    국제 > 아시아  여의도 1.7배 中 고속철 생산 기지… 공장끼리 철도로 연결\n",
       "4303            사설ㆍ칼럼 > 내부칼럼 > 사설  [사설] 北 SLBM 성공 보면서도 내 집값 땅값이 우선인가\n",
       "23378                          사회            소백산 방사 여우, 야생에서 세 마리 출산\n",
       "35027  스포츠ㆍ연예 > 스포츠 > 농구 > 남자프로농구                    에밋의 에너지, 인삼을 꿀꺽\n",
       "38601           스포츠ㆍ연예 > 스포츠 > 종합    \"행복이 이런걸까요? 매스 스타트, 평창 종목 됐잖아요\"\n",
       "35176                          사회  [단독] 토익 대체하겠다던 텝스… 응시자 5년새 60% 급감\n",
       "61846                  사회 > 교육ㆍ시험       성추행 등 非違 서울대 교수, 징계前엔 사표 못낸다\n",
       "54641               사회 > 인물 > 사람들               두산 4세 박서원, 면세점 전무 겸임\n",
       "4727                사회 > 인물 > 사람들                올해의 亞 영화인, 故 키아로스타미"
      ]
     },
     "metadata": {},
     "output_type": "display_data"
    },
    {
     "name": "stdout",
     "output_type": "stream",
     "text": [
      "Cluster #27\n"
     ]
    },
    {
     "data": {
      "text/plain": [
       "[('면적', 0.991008460521698),\n",
       " ('토목', 0.9863497018814087),\n",
       " ('박돈규', 0.9859874248504639),\n",
       " ('챔프', 0.9848889112472534),\n",
       " ('법제', 0.981955885887146),\n",
       " ('박영훈', 0.9816439151763916),\n",
       " ('소', 0.9807136654853821),\n",
       " ('도라지', 0.9785926342010498),\n",
       " ('창간', 0.9772262573242188),\n",
       " ('디젤차', 0.9770920276641846)]"
      ]
     },
     "metadata": {},
     "output_type": "display_data"
    },
    {
     "data": {
      "text/html": [
       "<div>\n",
       "<table border=\"1\" class=\"dataframe\">\n",
       "  <thead>\n",
       "    <tr style=\"text-align: right;\">\n",
       "      <th></th>\n",
       "      <th>category</th>\n",
       "      <th>title</th>\n",
       "    </tr>\n",
       "  </thead>\n",
       "  <tbody>\n",
       "    <tr>\n",
       "      <th>29028</th>\n",
       "      <td>스포츠ㆍ연예 &gt; 스포츠 &gt; 종합 &gt; 바둑</td>\n",
       "      <td>[제20회 LG배 조선일보 기왕전] 낭떠러지 對決</td>\n",
       "    </tr>\n",
       "    <tr>\n",
       "      <th>18670</th>\n",
       "      <td>스포츠ㆍ연예 &gt; 스포츠 &gt; 종합 &gt; 바둑</td>\n",
       "      <td>[제21회 LG배 조선일보 기왕전] 黑 반집 승</td>\n",
       "    </tr>\n",
       "    <tr>\n",
       "      <th>11824</th>\n",
       "      <td>스포츠ㆍ연예 &gt; 스포츠 &gt; 종합 &gt; 바둑</td>\n",
       "      <td>[제21회 LG배 조선일보 기왕전] 힘 對 힘</td>\n",
       "    </tr>\n",
       "    <tr>\n",
       "      <th>34295</th>\n",
       "      <td>스포츠ㆍ연예 &gt; 스포츠 &gt; 종합 &gt; 바둑</td>\n",
       "      <td>[제20회 LG배 조선일보 기왕전] 40초 전쟁</td>\n",
       "    </tr>\n",
       "    <tr>\n",
       "      <th>52298</th>\n",
       "      <td>스포츠ㆍ연예 &gt; 스포츠 &gt; 종합 &gt; 바둑</td>\n",
       "      <td>[제20회 LG배 조선일보 기왕전] 두 개의 민낯</td>\n",
       "    </tr>\n",
       "    <tr>\n",
       "      <th>57755</th>\n",
       "      <td>스포츠ㆍ연예 &gt; 스포츠 &gt; 종합 &gt; 바둑</td>\n",
       "      <td>[제20회 LG배 조선일보 기왕전] 强弱의 예술</td>\n",
       "    </tr>\n",
       "    <tr>\n",
       "      <th>9489</th>\n",
       "      <td>스포츠ㆍ연예 &gt; 스포츠 &gt; 종합 &gt; 바둑</td>\n",
       "      <td>[제21회 LG배 조선일보 기왕전] 소중한 資産</td>\n",
       "    </tr>\n",
       "    <tr>\n",
       "      <th>5791</th>\n",
       "      <td>스포츠ㆍ연예 &gt; 스포츠 &gt; 종합 &gt; 바둑</td>\n",
       "      <td>[제21회 LG배 조선일보 기왕전] 빛나는 침입수</td>\n",
       "    </tr>\n",
       "    <tr>\n",
       "      <th>47403</th>\n",
       "      <td>스포츠ㆍ연예 &gt; 스포츠 &gt; 종합 &gt; 바둑</td>\n",
       "      <td>[제20회 LG배 조선일보 기왕전] 廢墟를 기다</td>\n",
       "    </tr>\n",
       "    <tr>\n",
       "      <th>24477</th>\n",
       "      <td>스포츠ㆍ연예 &gt; 스포츠 &gt; 종합 &gt; 바둑</td>\n",
       "      <td>[제21회 LG배 조선일보 기왕전] 공 넘기기</td>\n",
       "    </tr>\n",
       "  </tbody>\n",
       "</table>\n",
       "</div>"
      ],
      "text/plain": [
       "                     category                        title\n",
       "29028  스포츠ㆍ연예 > 스포츠 > 종합 > 바둑  [제20회 LG배 조선일보 기왕전] 낭떠러지 對決\n",
       "18670  스포츠ㆍ연예 > 스포츠 > 종합 > 바둑   [제21회 LG배 조선일보 기왕전] 黑 반집 승\n",
       "11824  스포츠ㆍ연예 > 스포츠 > 종합 > 바둑    [제21회 LG배 조선일보 기왕전] 힘 對 힘\n",
       "34295  스포츠ㆍ연예 > 스포츠 > 종합 > 바둑   [제20회 LG배 조선일보 기왕전] 40초 전쟁\n",
       "52298  스포츠ㆍ연예 > 스포츠 > 종합 > 바둑  [제20회 LG배 조선일보 기왕전] 두 개의 민낯\n",
       "57755  스포츠ㆍ연예 > 스포츠 > 종합 > 바둑   [제20회 LG배 조선일보 기왕전] 强弱의 예술\n",
       "9489   스포츠ㆍ연예 > 스포츠 > 종합 > 바둑   [제21회 LG배 조선일보 기왕전] 소중한 資産\n",
       "5791   스포츠ㆍ연예 > 스포츠 > 종합 > 바둑  [제21회 LG배 조선일보 기왕전] 빛나는 침입수\n",
       "47403  스포츠ㆍ연예 > 스포츠 > 종합 > 바둑   [제20회 LG배 조선일보 기왕전] 廢墟를 기다\n",
       "24477  스포츠ㆍ연예 > 스포츠 > 종합 > 바둑    [제21회 LG배 조선일보 기왕전] 공 넘기기"
      ]
     },
     "metadata": {},
     "output_type": "display_data"
    },
    {
     "name": "stdout",
     "output_type": "stream",
     "text": [
      "Cluster #28\n"
     ]
    },
    {
     "data": {
      "text/plain": [
       "[('동시', 0.9917731285095215),\n",
       " ('시조', 0.9901942014694214),\n",
       " ('한시', 0.9833300113677979),\n",
       " ('서초동', 0.9795401096343994),\n",
       " ('새벽', 0.9781548976898193),\n",
       " ('순위', 0.9737285375595093),\n",
       " ('오전', 0.9686974883079529),\n",
       " ('현재', 0.9635395407676697),\n",
       " ('진', 0.9583823680877686)]"
      ]
     },
     "metadata": {},
     "output_type": "display_data"
    },
    {
     "data": {
      "text/html": [
       "<div>\n",
       "<table border=\"1\" class=\"dataframe\">\n",
       "  <thead>\n",
       "    <tr style=\"text-align: right;\">\n",
       "      <th></th>\n",
       "      <th>category</th>\n",
       "      <th>title</th>\n",
       "    </tr>\n",
       "  </thead>\n",
       "  <tbody>\n",
       "    <tr>\n",
       "      <th>63322</th>\n",
       "      <td>사설ㆍ칼럼 &gt; 외부칼럼 &gt; 가슴으로 읽는…</td>\n",
       "      <td>[가슴으로 읽는 동시] 잠자리</td>\n",
       "    </tr>\n",
       "    <tr>\n",
       "      <th>122781</th>\n",
       "      <td>사설ㆍ칼럼 &gt; 외부칼럼 &gt; 가슴으로 읽는…</td>\n",
       "      <td>[가슴으로 읽는 한시] 병석의 나를 위로하다</td>\n",
       "    </tr>\n",
       "    <tr>\n",
       "      <th>20305</th>\n",
       "      <td>스포츠ㆍ연예 &gt; 엔터테인먼트 &gt; TV/방송 &gt; 드라마</td>\n",
       "      <td>[삼시세평(三視世評)] 조선시대 감옥·변호사 등장… 신선한 史劇 납시오</td>\n",
       "    </tr>\n",
       "    <tr>\n",
       "      <th>27878</th>\n",
       "      <td>사설ㆍ칼럼 &gt; 외부칼럼 &gt; 가슴으로 읽는…</td>\n",
       "      <td>[가슴으로 읽는 동시] 따라와 따라와</td>\n",
       "    </tr>\n",
       "    <tr>\n",
       "      <th>40632</th>\n",
       "      <td>사설ㆍ칼럼 &gt; 외부칼럼 &gt; 가슴으로 읽는…</td>\n",
       "      <td>[가슴으로 읽는 한시] 친구에게</td>\n",
       "    </tr>\n",
       "    <tr>\n",
       "      <th>8237</th>\n",
       "      <td>문화 &gt; 북스 &gt; 신간소개</td>\n",
       "      <td>짧지만 강렬하다… 마음 울릴 '한 뼘 詩'</td>\n",
       "    </tr>\n",
       "    <tr>\n",
       "      <th>101</th>\n",
       "      <td>사회</td>\n",
       "      <td>오후 8시 33분</td>\n",
       "    </tr>\n",
       "    <tr>\n",
       "      <th>5602</th>\n",
       "      <td>사설ㆍ칼럼 &gt; 외부칼럼 &gt; 가슴으로 읽는…</td>\n",
       "      <td>[가슴으로 읽는 동시] 이사 온 날</td>\n",
       "    </tr>\n",
       "    <tr>\n",
       "      <th>21539</th>\n",
       "      <td>스포츠ㆍ연예 &gt; 엔터테인먼트 &gt; TV/방송</td>\n",
       "      <td>[삼시세평(三視世評)] 연기 경력 300년의 맛깔난 '好演성찬'</td>\n",
       "    </tr>\n",
       "    <tr>\n",
       "      <th>14137</th>\n",
       "      <td>사설ㆍ칼럼 &gt; 외부칼럼 &gt; 가슴으로 읽는…</td>\n",
       "      <td>[가슴으로 읽는 한시] 6월 23일 취중에</td>\n",
       "    </tr>\n",
       "  </tbody>\n",
       "</table>\n",
       "</div>"
      ],
      "text/plain": [
       "                             category                                    title\n",
       "63322         사설ㆍ칼럼 > 외부칼럼 > 가슴으로 읽는…                         [가슴으로 읽는 동시] 잠자리\n",
       "122781        사설ㆍ칼럼 > 외부칼럼 > 가슴으로 읽는…                 [가슴으로 읽는 한시] 병석의 나를 위로하다\n",
       "20305   스포츠ㆍ연예 > 엔터테인먼트 > TV/방송 > 드라마  [삼시세평(三視世評)] 조선시대 감옥·변호사 등장… 신선한 史劇 납시오\n",
       "27878         사설ㆍ칼럼 > 외부칼럼 > 가슴으로 읽는…                     [가슴으로 읽는 동시] 따라와 따라와\n",
       "40632         사설ㆍ칼럼 > 외부칼럼 > 가슴으로 읽는…                        [가슴으로 읽는 한시] 친구에게\n",
       "8237                   문화 > 북스 > 신간소개                  짧지만 강렬하다… 마음 울릴 '한 뼘 詩'\n",
       "101                                사회                                오후 8시 33분\n",
       "5602          사설ㆍ칼럼 > 외부칼럼 > 가슴으로 읽는…                      [가슴으로 읽는 동시] 이사 온 날\n",
       "21539         스포츠ㆍ연예 > 엔터테인먼트 > TV/방송      [삼시세평(三視世評)] 연기 경력 300년의 맛깔난 '好演성찬'\n",
       "14137         사설ㆍ칼럼 > 외부칼럼 > 가슴으로 읽는…                  [가슴으로 읽는 한시] 6월 23일 취중에"
      ]
     },
     "metadata": {},
     "output_type": "display_data"
    },
    {
     "name": "stdout",
     "output_type": "stream",
     "text": [
      "Cluster #29\n"
     ]
    },
    {
     "data": {
      "text/plain": [
       "[('압박', 0.9979954957962036),\n",
       " ('규탄', 0.9979151487350464),\n",
       " ('외교', 0.9978691935539246),\n",
       " ('겨냥', 0.9976714253425598),\n",
       " ('국방', 0.9966545104980469),\n",
       " ('군사', 0.9959686994552612),\n",
       " ('방중', 0.995792806148529),\n",
       " ('논의', 0.995775580406189),\n",
       " ('선제', 0.9956284761428833)]"
      ]
     },
     "metadata": {},
     "output_type": "display_data"
    },
    {
     "data": {
      "text/html": [
       "<div>\n",
       "<table border=\"1\" class=\"dataframe\">\n",
       "  <thead>\n",
       "    <tr style=\"text-align: right;\">\n",
       "      <th></th>\n",
       "      <th>category</th>\n",
       "      <th>title</th>\n",
       "    </tr>\n",
       "  </thead>\n",
       "  <tbody>\n",
       "    <tr>\n",
       "      <th>50748</th>\n",
       "      <td>정치 &gt; 북한</td>\n",
       "      <td>통일부 작성 北인명록에 김정은 고모 김경희 사라져</td>\n",
       "    </tr>\n",
       "    <tr>\n",
       "      <th>25113</th>\n",
       "      <td>정치 &gt; 북한</td>\n",
       "      <td>\"김정은, 전쟁할 생각 없어… 분해서 미사일 쏜 것\"</td>\n",
       "    </tr>\n",
       "    <tr>\n",
       "      <th>68459</th>\n",
       "      <td>국제</td>\n",
       "      <td>美·中정상 \"北核·미사일 공동대응\"</td>\n",
       "    </tr>\n",
       "    <tr>\n",
       "      <th>68560</th>\n",
       "      <td>정치</td>\n",
       "      <td>\"北 추가도발 강행 땐 분명히 대가 치를 것\"</td>\n",
       "    </tr>\n",
       "    <tr>\n",
       "      <th>29146</th>\n",
       "      <td>정치 &gt; 국회ㆍ정당</td>\n",
       "      <td>오늘부터 한 여론조사 공표 금지</td>\n",
       "    </tr>\n",
       "    <tr>\n",
       "      <th>37523</th>\n",
       "      <td>정치 &gt; 외교</td>\n",
       "      <td>[NEWS&amp;VIEW] 사드 뒤엔… 韓·美·中 '막후 외교 삼국지'</td>\n",
       "    </tr>\n",
       "    <tr>\n",
       "      <th>60991</th>\n",
       "      <td>정치 &gt; 외교</td>\n",
       "      <td>韓·日정상회담 전날까지도… 양국 외무, 위안부 접점 못찾아</td>\n",
       "    </tr>\n",
       "    <tr>\n",
       "      <th>16988</th>\n",
       "      <td>정치 &gt; 국회ㆍ정당</td>\n",
       "      <td>국민의黨 억대 뒷돈 의혹… 지도부 개입했다면 核폭풍</td>\n",
       "    </tr>\n",
       "    <tr>\n",
       "      <th>64692</th>\n",
       "      <td>정치 &gt; 외교</td>\n",
       "      <td>\"추석과 추수감사절 사이에 韓·美 4번째 정상회담… 풍성한 수확 보여줄 것\"</td>\n",
       "    </tr>\n",
       "    <tr>\n",
       "      <th>47008</th>\n",
       "      <td>국제 &gt; 미국ㆍ중남미</td>\n",
       "      <td>\"오바마 행정부가 北核 방치\"… 美 공화 주자들 공세</td>\n",
       "    </tr>\n",
       "  </tbody>\n",
       "</table>\n",
       "</div>"
      ],
      "text/plain": [
       "          category                                       title\n",
       "50748      정치 > 북한                 통일부 작성 北인명록에 김정은 고모 김경희 사라져\n",
       "25113      정치 > 북한               \"김정은, 전쟁할 생각 없어… 분해서 미사일 쏜 것\"\n",
       "68459           국제                         美·中정상 \"北核·미사일 공동대응\"\n",
       "68560           정치                   \"北 추가도발 강행 땐 분명히 대가 치를 것\"\n",
       "29146   정치 > 국회ㆍ정당                           오늘부터 한 여론조사 공표 금지\n",
       "37523      정치 > 외교        [NEWS&VIEW] 사드 뒤엔… 韓·美·中 '막후 외교 삼국지'\n",
       "60991      정치 > 외교            韓·日정상회담 전날까지도… 양국 외무, 위안부 접점 못찾아\n",
       "16988   정치 > 국회ㆍ정당                국민의黨 억대 뒷돈 의혹… 지도부 개입했다면 核폭풍\n",
       "64692      정치 > 외교  \"추석과 추수감사절 사이에 韓·美 4번째 정상회담… 풍성한 수확 보여줄 것\"\n",
       "47008  국제 > 미국ㆍ중남미               \"오바마 행정부가 北核 방치\"… 美 공화 주자들 공세"
      ]
     },
     "metadata": {},
     "output_type": "display_data"
    },
    {
     "name": "stdout",
     "output_type": "stream",
     "text": [
      "Cluster #30\n"
     ]
    },
    {
     "data": {
      "text/plain": [
       "[('입학', 0.9944021701812744),\n",
       " ('정경원', 0.9909757375717163),\n",
       " ('브런치', 0.9890155792236328),\n",
       " ('초등', 0.9886536598205566),\n",
       " ('수강', 0.9884547591209412),\n",
       " ('저널리즘', 0.987750232219696),\n",
       " ('여름', 0.9871525168418884),\n",
       " ('모의유엔', 0.9870320558547974),\n",
       " ('집중력', 0.9867691397666931)]"
      ]
     },
     "metadata": {},
     "output_type": "display_data"
    },
    {
     "data": {
      "text/html": [
       "<div>\n",
       "<table border=\"1\" class=\"dataframe\">\n",
       "  <thead>\n",
       "    <tr style=\"text-align: right;\">\n",
       "      <th></th>\n",
       "      <th>category</th>\n",
       "      <th>title</th>\n",
       "    </tr>\n",
       "  </thead>\n",
       "  <tbody>\n",
       "    <tr>\n",
       "      <th>12797</th>\n",
       "      <td>사회</td>\n",
       "      <td>[알립니다] 사연 공모 하고 캐나다 여행 기회 잡으세요</td>\n",
       "    </tr>\n",
       "    <tr>\n",
       "      <th>20108</th>\n",
       "      <td>사고 &gt; 조선일보 사고</td>\n",
       "      <td>[알립니다] 50회 청룡봉사상 주인공 8명을 공개합니다</td>\n",
       "    </tr>\n",
       "    <tr>\n",
       "      <th>19067</th>\n",
       "      <td>사회 &gt; 교육ㆍ시험 &gt; 맛있는 공부</td>\n",
       "      <td>[알립니다] 美·英 디자인대 여름방학 특강 外</td>\n",
       "    </tr>\n",
       "    <tr>\n",
       "      <th>21645</th>\n",
       "      <td>사회 &gt; 교육ㆍ시험 &gt; 맛있는 공부</td>\n",
       "      <td>[알립니다] 미국·영국·필리핀… 여름방학 해외 캠프 신청하세요</td>\n",
       "    </tr>\n",
       "    <tr>\n",
       "      <th>538</th>\n",
       "      <td>사회 &gt; 교육ㆍ시험 &gt; 맛있는 공부</td>\n",
       "      <td>[알립니다] 2017년 1·9월 학기 美 국무부 교환학생 모집</td>\n",
       "    </tr>\n",
       "    <tr>\n",
       "      <th>6957</th>\n",
       "      <td>사고 &gt; 조선일보 사고</td>\n",
       "      <td>[알립니다] '이중섭 세미나' '제주문화탐방' 내달 6일부터 제주서 열립니다</td>\n",
       "    </tr>\n",
       "    <tr>\n",
       "      <th>56482</th>\n",
       "      <td>사회 &gt; 교육ㆍ시험 &gt; 맛있는 공부</td>\n",
       "      <td>연세대 송도 국제캠퍼스에서 열리는 제2회 겨울방학 연세드림영어캠프</td>\n",
       "    </tr>\n",
       "    <tr>\n",
       "      <th>55606</th>\n",
       "      <td>사고 &gt; 조선일보 사고</td>\n",
       "      <td>[알립니다] 내달 4일 서울 주거 복지 페스티벌</td>\n",
       "    </tr>\n",
       "    <tr>\n",
       "      <th>8077</th>\n",
       "      <td>스포츠ㆍ연예 &gt; 스포츠 &gt; 리우올림픽</td>\n",
       "      <td>밥심이 활심</td>\n",
       "    </tr>\n",
       "    <tr>\n",
       "      <th>13504</th>\n",
       "      <td>사고 &gt; 조선일보 사고</td>\n",
       "      <td>[알립니다] 일본 속 한민족사 탐방… 初中高 선생님 모십니다</td>\n",
       "    </tr>\n",
       "  </tbody>\n",
       "</table>\n",
       "</div>"
      ],
      "text/plain": [
       "                   category                                       title\n",
       "12797                    사회              [알립니다] 사연 공모 하고 캐나다 여행 기회 잡으세요\n",
       "20108          사고 > 조선일보 사고              [알립니다] 50회 청룡봉사상 주인공 8명을 공개합니다\n",
       "19067   사회 > 교육ㆍ시험 > 맛있는 공부                   [알립니다] 美·英 디자인대 여름방학 특강 外\n",
       "21645   사회 > 교육ㆍ시험 > 맛있는 공부          [알립니다] 미국·영국·필리핀… 여름방학 해외 캠프 신청하세요\n",
       "538     사회 > 교육ㆍ시험 > 맛있는 공부          [알립니다] 2017년 1·9월 학기 美 국무부 교환학생 모집\n",
       "6957           사고 > 조선일보 사고  [알립니다] '이중섭 세미나' '제주문화탐방' 내달 6일부터 제주서 열립니다\n",
       "56482   사회 > 교육ㆍ시험 > 맛있는 공부        연세대 송도 국제캠퍼스에서 열리는 제2회 겨울방학 연세드림영어캠프\n",
       "55606          사고 > 조선일보 사고                  [알립니다] 내달 4일 서울 주거 복지 페스티벌\n",
       "8077   스포츠ㆍ연예 > 스포츠 > 리우올림픽                                      밥심이 활심\n",
       "13504          사고 > 조선일보 사고           [알립니다] 일본 속 한민족사 탐방… 初中高 선생님 모십니다"
      ]
     },
     "metadata": {},
     "output_type": "display_data"
    },
    {
     "name": "stdout",
     "output_type": "stream",
     "text": [
      "Cluster #31\n"
     ]
    },
    {
     "data": {
      "text/plain": [
       "[('아빠', 0.9838719367980957), ('연습생', 0.983847975730896)]"
      ]
     },
     "metadata": {},
     "output_type": "display_data"
    },
    {
     "data": {
      "text/html": [
       "<div>\n",
       "<table border=\"1\" class=\"dataframe\">\n",
       "  <thead>\n",
       "    <tr style=\"text-align: right;\">\n",
       "      <th></th>\n",
       "      <th>category</th>\n",
       "      <th>title</th>\n",
       "    </tr>\n",
       "  </thead>\n",
       "  <tbody>\n",
       "    <tr>\n",
       "      <th>31433</th>\n",
       "      <td>사회</td>\n",
       "      <td>[Why] 낳으세요… 아이가 살맛 나게 해줄 거요</td>\n",
       "    </tr>\n",
       "    <tr>\n",
       "      <th>2511</th>\n",
       "      <td>사회 &gt; 카드뉴스</td>\n",
       "      <td>[카드뉴스] \"아가야, 네가 꼭 세상을 살아보게 해줄게.\"</td>\n",
       "    </tr>\n",
       "    <tr>\n",
       "      <th>123197</th>\n",
       "      <td>문화 &gt; 더테이블</td>\n",
       "      <td>그도 '아버지'였습니다</td>\n",
       "    </tr>\n",
       "    <tr>\n",
       "      <th>1028</th>\n",
       "      <td>사회 &gt; 카드뉴스</td>\n",
       "      <td>[카드뉴스] \"너는 내 운명\"</td>\n",
       "    </tr>\n",
       "    <tr>\n",
       "      <th>38378</th>\n",
       "      <td>사회 &gt; 카드뉴스</td>\n",
       "      <td>[카드뉴스] 게으른 일개미가 필요한 이유</td>\n",
       "    </tr>\n",
       "    <tr>\n",
       "      <th>51885</th>\n",
       "      <td>사회 &gt; 카드뉴스</td>\n",
       "      <td>[카드뉴스] 박기량이 친구 술자리에도 안 가는 이유</td>\n",
       "    </tr>\n",
       "    <tr>\n",
       "      <th>45355</th>\n",
       "      <td>문화 &gt; 북스 &gt; 신간소개</td>\n",
       "      <td>[한줄읽기] '책이 너무 많아' 외</td>\n",
       "    </tr>\n",
       "    <tr>\n",
       "      <th>34315</th>\n",
       "      <td>스포츠ㆍ연예 &gt; 스포츠 &gt; 축구 &gt; 프로축구</td>\n",
       "      <td>서울 남자 데얀</td>\n",
       "    </tr>\n",
       "    <tr>\n",
       "      <th>40602</th>\n",
       "      <td>사회 &gt; 카드뉴스</td>\n",
       "      <td>[카드뉴스] 영화는 끝났지만, 그의 인생은 다시 시작됩니다</td>\n",
       "    </tr>\n",
       "    <tr>\n",
       "      <th>29428</th>\n",
       "      <td>사회 &gt; 카드뉴스</td>\n",
       "      <td>[카드뉴스] 원영이의 마지막 말은 '엄마'였습니다</td>\n",
       "    </tr>\n",
       "  </tbody>\n",
       "</table>\n",
       "</div>"
      ],
      "text/plain": [
       "                        category                             title\n",
       "31433                         사회       [Why] 낳으세요… 아이가 살맛 나게 해줄 거요\n",
       "2511                   사회 > 카드뉴스  [카드뉴스] \"아가야, 네가 꼭 세상을 살아보게 해줄게.\"\n",
       "123197                 문화 > 더테이블                      그도 '아버지'였습니다\n",
       "1028                   사회 > 카드뉴스                  [카드뉴스] \"너는 내 운명\"\n",
       "38378                  사회 > 카드뉴스            [카드뉴스] 게으른 일개미가 필요한 이유\n",
       "51885                  사회 > 카드뉴스      [카드뉴스] 박기량이 친구 술자리에도 안 가는 이유\n",
       "45355             문화 > 북스 > 신간소개               [한줄읽기] '책이 너무 많아' 외\n",
       "34315   스포츠ㆍ연예 > 스포츠 > 축구 > 프로축구                          서울 남자 데얀\n",
       "40602                  사회 > 카드뉴스  [카드뉴스] 영화는 끝났지만, 그의 인생은 다시 시작됩니다\n",
       "29428                  사회 > 카드뉴스       [카드뉴스] 원영이의 마지막 말은 '엄마'였습니다"
      ]
     },
     "metadata": {},
     "output_type": "display_data"
    },
    {
     "name": "stdout",
     "output_type": "stream",
     "text": [
      "Cluster #32\n"
     ]
    },
    {
     "data": {
      "text/plain": [
       "[('수익', 0.9986109137535095),\n",
       " ('배후', 0.9985027313232422),\n",
       " ('소득', 0.9982773065567017),\n",
       " ('분기', 0.9980108141899109),\n",
       " ('수입', 0.9979649782180786),\n",
       " ('해', 0.9979110956192017),\n",
       " ('정원', 0.9978821277618408),\n",
       " ('채용', 0.9977090954780579),\n",
       " ('영업', 0.9975252151489258),\n",
       " ('어린이집', 0.9973700642585754)]"
      ]
     },
     "metadata": {},
     "output_type": "display_data"
    },
    {
     "data": {
      "text/html": [
       "<div>\n",
       "<table border=\"1\" class=\"dataframe\">\n",
       "  <thead>\n",
       "    <tr style=\"text-align: right;\">\n",
       "      <th></th>\n",
       "      <th>category</th>\n",
       "      <th>title</th>\n",
       "    </tr>\n",
       "  </thead>\n",
       "  <tbody>\n",
       "    <tr>\n",
       "      <th>40859</th>\n",
       "      <td>스포츠ㆍ연예 &gt; 엔터테인먼트 &gt; TV/방송</td>\n",
       "      <td>국내 3대 만두 명인들의 요리 경연</td>\n",
       "    </tr>\n",
       "    <tr>\n",
       "      <th>24351</th>\n",
       "      <td>사회 &gt; 날씨</td>\n",
       "      <td>오늘 수도권 빗방울… 내일은 화창</td>\n",
       "    </tr>\n",
       "    <tr>\n",
       "      <th>22235</th>\n",
       "      <td>사회 &gt; 국방</td>\n",
       "      <td>수백억 훈련장비 불량 눈감아준 軍간부</td>\n",
       "    </tr>\n",
       "    <tr>\n",
       "      <th>21474</th>\n",
       "      <td>사회 &gt; 법원ㆍ검찰ㆍ경찰</td>\n",
       "      <td>'126억 대박' 검사장 진경준, 내일부터 무단결근?</td>\n",
       "    </tr>\n",
       "    <tr>\n",
       "      <th>32248</th>\n",
       "      <td>nativeAD &gt; CJ</td>\n",
       "      <td>CJ제일제당, 中 하이더社 360억원에 인수</td>\n",
       "    </tr>\n",
       "    <tr>\n",
       "      <th>61387</th>\n",
       "      <td>사회 &gt; 법원ㆍ검찰ㆍ경찰</td>\n",
       "      <td>[땅, 땅… 오늘의 판결] 세월호 청해진해운 대표, 징역 7년에 벌금 200만원 외</td>\n",
       "    </tr>\n",
       "    <tr>\n",
       "      <th>18640</th>\n",
       "      <td>경제</td>\n",
       "      <td>현대상선 빚 6300억원은 재조정 성공</td>\n",
       "    </tr>\n",
       "    <tr>\n",
       "      <th>24347</th>\n",
       "      <td>사회 &gt; 노동ㆍ복지</td>\n",
       "      <td>\"어린이집 짓는데 10억… 차라리 벌금 2억 낸다\"</td>\n",
       "    </tr>\n",
       "    <tr>\n",
       "      <th>28356</th>\n",
       "      <td>nativeAD &gt; 기업뉴스</td>\n",
       "      <td>한국GM, 당기 순손실 1조원 육박… 사상 최대 적자</td>\n",
       "    </tr>\n",
       "    <tr>\n",
       "      <th>987</th>\n",
       "      <td>사회</td>\n",
       "      <td>경기도 아파트 556개 단지, 관리비 152억 줄줄 샜다</td>\n",
       "    </tr>\n",
       "  </tbody>\n",
       "</table>\n",
       "</div>"
      ],
      "text/plain": [
       "                      category                                           title\n",
       "40859  스포츠ㆍ연예 > 엔터테인먼트 > TV/방송                             국내 3대 만두 명인들의 요리 경연\n",
       "24351                  사회 > 날씨                              오늘 수도권 빗방울… 내일은 화창\n",
       "22235                  사회 > 국방                            수백억 훈련장비 불량 눈감아준 軍간부\n",
       "21474            사회 > 법원ㆍ검찰ㆍ경찰                   '126억 대박' 검사장 진경준, 내일부터 무단결근?\n",
       "32248            nativeAD > CJ                        CJ제일제당, 中 하이더社 360억원에 인수\n",
       "61387            사회 > 법원ㆍ검찰ㆍ경찰  [땅, 땅… 오늘의 판결] 세월호 청해진해운 대표, 징역 7년에 벌금 200만원 외\n",
       "18640                       경제                           현대상선 빚 6300억원은 재조정 성공\n",
       "24347               사회 > 노동ㆍ복지                    \"어린이집 짓는데 10억… 차라리 벌금 2억 낸다\"\n",
       "28356          nativeAD > 기업뉴스                   한국GM, 당기 순손실 1조원 육박… 사상 최대 적자\n",
       "987                         사회                 경기도 아파트 556개 단지, 관리비 152억 줄줄 샜다"
      ]
     },
     "metadata": {},
     "output_type": "display_data"
    },
    {
     "name": "stdout",
     "output_type": "stream",
     "text": [
      "Cluster #33\n"
     ]
    },
    {
     "data": {
      "text/plain": [
       "[('대학교', 0.9966583847999573),\n",
       " ('화백', 0.9955437183380127),\n",
       " ('전자', 0.994918704032898),\n",
       " ('언론', 0.9947186708450317),\n",
       " ('건축가', 0.9946141839027405),\n",
       " ('기념', 0.9945170879364014),\n",
       " ('의대', 0.9941728115081787),\n",
       " ('중앙', 0.9936357736587524),\n",
       " ('축산', 0.9935234785079956)]"
      ]
     },
     "metadata": {},
     "output_type": "display_data"
    },
    {
     "data": {
      "text/html": [
       "<div>\n",
       "<table border=\"1\" class=\"dataframe\">\n",
       "  <thead>\n",
       "    <tr style=\"text-align: right;\">\n",
       "      <th></th>\n",
       "      <th>category</th>\n",
       "      <th>title</th>\n",
       "    </tr>\n",
       "  </thead>\n",
       "  <tbody>\n",
       "    <tr>\n",
       "      <th>23902</th>\n",
       "      <td>문화 &gt; 전시ㆍ공연 &gt; 전시</td>\n",
       "      <td>[미술 소식] 부산 벡스코, 로베르토 듀테스코 사진전 외</td>\n",
       "    </tr>\n",
       "    <tr>\n",
       "      <th>37986</th>\n",
       "      <td>사회 &gt; 인물 &gt; 사람들</td>\n",
       "      <td>김창은 한국경영공학회장</td>\n",
       "    </tr>\n",
       "    <tr>\n",
       "      <th>123659</th>\n",
       "      <td>사회 &gt; 인물 &gt; 인사</td>\n",
       "      <td>[인사] 문화체육관광부 외</td>\n",
       "    </tr>\n",
       "    <tr>\n",
       "      <th>46933</th>\n",
       "      <td>스포츠ㆍ연예 &gt; 엔터테인먼트 &gt; 영화</td>\n",
       "      <td>[이번주 개봉영화 딱 10자평] '유스' 외</td>\n",
       "    </tr>\n",
       "    <tr>\n",
       "      <th>29538</th>\n",
       "      <td>사회 &gt; 인물 &gt; 사람들</td>\n",
       "      <td>곽영진 한국문화산업교류재단 이사장</td>\n",
       "    </tr>\n",
       "    <tr>\n",
       "      <th>23930</th>\n",
       "      <td>사회 &gt; 인물 &gt; 동정</td>\n",
       "      <td>[플라자] 21세기국가발전연구원 조찬세미나 개최 외</td>\n",
       "    </tr>\n",
       "    <tr>\n",
       "      <th>39143</th>\n",
       "      <td>사회 &gt; 인물 &gt; 동정</td>\n",
       "      <td>[플라자] 심장대사증후군연구회 춘계국제심포지엄 개최 외</td>\n",
       "    </tr>\n",
       "    <tr>\n",
       "      <th>5065</th>\n",
       "      <td>사회 &gt; 인물 &gt; 동정</td>\n",
       "      <td>[플라자] 한국신문방송편집인협회 '정세균 국회의장 초청 세미나' 개최</td>\n",
       "    </tr>\n",
       "    <tr>\n",
       "      <th>43077</th>\n",
       "      <td>사설ㆍ칼럼 &gt; 외부칼럼</td>\n",
       "      <td>[정보의 창] 한국, 4차 산업혁명에서 이미 뒤처지고 있다</td>\n",
       "    </tr>\n",
       "    <tr>\n",
       "      <th>63131</th>\n",
       "      <td>사회 &gt; 교육ㆍ시험 &gt; 맛있는 공부 plus+</td>\n",
       "      <td>영어로 진행하는 모의 유엔 사전 준비 과정 '제4회 리더스 서밋' 개최</td>\n",
       "    </tr>\n",
       "  </tbody>\n",
       "</table>\n",
       "</div>"
      ],
      "text/plain": [
       "                         category                                    title\n",
       "23902             문화 > 전시ㆍ공연 > 전시          [미술 소식] 부산 벡스코, 로베르토 듀테스코 사진전 외\n",
       "37986               사회 > 인물 > 사람들                             김창은 한국경영공학회장\n",
       "123659               사회 > 인물 > 인사                           [인사] 문화체육관광부 외\n",
       "46933        스포츠ㆍ연예 > 엔터테인먼트 > 영화                 [이번주 개봉영화 딱 10자평] '유스' 외\n",
       "29538               사회 > 인물 > 사람들                       곽영진 한국문화산업교류재단 이사장\n",
       "23930                사회 > 인물 > 동정             [플라자] 21세기국가발전연구원 조찬세미나 개최 외\n",
       "39143                사회 > 인물 > 동정           [플라자] 심장대사증후군연구회 춘계국제심포지엄 개최 외\n",
       "5065                 사회 > 인물 > 동정   [플라자] 한국신문방송편집인협회 '정세균 국회의장 초청 세미나' 개최\n",
       "43077                사설ㆍ칼럼 > 외부칼럼         [정보의 창] 한국, 4차 산업혁명에서 이미 뒤처지고 있다\n",
       "63131   사회 > 교육ㆍ시험 > 맛있는 공부 plus+  영어로 진행하는 모의 유엔 사전 준비 과정 '제4회 리더스 서밋' 개최"
      ]
     },
     "metadata": {},
     "output_type": "display_data"
    },
    {
     "name": "stdout",
     "output_type": "stream",
     "text": [
      "Cluster #34\n"
     ]
    },
    {
     "data": {
      "text/plain": [
       "[('강성', 0.9702820181846619), ('비박', 0.9689769744873047)]"
      ]
     },
     "metadata": {},
     "output_type": "display_data"
    },
    {
     "data": {
      "text/html": [
       "<div>\n",
       "<table border=\"1\" class=\"dataframe\">\n",
       "  <thead>\n",
       "    <tr style=\"text-align: right;\">\n",
       "      <th></th>\n",
       "      <th>category</th>\n",
       "      <th>title</th>\n",
       "    </tr>\n",
       "  </thead>\n",
       "  <tbody>\n",
       "    <tr>\n",
       "      <th>35653</th>\n",
       "      <td>사회</td>\n",
       "      <td>박 대통령 \"계급장에 담긴 책임 다해주길\"</td>\n",
       "    </tr>\n",
       "    <tr>\n",
       "      <th>20890</th>\n",
       "      <td>사설ㆍ칼럼 &gt; 내부칼럼 &gt; 사설</td>\n",
       "      <td>[사설] 親朴, 黨 와해시키고도 득의만만해한다니</td>\n",
       "    </tr>\n",
       "    <tr>\n",
       "      <th>23846</th>\n",
       "      <td>사설ㆍ칼럼 &gt; 내부칼럼 &gt; 사설</td>\n",
       "      <td>[사설] 北은 우방국 이란 대통령의 \"核 반대\" 새겨들으라</td>\n",
       "    </tr>\n",
       "    <tr>\n",
       "      <th>8842</th>\n",
       "      <td>정치 &gt; 외교</td>\n",
       "      <td>中의 '사드 몽니'</td>\n",
       "    </tr>\n",
       "    <tr>\n",
       "      <th>29851</th>\n",
       "      <td>정치 &gt; 국회ㆍ정당</td>\n",
       "      <td>82 : 35 : 20 (새누리 : 더민주 : 국민의黨)</td>\n",
       "    </tr>\n",
       "    <tr>\n",
       "      <th>44818</th>\n",
       "      <td>정치 &gt; 청와대</td>\n",
       "      <td>국회를 건너뛴 대통령</td>\n",
       "    </tr>\n",
       "    <tr>\n",
       "      <th>68480</th>\n",
       "      <td>사회 &gt; 인물 &gt; 사람들</td>\n",
       "      <td>윤미향 대표, 의암주논개상</td>\n",
       "    </tr>\n",
       "    <tr>\n",
       "      <th>26371</th>\n",
       "      <td>정치 &gt; 국회ㆍ정당</td>\n",
       "      <td>더민주 \"말조심하고 싸우지 말자\"</td>\n",
       "    </tr>\n",
       "    <tr>\n",
       "      <th>9910</th>\n",
       "      <td>사회 &gt; 의료ㆍ보건</td>\n",
       "      <td>'당'찬 빙수</td>\n",
       "    </tr>\n",
       "    <tr>\n",
       "      <th>20863</th>\n",
       "      <td>정치 &gt; 국회ㆍ정당</td>\n",
       "      <td>\"친박은 賣朴\", \"비박은 反大\"</td>\n",
       "    </tr>\n",
       "  </tbody>\n",
       "</table>\n",
       "</div>"
      ],
      "text/plain": [
       "                category                             title\n",
       "35653                 사회           박 대통령 \"계급장에 담긴 책임 다해주길\"\n",
       "20890  사설ㆍ칼럼 > 내부칼럼 > 사설        [사설] 親朴, 黨 와해시키고도 득의만만해한다니\n",
       "23846  사설ㆍ칼럼 > 내부칼럼 > 사설  [사설] 北은 우방국 이란 대통령의 \"核 반대\" 새겨들으라\n",
       "8842             정치 > 외교                        中의 '사드 몽니'\n",
       "29851         정치 > 국회ㆍ정당   82 : 35 : 20 (새누리 : 더민주 : 국민의黨)\n",
       "44818           정치 > 청와대                       국회를 건너뛴 대통령\n",
       "68480      사회 > 인물 > 사람들                    윤미향 대표, 의암주논개상\n",
       "26371         정치 > 국회ㆍ정당                더민주 \"말조심하고 싸우지 말자\"\n",
       "9910          사회 > 의료ㆍ보건                           '당'찬 빙수\n",
       "20863         정치 > 국회ㆍ정당                \"친박은 賣朴\", \"비박은 反大\""
      ]
     },
     "metadata": {},
     "output_type": "display_data"
    },
    {
     "name": "stdout",
     "output_type": "stream",
     "text": [
      "Cluster #35\n"
     ]
    },
    {
     "data": {
      "text/plain": [
       "[('위원장', 0.9990642070770264),\n",
       " ('주류', 0.9984194040298462),\n",
       " ('정권', 0.9982433319091797),\n",
       " ('지도부', 0.9981841444969177),\n",
       " ('지지', 0.9981796741485596),\n",
       " ('법안', 0.9978229999542236),\n",
       " ('박지원', 0.9978095293045044),\n",
       " ('이한구', 0.9977580904960632),\n",
       " ('지지율', 0.9975807070732117),\n",
       " ('개헌', 0.9975318312644958)]"
      ]
     },
     "metadata": {},
     "output_type": "display_data"
    },
    {
     "data": {
      "text/html": [
       "<div>\n",
       "<table border=\"1\" class=\"dataframe\">\n",
       "  <thead>\n",
       "    <tr style=\"text-align: right;\">\n",
       "      <th></th>\n",
       "      <th>category</th>\n",
       "      <th>title</th>\n",
       "    </tr>\n",
       "  </thead>\n",
       "  <tbody>\n",
       "    <tr>\n",
       "      <th>16362</th>\n",
       "      <td>정치</td>\n",
       "      <td>김수민, 朴대통령에게 '90도 인사'</td>\n",
       "    </tr>\n",
       "    <tr>\n",
       "      <th>32137</th>\n",
       "      <td>정치 &gt; 청와대</td>\n",
       "      <td>朴대통령 \"VR·AI 등이 창업의 寶庫 될것\"</td>\n",
       "    </tr>\n",
       "    <tr>\n",
       "      <th>34231</th>\n",
       "      <td>정치 &gt; 국회ㆍ정당</td>\n",
       "      <td>더민주 \"자리 비워뒀다\"… 김한길·천정배에 復黨 타진</td>\n",
       "    </tr>\n",
       "    <tr>\n",
       "      <th>1318</th>\n",
       "      <td>정치</td>\n",
       "      <td>與보다 먼저 움직인 2野 \"北 도발 대가 치를 것\"</td>\n",
       "    </tr>\n",
       "    <tr>\n",
       "      <th>47953</th>\n",
       "      <td>정치 &gt; 국회ㆍ정당</td>\n",
       "      <td>이젠 대놓고 감정싸움… 親朴·非朴 공천룰 갈등 격화</td>\n",
       "    </tr>\n",
       "    <tr>\n",
       "      <th>998</th>\n",
       "      <td>정치</td>\n",
       "      <td>美전술핵 배치에… 與주자 3人 찬성, 野 4人 모두 반대</td>\n",
       "    </tr>\n",
       "    <tr>\n",
       "      <th>9503</th>\n",
       "      <td>사설ㆍ칼럼 &gt; 내부칼럼 &gt; 팔면봉</td>\n",
       "      <td>[팔면봉] 정부 고위 인사, 野 대표에게 \"난 우병우 사단 아니다\"라고 했다고 외</td>\n",
       "    </tr>\n",
       "    <tr>\n",
       "      <th>7362</th>\n",
       "      <td>정치 &gt; 국회ㆍ정당</td>\n",
       "      <td>사드·추경·증세… 與, 잇단 '野 오버'에 역공</td>\n",
       "    </tr>\n",
       "    <tr>\n",
       "      <th>3831</th>\n",
       "      <td>정치 &gt; 국회ㆍ정당</td>\n",
       "      <td>새로 뽑힌 더민주 최고위원 8명 프로필</td>\n",
       "    </tr>\n",
       "    <tr>\n",
       "      <th>57948</th>\n",
       "      <td>정치 &gt; 국회ㆍ정당</td>\n",
       "      <td>김무성 대표·서청원 최고위원, 공천 놓고 또 충돌</td>\n",
       "    </tr>\n",
       "  </tbody>\n",
       "</table>\n",
       "</div>"
      ],
      "text/plain": [
       "                 category                                          title\n",
       "16362                  정치                           김수민, 朴대통령에게 '90도 인사'\n",
       "32137            정치 > 청와대                      朴대통령 \"VR·AI 등이 창업의 寶庫 될것\"\n",
       "34231          정치 > 국회ㆍ정당                  더민주 \"자리 비워뒀다\"… 김한길·천정배에 復黨 타진\n",
       "1318                   정치                   與보다 먼저 움직인 2野 \"北 도발 대가 치를 것\"\n",
       "47953          정치 > 국회ㆍ정당                   이젠 대놓고 감정싸움… 親朴·非朴 공천룰 갈등 격화\n",
       "998                    정치                美전술핵 배치에… 與주자 3人 찬성, 野 4人 모두 반대\n",
       "9503   사설ㆍ칼럼 > 내부칼럼 > 팔면봉  [팔면봉] 정부 고위 인사, 野 대표에게 \"난 우병우 사단 아니다\"라고 했다고 외\n",
       "7362           정치 > 국회ㆍ정당                     사드·추경·증세… 與, 잇단 '野 오버'에 역공\n",
       "3831           정치 > 국회ㆍ정당                          새로 뽑힌 더민주 최고위원 8명 프로필\n",
       "57948          정치 > 국회ㆍ정당                    김무성 대표·서청원 최고위원, 공천 놓고 또 충돌"
      ]
     },
     "metadata": {},
     "output_type": "display_data"
    },
    {
     "name": "stdout",
     "output_type": "stream",
     "text": [
      "Cluster #36\n"
     ]
    },
    {
     "data": {
      "text/plain": [
       "[('노동부', 0.9908287525177002),\n",
       " ('교통부', 0.9894793629646301),\n",
       " ('경희대', 0.9861196279525757),\n",
       " ('재정부', 0.9853649139404297),\n",
       " ('원로', 0.9837847352027893),\n",
       " ('해양수산부', 0.983583927154541),\n",
       " ('국무총리실', 0.9826067090034485),\n",
       " ('보유자', 0.981834888458252),\n",
       " ('교장', 0.9783048629760742)]"
      ]
     },
     "metadata": {},
     "output_type": "display_data"
    },
    {
     "data": {
      "text/html": [
       "<div>\n",
       "<table border=\"1\" class=\"dataframe\">\n",
       "  <thead>\n",
       "    <tr style=\"text-align: right;\">\n",
       "      <th></th>\n",
       "      <th>category</th>\n",
       "      <th>title</th>\n",
       "    </tr>\n",
       "  </thead>\n",
       "  <tbody>\n",
       "    <tr>\n",
       "      <th>65276</th>\n",
       "      <td>사회 &gt; 인물 &gt; 인사</td>\n",
       "      <td>[인사] 행정자치부 외</td>\n",
       "    </tr>\n",
       "    <tr>\n",
       "      <th>7022</th>\n",
       "      <td>사회 &gt; 인물 &gt; 부음</td>\n",
       "      <td>[부음] 애국지사 전상엽 선생 별세 외</td>\n",
       "    </tr>\n",
       "    <tr>\n",
       "      <th>10905</th>\n",
       "      <td>사회 &gt; 인물 &gt; 인사</td>\n",
       "      <td>[인사] 국토교통부 외</td>\n",
       "    </tr>\n",
       "    <tr>\n",
       "      <th>32775</th>\n",
       "      <td>사회 &gt; 인물 &gt; 부음</td>\n",
       "      <td>[부음] 허길 前 국회의원 별세 외</td>\n",
       "    </tr>\n",
       "    <tr>\n",
       "      <th>36338</th>\n",
       "      <td>사회 &gt; 인물 &gt; 인사</td>\n",
       "      <td>[인사] 국무총리실 외</td>\n",
       "    </tr>\n",
       "    <tr>\n",
       "      <th>40313</th>\n",
       "      <td>사회 &gt; 인물 &gt; 인사</td>\n",
       "      <td>[인사] 보건복지부 외</td>\n",
       "    </tr>\n",
       "    <tr>\n",
       "      <th>42069</th>\n",
       "      <td>사회 &gt; 인물 &gt; 인사</td>\n",
       "      <td>[인사] 국무총리실 외</td>\n",
       "    </tr>\n",
       "    <tr>\n",
       "      <th>12049</th>\n",
       "      <td>사회 &gt; 인물 &gt; 인사</td>\n",
       "      <td>[인사] 미래창조과학부 외</td>\n",
       "    </tr>\n",
       "    <tr>\n",
       "      <th>63629</th>\n",
       "      <td>사회 &gt; 인물 &gt; 부음</td>\n",
       "      <td>[부음] 권희봉씨 별세 외</td>\n",
       "    </tr>\n",
       "    <tr>\n",
       "      <th>66327</th>\n",
       "      <td>사회 &gt; 인물 &gt; 인사</td>\n",
       "      <td>[인사] 통계청 외</td>\n",
       "    </tr>\n",
       "  </tbody>\n",
       "</table>\n",
       "</div>"
      ],
      "text/plain": [
       "           category                  title\n",
       "65276  사회 > 인물 > 인사           [인사] 행정자치부 외\n",
       "7022   사회 > 인물 > 부음  [부음] 애국지사 전상엽 선생 별세 외\n",
       "10905  사회 > 인물 > 인사           [인사] 국토교통부 외\n",
       "32775  사회 > 인물 > 부음    [부음] 허길 前 국회의원 별세 외\n",
       "36338  사회 > 인물 > 인사           [인사] 국무총리실 외\n",
       "40313  사회 > 인물 > 인사           [인사] 보건복지부 외\n",
       "42069  사회 > 인물 > 인사           [인사] 국무총리실 외\n",
       "12049  사회 > 인물 > 인사         [인사] 미래창조과학부 외\n",
       "63629  사회 > 인물 > 부음         [부음] 권희봉씨 별세 외\n",
       "66327  사회 > 인물 > 인사             [인사] 통계청 외"
      ]
     },
     "metadata": {},
     "output_type": "display_data"
    },
    {
     "name": "stdout",
     "output_type": "stream",
     "text": [
      "Cluster #37\n"
     ]
    },
    {
     "data": {
      "text/plain": [
       "[('스트레스', 0.9985671043395996),\n",
       " ('조절', 0.9985244274139404),\n",
       " ('파악', 0.998429536819458),\n",
       " ('조합', 0.9981520771980286),\n",
       " ('기능', 0.9980584383010864),\n",
       " ('인공지능', 0.9980407953262329),\n",
       " ('자극', 0.998038649559021),\n",
       " ('세포', 0.998026967048645),\n",
       " ('전수', 0.9979896545410156),\n",
       " ('소재', 0.9979875087738037)]"
      ]
     },
     "metadata": {},
     "output_type": "display_data"
    },
    {
     "data": {
      "text/html": [
       "<div>\n",
       "<table border=\"1\" class=\"dataframe\">\n",
       "  <thead>\n",
       "    <tr style=\"text-align: right;\">\n",
       "      <th></th>\n",
       "      <th>category</th>\n",
       "      <th>title</th>\n",
       "    </tr>\n",
       "  </thead>\n",
       "  <tbody>\n",
       "    <tr>\n",
       "      <th>65463</th>\n",
       "      <td>경제 &gt; 유통ㆍ소비자</td>\n",
       "      <td>고객 수면 습관 측정… 최적의 수면 환경 컨설팅</td>\n",
       "    </tr>\n",
       "    <tr>\n",
       "      <th>53466</th>\n",
       "      <td>사회 &gt; 교육ㆍ시험 &gt; 맛있는 공부</td>\n",
       "      <td>2016 수능 만점자 4人 어떻게 공부했을까?</td>\n",
       "    </tr>\n",
       "    <tr>\n",
       "      <th>33608</th>\n",
       "      <td>사설ㆍ칼럼 &gt; 외부칼럼 &gt; 최재천의 자연과 문화</td>\n",
       "      <td>[최재천의 자연과 문화] [358] 무서운 건 여전히 사람이다</td>\n",
       "    </tr>\n",
       "    <tr>\n",
       "      <th>6133</th>\n",
       "      <td>문화 &gt; 북스 &gt; 신간소개</td>\n",
       "      <td>인간의 本性은 없다… 그때그때 달라질 뿐</td>\n",
       "    </tr>\n",
       "    <tr>\n",
       "      <th>49635</th>\n",
       "      <td>사설ㆍ칼럼 &gt; 외부칼럼 &gt; 김대식 브레인</td>\n",
       "      <td>[김대식의 브레인 스토리] [167] 12월의 메시지</td>\n",
       "    </tr>\n",
       "    <tr>\n",
       "      <th>54906</th>\n",
       "      <td>사회 &gt; 교육ㆍ시험 &gt; 맛있는 공부</td>\n",
       "      <td>자녀 공부 의욕 일깨워주는 SKY 재학생 멘토링 캠프 41기 外</td>\n",
       "    </tr>\n",
       "    <tr>\n",
       "      <th>34795</th>\n",
       "      <td>스포츠ㆍ연예 &gt; 엔터테인먼트 &gt; TV/방송 &gt; 시사/교양</td>\n",
       "      <td>[TV조선 ch19] 총선 전 여의도 정가 탐색</td>\n",
       "    </tr>\n",
       "    <tr>\n",
       "      <th>6470</th>\n",
       "      <td>사설ㆍ칼럼 &gt; 외부칼럼 &gt; 일사일언</td>\n",
       "      <td>[일사일언] 여름 보양식의 왕, 민어</td>\n",
       "    </tr>\n",
       "    <tr>\n",
       "      <th>37893</th>\n",
       "      <td>경제</td>\n",
       "      <td>스마트폰, 가상현실에서 미래를 봤다</td>\n",
       "    </tr>\n",
       "    <tr>\n",
       "      <th>12576</th>\n",
       "      <td>경제 &gt; 유통ㆍ소비자</td>\n",
       "      <td>'힐빙' 분야 융복합 창의 전문 인력 양성의 요람</td>\n",
       "    </tr>\n",
       "  </tbody>\n",
       "</table>\n",
       "</div>"
      ],
      "text/plain": [
       "                              category                                title\n",
       "65463                      경제 > 유통ㆍ소비자           고객 수면 습관 측정… 최적의 수면 환경 컨설팅\n",
       "53466              사회 > 교육ㆍ시험 > 맛있는 공부            2016 수능 만점자 4人 어떻게 공부했을까?\n",
       "33608       사설ㆍ칼럼 > 외부칼럼 > 최재천의 자연과 문화   [최재천의 자연과 문화] [358] 무서운 건 여전히 사람이다\n",
       "6133                    문화 > 북스 > 신간소개               인간의 本性은 없다… 그때그때 달라질 뿐\n",
       "49635           사설ㆍ칼럼 > 외부칼럼 > 김대식 브레인        [김대식의 브레인 스토리] [167] 12월의 메시지\n",
       "54906              사회 > 교육ㆍ시험 > 맛있는 공부  자녀 공부 의욕 일깨워주는 SKY 재학생 멘토링 캠프 41기 外\n",
       "34795  스포츠ㆍ연예 > 엔터테인먼트 > TV/방송 > 시사/교양           [TV조선 ch19] 총선 전 여의도 정가 탐색\n",
       "6470               사설ㆍ칼럼 > 외부칼럼 > 일사일언                 [일사일언] 여름 보양식의 왕, 민어\n",
       "37893                               경제                  스마트폰, 가상현실에서 미래를 봤다\n",
       "12576                      경제 > 유통ㆍ소비자          '힐빙' 분야 융복합 창의 전문 인력 양성의 요람"
      ]
     },
     "metadata": {},
     "output_type": "display_data"
    },
    {
     "name": "stdout",
     "output_type": "stream",
     "text": [
      "Cluster #38\n"
     ]
    },
    {
     "data": {
      "text/plain": [
       "[('역대', 0.9967982769012451),\n",
       " ('감축', 0.9959598183631897),\n",
       " ('법인세', 0.995909571647644),\n",
       " ('수당', 0.9958556294441223),\n",
       " ('최소', 0.9956035614013672),\n",
       " ('자금', 0.9952266216278076),\n",
       " ('정기', 0.9948452711105347),\n",
       " ('사흘', 0.9948326349258423),\n",
       " ('사기', 0.9946725368499756)]"
      ]
     },
     "metadata": {},
     "output_type": "display_data"
    },
    {
     "data": {
      "text/html": [
       "<div>\n",
       "<table border=\"1\" class=\"dataframe\">\n",
       "  <thead>\n",
       "    <tr style=\"text-align: right;\">\n",
       "      <th></th>\n",
       "      <th>category</th>\n",
       "      <th>title</th>\n",
       "    </tr>\n",
       "  </thead>\n",
       "  <tbody>\n",
       "    <tr>\n",
       "      <th>21777</th>\n",
       "      <td>국제 &gt; 미국ㆍ중남미</td>\n",
       "      <td>점령군처럼… 上下院 훑은 트럼프</td>\n",
       "    </tr>\n",
       "    <tr>\n",
       "      <th>13645</th>\n",
       "      <td>경제</td>\n",
       "      <td>朴정부 3번째 추경… 어정쩡한 '불쏘시개'로 景氣 살릴까</td>\n",
       "    </tr>\n",
       "    <tr>\n",
       "      <th>24857</th>\n",
       "      <td>사회</td>\n",
       "      <td>'5% 주식룰' 탓에… 200억 기부에 세금 140억</td>\n",
       "    </tr>\n",
       "    <tr>\n",
       "      <th>23819</th>\n",
       "      <td>경제 &gt; 기업</td>\n",
       "      <td>현대重, 다음주 희망퇴직… 3000명 줄이기로</td>\n",
       "    </tr>\n",
       "    <tr>\n",
       "      <th>940</th>\n",
       "      <td>국제 &gt; 미국ㆍ중남미</td>\n",
       "      <td>美 역대 대통령 44명 중 4명 재임중 病死… 9대 대통령 해리슨, 취임 한달 만에 숨져</td>\n",
       "    </tr>\n",
       "    <tr>\n",
       "      <th>28458</th>\n",
       "      <td>사회 &gt; 노동ㆍ복지</td>\n",
       "      <td>光州 공무원노조, 법외노조 전공노 가입 의결</td>\n",
       "    </tr>\n",
       "    <tr>\n",
       "      <th>20700</th>\n",
       "      <td>스포츠ㆍ연예 &gt; 스포츠 &gt; 축구 &gt; 해외축구</td>\n",
       "      <td>골대·벤치·샤워꼭지까지… \"돈 되는 건 다 팔아요\"</td>\n",
       "    </tr>\n",
       "    <tr>\n",
       "      <th>123120</th>\n",
       "      <td>정치 &gt; 북한</td>\n",
       "      <td>제2, 제3의 훙샹… 단둥에만 그런 企業 15개쯤 있다</td>\n",
       "    </tr>\n",
       "    <tr>\n",
       "      <th>27723</th>\n",
       "      <td>정치 &gt; 북한</td>\n",
       "      <td>北 노동당 36년 만의 黨대회 대표자 선출 일정 돌입</td>\n",
       "    </tr>\n",
       "    <tr>\n",
       "      <th>34885</th>\n",
       "      <td>사회 &gt; 인물 &gt; 사람들</td>\n",
       "      <td>미스코리아 60년… 역대 최고의 미인은?</td>\n",
       "    </tr>\n",
       "  </tbody>\n",
       "</table>\n",
       "</div>"
      ],
      "text/plain": [
       "                        category  \\\n",
       "21777                국제 > 미국ㆍ중남미   \n",
       "13645                         경제   \n",
       "24857                         사회   \n",
       "23819                    경제 > 기업   \n",
       "940                  국제 > 미국ㆍ중남미   \n",
       "28458                 사회 > 노동ㆍ복지   \n",
       "20700   스포츠ㆍ연예 > 스포츠 > 축구 > 해외축구   \n",
       "123120                   정치 > 북한   \n",
       "27723                    정치 > 북한   \n",
       "34885              사회 > 인물 > 사람들   \n",
       "\n",
       "                                                    title  \n",
       "21777                                   점령군처럼… 上下院 훑은 트럼프  \n",
       "13645                     朴정부 3번째 추경… 어정쩡한 '불쏘시개'로 景氣 살릴까  \n",
       "24857                       '5% 주식룰' 탓에… 200억 기부에 세금 140억  \n",
       "23819                           현대重, 다음주 희망퇴직… 3000명 줄이기로  \n",
       "940     美 역대 대통령 44명 중 4명 재임중 病死… 9대 대통령 해리슨, 취임 한달 만에 숨져  \n",
       "28458                            光州 공무원노조, 법외노조 전공노 가입 의결  \n",
       "20700                        골대·벤치·샤워꼭지까지… \"돈 되는 건 다 팔아요\"  \n",
       "123120                     제2, 제3의 훙샹… 단둥에만 그런 企業 15개쯤 있다  \n",
       "27723                       北 노동당 36년 만의 黨대회 대표자 선출 일정 돌입  \n",
       "34885                              미스코리아 60년… 역대 최고의 미인은?  "
      ]
     },
     "metadata": {},
     "output_type": "display_data"
    }
   ],
   "source": [
    "for i in range(cluster_num):\n",
    "    print('Cluster #%d' % i)\n",
    "    \n",
    "    display(list(filter(\n",
    "                lambda x: counts[x[0]] < 100,\n",
    "                w2v_model.most_similar(\n",
    "                    positive=[cluster_model.cluster_centers_[i]],\n",
    "                    topn=10))))\n",
    "    display(cluster_data[i][['category', 'title']].sample(10))"
   ]
  },
  {
   "cell_type": "code",
   "execution_count": null,
   "metadata": {
    "collapsed": false
   },
   "outputs": [],
   "source": [
    "end = if # Intentionally left errornous"
   ]
  }
 ],
 "metadata": {
  "kernelspec": {
   "display_name": "Python 3",
   "language": "python",
   "name": "python3"
  },
  "language_info": {
   "codemirror_mode": {
    "name": "ipython",
    "version": 3
   },
   "file_extension": ".py",
   "mimetype": "text/x-python",
   "name": "python",
   "nbconvert_exporter": "python",
   "pygments_lexer": "ipython3",
   "version": "3.5.2"
  },
  "widgets": {
   "state": {
    "3bb12e83bccb4a9a98c8876833e134d0": {
     "views": [
      {
       "cell_index": 23
      }
     ]
    },
    "74e76526010449f9b3054a041aa3c2ad": {
     "views": [
      {
       "cell_index": 10
      }
     ]
    },
    "8373da976a5f43e7ab2f309df634ddf1": {
     "views": [
      {
       "cell_index": 12
      }
     ]
    }
   },
   "version": "1.2.0"
  }
 },
 "nbformat": 4,
 "nbformat_minor": 1
}
