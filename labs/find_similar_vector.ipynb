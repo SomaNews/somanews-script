{
 "cells": [
  {
   "cell_type": "code",
   "execution_count": 18,
   "metadata": {
    "collapsed": true
   },
   "outputs": [],
   "source": [
    "%matplotlib inline"
   ]
  },
  {
   "cell_type": "code",
   "execution_count": 16,
   "metadata": {
    "collapsed": false
   },
   "outputs": [],
   "source": [
    "import numpy as np\n",
    "from numba import jit\n",
    "import math\n",
    "from tqdm import tqdm_notebook as tqdm\n",
    "from matplotlib import pyplot as plt"
   ]
  },
  {
   "cell_type": "code",
   "execution_count": 2,
   "metadata": {
    "collapsed": true
   },
   "outputs": [],
   "source": [
    "arrays = []\n",
    "for i in range(10000):\n",
    "    a = np.random.rand(100) * 2 - 1\n",
    "    a = a / math.sqrt(np.sum(a * a))\n",
    "    arrays.append(a)"
   ]
  },
  {
   "cell_type": "code",
   "execution_count": 41,
   "metadata": {
    "collapsed": false
   },
   "outputs": [
    {
     "data": {
      "text/plain": [
       "array([-0.04086571,  0.160193  ,  0.15986957,  0.03649083, -0.07221333,\n",
       "        0.1325353 ,  0.01718945,  0.14953468,  0.06384446,  0.09564993,\n",
       "        0.02253429, -0.11691207,  0.04412771, -0.08377362, -0.11066741,\n",
       "       -0.05748295, -0.17206499, -0.00963597, -0.13259285,  0.14993661,\n",
       "       -0.11018624,  0.07919144,  0.09988114,  0.06338937, -0.14618606,\n",
       "       -0.08538649,  0.10620323, -0.15017119, -0.1056977 , -0.05955393,\n",
       "        0.04547462,  0.04420615,  0.10086097, -0.01964922, -0.02886985,\n",
       "       -0.06775086,  0.15389006, -0.07954181,  0.1699815 ,  0.04527292,\n",
       "        0.02920229, -0.01151577,  0.1305766 , -0.01111264,  0.05059176,\n",
       "       -0.00554563,  0.12600732, -0.10239545,  0.00330637, -0.13466142,\n",
       "       -0.16267459, -0.01758439, -0.15939104,  0.0130165 ,  0.08178611,\n",
       "       -0.04565801, -0.00978505, -0.03342662,  0.01530756,  0.01765868,\n",
       "        0.06586826,  0.0546501 , -0.11461777, -0.11202451,  0.16216923,\n",
       "       -0.05244504, -0.1112621 , -0.14140054, -0.02587319, -0.1503996 ,\n",
       "       -0.17744477, -0.13301732, -0.13475763,  0.03102147,  0.10623273,\n",
       "       -0.16695784, -0.02963129,  0.03490071, -0.02131747, -0.10844153,\n",
       "        0.15185737,  0.14158907,  0.01052881, -0.05940735, -0.03383503,\n",
       "        0.17373897,  0.07037955, -0.07977971, -0.01771301, -0.06930847,\n",
       "       -0.01842479, -0.10682444, -0.10229047, -0.11606268, -0.06230445,\n",
       "       -0.07911598,  0.10957653,  0.11889961, -0.16961504, -0.15875056])"
      ]
     },
     "execution_count": 41,
     "metadata": {},
     "output_type": "execute_result"
    }
   ],
   "source": [
    "t = arrays[1000]\n",
    "t"
   ]
  },
  {
   "cell_type": "code",
   "execution_count": 42,
   "metadata": {
    "collapsed": false
   },
   "outputs": [],
   "source": [
    "arrays.sort(key=lambda x: np.abs(np.sum(x) - np.sum(t)))"
   ]
  },
  {
   "cell_type": "code",
   "execution_count": 43,
   "metadata": {
    "collapsed": false
   },
   "outputs": [
    {
     "data": {
      "text/plain": [
       "array([-0.04086571,  0.160193  ,  0.15986957,  0.03649083, -0.07221333,\n",
       "        0.1325353 ,  0.01718945,  0.14953468,  0.06384446,  0.09564993,\n",
       "        0.02253429, -0.11691207,  0.04412771, -0.08377362, -0.11066741,\n",
       "       -0.05748295, -0.17206499, -0.00963597, -0.13259285,  0.14993661,\n",
       "       -0.11018624,  0.07919144,  0.09988114,  0.06338937, -0.14618606,\n",
       "       -0.08538649,  0.10620323, -0.15017119, -0.1056977 , -0.05955393,\n",
       "        0.04547462,  0.04420615,  0.10086097, -0.01964922, -0.02886985,\n",
       "       -0.06775086,  0.15389006, -0.07954181,  0.1699815 ,  0.04527292,\n",
       "        0.02920229, -0.01151577,  0.1305766 , -0.01111264,  0.05059176,\n",
       "       -0.00554563,  0.12600732, -0.10239545,  0.00330637, -0.13466142,\n",
       "       -0.16267459, -0.01758439, -0.15939104,  0.0130165 ,  0.08178611,\n",
       "       -0.04565801, -0.00978505, -0.03342662,  0.01530756,  0.01765868,\n",
       "        0.06586826,  0.0546501 , -0.11461777, -0.11202451,  0.16216923,\n",
       "       -0.05244504, -0.1112621 , -0.14140054, -0.02587319, -0.1503996 ,\n",
       "       -0.17744477, -0.13301732, -0.13475763,  0.03102147,  0.10623273,\n",
       "       -0.16695784, -0.02963129,  0.03490071, -0.02131747, -0.10844153,\n",
       "        0.15185737,  0.14158907,  0.01052881, -0.05940735, -0.03383503,\n",
       "        0.17373897,  0.07037955, -0.07977971, -0.01771301, -0.06930847,\n",
       "       -0.01842479, -0.10682444, -0.10229047, -0.11606268, -0.06230445,\n",
       "       -0.07911598,  0.10957653,  0.11889961, -0.16961504, -0.15875056])"
      ]
     },
     "execution_count": 43,
     "metadata": {},
     "output_type": "execute_result"
    }
   ],
   "source": [
    "arrays[0]"
   ]
  },
  {
   "cell_type": "code",
   "execution_count": 44,
   "metadata": {
    "collapsed": false
   },
   "outputs": [
    {
     "data": {
      "text/plain": [
       "(-1.2568526248132907, 3.7672874265128864)"
      ]
     },
     "execution_count": 44,
     "metadata": {},
     "output_type": "execute_result"
    },
    {
     "data": {
      "image/png": "[encoded data removed]",
      "text/plain": [
       "<matplotlib.figure.Figure at 0x7f63cf7f3c88>"
      ]
     },
     "metadata": {},
     "output_type": "display_data"
    }
   ],
   "source": [
    "x = list(map(np.sum, arrays))\n",
    "plt.plot(x)\n",
    "x[0], x[-1]"
   ]
  },
  {
   "cell_type": "code",
   "execution_count": 4,
   "metadata": {
    "collapsed": false
   },
   "outputs": [
    {
     "data": {
      "text/plain": [
       "(-0.38884719025641445, 0.37200904297736914)"
      ]
     },
     "execution_count": 4,
     "metadata": {},
     "output_type": "execute_result"
    }
   ],
   "source": [
    "def dist(a, b):\n",
    "    return np.sum(a * b)\n",
    "    # return math.sqrt(np.sum((a - b) ** 2))\n",
    "\n",
    "a = arrays[0]\n",
    "d = []\n",
    "for i in range(1, 10000):\n",
    "    d.append(dist(a, arrays[i]))\n",
    "\n",
    "d.sort()\n",
    "d[0], d[-1]"
   ]
  },
  {
   "cell_type": "code",
   "execution_count": 5,
   "metadata": {
    "collapsed": true
   },
   "outputs": [],
   "source": [
    "np_arr = np.asarray(arrays)"
   ]
  },
  {
   "cell_type": "code",
   "execution_count": 6,
   "metadata": {
    "collapsed": false
   },
   "outputs": [
    {
     "data": {
      "text/plain": [
       "(10000, 100)"
      ]
     },
     "execution_count": 6,
     "metadata": {},
     "output_type": "execute_result"
    }
   ],
   "source": [
    "np_arr.shape"
   ]
  },
  {
   "cell_type": "code",
   "execution_count": 7,
   "metadata": {
    "collapsed": false
   },
   "outputs": [
    {
     "data": {
      "text/plain": [
       "array([ 0.06748693,  0.01258304, -0.06987662, -0.17609855, -0.07427118,\n",
       "       -0.1149601 , -0.00599672,  0.03534516,  0.05933213,  0.03873959,\n",
       "        0.07883511,  0.106312  , -0.15274881, -0.04970211, -0.02061976,\n",
       "        0.1144767 , -0.04883583,  0.03797082,  0.13234625,  0.15830995,\n",
       "       -0.16406881,  0.08852857,  0.04475289,  0.07453194,  0.07327867,\n",
       "        0.09345431, -0.09606827,  0.140663  ,  0.0345398 ,  0.16083069,\n",
       "        0.04217799, -0.01920277,  0.16065113,  0.15636089, -0.13992837,\n",
       "       -0.12234092, -0.05714352, -0.07235868,  0.1858963 ,  0.17497012,\n",
       "        0.10621634,  0.02763198,  0.02247942,  0.07412549, -0.03522107,\n",
       "        0.15825699, -0.18379275,  0.03294746,  0.01237955,  0.14819167,\n",
       "       -0.03945919,  0.02462517, -0.05435055,  0.09790108, -0.06527983,\n",
       "        0.11662722,  0.0906196 ,  0.02635398, -0.03145335, -0.13074054,\n",
       "        0.02176068, -0.04599724,  0.13498111, -0.08912292, -0.0366695 ,\n",
       "       -0.09369559, -0.08712625, -0.11363938, -0.10490064, -0.00327674,\n",
       "       -0.0465451 ,  0.07580603,  0.15611214, -0.06318109, -0.10507954,\n",
       "        0.00441921,  0.13216331,  0.10826639,  0.10385949,  0.04935651,\n",
       "        0.09542512, -0.15404275,  0.06669634, -0.09279425,  0.07778031,\n",
       "        0.13650679,  0.03481429,  0.12506065, -0.01851409, -0.05817887,\n",
       "       -0.15437847, -0.08608632,  0.09691277,  0.14393466, -0.18118095,\n",
       "        0.12650519,  0.10560788, -0.07339698,  0.06162135, -0.12368033])"
      ]
     },
     "execution_count": 7,
     "metadata": {},
     "output_type": "execute_result"
    }
   ],
   "source": [
    "np_arr[0]"
   ]
  },
  {
   "cell_type": "code",
   "execution_count": 10,
   "metadata": {
    "collapsed": false
   },
   "outputs": [
    {
     "name": "stderr",
     "output_type": "stream",
     "text": [
      "Widget Javascript not detected.  It may not be installed properly. Did you enable the widgetsnbextension? If not, then run \"jupyter nbextension enable --py --sys-prefix widgetsnbextension\"\n"
     ]
    },
    {
     "name": "stdout",
     "output_type": "stream",
     "text": [
      "\n"
     ]
    }
   ],
   "source": [
    "def compute():\n",
    "    for i in tqdm(range(np_arr.shape[0])):\n",
    "        dists = np.dot(np_arr, np_arr[i])\n",
    "\n",
    "compute()"
   ]
  },
  {
   "cell_type": "code",
   "execution_count": null,
   "metadata": {
    "collapsed": false
   },
   "outputs": [],
   "source": [
    "dists"
   ]
  },
  {
   "cell_type": "code",
   "execution_count": null,
   "metadata": {
    "collapsed": true
   },
   "outputs": [],
   "source": []
  }
 ],
 "metadata": {
  "kernelspec": {
   "display_name": "Python 3",
   "language": "python",
   "name": "python3"
  },
  "language_info": {
   "codemirror_mode": {
    "name": "ipython",
    "version": 3
   },
   "file_extension": ".py",
   "mimetype": "text/x-python",
   "name": "python",
   "nbconvert_exporter": "python",
   "pygments_lexer": "ipython3",
   "version": "3.5.2"
  },
  "widgets": {
   "state": {
    "84f452c84b0846b29c8f3546a8d36488": {
     "views": [
      {
       "cell_index": 6
      }
     ]
    }
   },
   "version": "1.2.0"
  }
 },
 "nbformat": 4,
 "nbformat_minor": 1
}
