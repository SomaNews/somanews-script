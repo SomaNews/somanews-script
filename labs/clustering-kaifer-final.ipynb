{
 "cells": [
  {
   "cell_type": "code",
   "execution_count": 1,
   "metadata": {
    "collapsed": false
   },
   "outputs": [],
   "source": [
    "from SimilarityClustering import SimilarityClustering\n",
    "import articles_data\n",
    "\n",
    "from gensim.models import Word2Vec\n",
    "import numpy as np\n",
    "import pandas as pd\n",
    "import cnouns as cn\n",
    "from pymongo import MongoClient\n",
    "import datetime\n",
    "\n",
    "%matplotlib inline"
   ]
  },
  {
   "cell_type": "code",
   "execution_count": 2,
   "metadata": {
    "collapsed": false
   },
   "outputs": [],
   "source": [
    "client = MongoClient('mongodb://localhost:27017/somanews')\n",
    "client.somanews.authenticate('ssomanews', 'ssomanews1029')\n",
    "db = client.get_database('somanews')\n",
    "\n",
    "crawled_collection = db.get_collection('crawledArticles')\n",
    "clusters_collection = db.get_collection('clusters')"
   ]
  },
  {
   "cell_type": "code",
   "execution_count": 6,
   "metadata": {
    "collapsed": false
   },
   "outputs": [],
   "source": [
    "catelist_path = '../datastore/category2.p'\n",
    "# w2v_src_dir = \"../datastore/w2v_src\"\n",
    "# w2v_path = \"../datastore/sejongcorpus_w2v2.p\"\n",
    "\n",
    "w2v_src_dir = \"../datastore/w2v_src3\"\n",
    "w2v_path = \"../datastore/sejongcorpus_w2v3_2.p\"\n",
    "\n",
    "corpus_path = \"../datastore/corpus2.p\"\n",
    "target_date = datetime.date(2016, 11, 4)\n",
    "prefix = int(\"%.2d%.2d\"%(target_date.month, target_date.day))\n",
    "prefix = 1104\n",
    "prefix_str = \"%d_01\" % prefix"
   ]
  },
  {
   "cell_type": "code",
   "execution_count": 7,
   "metadata": {
    "collapsed": true
   },
   "outputs": [],
   "source": [
    "dicts = [u'새누리', u'새누리당', u'더민주', u'더민주당', u'최순실', u'박대통령', u'국회의장', u'야권의요구', u'정기국회', u'참여정부']\n",
    "def tokenizer(inp_str):\n",
    "    return cn.custom_pos_tags(inp_str, dicts)"
   ]
  },
  {
   "cell_type": "markdown",
   "metadata": {},
   "source": [
    "# Doc2Vec"
   ]
  },
  {
   "cell_type": "code",
   "execution_count": 8,
   "metadata": {
    "collapsed": false,
    "scrolled": true
   },
   "outputs": [],
   "source": [
    "# size = articles_data.makeDataset(crawled_collection, w2v_src_dir, corpus_path, tokenizer=tokenizer)\n",
    "# print size"
   ]
  },
  {
   "cell_type": "code",
   "execution_count": 9,
   "metadata": {
    "collapsed": true
   },
   "outputs": [],
   "source": [
    "# articles_data.trainWord2Vec(w2v_src_dir, w2v_path, size)"
   ]
  },
  {
   "cell_type": "markdown",
   "metadata": {},
   "source": [
    "# Model"
   ]
  },
  {
   "cell_type": "code",
   "execution_count": 10,
   "metadata": {
    "collapsed": false,
    "scrolled": true
   },
   "outputs": [],
   "source": [
    "train_df = articles_data.find_recent_articles(crawled_collection, catelist_path, target_date)\n",
    "# sc = SimilarityClustering()\n",
    "# sc.train(\"cate\", w2v_path, train_df, path=\"../datastore\", prefix=prefix_str, tokenizer=tokenizer,\n",
    "#             threshold=0.8, \n",
    "#             cnt_threshold=1, \n",
    "#             repeat=1,\n",
    "#             model_name='dbow+dmm')"
   ]
  },
  {
   "cell_type": "code",
   "execution_count": 11,
   "metadata": {
    "collapsed": false
   },
   "outputs": [
    {
     "data": {
      "text/plain": [
       "0                                  힘받는 국정교과서 철회론…교육감들도 가세\n",
       "1                   기업 돈 낸 즈음 친기업법안 처리…박 대통령 ‘뇌물죄’ 해석 힘실려\n",
       "2                    하룻밤 새 50억원 상당 난(蘭) 800여본 사라져 경찰 수사착수\n",
       "3                          “마음속 ‘분단 철조망’ 걷어내기 프로젝트 이어갈 것”\n",
       "4                          철도파업 현장 배치 대체인력, 활용 못해 ‘예산 낭비’\n",
       "5                좋은 일자리 부족이 ‘캥거루족’ 양산…취업해도 절반은 부모에 생활비 의존\n",
       "6                                이번엔 단풍놀이 버스…휘청하다 갓길서 ‘쾅’\n",
       "7                              헌재 “스쿠버 장비로 해산물 채취 금지는 합헌”\n",
       "8                                 “4분 일찍 퇴근 중 숨져도 업무상 재해”\n",
       "9                                   “7년간 야근하다 돌연사…업무상 재해”\n",
       "10                   금남로에 시민 3000명…백남기 농민 ‘마지막 길’ 외롭지 않았다\n",
       "11             [2016 미국의 선택]클린턴 ‘히스패닉 조기투표율 호재’에도…판세 예측불허\n",
       "12                                      중국발 초미세먼지 한반도 닥치나\n",
       "13                       [2016 미국의 선택]인지도냐 화려함이냐…‘딸들의 전쟁’\n",
       "14                                       IS, 극렬한 ‘모술 사수전’\n",
       "15        [2016 미국의 선택]“아직 모른다” 클린턴은 경합주 단속, 트럼프 민주 텃밭 공략\n",
       "16                                   11·3 부동산대책에 주택시장 냉기류\n",
       "17                                 ‘창업 패자부활’ 사례 3년새 2배 증가\n",
       "18                             새누리 기반 붕괴 위기감…내분격화에 지지층 이탈\n",
       "19                                    갤럭시S8에 ‘인공지능 비서’ 탑재\n",
       "20                                     자동차 내수시장 내년에도 위축될듯\n",
       "21        [박근혜·최순실 게이트]여전히 실세인 듯…사퇴 일주일 만에 검찰 포토라인에 선 우병우\n",
       "22          [박근혜·최순실 게이트]승마협회 전·현직 전무 동시 소환…정유라 특혜 수사 본격화\n",
       "23                   [박근혜·최순실 게이트]안종범·정호성 구속…‘박’으로 향하는 칼끝\n",
       "24            [박근혜·최순실 게이트]사정당국 관계자 “우병우도 국정농단 핵심”…특검 불가피\n",
       "25           [박근혜·최순실 게이트]정진석 “이런 당에 오겠나”…반기문의 ‘선택지’ 달라지나\n",
       "26                   미주애국지사 김성권·강혜원 부부 16일 유해 나란히 고국으로 봉환\n",
       "27                          [박근혜·최순실 게이트]벼랑 끝 이정현, 버티기 왜?\n",
       "28       [박근혜·최순실 게이트]역풍만 부른 ‘셀프 수습’…피하기 힘들어진 대통령 ‘3차 담화’\n",
       "29                                 [박근혜·최순실 게이트]정치권의 ‘해법’\n",
       "                              ...                        \n",
       "2374             [속보]與 이정현, \"내년 1월 21일 조기전대 열어 새 당 대표 선출\"\n",
       "2375                         우리은행 ‘쪼개팔기’식 민영화 성공적…한투 등 낙찰\n",
       "2376                             분노가 희망으로…불빛은 어떤 결과로 돌아올까\n",
       "2377                             세월호분향소 현수막 20여장 훼손 경찰 수사\n",
       "2378                           ‘서울하야페스티벌’…집회인듯 집회아닌 집회같은…\n",
       "2379                                   물대포가 사라지니 평화가 찾아왔다\n",
       "2380                                           국민의 상식은 하야\n",
       "2381    대통령 퇴진 요구는 곧 ‘생활정치’…제도 정치적인 요구에 그쳤던 4·19나 6·10...\n",
       "2382                소통만 잘해도 성장률 3%대로 상승··· 사회갈등지수 OECD 7위\n",
       "2383              우리은행, 정부지분 51% 중 30% 매각··· 민영화 ‘절반의 성공’\n",
       "2384                    [경향이 찍은 오늘]11월13일 “대통령, 탄핵의 길 가야”\n",
       "2385                           세상에서 가장 유명한 고양이 ‘톰빌리’ 실종사건\n",
       "2386               현관문 따로··· ‘한 지붕 두 가구’ 부분임대형 아파트를 아시나요?\n",
       "2387                    3면 개방형 혁신평면 아파트, 김천센트럴자이 930가구 공급\n",
       "2388                           검찰 “대면조사 원칙”vs청와대 “서면조사 희망\n",
       "2389                      검찰, 이재용·구본무·최태원·정몽구 등 재벌 총수 줄조사\n",
       "2390                       금융위 ‘자본시장조사단’, 1461% 늘어난 예산 왜?\n",
       "2391        “총수 수사 어찌될지 몰라” 대기업들 초긴장··· “이참에 정경유착 끊자” 주장도\n",
       "2392                        소비자와 스킨십을 늘려라··· 거리로 나온 식음료업계\n",
       "2393                     [김학균의 금융의 속살] 트럼프 월드, 금융시장에서 읽는다\n",
       "2394                        사면초가 청와대 “고심”한다지만…대통령직 유지에 무게\n",
       "2395                   가스·난방 원격제어··· 현대건설 ‘힐스테이트평택 3차’ 분양\n",
       "2396        ‘1인 가구’ 시대, ‘맞춤형 주택’이 는다··· 방의 갯수· 거실 크기까지 선택\n",
       "2397                        '촛불의 파도' 한 가운데, 우리는 살아있음을 느꼈다\n",
       "2398                          이 시국에…정부, 한·일군사협정 오늘 가서명 강행\n",
       "2399                                “북한 전역에 다양한 경협공단 조성을”\n",
       "2400                                           탈북민 3만명 돌파\n",
       "2401                       이정현 “중립내각 출범하면 사퇴…내년 1월21일 전대”\n",
       "2402                              여당도 ‘하야·탄핵’ 언급하며 대통령 압박\n",
       "2403                                             민주당의 딜레마\n",
       "Name: title, dtype: object"
      ]
     },
     "execution_count": 11,
     "metadata": {},
     "output_type": "execute_result"
    }
   ],
   "source": [
    "train_df.title"
   ]
  },
  {
   "cell_type": "code",
   "execution_count": null,
   "metadata": {
    "collapsed": false
   },
   "outputs": [],
   "source": [
    "# sc.save(path=\"../datastore\", prefix=prefix_str)"
   ]
  },
  {
   "cell_type": "code",
   "execution_count": null,
   "metadata": {
    "collapsed": true
   },
   "outputs": [],
   "source": [
    "# sc.d2v_save(path=\"../datastore\", prefix=prefix_str)"
   ]
  },
  {
   "cell_type": "code",
   "execution_count": null,
   "metadata": {
    "collapsed": false
   },
   "outputs": [],
   "source": [
    "# sc = SimilarityClustering.d2v_load(path=\"../datastore\", prefix=prefix_str)"
   ]
  },
  {
   "cell_type": "code",
   "execution_count": null,
   "metadata": {
    "collapsed": false
   },
   "outputs": [],
   "source": [
    "sc = SimilarityClustering.load(path=\"../datastore\", prefix=prefix_str, model_name='dbow+dmm', only_d2v=True)"
   ]
  },
  {
   "cell_type": "code",
   "execution_count": null,
   "metadata": {
    "collapsed": false
   },
   "outputs": [],
   "source": [
    "import deep_utils as du\n",
    "\n",
    "idx1 = 0\n",
    "idx2 = 2\n",
    "\n",
    "# sc.select_model('dbow+dmm')\n",
    "# v1 = sc.dm_.docvecs[idx1]\n",
    "# v2 = sc.dm_.docvecs[idx2]\n",
    "# print du.cs_similarity(v1, v2)\n",
    "\n",
    "sc.select_model('Doc2Vec(dm/c,d100,n5,w5,mc2,t8)')\n",
    "v1 = sc.dm_.docvecs[idx1]\n",
    "v2 = sc.dm_.docvecs[idx2]\n",
    "print du.cs_similarity(v1, v2)\n",
    "\n",
    "v_1 = sc.dm_.infer_vector(tokenizer(sc.df_.loc[idx1].title + ' ' + sc.df_.loc[idx1].content))\n",
    "v_2 = sc.dm_.infer_vector(tokenizer(sc.df_.loc[idx2].title + ' ' + sc.df_.loc[idx2].content))\n",
    "print du.cs_similarity(v_1, v_2)"
   ]
  },
  {
   "cell_type": "code",
   "execution_count": null,
   "metadata": {
    "collapsed": false
   },
   "outputs": [],
   "source": [
    "sc.df_[:20].title"
   ]
  },
  {
   "cell_type": "code",
   "execution_count": null,
   "metadata": {
    "collapsed": false
   },
   "outputs": [],
   "source": [
    "print tokenizer(sc.df_.loc[idx1].title + ' ' + sc.df_.loc[idx1].content)\n",
    "print '------------------'\n",
    "print tokenizer(sc.df_.loc[idx2].title + ' ' + sc.df_.loc[idx2].content)"
   ]
  },
  {
   "cell_type": "code",
   "execution_count": null,
   "metadata": {
    "collapsed": false
   },
   "outputs": [],
   "source": [
    "sc.df_[:5].title"
   ]
  },
  {
   "cell_type": "code",
   "execution_count": null,
   "metadata": {
    "collapsed": false
   },
   "outputs": [],
   "source": [
    "print sc.df_.loc[idx1].title\n",
    "print sc.df_.loc[idx2].title"
   ]
  },
  {
   "cell_type": "code",
   "execution_count": null,
   "metadata": {
    "collapsed": false,
    "scrolled": false
   },
   "outputs": [],
   "source": [
    "# sc.select_model('dbow+dmm')\n",
    "sc.select_model('Doc2Vec(dm/c,d100,n5,w5,mc2,t8)')\n",
    "sc.cluster_train(\"cate\", path=\"../datastore\", prefix=prefix_str, repeat=1, threshold=0.8)\n",
    "sc.save(path=\"../datastore\", prefix=prefix_str)"
   ]
  },
  {
   "cell_type": "markdown",
   "metadata": {},
   "source": [
    "# Save"
   ]
  },
  {
   "cell_type": "code",
   "execution_count": null,
   "metadata": {
    "collapsed": false
   },
   "outputs": [],
   "source": [
    "asdasd\n",
    "# sc.save_to_db(prefix, clusters_collection)"
   ]
  },
  {
   "cell_type": "markdown",
   "metadata": {},
   "source": [
    "# Test"
   ]
  },
  {
   "cell_type": "code",
   "execution_count": null,
   "metadata": {
    "collapsed": false
   },
   "outputs": [],
   "source": [
    "sc.iner_score(threshold=0.8, cnt_threshold=10)"
   ]
  },
  {
   "cell_type": "code",
   "execution_count": null,
   "metadata": {
    "collapsed": false,
    "scrolled": false
   },
   "outputs": [],
   "source": [
    "sc.print_clusters(top=15, sortby='similarity')"
   ]
  },
  {
   "cell_type": "code",
   "execution_count": null,
   "metadata": {
    "collapsed": false,
    "scrolled": true
   },
   "outputs": [],
   "source": [
    "# sc.print_topics()"
   ]
  },
  {
   "cell_type": "code",
   "execution_count": null,
   "metadata": {
    "collapsed": false
   },
   "outputs": [],
   "source": [
    "# sc.print_centers()"
   ]
  },
  {
   "cell_type": "code",
   "execution_count": null,
   "metadata": {
    "collapsed": false
   },
   "outputs": [],
   "source": [
    "# sc.countby_.sort_values('similarity', ascending=False)"
   ]
  },
  {
   "cell_type": "code",
   "execution_count": null,
   "metadata": {
    "collapsed": false
   },
   "outputs": [],
   "source": [
    "clusters = sc.save_to_db(prefix, clusters_collection)"
   ]
  },
  {
   "cell_type": "code",
   "execution_count": null,
   "metadata": {
    "collapsed": false
   },
   "outputs": [],
   "source": [
    "# clusters"
   ]
  },
  {
   "cell_type": "code",
   "execution_count": null,
   "metadata": {
    "collapsed": false
   },
   "outputs": [],
   "source": [
    "from ntc_rank import calc_issue_rank\n",
    "\n",
    "calced_clusters = calc_issue_rank(clusters)\n",
    "\n",
    "cdf = pd.DataFrame(calced_clusters, columns=['cluster', 'n', 't', 'c', 'ntc'])\n",
    "sort_cdf = cdf.sort_values('ntc', ascending=False)\n",
    "top_cluster = sort_cdf.cluster[1]\n",
    "sort_cdf"
   ]
  },
  {
   "cell_type": "code",
   "execution_count": null,
   "metadata": {
    "collapsed": false
   },
   "outputs": [],
   "source": []
  },
  {
   "cell_type": "code",
   "execution_count": null,
   "metadata": {
    "collapsed": false,
    "scrolled": false
   },
   "outputs": [],
   "source": [
    "for idx, row in sort_cdf.iterrows():\n",
    "    for c in calced_clusters:\n",
    "        if(c['cluster'] == row.cluster):\n",
    "            print c['ntc'], c['leading']['title']"
   ]
  },
  {
   "cell_type": "code",
   "execution_count": null,
   "metadata": {
    "collapsed": false
   },
   "outputs": [],
   "source": [
    "calced_clusters"
   ]
  },
  {
   "cell_type": "code",
   "execution_count": null,
   "metadata": {
    "collapsed": true
   },
   "outputs": [],
   "source": []
  }
 ],
 "metadata": {
  "kernelspec": {
   "display_name": "Python 2",
   "language": "python",
   "name": "python2"
  },
  "language_info": {
   "codemirror_mode": {
    "name": "ipython",
    "version": 2
   },
   "file_extension": ".py",
   "mimetype": "text/x-python",
   "name": "python",
   "nbconvert_exporter": "python",
   "pygments_lexer": "ipython2",
   "version": "2.7.11"
  }
 },
 "nbformat": 4,
 "nbformat_minor": 1
}
